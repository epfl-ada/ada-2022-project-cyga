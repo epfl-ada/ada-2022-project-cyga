{
 "cells": [
  {
   "cell_type": "code",
<<<<<<< HEAD
   "execution_count": 102,
=======
   "execution_count": 166,
>>>>>>> 66233b9cf7d09787845ba636b900f1f47b91ce3d
   "metadata": {},
   "outputs": [
    {
     "data": {
      "text/plain": [
       "'\\nFile name: preprocessing.ipynb\\nAuthors: Yasmin El Euch, Aliénor Bénédicte G Hamoir, Clara Rossignol, Guillaume David E. Ryelandt\\nDate created: 04/11/2022\\nDate last modified: 15/11/2022\\nPython version: 3.8.8\\n'"
      ]
     },
<<<<<<< HEAD
     "execution_count": 102,
=======
     "execution_count": 166,
>>>>>>> 66233b9cf7d09787845ba636b900f1f47b91ce3d
     "metadata": {},
     "output_type": "execute_result"
    }
   ],
   "source": [
    "'''\n",
    "File name: preprocessing.ipynb\n",
    "Authors: Yasmin El Euch, Aliénor Bénédicte G Hamoir, Clara Rossignol, Guillaume David E. Ryelandt\n",
    "Date created: 04/11/2022\n",
    "Date last modified: 15/11/2022\n",
    "Python version: 3.8.8\n",
    "'''"
   ]
  },
  {
   "cell_type": "markdown",
   "metadata": {},
   "source": [
    "# MeToo\n",
    "Analyze the evolution of sexism and women discrimination in the film industry through the roles/job they are given. Did the MeToo movement change things?"
   ]
  },
  {
   "cell_type": "markdown",
   "metadata": {},
   "source": [
    "## Table of contents\n",
    "\n",
    "0. [General Information](#GI)\\\n",
    "        A. [Folder structure](#Folder)\\\n",
    "        B. [Imports](#Imports)\\\n",
    "        C. [Paths](#Paths)\n",
    "</br> \n",
    "1. [Step 1: Data scraping, pre-processing and dataset construction](#Step-1)\\\n",
    "        A. [Box Office](#Box Office)\\\n",
    "        B. [detecting main characters] (#Main Characters)\\\n",
    "</br> \n"
   ]
  },
  {
   "cell_type": "markdown",
   "metadata": {},
   "source": [
    "---\n",
    "## General Information <a id=\"GI\"> </a> "
   ]
  },
  {
   "cell_type": "markdown",
   "metadata": {},
   "source": [
    "### Folder structure <a id=\"Folder\"> </a>"
   ]
  },
  {
   "cell_type": "markdown",
   "metadata": {},
   "source": [
    "***Files and directories to make this notebook run successfully:***\n",
    "\n",
    "- **data/**\n",
    "    - *character.metadata.tsv*\n",
    "    - *movie.metadata.tsv*\n",
    "    - *name.clusters.txt*\n",
    "    - *plot_summaries.txt*\n",
    "    - *tvtropes.clusters.txt*\n",
    "    - *oscar_winners.csv*\n",
    "    - *movie_appreciation_metadata.csv*\n",
    "\n",
    "\n",
    "- *preprocessing.ipynb*\n",
    "\n",
    "Directories are in **bold** and files are in *italic*."
   ]
  },
  {
   "cell_type": "markdown",
   "metadata": {},
   "source": [
    "\n",
    "### Imports <a id=\"Imports\"> </a>"
   ]
  },
  {
   "cell_type": "markdown",
   "metadata": {},
   "source": [
    "***Libraries used for milestone 2:***\n",
    "- python=3.8.12\n",
    "- pandas\n",
    "- datetime\n",
    "- numpy\n",
    "- matplotlib"
   ]
  },
  {
   "cell_type": "code",
<<<<<<< HEAD
   "execution_count": 4,
=======
   "execution_count": 167,
>>>>>>> 66233b9cf7d09787845ba636b900f1f47b91ce3d
   "metadata": {},
   "outputs": [],
   "source": [
    "#Imports used in this notebook\n",
    "from datetime import datetime\n",
    "\n",
    "import pandas as pd\n",
    "import numpy as np\n",
    "import matplotlib.pyplot as plt\n",
    "import seaborn as sns\n",
    "import json as js \n",
    "import ast\n",
    "import datetime as dt"
   ]
  },
  {
   "cell_type": "markdown",
   "metadata": {},
   "source": [
    "\n",
    "### Paths <a id=\"Paths\"> </a>"
   ]
  },
  {
   "cell_type": "markdown",
   "metadata": {},
   "source": [
    "Required to adapt those path to local file organization"
   ]
  },
  {
   "cell_type": "code",
<<<<<<< HEAD
   "execution_count": 6,
=======
   "execution_count": 168,
>>>>>>> 66233b9cf7d09787845ba636b900f1f47b91ce3d
   "metadata": {},
   "outputs": [],
   "source": [
    "### PATHs for dataset:\n",
    "PATH_DATA = 'data/'\n",
    "PATH_MOVIE_METADATA = PATH_DATA+'movie.metadata.tsv'\n",
    "PATH_PLOT_SUMMARY = PATH_DATA+'plot_summaries.txt'\n",
    "PATH_CHARACTER_METADATA = PATH_DATA+'character.metadata.tsv'\n",
    "PATH_NAME_CLUSTERS=PATH_DATA+'name.clusters.txt'\n",
    "PATH_TV_TROPES_CLUSTERS=PATH_DATA+'tvtropes.clusters.txt'"
   ]
  },
  {
   "cell_type": "markdown",
   "metadata": {},
   "source": [
    "---\n",
    "## **Step 1: Data scraping, pre-processing and dataset construction** <a id=\"Step-1\"> </a>"
   ]
  },
  {
   "cell_type": "markdown",
   "metadata": {},
   "source": [
    "First we will properly name ecach column of  in order to manipulate in an easier way"
   ]
  },
  {
   "cell_type": "code",
<<<<<<< HEAD
   "execution_count": 7,
=======
   "execution_count": 169,
>>>>>>> 66233b9cf7d09787845ba636b900f1f47b91ce3d
   "metadata": {},
   "outputs": [],
   "source": [
    "def dict_to_cols(row): \n",
    "    '''\n",
    "    allows to transform the dictionnary into  a dataframe with multiple columns \n",
    "    '''\n",
    "    d = js.loads(row[1])\n",
    "    return row[0], *list(d.values())\n",
    "\n",
    "def dict_to_lst(str):\n",
    "    '''\n",
    "    allows to transform a dictionnary into a list of features\n",
    "    '''\n",
    "    \n",
    "    dict = ast.literal_eval(str)\n",
    "    lst  = list(dict.values())\n",
    "    return lst"
   ]
  },
  {
<<<<<<< HEAD
   "cell_type": "markdown",
   "metadata": {},
   "source": [
    "First we will properly name ecach column of  in order to manipulate in an easier way"
   ]
  },
  {
   "cell_type": "code",
   "execution_count": 11,
=======
   "cell_type": "code",
   "execution_count": 197,
>>>>>>> 66233b9cf7d09787845ba636b900f1f47b91ce3d
   "metadata": {},
   "outputs": [
    {
     "name": "stdout",
     "output_type": "stream",
     "text": [
      "Reading in movie data\n"
     ]
    },
    {
     "data": {
      "text/html": [
       "<div>\n",
       "<style scoped>\n",
       "    .dataframe tbody tr th:only-of-type {\n",
       "        vertical-align: middle;\n",
       "    }\n",
       "\n",
       "    .dataframe tbody tr th {\n",
       "        vertical-align: top;\n",
       "    }\n",
       "\n",
       "    .dataframe thead th {\n",
       "        text-align: right;\n",
       "    }\n",
       "</style>\n",
       "<table border=\"1\" class=\"dataframe\">\n",
       "  <thead>\n",
       "    <tr style=\"text-align: right;\">\n",
       "      <th></th>\n",
       "      <th>Freebase_movie_ID</th>\n",
       "      <th>Movie_name</th>\n",
       "      <th>Movie_release_date</th>\n",
       "      <th>Movie_box_office_revenue</th>\n",
       "      <th>Movie_runtime</th>\n",
       "      <th>Movie_languages</th>\n",
       "      <th>Movie_countries</th>\n",
       "      <th>Movie_genres</th>\n",
       "    </tr>\n",
       "    <tr>\n",
       "      <th>Wikipedia_movie_ID</th>\n",
       "      <th></th>\n",
       "      <th></th>\n",
       "      <th></th>\n",
       "      <th></th>\n",
       "      <th></th>\n",
       "      <th></th>\n",
       "      <th></th>\n",
       "      <th></th>\n",
       "    </tr>\n",
       "  </thead>\n",
       "  <tbody>\n",
       "    <tr>\n",
       "      <th>975900</th>\n",
       "      <td>/m/03vyhn</td>\n",
       "      <td>Ghosts of Mars</td>\n",
       "      <td>2001-08-24</td>\n",
       "      <td>14010832.0</td>\n",
       "      <td>98.0</td>\n",
       "      <td>[English Language]</td>\n",
       "      <td>[United States of America]</td>\n",
       "      <td>[Thriller, Science Fiction, Horror, Adventure,...</td>\n",
       "    </tr>\n",
       "    <tr>\n",
       "      <th>3196793</th>\n",
       "      <td>/m/08yl5d</td>\n",
       "      <td>Getting Away with Murder: The JonBenét Ramsey ...</td>\n",
       "      <td>2000-02-16</td>\n",
       "      <td>NaN</td>\n",
       "      <td>95.0</td>\n",
       "      <td>[English Language]</td>\n",
       "      <td>[United States of America]</td>\n",
       "      <td>[Mystery, Biographical film, Drama, Crime Drama]</td>\n",
       "    </tr>\n",
       "    <tr>\n",
       "      <th>28463795</th>\n",
       "      <td>/m/0crgdbh</td>\n",
       "      <td>Brun bitter</td>\n",
       "      <td>1988</td>\n",
       "      <td>NaN</td>\n",
       "      <td>83.0</td>\n",
       "      <td>[Norwegian Language]</td>\n",
       "      <td>[Norway]</td>\n",
       "      <td>[Crime Fiction, Drama]</td>\n",
       "    </tr>\n",
       "    <tr>\n",
       "      <th>9363483</th>\n",
       "      <td>/m/0285_cd</td>\n",
       "      <td>White Of The Eye</td>\n",
       "      <td>1987</td>\n",
       "      <td>NaN</td>\n",
       "      <td>110.0</td>\n",
       "      <td>[English Language]</td>\n",
       "      <td>[United Kingdom]</td>\n",
       "      <td>[Thriller, Erotic thriller, Psychological thri...</td>\n",
       "    </tr>\n",
       "    <tr>\n",
       "      <th>261236</th>\n",
       "      <td>/m/01mrr1</td>\n",
       "      <td>A Woman in Flames</td>\n",
       "      <td>1983</td>\n",
       "      <td>NaN</td>\n",
       "      <td>106.0</td>\n",
       "      <td>[German Language]</td>\n",
       "      <td>[Germany]</td>\n",
       "      <td>[Drama]</td>\n",
       "    </tr>\n",
       "    <tr>\n",
       "      <th>...</th>\n",
       "      <td>...</td>\n",
       "      <td>...</td>\n",
       "      <td>...</td>\n",
       "      <td>...</td>\n",
       "      <td>...</td>\n",
       "      <td>...</td>\n",
       "      <td>...</td>\n",
       "      <td>...</td>\n",
       "    </tr>\n",
       "    <tr>\n",
       "      <th>35228177</th>\n",
       "      <td>/m/0j7hxnt</td>\n",
       "      <td>Mermaids: The Body Found</td>\n",
       "      <td>2011-03-19</td>\n",
       "      <td>NaN</td>\n",
       "      <td>120.0</td>\n",
       "      <td>[English Language]</td>\n",
       "      <td>[United States of America]</td>\n",
       "      <td>[Drama]</td>\n",
       "    </tr>\n",
       "    <tr>\n",
       "      <th>34980460</th>\n",
       "      <td>/m/0g4pl34</td>\n",
       "      <td>Knuckle</td>\n",
       "      <td>2011-01-21</td>\n",
       "      <td>NaN</td>\n",
       "      <td>96.0</td>\n",
       "      <td>[English Language]</td>\n",
       "      <td>[Ireland, United Kingdom]</td>\n",
       "      <td>[Biographical film, Drama, Documentary]</td>\n",
       "    </tr>\n",
       "    <tr>\n",
       "      <th>9971909</th>\n",
       "      <td>/m/02pygw1</td>\n",
       "      <td>Another Nice Mess</td>\n",
       "      <td>1972-09-22</td>\n",
       "      <td>NaN</td>\n",
       "      <td>66.0</td>\n",
       "      <td>[English Language]</td>\n",
       "      <td>[United States of America]</td>\n",
       "      <td>[Satire, Comedy]</td>\n",
       "    </tr>\n",
       "    <tr>\n",
       "      <th>913762</th>\n",
       "      <td>/m/03pcrp</td>\n",
       "      <td>The Super Dimension Fortress Macross II: Lover...</td>\n",
       "      <td>1992-05-21</td>\n",
       "      <td>NaN</td>\n",
       "      <td>150.0</td>\n",
       "      <td>[Japanese Language]</td>\n",
       "      <td>[Japan]</td>\n",
       "      <td>[Science Fiction, Japanese Movies, Adventure, ...</td>\n",
       "    </tr>\n",
       "    <tr>\n",
       "      <th>12476867</th>\n",
       "      <td>/m/02w7zz8</td>\n",
       "      <td>Spliced</td>\n",
       "      <td>2002</td>\n",
       "      <td>NaN</td>\n",
       "      <td>86.0</td>\n",
       "      <td>[English Language]</td>\n",
       "      <td>[Canada]</td>\n",
       "      <td>[Thriller, Horror, Slasher, Teen]</td>\n",
       "    </tr>\n",
       "  </tbody>\n",
       "</table>\n",
       "<p>81741 rows × 8 columns</p>\n",
       "</div>"
      ],
      "text/plain": [
       "                   Freebase_movie_ID  \\\n",
       "Wikipedia_movie_ID                     \n",
       "975900                     /m/03vyhn   \n",
       "3196793                    /m/08yl5d   \n",
       "28463795                  /m/0crgdbh   \n",
       "9363483                   /m/0285_cd   \n",
       "261236                     /m/01mrr1   \n",
       "...                              ...   \n",
       "35228177                  /m/0j7hxnt   \n",
       "34980460                  /m/0g4pl34   \n",
       "9971909                   /m/02pygw1   \n",
       "913762                     /m/03pcrp   \n",
       "12476867                  /m/02w7zz8   \n",
       "\n",
       "                                                           Movie_name  \\\n",
       "Wikipedia_movie_ID                                                      \n",
       "975900                                                 Ghosts of Mars   \n",
       "3196793             Getting Away with Murder: The JonBenét Ramsey ...   \n",
       "28463795                                                  Brun bitter   \n",
       "9363483                                              White Of The Eye   \n",
       "261236                                              A Woman in Flames   \n",
       "...                                                               ...   \n",
       "35228177                                     Mermaids: The Body Found   \n",
       "34980460                                                      Knuckle   \n",
       "9971909                                             Another Nice Mess   \n",
       "913762              The Super Dimension Fortress Macross II: Lover...   \n",
       "12476867                                                      Spliced   \n",
       "\n",
       "                   Movie_release_date  Movie_box_office_revenue  \\\n",
       "Wikipedia_movie_ID                                                \n",
       "975900                     2001-08-24                14010832.0   \n",
       "3196793                    2000-02-16                       NaN   \n",
       "28463795                         1988                       NaN   \n",
       "9363483                          1987                       NaN   \n",
       "261236                           1983                       NaN   \n",
       "...                               ...                       ...   \n",
       "35228177                   2011-03-19                       NaN   \n",
       "34980460                   2011-01-21                       NaN   \n",
       "9971909                    1972-09-22                       NaN   \n",
       "913762                     1992-05-21                       NaN   \n",
       "12476867                         2002                       NaN   \n",
       "\n",
       "                    Movie_runtime       Movie_languages  \\\n",
       "Wikipedia_movie_ID                                        \n",
       "975900                       98.0    [English Language]   \n",
       "3196793                      95.0    [English Language]   \n",
       "28463795                     83.0  [Norwegian Language]   \n",
       "9363483                     110.0    [English Language]   \n",
       "261236                      106.0     [German Language]   \n",
       "...                           ...                   ...   \n",
       "35228177                    120.0    [English Language]   \n",
       "34980460                     96.0    [English Language]   \n",
       "9971909                      66.0    [English Language]   \n",
       "913762                      150.0   [Japanese Language]   \n",
       "12476867                     86.0    [English Language]   \n",
       "\n",
       "                               Movie_countries  \\\n",
       "Wikipedia_movie_ID                               \n",
       "975900              [United States of America]   \n",
       "3196793             [United States of America]   \n",
       "28463795                              [Norway]   \n",
       "9363483                       [United Kingdom]   \n",
       "261236                               [Germany]   \n",
       "...                                        ...   \n",
       "35228177            [United States of America]   \n",
       "34980460             [Ireland, United Kingdom]   \n",
       "9971909             [United States of America]   \n",
       "913762                                 [Japan]   \n",
       "12476867                              [Canada]   \n",
       "\n",
       "                                                         Movie_genres  \n",
       "Wikipedia_movie_ID                                                     \n",
       "975900              [Thriller, Science Fiction, Horror, Adventure,...  \n",
       "3196793              [Mystery, Biographical film, Drama, Crime Drama]  \n",
       "28463795                                       [Crime Fiction, Drama]  \n",
       "9363483             [Thriller, Erotic thriller, Psychological thri...  \n",
       "261236                                                        [Drama]  \n",
       "...                                                               ...  \n",
       "35228177                                                      [Drama]  \n",
       "34980460                      [Biographical film, Drama, Documentary]  \n",
       "9971909                                              [Satire, Comedy]  \n",
       "913762              [Science Fiction, Japanese Movies, Adventure, ...  \n",
       "12476867                            [Thriller, Horror, Slasher, Teen]  \n",
       "\n",
       "[81741 rows x 8 columns]"
      ]
     },
<<<<<<< HEAD
     "execution_count": 11,
=======
     "execution_count": 197,
>>>>>>> 66233b9cf7d09787845ba636b900f1f47b91ce3d
     "metadata": {},
     "output_type": "execute_result"
    }
   ],
   "source": [
    "print(\"Reading in movie data\")\n",
    "\n",
<<<<<<< HEAD
    "\n",
=======
    "#Read in movie metadata, plot summaries, and character metadata.\n",
>>>>>>> 66233b9cf7d09787845ba636b900f1f47b91ce3d
    "movie_headers = ['Wikipedia_movie_ID', 'Freebase_movie_ID', 'Movie_name','Movie_release_date','Movie_box_office_revenue',\n",
    "                 'Movie_runtime','Movie_languages','Movie_countries','Movie_genres']\n",
    "plot_headers = ['Wikipedia_movie_ID','Plot_Summary']\n",
    "character_headers = ['Wikipedia_movie_ID', 'Freebase_movie_ID','Movie_release_date','Character_name','Actor_date_of_birth',\n",
    "                     'Actor_gender','Actor_height','Actor_ethnicity','Actor_name','Actor_age_at_movie_release',\n",
    "                     'Freebase_character_actor_map_ID','Freebase_character_ID','Freebase_actor_ID']\n",
    "name_clusters_headers=['Character_name', 'id']\n",
    "name_clusters_headers=['Character_name', 'id']\n",
    "tv_tropes_cluster_headers=['Trope','Character_name','movie','id','actor']\n",
    "\n",
<<<<<<< HEAD
    "#Read in movie metadata, plot summaries, and character metadata.\n",
=======
    "\n",
>>>>>>> 66233b9cf7d09787845ba636b900f1f47b91ce3d
    "movie_metadata = pd.read_csv(PATH_MOVIE_METADATA,sep='\\t',header=None,names=movie_headers,index_col=0)\n",
    "plot_summaries = pd.read_csv(PATH_PLOT_SUMMARY,sep='\\t',index_col=0,names=plot_headers)\n",
    "character_metadata = pd.read_csv(PATH_CHARACTER_METADATA,sep='\\t',header=None,names=character_headers,index_col='Wikipedia_movie_ID')\n",
    "name_clusters=pd.read_csv(PATH_NAME_CLUSTERS,sep='\\t',header=None,names=name_clusters_headers,index_col='id')\n",
    "tv_tropes_clusters = pd.read_csv(PATH_TV_TROPES_CLUSTERS,sep='\\t',header=None).apply(dict_to_cols, axis=1, result_type='expand')\n",
    "tv_tropes_clusters.columns = tv_tropes_cluster_headers\n",
    "tv_tropes_clusters.set_index('id')\n",
    "movie_metadata['Movie_languages']=movie_metadata['Movie_languages'].apply(lambda x: dict_to_lst(x))\n",
    "movie_metadata['Movie_countries']=movie_metadata['Movie_countries'].apply(lambda x: dict_to_lst(x))\n",
    "movie_metadata['Movie_genres']=movie_metadata['Movie_genres'].apply(lambda x: dict_to_lst(x))\n",
<<<<<<< HEAD
    "movie_metadata\n"
   ]
  },
  {
   "cell_type": "markdown",
   "metadata": {},
   "source": [
    "We can see that some values are missing, movie languages, movie countries and movie genres are lists. Also the dates don't all have the same format, in fact, some are missing the month and day. "
=======
    "movie_metadata\n",
    "'''\n",
    "s'il y moyen de taper les 3 dernières lignes en une ce serait nickel!!\n",
    "'''\n",
    "movie_metadata"
>>>>>>> 66233b9cf7d09787845ba636b900f1f47b91ce3d
   ]
  },
  {
   "cell_type": "code",
<<<<<<< HEAD
   "execution_count": 13,
=======
   "execution_count": 171,
>>>>>>> 66233b9cf7d09787845ba636b900f1f47b91ce3d
   "metadata": {},
   "outputs": [
    {
     "data": {
      "text/html": [
       "<div>\n",
       "<style scoped>\n",
       "    .dataframe tbody tr th:only-of-type {\n",
       "        vertical-align: middle;\n",
       "    }\n",
       "\n",
       "    .dataframe tbody tr th {\n",
       "        vertical-align: top;\n",
       "    }\n",
       "\n",
       "    .dataframe thead th {\n",
       "        text-align: right;\n",
       "    }\n",
       "</style>\n",
       "<table border=\"1\" class=\"dataframe\">\n",
       "  <thead>\n",
       "    <tr style=\"text-align: right;\">\n",
       "      <th></th>\n",
       "      <th>Character_name</th>\n",
       "    </tr>\n",
       "    <tr>\n",
       "      <th>id</th>\n",
       "      <th></th>\n",
       "    </tr>\n",
       "  </thead>\n",
       "  <tbody>\n",
       "    <tr>\n",
       "      <th>/m/0k3w9c</th>\n",
       "      <td>Stuart Little</td>\n",
       "    </tr>\n",
       "    <tr>\n",
       "      <th>/m/0k3wcx</th>\n",
       "      <td>Stuart Little</td>\n",
       "    </tr>\n",
       "    <tr>\n",
       "      <th>/m/0k3wbn</th>\n",
       "      <td>Stuart Little</td>\n",
       "    </tr>\n",
       "    <tr>\n",
       "      <th>/m/0jyg35</th>\n",
       "      <td>John Doe</td>\n",
       "    </tr>\n",
       "    <tr>\n",
       "      <th>/m/0k2_zn</th>\n",
       "      <td>John Doe</td>\n",
       "    </tr>\n",
       "  </tbody>\n",
       "</table>\n",
       "</div>"
      ],
      "text/plain": [
       "          Character_name\n",
       "id                      \n",
       "/m/0k3w9c  Stuart Little\n",
       "/m/0k3wcx  Stuart Little\n",
       "/m/0k3wbn  Stuart Little\n",
       "/m/0jyg35       John Doe\n",
       "/m/0k2_zn       John Doe"
      ]
     },
<<<<<<< HEAD
     "execution_count": 13,
=======
     "execution_count": 171,
>>>>>>> 66233b9cf7d09787845ba636b900f1f47b91ce3d
     "metadata": {},
     "output_type": "execute_result"
    }
   ],
   "source": [
    "name_clusters.head()"
   ]
  },
  {
   "cell_type": "markdown",
   "metadata": {},
   "source": [
<<<<<<< HEAD
    "This data set shows the characters appearing in different movies. This might be unuselful for our analysis since we analyse movies one by one"
   ]
  },
  {
   "cell_type": "markdown",
   "metadata": {},
   "source": [
=======
>>>>>>> 66233b9cf7d09787845ba636b900f1f47b91ce3d
    "First of all, we make an inspection of the dataframes, to see wether there exist some duplicates, NaN values etc... "
   ]
  },
  {
   "cell_type": "code",
<<<<<<< HEAD
   "execution_count": 14,
=======
   "execution_count": 172,
>>>>>>> 66233b9cf7d09787845ba636b900f1f47b91ce3d
   "metadata": {},
   "outputs": [
    {
     "data": {
      "text/plain": [
       "True"
      ]
     },
<<<<<<< HEAD
     "execution_count": 14,
=======
     "execution_count": 172,
>>>>>>> 66233b9cf7d09787845ba636b900f1f47b91ce3d
     "metadata": {},
     "output_type": "execute_result"
    }
   ],
   "source": [
    "movie_metadata.index.is_unique"
   ]
  },
  {
   "cell_type": "code",
<<<<<<< HEAD
   "execution_count": 15,
=======
   "execution_count": 173,
>>>>>>> 66233b9cf7d09787845ba636b900f1f47b91ce3d
   "metadata": {},
   "outputs": [
    {
     "data": {
      "text/plain": [
       "Freebase_movie_ID           False\n",
       "Movie_name                  False\n",
       "Movie_release_date           True\n",
       "Movie_box_office_revenue     True\n",
       "Movie_runtime                True\n",
       "Movie_languages             False\n",
       "Movie_countries             False\n",
       "Movie_genres                False\n",
       "dtype: bool"
      ]
     },
<<<<<<< HEAD
     "execution_count": 15,
=======
     "execution_count": 173,
>>>>>>> 66233b9cf7d09787845ba636b900f1f47b91ce3d
     "metadata": {},
     "output_type": "execute_result"
    }
   ],
   "source": [
    "movie_metadata.isna().any()"
   ]
  },
  {
   "cell_type": "markdown",
   "metadata": {},
   "source": [
    "here is a more visual way to see which columns of the dataset contain missing entries"
   ]
  },
  {
   "cell_type": "code",
<<<<<<< HEAD
   "execution_count": 21,
=======
   "execution_count": 174,
>>>>>>> 66233b9cf7d09787845ba636b900f1f47b91ce3d
   "metadata": {},
   "outputs": [
    {
     "name": "stdout",
     "output_type": "stream",
     "text": [
      "Sum of NaN in each feature : \n"
     ]
    },
    {
     "data": {
      "text/plain": [
       "Freebase_movie_ID               0\n",
       "Movie_name                      0\n",
       "Movie_release_date           6902\n",
       "Movie_box_office_revenue    73340\n",
       "Movie_runtime               20450\n",
       "Movie_languages                 0\n",
       "Movie_countries                 0\n",
       "Movie_genres                    0\n",
       "dtype: int64"
      ]
     },
<<<<<<< HEAD
     "execution_count": 21,
=======
     "execution_count": 174,
>>>>>>> 66233b9cf7d09787845ba636b900f1f47b91ce3d
     "metadata": {},
     "output_type": "execute_result"
    },
    {
     "data": {
<<<<<<< HEAD
      "image/png": "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",
      "text/plain": [
       "<Figure size 640x480 with 1 Axes>"
=======
      "image/png": "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",
      "text/plain": [
       "<Figure size 640x480 with 2 Axes>"
>>>>>>> 66233b9cf7d09787845ba636b900f1f47b91ce3d
      ]
     },
     "metadata": {},
     "output_type": "display_data"
    }
   ],
   "source": [
<<<<<<< HEAD
    "ax=sns.heatmap(movie_metadata.isna(), yticklabels=False,cbar=False)\n",
=======
    "ax=sns.heatmap(movie_metadata.isna(), yticklabels=False)\n",
>>>>>>> 66233b9cf7d09787845ba636b900f1f47b91ce3d
    "ax.set(xlabel=\"Features\", ylabel=\"Wikipedi_ID\")\n",
    "print('Sum of NaN in each feature : ')\n",
    "movie_metadata.isna().sum(axis = 0)"
   ]
  },
  {
   "cell_type": "code",
<<<<<<< HEAD
   "execution_count": 22,
=======
   "execution_count": 175,
>>>>>>> 66233b9cf7d09787845ba636b900f1f47b91ce3d
   "metadata": {},
   "outputs": [
    {
     "name": "stdout",
     "output_type": "stream",
     "text": [
      "Percentage of missing entries in the movie.metadata dataset:\n",
      " Movie_release_date           8.443743\n",
      "Movie_box_office_revenue    89.722416\n",
      "Movie_runtime               25.018045\n",
      "dtype: float64\n"
     ]
    }
   ],
   "source": [
    "n_movie=len(movie_metadata)\n",
    "print('Percentage of missing entries in the movie.metadata dataset:\\n', 100*movie_metadata[['Movie_release_date', 'Movie_box_office_revenue', 'Movie_runtime']].isna().sum() / n_movie)"
   ]
  },
  {
   "cell_type": "markdown",
   "metadata": {},
   "source": [
    "We are missing a lot of the data on the movie box office revenue. Maybe we should try and find those missing informations in another dataset as this could be helpful in our analysis."
   ]
  },
  {
   "cell_type": "code",
<<<<<<< HEAD
   "execution_count": 23,
=======
   "execution_count": 176,
>>>>>>> 66233b9cf7d09787845ba636b900f1f47b91ce3d
   "metadata": {},
   "outputs": [
    {
     "data": {
      "text/html": [
       "<div>\n",
       "<style scoped>\n",
       "    .dataframe tbody tr th:only-of-type {\n",
       "        vertical-align: middle;\n",
       "    }\n",
       "\n",
       "    .dataframe tbody tr th {\n",
       "        vertical-align: top;\n",
       "    }\n",
       "\n",
       "    .dataframe thead th {\n",
       "        text-align: right;\n",
       "    }\n",
       "</style>\n",
       "<table border=\"1\" class=\"dataframe\">\n",
       "  <thead>\n",
       "    <tr style=\"text-align: right;\">\n",
       "      <th></th>\n",
       "      <th>Plot_Summary</th>\n",
       "    </tr>\n",
       "    <tr>\n",
       "      <th>Wikipedia_movie_ID</th>\n",
       "      <th></th>\n",
       "    </tr>\n",
       "  </thead>\n",
       "  <tbody>\n",
       "    <tr>\n",
       "      <th>23890098</th>\n",
       "      <td>Shlykov, a hard-working taxi driver and Lyosha...</td>\n",
       "    </tr>\n",
       "    <tr>\n",
       "      <th>31186339</th>\n",
       "      <td>The nation of Panem consists of a wealthy Capi...</td>\n",
       "    </tr>\n",
       "    <tr>\n",
       "      <th>20663735</th>\n",
       "      <td>Poovalli Induchoodan  is sentenced for six yea...</td>\n",
       "    </tr>\n",
       "    <tr>\n",
       "      <th>2231378</th>\n",
       "      <td>The Lemon Drop Kid , a New York City swindler,...</td>\n",
       "    </tr>\n",
       "    <tr>\n",
       "      <th>595909</th>\n",
       "      <td>Seventh-day Adventist Church pastor Michael Ch...</td>\n",
       "    </tr>\n",
       "  </tbody>\n",
       "</table>\n",
       "</div>"
      ],
      "text/plain": [
       "                                                         Plot_Summary\n",
       "Wikipedia_movie_ID                                                   \n",
       "23890098            Shlykov, a hard-working taxi driver and Lyosha...\n",
       "31186339            The nation of Panem consists of a wealthy Capi...\n",
       "20663735            Poovalli Induchoodan  is sentenced for six yea...\n",
       "2231378             The Lemon Drop Kid , a New York City swindler,...\n",
       "595909              Seventh-day Adventist Church pastor Michael Ch..."
      ]
     },
<<<<<<< HEAD
     "execution_count": 23,
=======
     "execution_count": 176,
>>>>>>> 66233b9cf7d09787845ba636b900f1f47b91ce3d
     "metadata": {},
     "output_type": "execute_result"
    }
   ],
   "source": [
    "plot_summaries.head()"
   ]
  },
  {
   "cell_type": "code",
<<<<<<< HEAD
   "execution_count": 24,
=======
   "execution_count": 177,
>>>>>>> 66233b9cf7d09787845ba636b900f1f47b91ce3d
   "metadata": {},
   "outputs": [
    {
     "data": {
      "text/plain": [
       "True"
      ]
     },
<<<<<<< HEAD
     "execution_count": 24,
=======
     "execution_count": 177,
>>>>>>> 66233b9cf7d09787845ba636b900f1f47b91ce3d
     "metadata": {},
     "output_type": "execute_result"
    }
   ],
   "source": [
    "plot_summaries.index.is_unique"
   ]
  },
  {
   "cell_type": "code",
<<<<<<< HEAD
   "execution_count": 25,
=======
   "execution_count": 178,
>>>>>>> 66233b9cf7d09787845ba636b900f1f47b91ce3d
   "metadata": {},
   "outputs": [
    {
     "name": "stdout",
     "output_type": "stream",
     "text": [
      "Sum of NaN in each feature : \n"
     ]
    },
    {
     "data": {
      "text/plain": [
       "Plot_Summary    0\n",
       "dtype: int64"
      ]
     },
<<<<<<< HEAD
     "execution_count": 25,
=======
     "execution_count": 178,
>>>>>>> 66233b9cf7d09787845ba636b900f1f47b91ce3d
     "metadata": {},
     "output_type": "execute_result"
    }
   ],
   "source": [
    "print('Sum of NaN in each feature : ')\n",
    "plot_summaries.isna().sum(axis = 0)"
   ]
  },
  {
   "cell_type": "markdown",
   "metadata": {},
   "source": [
    "The summary dataset seems to be relatively clean "
   ]
  },
  {
   "cell_type": "code",
<<<<<<< HEAD
   "execution_count": 26,
=======
   "execution_count": 179,
>>>>>>> 66233b9cf7d09787845ba636b900f1f47b91ce3d
   "metadata": {},
   "outputs": [
    {
     "data": {
      "text/html": [
       "<div>\n",
       "<style scoped>\n",
       "    .dataframe tbody tr th:only-of-type {\n",
       "        vertical-align: middle;\n",
       "    }\n",
       "\n",
       "    .dataframe tbody tr th {\n",
       "        vertical-align: top;\n",
       "    }\n",
       "\n",
       "    .dataframe thead th {\n",
       "        text-align: right;\n",
       "    }\n",
       "</style>\n",
       "<table border=\"1\" class=\"dataframe\">\n",
       "  <thead>\n",
       "    <tr style=\"text-align: right;\">\n",
       "      <th></th>\n",
       "      <th>Freebase_movie_ID</th>\n",
       "      <th>Movie_release_date</th>\n",
       "      <th>Character_name</th>\n",
       "      <th>Actor_date_of_birth</th>\n",
       "      <th>Actor_gender</th>\n",
       "      <th>Actor_height</th>\n",
       "      <th>Actor_ethnicity</th>\n",
       "      <th>Actor_name</th>\n",
       "      <th>Actor_age_at_movie_release</th>\n",
       "      <th>Freebase_character_actor_map_ID</th>\n",
       "      <th>Freebase_character_ID</th>\n",
       "      <th>Freebase_actor_ID</th>\n",
       "    </tr>\n",
       "    <tr>\n",
       "      <th>Wikipedia_movie_ID</th>\n",
       "      <th></th>\n",
       "      <th></th>\n",
       "      <th></th>\n",
       "      <th></th>\n",
       "      <th></th>\n",
       "      <th></th>\n",
       "      <th></th>\n",
       "      <th></th>\n",
       "      <th></th>\n",
       "      <th></th>\n",
       "      <th></th>\n",
       "      <th></th>\n",
       "    </tr>\n",
       "  </thead>\n",
       "  <tbody>\n",
       "    <tr>\n",
       "      <th>975900</th>\n",
       "      <td>/m/03vyhn</td>\n",
       "      <td>2001-08-24</td>\n",
       "      <td>Akooshay</td>\n",
       "      <td>1958-08-26</td>\n",
       "      <td>F</td>\n",
       "      <td>1.620</td>\n",
       "      <td>NaN</td>\n",
       "      <td>Wanda De Jesus</td>\n",
       "      <td>42.0</td>\n",
       "      <td>/m/0bgchxw</td>\n",
       "      <td>/m/0bgcj3x</td>\n",
       "      <td>/m/03wcfv7</td>\n",
       "    </tr>\n",
       "    <tr>\n",
       "      <th>975900</th>\n",
       "      <td>/m/03vyhn</td>\n",
       "      <td>2001-08-24</td>\n",
       "      <td>Lieutenant Melanie Ballard</td>\n",
       "      <td>1974-08-15</td>\n",
       "      <td>F</td>\n",
       "      <td>1.780</td>\n",
       "      <td>/m/044038p</td>\n",
       "      <td>Natasha Henstridge</td>\n",
       "      <td>27.0</td>\n",
       "      <td>/m/0jys3m</td>\n",
       "      <td>/m/0bgchn4</td>\n",
       "      <td>/m/0346l4</td>\n",
       "    </tr>\n",
       "    <tr>\n",
       "      <th>975900</th>\n",
       "      <td>/m/03vyhn</td>\n",
       "      <td>2001-08-24</td>\n",
       "      <td>Desolation Williams</td>\n",
       "      <td>1969-06-15</td>\n",
       "      <td>M</td>\n",
       "      <td>1.727</td>\n",
       "      <td>/m/0x67</td>\n",
       "      <td>Ice Cube</td>\n",
       "      <td>32.0</td>\n",
       "      <td>/m/0jys3g</td>\n",
       "      <td>/m/0bgchn_</td>\n",
       "      <td>/m/01vw26l</td>\n",
       "    </tr>\n",
       "    <tr>\n",
       "      <th>975900</th>\n",
       "      <td>/m/03vyhn</td>\n",
       "      <td>2001-08-24</td>\n",
       "      <td>Sgt Jericho Butler</td>\n",
       "      <td>1967-09-12</td>\n",
       "      <td>M</td>\n",
       "      <td>1.750</td>\n",
       "      <td>NaN</td>\n",
       "      <td>Jason Statham</td>\n",
       "      <td>33.0</td>\n",
       "      <td>/m/02vchl6</td>\n",
       "      <td>/m/0bgchnq</td>\n",
       "      <td>/m/034hyc</td>\n",
       "    </tr>\n",
       "    <tr>\n",
       "      <th>975900</th>\n",
       "      <td>/m/03vyhn</td>\n",
       "      <td>2001-08-24</td>\n",
       "      <td>Bashira Kincaid</td>\n",
       "      <td>1977-09-25</td>\n",
       "      <td>F</td>\n",
       "      <td>1.650</td>\n",
       "      <td>NaN</td>\n",
       "      <td>Clea DuVall</td>\n",
       "      <td>23.0</td>\n",
       "      <td>/m/02vbb3r</td>\n",
       "      <td>/m/0bgchp9</td>\n",
       "      <td>/m/01y9xg</td>\n",
       "    </tr>\n",
       "  </tbody>\n",
       "</table>\n",
       "</div>"
      ],
      "text/plain": [
       "                   Freebase_movie_ID Movie_release_date  \\\n",
       "Wikipedia_movie_ID                                        \n",
       "975900                     /m/03vyhn         2001-08-24   \n",
       "975900                     /m/03vyhn         2001-08-24   \n",
       "975900                     /m/03vyhn         2001-08-24   \n",
       "975900                     /m/03vyhn         2001-08-24   \n",
       "975900                     /m/03vyhn         2001-08-24   \n",
       "\n",
       "                                Character_name Actor_date_of_birth  \\\n",
       "Wikipedia_movie_ID                                                   \n",
       "975900                                Akooshay          1958-08-26   \n",
       "975900              Lieutenant Melanie Ballard          1974-08-15   \n",
       "975900                     Desolation Williams          1969-06-15   \n",
       "975900                      Sgt Jericho Butler          1967-09-12   \n",
       "975900                         Bashira Kincaid          1977-09-25   \n",
       "\n",
       "                   Actor_gender  Actor_height Actor_ethnicity  \\\n",
       "Wikipedia_movie_ID                                              \n",
       "975900                        F         1.620             NaN   \n",
       "975900                        F         1.780      /m/044038p   \n",
       "975900                        M         1.727         /m/0x67   \n",
       "975900                        M         1.750             NaN   \n",
       "975900                        F         1.650             NaN   \n",
       "\n",
       "                            Actor_name  Actor_age_at_movie_release  \\\n",
       "Wikipedia_movie_ID                                                   \n",
       "975900                  Wanda De Jesus                        42.0   \n",
       "975900              Natasha Henstridge                        27.0   \n",
       "975900                        Ice Cube                        32.0   \n",
       "975900                   Jason Statham                        33.0   \n",
       "975900                     Clea DuVall                        23.0   \n",
       "\n",
       "                   Freebase_character_actor_map_ID Freebase_character_ID  \\\n",
       "Wikipedia_movie_ID                                                         \n",
       "975900                                  /m/0bgchxw            /m/0bgcj3x   \n",
       "975900                                   /m/0jys3m            /m/0bgchn4   \n",
       "975900                                   /m/0jys3g            /m/0bgchn_   \n",
       "975900                                  /m/02vchl6            /m/0bgchnq   \n",
       "975900                                  /m/02vbb3r            /m/0bgchp9   \n",
       "\n",
       "                   Freebase_actor_ID  \n",
       "Wikipedia_movie_ID                    \n",
       "975900                    /m/03wcfv7  \n",
       "975900                     /m/0346l4  \n",
       "975900                    /m/01vw26l  \n",
       "975900                     /m/034hyc  \n",
       "975900                     /m/01y9xg  "
      ]
     },
<<<<<<< HEAD
     "execution_count": 26,
=======
     "execution_count": 179,
>>>>>>> 66233b9cf7d09787845ba636b900f1f47b91ce3d
     "metadata": {},
     "output_type": "execute_result"
    }
   ],
   "source": [
    "character_metadata.head()"
   ]
  },
  {
   "cell_type": "code",
<<<<<<< HEAD
   "execution_count": 27,
=======
   "execution_count": 180,
>>>>>>> 66233b9cf7d09787845ba636b900f1f47b91ce3d
   "metadata": {},
   "outputs": [
    {
     "data": {
      "text/plain": [
       "Freebase_movie_ID                  False\n",
       "Movie_release_date                  True\n",
       "Character_name                      True\n",
       "Actor_date_of_birth                 True\n",
       "Actor_gender                        True\n",
       "Actor_height                        True\n",
       "Actor_ethnicity                     True\n",
       "Actor_name                          True\n",
       "Actor_age_at_movie_release          True\n",
       "Freebase_character_actor_map_ID    False\n",
       "Freebase_character_ID               True\n",
       "Freebase_actor_ID                   True\n",
       "dtype: bool"
      ]
     },
<<<<<<< HEAD
     "execution_count": 27,
=======
     "execution_count": 180,
>>>>>>> 66233b9cf7d09787845ba636b900f1f47b91ce3d
     "metadata": {},
     "output_type": "execute_result"
    }
   ],
   "source": [
    "character_metadata.isna().any()"
   ]
  },
  {
   "cell_type": "code",
<<<<<<< HEAD
   "execution_count": 29,
=======
   "execution_count": 181,
>>>>>>> 66233b9cf7d09787845ba636b900f1f47b91ce3d
   "metadata": {},
   "outputs": [
    {
     "name": "stdout",
     "output_type": "stream",
     "text": [
      "Sum of NaN in each feature : \n"
     ]
    },
    {
     "data": {
      "text/plain": [
       "Freebase_movie_ID                       0\n",
       "Movie_release_date                   9995\n",
       "Character_name                     257875\n",
       "Actor_date_of_birth                106145\n",
       "Actor_gender                        45609\n",
       "Actor_height                       295845\n",
       "Actor_ethnicity                    344611\n",
       "Actor_name                           1228\n",
       "Actor_age_at_movie_release         158113\n",
       "Freebase_character_actor_map_ID         0\n",
       "Freebase_character_ID              257865\n",
       "Freebase_actor_ID                     815\n",
       "dtype: int64"
      ]
     },
<<<<<<< HEAD
     "execution_count": 29,
=======
     "execution_count": 181,
>>>>>>> 66233b9cf7d09787845ba636b900f1f47b91ce3d
     "metadata": {},
     "output_type": "execute_result"
    },
    {
     "data": {
<<<<<<< HEAD
      "image/png": "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",
      "text/plain": [
       "<Figure size 640x480 with 1 Axes>"
=======
      "image/png": "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",
      "text/plain": [
       "<Figure size 640x480 with 2 Axes>"
>>>>>>> 66233b9cf7d09787845ba636b900f1f47b91ce3d
      ]
     },
     "metadata": {},
     "output_type": "display_data"
    }
   ],
   "source": [
<<<<<<< HEAD
    "ax=sns.heatmap(character_metadata.isna(), yticklabels=False,cbar=False)\n",
=======
    "ax=sns.heatmap(character_metadata.isna(), yticklabels=False)\n",
>>>>>>> 66233b9cf7d09787845ba636b900f1f47b91ce3d
    "ax.set(xlabel=\"Features\", ylabel=\"Wikipedia_ID\")\n",
    "print('Sum of NaN in each feature : ')\n",
    "character_metadata.isna().sum(axis = 0)"
   ]
  },
  {
   "cell_type": "code",
<<<<<<< HEAD
   "execution_count": 30,
=======
   "execution_count": 182,
>>>>>>> 66233b9cf7d09787845ba636b900f1f47b91ce3d
   "metadata": {},
   "outputs": [
    {
     "name": "stdout",
     "output_type": "stream",
     "text": [
      "Percentage of missing entries in the character.metadata dataset:\n",
      " Freebase_movie_ID              0.000000\n",
      "Movie_release_date             2.217814\n",
      "Character_name                57.220488\n",
      "Actor_date_of_birth           23.552763\n",
      "Actor_gender                  10.120288\n",
      "Actor_height                  65.645740\n",
      "Actor_ethnicity               76.466542\n",
      "Actor_name                     0.272484\n",
      "Actor_age_at_movie_release    35.084064\n",
      "Freebase_character_ID         57.218269\n",
      "Freebase_actor_ID              0.180842\n",
      "dtype: float64\n"
     ]
    }
   ],
   "source": [
    "n_char=len(character_metadata)\n",
    "print('Percentage of missing entries in the character.metadata dataset:\\n', 100*character_metadata[['Freebase_movie_ID', 'Movie_release_date', 'Character_name',\n",
    "                                                                                   'Actor_date_of_birth', 'Actor_gender', 'Actor_height', 'Actor_ethnicity',\n",
    "                                                                                   'Actor_name', 'Actor_age_at_movie_release', 'Freebase_character_ID',\n",
    "                                                                                   'Freebase_actor_ID']].isna().sum() / n_char)"
   ]
  },
  {
   "cell_type": "markdown",
   "metadata": {},
   "source": [
    "We are missing a lot of data on actor's and actresses' ethnicities and their heights. This should not affect our analysis a we did not plan on using these features initially."
   ]
  },
  {
   "cell_type": "code",
<<<<<<< HEAD
   "execution_count": 31,
=======
   "execution_count": 183,
>>>>>>> 66233b9cf7d09787845ba636b900f1f47b91ce3d
   "metadata": {},
   "outputs": [
    {
     "name": "stdout",
     "output_type": "stream",
     "text": [
      "Number of rows in the movie.metadata dataset : 81741\n",
      "Number of rows in the character.metadata dataset : 450669\n"
     ]
    }
   ],
   "source": [
    "print('Number of rows in the movie.metadata dataset : %d' %n_movie)\n",
    "print('Number of rows in the character.metadata dataset : %d' %n_char)"
   ]
  },
  {
   "cell_type": "code",
<<<<<<< HEAD
   "execution_count": 32,
=======
   "execution_count": 184,
>>>>>>> 66233b9cf7d09787845ba636b900f1f47b91ce3d
   "metadata": {},
   "outputs": [
    {
     "name": "stdout",
     "output_type": "stream",
     "text": [
      "What is needed to be processed:\n",
      "Rows with actor age at movie release under or equal to 0: 433\n",
      "Rows with actor height under or equal to 0: 0\n",
      "Rows with movie runtime under or equal to 0: 1\n"
     ]
    }
   ],
   "source": [
    "print(\"What is needed to be processed:\")\n",
    "print(\"Rows with actor age at movie release under or equal to 0: %d\" %len(character_metadata[character_metadata['Actor_age_at_movie_release']<=0]))\n",
    "print(\"Rows with actor height under or equal to 0: %d\" %len(character_metadata[character_metadata['Actor_height']<=0]))\n",
    "print(\"Rows with movie runtime under or equal to 0: %d\" %len(movie_metadata[movie_metadata['Movie_runtime']<=0]))"
   ]
  },
  {
   "cell_type": "code",
<<<<<<< HEAD
   "execution_count": 33,
=======
   "execution_count": 185,
>>>>>>> 66233b9cf7d09787845ba636b900f1f47b91ce3d
   "metadata": {},
   "outputs": [
    {
     "name": "stdout",
     "output_type": "stream",
     "text": [
      "Freebase_movie_ID has 0 duplicated rows\n",
      "Movie_name has 6263 duplicated rows\n",
      "Movie_release_date has 61351 duplicated rows\n",
      "Movie_box_office_revenue has 74378 duplicated rows\n",
      "Movie_runtime has 81143 duplicated rows\n",
      "Movie_languages has 79924 duplicated rows\n",
      "Movie_countries has 79617 duplicated rows\n",
      "Movie_genres has 57924 duplicated rows\n"
     ]
    }
   ],
   "source": [
    "#Looking for duplicates in our datasets\n",
    "for f in movie_metadata.columns:\n",
    "    dupl = movie_metadata[f].duplicated().sum()\n",
    "    print(\"{} has {} duplicated rows\".format(f, dupl))"
   ]
  },
  {
   "cell_type": "code",
<<<<<<< HEAD
   "execution_count": null,
=======
   "execution_count": 186,
>>>>>>> 66233b9cf7d09787845ba636b900f1f47b91ce3d
   "metadata": {},
   "outputs": [
    {
     "data": {
      "text/html": [
       "<div>\n",
       "<style scoped>\n",
       "    .dataframe tbody tr th:only-of-type {\n",
       "        vertical-align: middle;\n",
       "    }\n",
       "\n",
       "    .dataframe tbody tr th {\n",
       "        vertical-align: top;\n",
       "    }\n",
       "\n",
       "    .dataframe thead th {\n",
       "        text-align: right;\n",
       "    }\n",
       "</style>\n",
       "<table border=\"1\" class=\"dataframe\">\n",
       "  <thead>\n",
       "    <tr style=\"text-align: right;\">\n",
       "      <th></th>\n",
       "      <th>Freebase_movie_ID</th>\n",
       "      <th>Movie_name</th>\n",
       "      <th>Movie_release_date</th>\n",
       "      <th>Movie_box_office_revenue</th>\n",
       "      <th>Movie_runtime</th>\n",
       "      <th>Movie_languages</th>\n",
       "      <th>Movie_countries</th>\n",
       "      <th>Movie_genres</th>\n",
       "    </tr>\n",
       "    <tr>\n",
       "      <th>Wikipedia_movie_ID</th>\n",
       "      <th></th>\n",
       "      <th></th>\n",
       "      <th></th>\n",
       "      <th></th>\n",
       "      <th></th>\n",
       "      <th></th>\n",
       "      <th></th>\n",
       "      <th></th>\n",
       "    </tr>\n",
       "  </thead>\n",
       "  <tbody>\n",
       "    <tr>\n",
       "      <th>29666067</th>\n",
       "      <td>/m/0fphzrf</td>\n",
       "      <td>Hunting Season</td>\n",
       "      <td>1010-12-02</td>\n",
       "      <td>12160978.0</td>\n",
       "      <td>140.0</td>\n",
       "      <td>[Turkish Language, English Language]</td>\n",
       "      <td>[Turkey]</td>\n",
       "      <td>[Crime Fiction, Mystery, Drama, Thriller]</td>\n",
       "    </tr>\n",
       "  </tbody>\n",
       "</table>\n",
       "</div>"
      ],
      "text/plain": [
       "                   Freebase_movie_ID      Movie_name Movie_release_date  \\\n",
       "Wikipedia_movie_ID                                                        \n",
       "29666067                  /m/0fphzrf  Hunting Season         1010-12-02   \n",
       "\n",
       "                    Movie_box_office_revenue  Movie_runtime  \\\n",
       "Wikipedia_movie_ID                                            \n",
       "29666067                          12160978.0          140.0   \n",
       "\n",
       "                                         Movie_languages Movie_countries  \\\n",
       "Wikipedia_movie_ID                                                         \n",
       "29666067            [Turkish Language, English Language]        [Turkey]   \n",
       "\n",
       "                                                 Movie_genres  \n",
       "Wikipedia_movie_ID                                             \n",
       "29666067            [Crime Fiction, Mystery, Drama, Thriller]  "
      ]
     },
<<<<<<< HEAD
     "execution_count": 77,
=======
     "execution_count": 186,
>>>>>>> 66233b9cf7d09787845ba636b900f1f47b91ce3d
     "metadata": {},
     "output_type": "execute_result"
    }
   ],
   "source": [
    "movie_metadata[movie_metadata[\"Movie_name\"]==\"Hunting Season\"]"
   ]
  },
  {
   "cell_type": "code",
<<<<<<< HEAD
   "execution_count": null,
=======
   "execution_count": 187,
>>>>>>> 66233b9cf7d09787845ba636b900f1f47b91ce3d
   "metadata": {},
   "outputs": [
    {
     "data": {
      "text/plain": [
       "Freebase_movie_ID            object\n",
       "Movie_name                   object\n",
       "Movie_release_date           object\n",
       "Movie_box_office_revenue    float64\n",
       "Movie_runtime               float64\n",
       "Movie_languages              object\n",
       "Movie_countries              object\n",
       "Movie_genres                 object\n",
       "dtype: object"
      ]
     },
<<<<<<< HEAD
     "execution_count": 78,
=======
     "execution_count": 187,
>>>>>>> 66233b9cf7d09787845ba636b900f1f47b91ce3d
     "metadata": {},
     "output_type": "execute_result"
    }
   ],
   "source": [
    "movie_metadata.dtypes"
   ]
  },
  {
   "cell_type": "markdown",
   "metadata": {},
   "source": [
    "Some dates only include de the year"
   ]
  },
  {
   "cell_type": "code",
<<<<<<< HEAD
   "execution_count": null,
=======
   "execution_count": 188,
>>>>>>> 66233b9cf7d09787845ba636b900f1f47b91ce3d
   "metadata": {},
   "outputs": [
    {
     "data": {
      "text/html": [
       "<div>\n",
       "<style scoped>\n",
       "    .dataframe tbody tr th:only-of-type {\n",
       "        vertical-align: middle;\n",
       "    }\n",
       "\n",
       "    .dataframe tbody tr th {\n",
       "        vertical-align: top;\n",
       "    }\n",
       "\n",
       "    .dataframe thead th {\n",
       "        text-align: right;\n",
       "    }\n",
       "</style>\n",
       "<table border=\"1\" class=\"dataframe\">\n",
       "  <thead>\n",
       "    <tr style=\"text-align: right;\">\n",
       "      <th></th>\n",
       "      <th>Freebase_movie_ID</th>\n",
       "      <th>Movie_name</th>\n",
       "      <th>Movie_release_date</th>\n",
       "      <th>Movie_box_office_revenue</th>\n",
       "      <th>Movie_runtime</th>\n",
       "      <th>Movie_languages</th>\n",
       "      <th>Movie_countries</th>\n",
       "      <th>Movie_genres</th>\n",
       "    </tr>\n",
       "    <tr>\n",
       "      <th>Wikipedia_movie_ID</th>\n",
       "      <th></th>\n",
       "      <th></th>\n",
       "      <th></th>\n",
       "      <th></th>\n",
       "      <th></th>\n",
       "      <th></th>\n",
       "      <th></th>\n",
       "      <th></th>\n",
       "    </tr>\n",
       "  </thead>\n",
       "  <tbody>\n",
       "    <tr>\n",
       "      <th>975900</th>\n",
       "      <td>/m/03vyhn</td>\n",
       "      <td>Ghosts of Mars</td>\n",
       "      <td>2001-08-24</td>\n",
       "      <td>14010832.0</td>\n",
       "      <td>98.0</td>\n",
       "      <td>[English Language]</td>\n",
       "      <td>[United States of America]</td>\n",
       "      <td>[Thriller, Science Fiction, Horror, Adventure,...</td>\n",
       "    </tr>\n",
       "    <tr>\n",
       "      <th>3196793</th>\n",
       "      <td>/m/08yl5d</td>\n",
       "      <td>Getting Away with Murder: The JonBenét Ramsey ...</td>\n",
       "      <td>2000-02-16</td>\n",
       "      <td>NaN</td>\n",
       "      <td>95.0</td>\n",
       "      <td>[English Language]</td>\n",
       "      <td>[United States of America]</td>\n",
       "      <td>[Mystery, Biographical film, Drama, Crime Drama]</td>\n",
       "    </tr>\n",
       "    <tr>\n",
       "      <th>28463795</th>\n",
       "      <td>/m/0crgdbh</td>\n",
       "      <td>Brun bitter</td>\n",
       "      <td>1988-01-01</td>\n",
       "      <td>NaN</td>\n",
       "      <td>83.0</td>\n",
       "      <td>[Norwegian Language]</td>\n",
       "      <td>[Norway]</td>\n",
       "      <td>[Crime Fiction, Drama]</td>\n",
       "    </tr>\n",
       "    <tr>\n",
       "      <th>9363483</th>\n",
       "      <td>/m/0285_cd</td>\n",
       "      <td>White Of The Eye</td>\n",
       "      <td>1987-01-01</td>\n",
       "      <td>NaN</td>\n",
       "      <td>110.0</td>\n",
       "      <td>[English Language]</td>\n",
       "      <td>[United Kingdom]</td>\n",
       "      <td>[Thriller, Erotic thriller, Psychological thri...</td>\n",
       "    </tr>\n",
       "    <tr>\n",
       "      <th>261236</th>\n",
       "      <td>/m/01mrr1</td>\n",
       "      <td>A Woman in Flames</td>\n",
       "      <td>1983-01-01</td>\n",
       "      <td>NaN</td>\n",
       "      <td>106.0</td>\n",
       "      <td>[German Language]</td>\n",
       "      <td>[Germany]</td>\n",
       "      <td>[Drama]</td>\n",
       "    </tr>\n",
       "    <tr>\n",
       "      <th>...</th>\n",
       "      <td>...</td>\n",
       "      <td>...</td>\n",
       "      <td>...</td>\n",
       "      <td>...</td>\n",
       "      <td>...</td>\n",
       "      <td>...</td>\n",
       "      <td>...</td>\n",
       "      <td>...</td>\n",
       "    </tr>\n",
       "    <tr>\n",
       "      <th>35228177</th>\n",
       "      <td>/m/0j7hxnt</td>\n",
       "      <td>Mermaids: The Body Found</td>\n",
       "      <td>2011-03-19</td>\n",
       "      <td>NaN</td>\n",
       "      <td>120.0</td>\n",
       "      <td>[English Language]</td>\n",
       "      <td>[United States of America]</td>\n",
       "      <td>[Drama]</td>\n",
       "    </tr>\n",
       "    <tr>\n",
       "      <th>34980460</th>\n",
       "      <td>/m/0g4pl34</td>\n",
       "      <td>Knuckle</td>\n",
       "      <td>2011-01-21</td>\n",
       "      <td>NaN</td>\n",
       "      <td>96.0</td>\n",
       "      <td>[English Language]</td>\n",
       "      <td>[Ireland, United Kingdom]</td>\n",
       "      <td>[Biographical film, Drama, Documentary]</td>\n",
       "    </tr>\n",
       "    <tr>\n",
       "      <th>9971909</th>\n",
       "      <td>/m/02pygw1</td>\n",
       "      <td>Another Nice Mess</td>\n",
       "      <td>1972-09-22</td>\n",
       "      <td>NaN</td>\n",
       "      <td>66.0</td>\n",
       "      <td>[English Language]</td>\n",
       "      <td>[United States of America]</td>\n",
       "      <td>[Satire, Comedy]</td>\n",
       "    </tr>\n",
       "    <tr>\n",
       "      <th>913762</th>\n",
       "      <td>/m/03pcrp</td>\n",
       "      <td>The Super Dimension Fortress Macross II: Lover...</td>\n",
       "      <td>1992-05-21</td>\n",
       "      <td>NaN</td>\n",
       "      <td>150.0</td>\n",
       "      <td>[Japanese Language]</td>\n",
       "      <td>[Japan]</td>\n",
       "      <td>[Science Fiction, Japanese Movies, Adventure, ...</td>\n",
       "    </tr>\n",
       "    <tr>\n",
       "      <th>12476867</th>\n",
       "      <td>/m/02w7zz8</td>\n",
       "      <td>Spliced</td>\n",
       "      <td>2002-01-01</td>\n",
       "      <td>NaN</td>\n",
       "      <td>86.0</td>\n",
       "      <td>[English Language]</td>\n",
       "      <td>[Canada]</td>\n",
       "      <td>[Thriller, Horror, Slasher, Teen]</td>\n",
       "    </tr>\n",
       "  </tbody>\n",
       "</table>\n",
       "<p>81741 rows × 8 columns</p>\n",
       "</div>"
      ],
      "text/plain": [
       "                   Freebase_movie_ID  \\\n",
       "Wikipedia_movie_ID                     \n",
       "975900                     /m/03vyhn   \n",
       "3196793                    /m/08yl5d   \n",
       "28463795                  /m/0crgdbh   \n",
       "9363483                   /m/0285_cd   \n",
       "261236                     /m/01mrr1   \n",
       "...                              ...   \n",
       "35228177                  /m/0j7hxnt   \n",
       "34980460                  /m/0g4pl34   \n",
       "9971909                   /m/02pygw1   \n",
       "913762                     /m/03pcrp   \n",
       "12476867                  /m/02w7zz8   \n",
       "\n",
       "                                                           Movie_name  \\\n",
       "Wikipedia_movie_ID                                                      \n",
       "975900                                                 Ghosts of Mars   \n",
       "3196793             Getting Away with Murder: The JonBenét Ramsey ...   \n",
       "28463795                                                  Brun bitter   \n",
       "9363483                                              White Of The Eye   \n",
       "261236                                              A Woman in Flames   \n",
       "...                                                               ...   \n",
       "35228177                                     Mermaids: The Body Found   \n",
       "34980460                                                      Knuckle   \n",
       "9971909                                             Another Nice Mess   \n",
       "913762              The Super Dimension Fortress Macross II: Lover...   \n",
       "12476867                                                      Spliced   \n",
       "\n",
       "                   Movie_release_date  Movie_box_office_revenue  \\\n",
       "Wikipedia_movie_ID                                                \n",
       "975900                     2001-08-24                14010832.0   \n",
       "3196793                    2000-02-16                       NaN   \n",
       "28463795                   1988-01-01                       NaN   \n",
       "9363483                    1987-01-01                       NaN   \n",
       "261236                     1983-01-01                       NaN   \n",
       "...                               ...                       ...   \n",
       "35228177                   2011-03-19                       NaN   \n",
       "34980460                   2011-01-21                       NaN   \n",
       "9971909                    1972-09-22                       NaN   \n",
       "913762                     1992-05-21                       NaN   \n",
       "12476867                   2002-01-01                       NaN   \n",
       "\n",
       "                    Movie_runtime       Movie_languages  \\\n",
       "Wikipedia_movie_ID                                        \n",
       "975900                       98.0    [English Language]   \n",
       "3196793                      95.0    [English Language]   \n",
       "28463795                     83.0  [Norwegian Language]   \n",
       "9363483                     110.0    [English Language]   \n",
       "261236                      106.0     [German Language]   \n",
       "...                           ...                   ...   \n",
       "35228177                    120.0    [English Language]   \n",
       "34980460                     96.0    [English Language]   \n",
       "9971909                      66.0    [English Language]   \n",
       "913762                      150.0   [Japanese Language]   \n",
       "12476867                     86.0    [English Language]   \n",
       "\n",
       "                               Movie_countries  \\\n",
       "Wikipedia_movie_ID                               \n",
       "975900              [United States of America]   \n",
       "3196793             [United States of America]   \n",
       "28463795                              [Norway]   \n",
       "9363483                       [United Kingdom]   \n",
       "261236                               [Germany]   \n",
       "...                                        ...   \n",
       "35228177            [United States of America]   \n",
       "34980460             [Ireland, United Kingdom]   \n",
       "9971909             [United States of America]   \n",
       "913762                                 [Japan]   \n",
       "12476867                              [Canada]   \n",
       "\n",
       "                                                         Movie_genres  \n",
       "Wikipedia_movie_ID                                                     \n",
       "975900              [Thriller, Science Fiction, Horror, Adventure,...  \n",
       "3196793              [Mystery, Biographical film, Drama, Crime Drama]  \n",
       "28463795                                       [Crime Fiction, Drama]  \n",
       "9363483             [Thriller, Erotic thriller, Psychological thri...  \n",
       "261236                                                        [Drama]  \n",
       "...                                                               ...  \n",
       "35228177                                                      [Drama]  \n",
       "34980460                      [Biographical film, Drama, Documentary]  \n",
       "9971909                                              [Satire, Comedy]  \n",
       "913762              [Science Fiction, Japanese Movies, Adventure, ...  \n",
       "12476867                            [Thriller, Horror, Slasher, Teen]  \n",
       "\n",
       "[81741 rows x 8 columns]"
      ]
     },
<<<<<<< HEAD
     "execution_count": 79,
=======
     "execution_count": 188,
>>>>>>> 66233b9cf7d09787845ba636b900f1f47b91ce3d
     "metadata": {},
     "output_type": "execute_result"
    }
   ],
   "source": [
    "#01-01-Year for movies only including a year for the dates\n",
    "movie_metadata[\"Movie_release_date\"] = pd.to_datetime(movie_metadata[\"Movie_release_date\"],errors='coerce') \n",
    "movie_metadata"
   ]
  },
  {
   "cell_type": "markdown",
   "metadata": {},
   "source": [
    "We can see that the release date of this movie is wrong. 1010-12-02 should be 2010-12-03."
   ]
  },
  {
   "cell_type": "code",
<<<<<<< HEAD
   "execution_count": null,
=======
   "execution_count": 189,
>>>>>>> 66233b9cf7d09787845ba636b900f1f47b91ce3d
   "metadata": {},
   "outputs": [],
   "source": [
    "movie_metadata.loc[movie_metadata['Movie_release_date'] == '1010-12-02','Movie_release_date'] = '2010-12-02'"
   ]
  },
  {
   "cell_type": "code",
<<<<<<< HEAD
   "execution_count": null,
=======
   "execution_count": 191,
>>>>>>> 66233b9cf7d09787845ba636b900f1f47b91ce3d
   "metadata": {},
   "outputs": [
    {
     "data": {
      "text/html": [
       "<div>\n",
       "<style scoped>\n",
       "    .dataframe tbody tr th:only-of-type {\n",
       "        vertical-align: middle;\n",
       "    }\n",
       "\n",
       "    .dataframe tbody tr th {\n",
       "        vertical-align: top;\n",
       "    }\n",
       "\n",
       "    .dataframe thead th {\n",
       "        text-align: right;\n",
       "    }\n",
       "</style>\n",
       "<table border=\"1\" class=\"dataframe\">\n",
       "  <thead>\n",
       "    <tr style=\"text-align: right;\">\n",
       "      <th></th>\n",
       "      <th>Freebase_movie_ID</th>\n",
       "      <th>Movie_name</th>\n",
       "      <th>Movie_release_date</th>\n",
       "      <th>Movie_box_office_revenue</th>\n",
       "      <th>Movie_runtime</th>\n",
       "      <th>Movie_languages</th>\n",
       "      <th>Movie_countries</th>\n",
       "      <th>Movie_genres</th>\n",
       "    </tr>\n",
       "    <tr>\n",
       "      <th>Wikipedia_movie_ID</th>\n",
       "      <th></th>\n",
       "      <th></th>\n",
       "      <th></th>\n",
       "      <th></th>\n",
       "      <th></th>\n",
       "      <th></th>\n",
       "      <th></th>\n",
       "      <th></th>\n",
       "    </tr>\n",
       "  </thead>\n",
       "  <tbody>\n",
       "    <tr>\n",
       "      <th>29666067</th>\n",
       "      <td>/m/0fphzrf</td>\n",
       "      <td>Hunting Season</td>\n",
       "      <td>NaT</td>\n",
       "      <td>12160978.0</td>\n",
       "      <td>140.0</td>\n",
       "      <td>[Turkish Language, English Language]</td>\n",
       "      <td>[Turkey]</td>\n",
       "      <td>[Crime Fiction, Mystery, Drama, Thriller]</td>\n",
       "    </tr>\n",
       "  </tbody>\n",
       "</table>\n",
       "</div>"
      ],
      "text/plain": [
       "                   Freebase_movie_ID      Movie_name Movie_release_date  \\\n",
       "Wikipedia_movie_ID                                                        \n",
       "29666067                  /m/0fphzrf  Hunting Season                NaT   \n",
       "\n",
       "                    Movie_box_office_revenue  Movie_runtime  \\\n",
       "Wikipedia_movie_ID                                            \n",
       "29666067                          12160978.0          140.0   \n",
       "\n",
       "                                         Movie_languages Movie_countries  \\\n",
       "Wikipedia_movie_ID                                                         \n",
       "29666067            [Turkish Language, English Language]        [Turkey]   \n",
       "\n",
       "                                                 Movie_genres  \n",
       "Wikipedia_movie_ID                                             \n",
       "29666067            [Crime Fiction, Mystery, Drama, Thriller]  "
      ]
     },
<<<<<<< HEAD
     "execution_count": 81,
=======
     "execution_count": 191,
>>>>>>> 66233b9cf7d09787845ba636b900f1f47b91ce3d
     "metadata": {},
     "output_type": "execute_result"
    }
   ],
   "source": [
    "movie_metadata[movie_metadata[\"Movie_name\"]==\"Hunting Season\"]"
   ]
  },
  {
   "cell_type": "code",
<<<<<<< HEAD
   "execution_count": null,
=======
   "execution_count": 192,
>>>>>>> 66233b9cf7d09787845ba636b900f1f47b91ce3d
   "metadata": {},
   "outputs": [
    {
     "name": "stdout",
     "output_type": "stream",
     "text": [
      "the last film in our dataframe was released in 2016 and the first one in 1888\n"
     ]
    },
    {
     "name": "stderr",
     "output_type": "stream",
     "text": [
<<<<<<< HEAD
      "/var/folders/4n/zzxjf3fs0fqbmxgbcht_g0cw0000gn/T/ipykernel_2624/1069636430.py:9: MatplotlibDeprecationWarning: The seaborn styles shipped by Matplotlib are deprecated since 3.6, as they no longer correspond to the styles shipped by seaborn. However, they will remain available as 'seaborn-v0_8-<style>'. Alternatively, directly use the seaborn API instead.\n",
=======
      "/var/folders/1x/fjwg5qd1275c9755rz7f68pw0000gn/T/ipykernel_14089/1069636430.py:9: MatplotlibDeprecationWarning: The seaborn styles shipped by Matplotlib are deprecated since 3.6, as they no longer correspond to the styles shipped by seaborn. However, they will remain available as 'seaborn-v0_8-<style>'. Alternatively, directly use the seaborn API instead.\n",
>>>>>>> 66233b9cf7d09787845ba636b900f1f47b91ce3d
      "  plt.style.use('seaborn-whitegrid')\n"
     ]
    },
    {
     "data": {
<<<<<<< HEAD
      "image/png": "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",
=======
      "image/png": "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",
>>>>>>> 66233b9cf7d09787845ba636b900f1f47b91ce3d
      "text/plain": [
       "<Figure size 1400x700 with 1 Axes>"
      ]
     },
     "metadata": {},
     "output_type": "display_data"
    }
   ],
   "source": [
    "'''\n",
    "sns.histplot(data=movie_metadata, x='Movie_runtime')\n",
    "plt.title('Movie_release_year') je ne suis pas arrivé à mettre le histplot \n",
    "'''\n",
    "print('the last film in our dataframe was released in', movie_metadata.Movie_release_date.max().year,'and the first one in',movie_metadata.Movie_release_date.min().year)\n",
    "num_years=(movie_metadata.Movie_release_date.max().year-movie_metadata.Movie_release_date.min().year)\n",
    "\n",
    "plt.figure(figsize=(14,7))\n",
    "plt.style.use('seaborn-whitegrid')\n",
    "plt.hist(movie_metadata['Movie_release_date'],bins=num_years, facecolor = '#2ab0ff', edgecolor='#169acf', linewidth=0.5)\n",
    "plt.title('Movie release dates') \n",
    "plt.xlabel('Years') \n",
    "plt.ylabel('Number of movies') \n",
    "plt.show()"
   ]
  },
  {
   "cell_type": "markdown",
   "metadata": {},
   "source": [
    "As we can see the first film seems to have been released in 1888, it is in fact a short sequence of less than 3 seconds. But for our analysis it isn't releavant. Even if there is a debate on which is the fisrt \"real movie\" we will consider that it is \"A trip to the Moon\", which is often taught at school. So we will consider movies starting from 1902, and this seems relevant in view of the plot above! \n",
    "Source: https://www.studiobinder.com/blog/what-was-the-first-movie-ever-made/"
   ]
  },
  {
   "cell_type": "code",
   "execution_count": null,
   "metadata": {},
   "outputs": [],
   "source": [
    "movie_metadata=movie_metadata[~(movie_metadata['Movie_release_date'] <= '1902-01-01')]"
   ]
  },
  {
   "cell_type": "code",
   "execution_count": null,
   "metadata": {},
   "outputs": [
    {
     "data": {
      "text/plain": [
       "\"\\nmovie_metadata['Movie release date'] = pd.to_datetime(movie_metadata['Movie release date'],format='%Y-%m-%d').dt.year\\ncharacter_metadata['Movie release date'] = pd.to_datetime(character_metadata['Movie release date'],format='%Y-%m-%d').dt.year\\ncharacter_metadata['Actor date of birth'] = pd.to_datetime(character_metadata['Actor date of birth'],format='%Y-%m-%d').dt.year\\n\""
      ]
     },
<<<<<<< HEAD
     "execution_count": 84,
=======
     "execution_count": 152,
>>>>>>> 66233b9cf7d09787845ba636b900f1f47b91ce3d
     "metadata": {},
     "output_type": "execute_result"
    }
   ],
   "source": [
    "'''\n",
    "movie_metadata['Movie release date'] = pd.to_datetime(movie_metadata['Movie release date'],format='%Y-%m-%d').dt.year\n",
    "character_metadata['Movie release date'] = pd.to_datetime(character_metadata['Movie release date'],format='%Y-%m-%d').dt.year\n",
    "character_metadata['Actor date of birth'] = pd.to_datetime(character_metadata['Actor date of birth'],format='%Y-%m-%d').dt.year\n",
    "'''"
   ]
  },
  {
   "cell_type": "code",
   "execution_count": null,
   "metadata": {},
   "outputs": [],
   "source": []
  },
  {
   "cell_type": "markdown",
   "metadata": {},
   "source": [
    "## additional datasets preprocess "
   ]
  },
  {
   "cell_type": "code",
<<<<<<< HEAD
   "execution_count": null,
=======
   "execution_count": 198,
>>>>>>> 66233b9cf7d09787845ba636b900f1f47b91ce3d
   "metadata": {},
   "outputs": [],
   "source": [
    "### PATHs for dataset:\n",
    "PATH_DATA = 'data/'\n",
    "PATH_MOVIE_OSCAR_WINNERS = PATH_DATA+'oscar_winners.csv'\n",
    "PATH_MOVIE_APPRECIATION = PATH_DATA+'movie_appreciation_metadata.csv'"
   ]
  },
  {
   "cell_type": "code",
<<<<<<< HEAD
   "execution_count": null,
=======
   "execution_count": 233,
>>>>>>> 66233b9cf7d09787845ba636b900f1f47b91ce3d
   "metadata": {},
   "outputs": [
    {
     "data": {
      "text/html": [
       "<div>\n",
       "<style scoped>\n",
       "    .dataframe tbody tr th:only-of-type {\n",
       "        vertical-align: middle;\n",
       "    }\n",
       "\n",
       "    .dataframe tbody tr th {\n",
       "        vertical-align: top;\n",
       "    }\n",
       "\n",
       "    .dataframe thead th {\n",
       "        text-align: right;\n",
       "    }\n",
       "</style>\n",
       "<table border=\"1\" class=\"dataframe\">\n",
       "  <thead>\n",
       "    <tr style=\"text-align: right;\">\n",
       "      <th></th>\n",
       "      <th>movie_title</th>\n",
       "      <th>director name</th>\n",
       "      <th>duration</th>\n",
       "      <th>country</th>\n",
       "      <th>actor_1_name</th>\n",
       "      <th>actor_2_name</th>\n",
       "      <th>actor_3_name</th>\n",
       "      <th>movie_facebook_likes</th>\n",
       "      <th>actor_1_facebook_likes</th>\n",
       "      <th>actor_2_facebook_likes</th>\n",
       "      <th>...</th>\n",
       "      <th>genres</th>\n",
       "      <th>num_voted_users</th>\n",
       "      <th>cast_total_facebook_likes</th>\n",
       "      <th>facenumber_in_poster</th>\n",
       "      <th>num_user_for_reviews</th>\n",
       "      <th>content_rating</th>\n",
       "      <th>budget</th>\n",
       "      <th>title_year</th>\n",
       "      <th>imdb_score</th>\n",
       "      <th>aspect_ratio</th>\n",
       "    </tr>\n",
       "  </thead>\n",
       "  <tbody>\n",
       "    <tr>\n",
       "      <th>0</th>\n",
       "      <td>Avatar</td>\n",
       "      <td>NaN</td>\n",
       "      <td>178.0</td>\n",
       "      <td>USA</td>\n",
       "      <td>CCH Pounder</td>\n",
       "      <td>Joel David Moore</td>\n",
       "      <td>Wes Studi</td>\n",
       "      <td>33000</td>\n",
       "      <td>1000.0</td>\n",
       "      <td>936.0</td>\n",
       "      <td>...</td>\n",
       "      <td>Action|Adventure|Fantasy|Sci-Fi</td>\n",
       "      <td>886204</td>\n",
       "      <td>4834</td>\n",
       "      <td>0.0</td>\n",
       "      <td>3054.0</td>\n",
       "      <td>PG-13</td>\n",
       "      <td>237000000.0</td>\n",
       "      <td>2009.0</td>\n",
       "      <td>7.9</td>\n",
       "      <td>1.78</td>\n",
       "    </tr>\n",
       "    <tr>\n",
       "      <th>1</th>\n",
       "      <td>Pirates of the Caribbean: At World's End</td>\n",
       "      <td>NaN</td>\n",
       "      <td>169.0</td>\n",
       "      <td>USA</td>\n",
       "      <td>Johnny Depp</td>\n",
       "      <td>Orlando Bloom</td>\n",
       "      <td>Jack Davenport</td>\n",
       "      <td>0</td>\n",
       "      <td>40000.0</td>\n",
       "      <td>5000.0</td>\n",
       "      <td>...</td>\n",
       "      <td>Action|Adventure|Fantasy</td>\n",
       "      <td>471220</td>\n",
       "      <td>48350</td>\n",
       "      <td>0.0</td>\n",
       "      <td>1238.0</td>\n",
       "      <td>PG-13</td>\n",
       "      <td>300000000.0</td>\n",
       "      <td>2007.0</td>\n",
       "      <td>7.1</td>\n",
       "      <td>2.35</td>\n",
       "    </tr>\n",
       "    <tr>\n",
       "      <th>2</th>\n",
       "      <td>Spectre</td>\n",
       "      <td>NaN</td>\n",
       "      <td>148.0</td>\n",
       "      <td>UK</td>\n",
       "      <td>Christoph Waltz</td>\n",
       "      <td>Rory Kinnear</td>\n",
       "      <td>Stephanie Sigman</td>\n",
       "      <td>85000</td>\n",
       "      <td>11000.0</td>\n",
       "      <td>393.0</td>\n",
       "      <td>...</td>\n",
       "      <td>Action|Adventure|Thriller</td>\n",
       "      <td>275868</td>\n",
       "      <td>11700</td>\n",
       "      <td>1.0</td>\n",
       "      <td>994.0</td>\n",
       "      <td>PG-13</td>\n",
       "      <td>245000000.0</td>\n",
       "      <td>2015.0</td>\n",
       "      <td>6.8</td>\n",
       "      <td>2.35</td>\n",
       "    </tr>\n",
       "    <tr>\n",
       "      <th>3</th>\n",
       "      <td>The Dark Knight Rises</td>\n",
       "      <td>NaN</td>\n",
       "      <td>164.0</td>\n",
       "      <td>USA</td>\n",
       "      <td>Tom Hardy</td>\n",
       "      <td>Christian Bale</td>\n",
       "      <td>Joseph Gordon-Levitt</td>\n",
       "      <td>164000</td>\n",
       "      <td>27000.0</td>\n",
       "      <td>23000.0</td>\n",
       "      <td>...</td>\n",
       "      <td>Action|Thriller</td>\n",
       "      <td>1144337</td>\n",
       "      <td>106759</td>\n",
       "      <td>0.0</td>\n",
       "      <td>2701.0</td>\n",
       "      <td>PG-13</td>\n",
       "      <td>250000000.0</td>\n",
       "      <td>2012.0</td>\n",
       "      <td>8.5</td>\n",
       "      <td>2.35</td>\n",
       "    </tr>\n",
       "    <tr>\n",
       "      <th>4</th>\n",
       "      <td>Star Wars: Episode VII - The Force Awakens    ...</td>\n",
       "      <td>NaN</td>\n",
       "      <td>NaN</td>\n",
       "      <td>NaN</td>\n",
       "      <td>Doug Walker</td>\n",
       "      <td>Rob Walker</td>\n",
       "      <td>NaN</td>\n",
       "      <td>0</td>\n",
       "      <td>131.0</td>\n",
       "      <td>12.0</td>\n",
       "      <td>...</td>\n",
       "      <td>Documentary</td>\n",
       "      <td>8</td>\n",
       "      <td>143</td>\n",
       "      <td>0.0</td>\n",
       "      <td>NaN</td>\n",
       "      <td>NaN</td>\n",
       "      <td>NaN</td>\n",
       "      <td>NaN</td>\n",
       "      <td>7.1</td>\n",
       "      <td>NaN</td>\n",
       "    </tr>\n",
       "    <tr>\n",
       "      <th>...</th>\n",
       "      <td>...</td>\n",
       "      <td>...</td>\n",
       "      <td>...</td>\n",
       "      <td>...</td>\n",
       "      <td>...</td>\n",
       "      <td>...</td>\n",
       "      <td>...</td>\n",
       "      <td>...</td>\n",
       "      <td>...</td>\n",
       "      <td>...</td>\n",
       "      <td>...</td>\n",
       "      <td>...</td>\n",
       "      <td>...</td>\n",
       "      <td>...</td>\n",
       "      <td>...</td>\n",
       "      <td>...</td>\n",
       "      <td>...</td>\n",
       "      <td>...</td>\n",
       "      <td>...</td>\n",
       "      <td>...</td>\n",
       "      <td>...</td>\n",
       "    </tr>\n",
       "    <tr>\n",
       "      <th>5038</th>\n",
       "      <td>Signed Sealed Delivered</td>\n",
       "      <td>NaN</td>\n",
       "      <td>87.0</td>\n",
       "      <td>Canada</td>\n",
       "      <td>Eric Mabius</td>\n",
       "      <td>Daphne Zuniga</td>\n",
       "      <td>Crystal Lowe</td>\n",
       "      <td>84</td>\n",
       "      <td>637.0</td>\n",
       "      <td>470.0</td>\n",
       "      <td>...</td>\n",
       "      <td>Comedy|Drama</td>\n",
       "      <td>629</td>\n",
       "      <td>2283</td>\n",
       "      <td>2.0</td>\n",
       "      <td>6.0</td>\n",
       "      <td>NaN</td>\n",
       "      <td>NaN</td>\n",
       "      <td>2013.0</td>\n",
       "      <td>7.7</td>\n",
       "      <td>NaN</td>\n",
       "    </tr>\n",
       "    <tr>\n",
       "      <th>5039</th>\n",
       "      <td>The Following</td>\n",
       "      <td>NaN</td>\n",
       "      <td>43.0</td>\n",
       "      <td>USA</td>\n",
       "      <td>Natalie Zea</td>\n",
       "      <td>Valorie Curry</td>\n",
       "      <td>Sam Underwood</td>\n",
       "      <td>32000</td>\n",
       "      <td>841.0</td>\n",
       "      <td>593.0</td>\n",
       "      <td>...</td>\n",
       "      <td>Crime|Drama|Mystery|Thriller</td>\n",
       "      <td>73839</td>\n",
       "      <td>1753</td>\n",
       "      <td>1.0</td>\n",
       "      <td>359.0</td>\n",
       "      <td>TV-14</td>\n",
       "      <td>NaN</td>\n",
       "      <td>NaN</td>\n",
       "      <td>7.5</td>\n",
       "      <td>16.00</td>\n",
       "    </tr>\n",
       "    <tr>\n",
       "      <th>5040</th>\n",
       "      <td>A Plague So Pleasant</td>\n",
       "      <td>NaN</td>\n",
       "      <td>76.0</td>\n",
       "      <td>USA</td>\n",
       "      <td>Eva Boehnke</td>\n",
       "      <td>Maxwell Moody</td>\n",
       "      <td>David Chandler</td>\n",
       "      <td>16</td>\n",
       "      <td>0.0</td>\n",
       "      <td>0.0</td>\n",
       "      <td>...</td>\n",
       "      <td>Drama|Horror|Thriller</td>\n",
       "      <td>38</td>\n",
       "      <td>0</td>\n",
       "      <td>0.0</td>\n",
       "      <td>3.0</td>\n",
       "      <td>NaN</td>\n",
       "      <td>1400.0</td>\n",
       "      <td>2013.0</td>\n",
       "      <td>6.3</td>\n",
       "      <td>NaN</td>\n",
       "    </tr>\n",
       "    <tr>\n",
       "      <th>5041</th>\n",
       "      <td>Shanghai Calling</td>\n",
       "      <td>NaN</td>\n",
       "      <td>100.0</td>\n",
       "      <td>USA</td>\n",
       "      <td>Alan Ruck</td>\n",
       "      <td>Daniel Henney</td>\n",
       "      <td>Eliza Coupe</td>\n",
       "      <td>660</td>\n",
       "      <td>946.0</td>\n",
       "      <td>719.0</td>\n",
       "      <td>...</td>\n",
       "      <td>Comedy|Drama|Romance</td>\n",
       "      <td>1255</td>\n",
       "      <td>2386</td>\n",
       "      <td>5.0</td>\n",
       "      <td>9.0</td>\n",
       "      <td>PG-13</td>\n",
       "      <td>NaN</td>\n",
       "      <td>2012.0</td>\n",
       "      <td>6.3</td>\n",
       "      <td>2.35</td>\n",
       "    </tr>\n",
       "    <tr>\n",
       "      <th>5042</th>\n",
       "      <td>My Date with Drew</td>\n",
       "      <td>NaN</td>\n",
       "      <td>90.0</td>\n",
       "      <td>USA</td>\n",
       "      <td>John August</td>\n",
       "      <td>Brian Herzlinger</td>\n",
       "      <td>Jon Gunn</td>\n",
       "      <td>456</td>\n",
       "      <td>86.0</td>\n",
       "      <td>23.0</td>\n",
       "      <td>...</td>\n",
       "      <td>Documentary</td>\n",
       "      <td>4285</td>\n",
       "      <td>163</td>\n",
       "      <td>0.0</td>\n",
       "      <td>84.0</td>\n",
       "      <td>PG</td>\n",
       "      <td>1100.0</td>\n",
       "      <td>2004.0</td>\n",
       "      <td>6.6</td>\n",
       "      <td>1.85</td>\n",
       "    </tr>\n",
       "  </tbody>\n",
       "</table>\n",
       "<p>5043 rows × 23 columns</p>\n",
       "</div>"
      ],
      "text/plain": [
       "                                            movie_title  director name  \\\n",
       "0                                               Avatar             NaN   \n",
       "1             Pirates of the Caribbean: At World's End             NaN   \n",
       "2                                              Spectre             NaN   \n",
       "3                                The Dark Knight Rises             NaN   \n",
       "4     Star Wars: Episode VII - The Force Awakens    ...            NaN   \n",
       "...                                                 ...            ...   \n",
       "5038                           Signed Sealed Delivered             NaN   \n",
       "5039                         The Following                         NaN   \n",
       "5040                              A Plague So Pleasant             NaN   \n",
       "5041                                  Shanghai Calling             NaN   \n",
       "5042                                 My Date with Drew             NaN   \n",
       "\n",
       "      duration country     actor_1_name      actor_2_name  \\\n",
       "0        178.0     USA      CCH Pounder  Joel David Moore   \n",
       "1        169.0     USA      Johnny Depp     Orlando Bloom   \n",
       "2        148.0      UK  Christoph Waltz      Rory Kinnear   \n",
       "3        164.0     USA        Tom Hardy    Christian Bale   \n",
       "4          NaN     NaN      Doug Walker        Rob Walker   \n",
       "...        ...     ...              ...               ...   \n",
       "5038      87.0  Canada      Eric Mabius     Daphne Zuniga   \n",
       "5039      43.0     USA      Natalie Zea     Valorie Curry   \n",
       "5040      76.0     USA      Eva Boehnke     Maxwell Moody   \n",
       "5041     100.0     USA        Alan Ruck     Daniel Henney   \n",
       "5042      90.0     USA      John August  Brian Herzlinger   \n",
       "\n",
       "              actor_3_name  movie_facebook_likes  actor_1_facebook_likes  \\\n",
       "0                Wes Studi                 33000                  1000.0   \n",
       "1           Jack Davenport                     0                 40000.0   \n",
       "2         Stephanie Sigman                 85000                 11000.0   \n",
       "3     Joseph Gordon-Levitt                164000                 27000.0   \n",
       "4                      NaN                     0                   131.0   \n",
       "...                    ...                   ...                     ...   \n",
       "5038          Crystal Lowe                    84                   637.0   \n",
       "5039         Sam Underwood                 32000                   841.0   \n",
       "5040        David Chandler                    16                     0.0   \n",
       "5041           Eliza Coupe                   660                   946.0   \n",
       "5042              Jon Gunn                   456                    86.0   \n",
       "\n",
       "      actor_2_facebook_likes  ...                           genres  \\\n",
       "0                      936.0  ...  Action|Adventure|Fantasy|Sci-Fi   \n",
       "1                     5000.0  ...         Action|Adventure|Fantasy   \n",
       "2                      393.0  ...        Action|Adventure|Thriller   \n",
       "3                    23000.0  ...                  Action|Thriller   \n",
       "4                       12.0  ...                      Documentary   \n",
       "...                      ...  ...                              ...   \n",
       "5038                   470.0  ...                     Comedy|Drama   \n",
       "5039                   593.0  ...     Crime|Drama|Mystery|Thriller   \n",
       "5040                     0.0  ...            Drama|Horror|Thriller   \n",
       "5041                   719.0  ...             Comedy|Drama|Romance   \n",
       "5042                    23.0  ...                      Documentary   \n",
       "\n",
       "      num_voted_users  cast_total_facebook_likes facenumber_in_poster  \\\n",
       "0              886204                       4834                  0.0   \n",
       "1              471220                      48350                  0.0   \n",
       "2              275868                      11700                  1.0   \n",
       "3             1144337                     106759                  0.0   \n",
       "4                   8                        143                  0.0   \n",
       "...               ...                        ...                  ...   \n",
       "5038              629                       2283                  2.0   \n",
       "5039            73839                       1753                  1.0   \n",
       "5040               38                          0                  0.0   \n",
       "5041             1255                       2386                  5.0   \n",
       "5042             4285                        163                  0.0   \n",
       "\n",
       "      num_user_for_reviews  content_rating       budget  title_year  \\\n",
       "0                   3054.0           PG-13  237000000.0      2009.0   \n",
       "1                   1238.0           PG-13  300000000.0      2007.0   \n",
       "2                    994.0           PG-13  245000000.0      2015.0   \n",
       "3                   2701.0           PG-13  250000000.0      2012.0   \n",
       "4                      NaN             NaN          NaN         NaN   \n",
       "...                    ...             ...          ...         ...   \n",
       "5038                   6.0             NaN          NaN      2013.0   \n",
       "5039                 359.0           TV-14          NaN         NaN   \n",
       "5040                   3.0             NaN       1400.0      2013.0   \n",
       "5041                   9.0           PG-13          NaN      2012.0   \n",
       "5042                  84.0              PG       1100.0      2004.0   \n",
       "\n",
       "     imdb_score  aspect_ratio  \n",
       "0           7.9          1.78  \n",
       "1           7.1          2.35  \n",
       "2           6.8          2.35  \n",
       "3           8.5          2.35  \n",
       "4           7.1           NaN  \n",
       "...         ...           ...  \n",
       "5038        7.7           NaN  \n",
       "5039        7.5         16.00  \n",
       "5040        6.3           NaN  \n",
       "5041        6.3          2.35  \n",
       "5042        6.6          1.85  \n",
       "\n",
       "[5043 rows x 23 columns]"
      ]
     },
<<<<<<< HEAD
     "execution_count": 86,
=======
     "execution_count": 233,
>>>>>>> 66233b9cf7d09787845ba636b900f1f47b91ce3d
     "metadata": {},
     "output_type": "execute_result"
    }
   ],
   "source": [
    "'''movie_headers = ['Wikipedia_movie_ID', 'Freebase_movie_ID', 'Movie_name','Movie_release_date','Movie_box_office_revenue',\n",
    "                 'Movie_runtime','Movie_languages','Movie_countries','Movie_genres']\n",
    "plot_headers = ['Wikipedia_movie_ID','Plot_Summary']\n",
    "character_headers = ['Wikipedia_movie_ID', 'Freebase_movie_ID','Movie_release_date','Character_name','Actor_date_of_birth',\n",
    "                     'Actor_gender','Actor_height','Actor_ethnicity','Actor_name','Actor_age_at_movie_release',\n",
    "                     'Freebase_character_actor_map_ID','Freebase_character_ID','Freebase_actor_ID']\n",
    "name_clusters_headers=['Character_name', 'id']\n",
    "name_clusters_headers=['Character_name', 'id']\n",
    "tv_tropes_cluster_headers=['Trope','Character_name','movie','id','actor']'''\n",
    "\n",
    "movie_appreciation_metadata = pd.read_csv(PATH_MOVIE_APPRECIATION,header=0)\n",
    "movie_appreciation_metadata.drop(['color','movie_imdb_link'], axis=1)\n",
    "new_cols_apprec=['movie_title','director name','duration','country','actor_1_name','actor_2_name','actor_3_name',\n",
    "                    'movie_facebook_likes','actor_1_facebook_likes','actor_2_facebook_likes','actor_3_facebook_likes',\n",
    "                    'director_facebook_likes','gross','genres','num_voted_users','cast_total_facebook_likes',\n",
    "                    'facenumber_in_poster','num_user_for_reviews','content_rating','budget',\n",
    "                    'title_year','imdb_score','aspect_ratio'\n",
    "                    ]\n",
    "movie_apprciation_metadata=movie_appreciation_metadata.reindex(columns=new_cols_apprec)\n",
    "movie_apprciation_metadata"
   ]
  },
  {
   "cell_type": "code",
<<<<<<< HEAD
   "execution_count": null,
=======
   "execution_count": 237,
>>>>>>> 66233b9cf7d09787845ba636b900f1f47b91ce3d
   "metadata": {},
   "outputs": [
    {
     "data": {
      "text/html": [
       "<div>\n",
       "<style scoped>\n",
       "    .dataframe tbody tr th:only-of-type {\n",
       "        vertical-align: middle;\n",
       "    }\n",
       "\n",
       "    .dataframe tbody tr th {\n",
       "        vertical-align: top;\n",
       "    }\n",
       "\n",
       "    .dataframe thead th {\n",
       "        text-align: right;\n",
       "    }\n",
       "</style>\n",
       "<table border=\"1\" class=\"dataframe\">\n",
       "  <thead>\n",
       "    <tr style=\"text-align: right;\">\n",
       "      <th></th>\n",
       "      <th>Year</th>\n",
       "      <th>Ceremony</th>\n",
       "      <th>Award</th>\n",
       "      <th>Winner</th>\n",
       "      <th>Name</th>\n",
       "      <th>Film</th>\n",
       "    </tr>\n",
       "  </thead>\n",
       "  <tbody>\n",
       "    <tr>\n",
       "      <th>0</th>\n",
       "      <td>1928</td>\n",
       "      <td>1</td>\n",
       "      <td>Actor</td>\n",
       "      <td>NaN</td>\n",
       "      <td>Richard Barthelmess</td>\n",
       "      <td>The Noose</td>\n",
       "    </tr>\n",
       "    <tr>\n",
       "      <th>1</th>\n",
       "      <td>1928</td>\n",
       "      <td>1</td>\n",
       "      <td>Actor</td>\n",
       "      <td>1.0</td>\n",
       "      <td>Emil Jannings</td>\n",
       "      <td>The Last Command</td>\n",
       "    </tr>\n",
       "    <tr>\n",
       "      <th>2</th>\n",
       "      <td>1928</td>\n",
       "      <td>1</td>\n",
       "      <td>Actress</td>\n",
       "      <td>NaN</td>\n",
       "      <td>Louise Dresser</td>\n",
       "      <td>A Ship Comes In</td>\n",
       "    </tr>\n",
       "    <tr>\n",
       "      <th>3</th>\n",
       "      <td>1928</td>\n",
       "      <td>1</td>\n",
       "      <td>Actress</td>\n",
       "      <td>1.0</td>\n",
       "      <td>Janet Gaynor</td>\n",
       "      <td>7th Heaven</td>\n",
       "    </tr>\n",
       "    <tr>\n",
       "      <th>4</th>\n",
       "      <td>1928</td>\n",
       "      <td>1</td>\n",
       "      <td>Actress</td>\n",
       "      <td>NaN</td>\n",
       "      <td>Gloria Swanson</td>\n",
       "      <td>Sadie Thompson</td>\n",
       "    </tr>\n",
       "    <tr>\n",
       "      <th>...</th>\n",
       "      <td>...</td>\n",
       "      <td>...</td>\n",
       "      <td>...</td>\n",
       "      <td>...</td>\n",
       "      <td>...</td>\n",
       "      <td>...</td>\n",
       "    </tr>\n",
       "    <tr>\n",
       "      <th>9959</th>\n",
       "      <td>2015</td>\n",
       "      <td>88</td>\n",
       "      <td>Writing (Original Screenplay)</td>\n",
       "      <td>1.0</td>\n",
       "      <td>Spotlight</td>\n",
       "      <td>Written by Josh Singer &amp; Tom McCarthy</td>\n",
       "    </tr>\n",
       "    <tr>\n",
       "      <th>9960</th>\n",
       "      <td>2015</td>\n",
       "      <td>88</td>\n",
       "      <td>Writing (Original Screenplay)</td>\n",
       "      <td>NaN</td>\n",
       "      <td>Straight Outta Compton</td>\n",
       "      <td>Screenplay by Jonathan Herman and Andrea Berlo...</td>\n",
       "    </tr>\n",
       "    <tr>\n",
       "      <th>9961</th>\n",
       "      <td>2015</td>\n",
       "      <td>88</td>\n",
       "      <td>Jean Hersholt Humanitarian Award</td>\n",
       "      <td>1.0</td>\n",
       "      <td>Debbie Reynolds</td>\n",
       "      <td>NaN</td>\n",
       "    </tr>\n",
       "    <tr>\n",
       "      <th>9962</th>\n",
       "      <td>2015</td>\n",
       "      <td>88</td>\n",
       "      <td>Honorary Award</td>\n",
       "      <td>1.0</td>\n",
       "      <td>Spike Lee</td>\n",
       "      <td>NaN</td>\n",
       "    </tr>\n",
       "    <tr>\n",
       "      <th>9963</th>\n",
       "      <td>2015</td>\n",
       "      <td>88</td>\n",
       "      <td>Honorary Award</td>\n",
       "      <td>1.0</td>\n",
       "      <td>Gena Rowlands</td>\n",
       "      <td>NaN</td>\n",
       "    </tr>\n",
       "  </tbody>\n",
       "</table>\n",
       "<p>9964 rows × 6 columns</p>\n",
       "</div>"
      ],
      "text/plain": [
       "      Year  Ceremony                             Award  Winner  \\\n",
       "0     1928         1                             Actor     NaN   \n",
       "1     1928         1                             Actor     1.0   \n",
       "2     1928         1                           Actress     NaN   \n",
       "3     1928         1                           Actress     1.0   \n",
       "4     1928         1                           Actress     NaN   \n",
       "...    ...       ...                               ...     ...   \n",
       "9959  2015        88     Writing (Original Screenplay)     1.0   \n",
       "9960  2015        88     Writing (Original Screenplay)     NaN   \n",
       "9961  2015        88  Jean Hersholt Humanitarian Award     1.0   \n",
       "9962  2015        88                    Honorary Award     1.0   \n",
       "9963  2015        88                    Honorary Award     1.0   \n",
       "\n",
       "                        Name  \\\n",
       "0        Richard Barthelmess   \n",
       "1              Emil Jannings   \n",
       "2             Louise Dresser   \n",
       "3               Janet Gaynor   \n",
       "4             Gloria Swanson   \n",
       "...                      ...   \n",
       "9959               Spotlight   \n",
       "9960  Straight Outta Compton   \n",
       "9961         Debbie Reynolds   \n",
       "9962               Spike Lee   \n",
       "9963           Gena Rowlands   \n",
       "\n",
       "                                                   Film  \n",
       "0                                             The Noose  \n",
       "1                                      The Last Command  \n",
       "2                                       A Ship Comes In  \n",
       "3                                            7th Heaven  \n",
       "4                                        Sadie Thompson  \n",
       "...                                                 ...  \n",
       "9959              Written by Josh Singer & Tom McCarthy  \n",
       "9960  Screenplay by Jonathan Herman and Andrea Berlo...  \n",
       "9961                                                NaN  \n",
       "9962                                                NaN  \n",
       "9963                                                NaN  \n",
       "\n",
       "[9964 rows x 6 columns]"
      ]
     },
<<<<<<< HEAD
     "execution_count": 87,
=======
     "execution_count": 237,
>>>>>>> 66233b9cf7d09787845ba636b900f1f47b91ce3d
     "metadata": {},
     "output_type": "execute_result"
    }
   ],
   "source": [
    "movie_oscar_winners=pd.read_csv(PATH_MOVIE_OSCAR_WINNERS,header=0)\n",
    "movie_oscar_winners=movie_oscar_winners.replace('1927/1928','1928').replace('1928/1929','1929').replace(\n",
    "    '1929/1930','1930').replace('1930/1931','1931').replace('1931/1932','1932').replace('1932/1933','1933')\n",
    "#c'est vraiment dégeulasse comme manière de faire \n",
    "movie_oscar_winners"
   ]
  },
  {
   "cell_type": "code",
<<<<<<< HEAD
   "execution_count": null,
=======
   "execution_count": 229,
>>>>>>> 66233b9cf7d09787845ba636b900f1f47b91ce3d
   "metadata": {},
   "outputs": [
    {
     "data": {
      "text/plain": [
       "color                         True\n",
       "director_name                 True\n",
       "num_critic_for_reviews        True\n",
       "duration                      True\n",
       "director_facebook_likes       True\n",
       "actor_3_facebook_likes        True\n",
       "actor_2_name                  True\n",
       "actor_1_facebook_likes        True\n",
       "gross                         True\n",
       "genres                       False\n",
       "actor_1_name                  True\n",
       "movie_title                  False\n",
       "num_voted_users              False\n",
       "cast_total_facebook_likes    False\n",
       "actor_3_name                  True\n",
       "facenumber_in_poster          True\n",
       "plot_keywords                 True\n",
       "movie_imdb_link              False\n",
       "num_user_for_reviews          True\n",
       "language                      True\n",
       "country                       True\n",
       "content_rating                True\n",
       "budget                        True\n",
       "title_year                    True\n",
       "actor_2_facebook_likes        True\n",
       "imdb_score                   False\n",
       "aspect_ratio                  True\n",
       "movie_facebook_likes         False\n",
       "dtype: bool"
      ]
     },
<<<<<<< HEAD
     "execution_count": 88,
=======
     "execution_count": 229,
>>>>>>> 66233b9cf7d09787845ba636b900f1f47b91ce3d
     "metadata": {},
     "output_type": "execute_result"
    }
   ],
   "source": [
    "movie_appreciation_metadata.isna().any()"
   ]
  },
  {
   "cell_type": "code",
   "execution_count": null,
   "metadata": {},
   "outputs": [
    {
     "name": "stdout",
     "output_type": "stream",
     "text": [
      "Sum of NaN in each feature : \n"
     ]
    },
    {
     "data": {
      "text/plain": [
       "color                         19\n",
       "director_name                104\n",
       "num_critic_for_reviews        50\n",
       "duration                      15\n",
       "director_facebook_likes      104\n",
       "actor_3_facebook_likes        23\n",
       "actor_2_name                  13\n",
       "actor_1_facebook_likes         7\n",
       "gross                        884\n",
       "genres                         0\n",
       "actor_1_name                   7\n",
       "movie_title                    0\n",
       "num_voted_users                0\n",
       "cast_total_facebook_likes      0\n",
       "actor_3_name                  23\n",
       "facenumber_in_poster          13\n",
       "plot_keywords                153\n",
       "movie_imdb_link                0\n",
       "num_user_for_reviews          21\n",
       "language                      12\n",
       "country                        5\n",
       "content_rating               303\n",
       "budget                       492\n",
       "title_year                   108\n",
       "actor_2_facebook_likes        13\n",
       "imdb_score                     0\n",
       "aspect_ratio                 329\n",
       "movie_facebook_likes           0\n",
       "dtype: int64"
      ]
     },
<<<<<<< HEAD
     "execution_count": 89,
=======
     "execution_count": 162,
>>>>>>> 66233b9cf7d09787845ba636b900f1f47b91ce3d
     "metadata": {},
     "output_type": "execute_result"
    },
    {
     "data": {
<<<<<<< HEAD
      "image/png": "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",
      "text/plain": [
       "<Figure size 640x480 with 2 Axes>"
=======
      "image/png": "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",
      "text/plain": [
       "<Figure size 640x480 with 2 Axes>"
      ]
     },
     "metadata": {},
     "output_type": "display_data"
    }
   ],
   "source": [
    "ax=sns.heatmap(movie_appreciation_metadata.isna(), yticklabels=False)\n",
    "ax.set(xlabel=\"Features\", ylabel=\"\")\n",
    "print('Sum of NaN in each feature : ')\n",
    "movie_appreciation_metadata.isna().sum(axis = 0)"
   ]
  },
  {
   "cell_type": "code",
   "execution_count": 202,
   "metadata": {},
   "outputs": [
    {
     "data": {
      "text/plain": [
       "Year        False\n",
       "Ceremony    False\n",
       "Award       False\n",
       "Winner       True\n",
       "Name        False\n",
       "Film         True\n",
       "dtype: bool"
      ]
     },
     "execution_count": 202,
     "metadata": {},
     "output_type": "execute_result"
    }
   ],
   "source": [
    "movie_oscar_winners.isna().any()"
   ]
  },
  {
   "cell_type": "markdown",
   "metadata": {},
   "source": [
    "We do not consider the column 'winner' as it contains indicators ( 1 and 0) to check wether a movie, an actor, a director has won the oscar. "
   ]
  },
  {
   "cell_type": "code",
   "execution_count": 236,
   "metadata": {},
   "outputs": [
    {
     "name": "stdout",
     "output_type": "stream",
     "text": [
      "Sum of NaN in each feature : \n"
     ]
    },
    {
     "data": {
      "text/plain": [
       "Year          0\n",
       "Ceremony      0\n",
       "Award         0\n",
       "Name          0\n",
       "Film        333\n",
       "dtype: int64"
      ]
     },
     "execution_count": 236,
     "metadata": {},
     "output_type": "execute_result"
    },
    {
     "data": {
      "image/png": "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",
      "text/plain": [
       "<Figure size 640x480 with 2 Axes>"
      ]
     },
     "metadata": {},
     "output_type": "display_data"
    }
   ],
   "source": [
    "ax=sns.heatmap(movie_oscar_winners[['Year','Ceremony','Award','Name','Film']].isna(), yticklabels=False)\n",
    "ax.set(xlabel=\"Features\", ylabel=\"\")\n",
    "print('Sum of NaN in each feature : ')\n",
    "movie_oscar_winners[['Year','Ceremony','Award','Name','Film']].isna().sum(axis = 0)"
   ]
  },
  {
   "cell_type": "markdown",
   "metadata": {},
   "source": [
    "## First analyses gender related "
   ]
  },
  {
   "cell_type": "code",
   "execution_count": null,
   "metadata": {},
   "outputs": [
    {
     "data": {
      "image/png": "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",
      "text/plain": [
       "<Figure size 640x480 with 1 Axes>"
>>>>>>> 66233b9cf7d09787845ba636b900f1f47b91ce3d
      ]
     },
     "metadata": {},
     "output_type": "display_data"
    }
   ],
   "source": [
    "ax=sns.heatmap(movie_appreciation_metadata.isna(), yticklabels=False)\n",
    "ax.set(xlabel=\"Features\", ylabel=\"\")\n",
    "print('Sum of NaN in each feature : ')\n",
    "movie_appreciation_metadata.isna().sum(axis = 0)"
   ]
  },
  {
   "cell_type": "code",
   "execution_count": null,
   "metadata": {},
   "outputs": [
    {
     "data": {
      "text/plain": [
       "Year        False\n",
       "Ceremony    False\n",
       "Award       False\n",
       "Winner       True\n",
       "Name        False\n",
       "Film         True\n",
       "dtype: bool"
      ]
     },
     "execution_count": 90,
     "metadata": {},
     "output_type": "execute_result"
    }
   ],
   "source": [
    "movie_oscar_winners.isna().any()"
   ]
  },
  {
   "cell_type": "markdown",
   "metadata": {},
   "source": [
    "We do not consider the column 'winner' as it contains indicators ( 1 and 0) to check wether a movie, an actor, a director has won the oscar. "
   ]
  },
  {
   "cell_type": "code",
   "execution_count": null,
   "metadata": {},
   "outputs": [
    {
     "name": "stdout",
     "output_type": "stream",
     "text": [
      "Sum of NaN in each feature : \n"
     ]
    },
    {
     "data": {
      "text/plain": [
       "Year          0\n",
       "Ceremony      0\n",
       "Award         0\n",
       "Name          0\n",
       "Film        333\n",
       "dtype: int64"
      ]
     },
     "execution_count": 91,
     "metadata": {},
     "output_type": "execute_result"
    },
    {
     "data": {
      "image/png": "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",
      "text/plain": [
       "<Figure size 640x480 with 2 Axes>"
      ]
     },
     "metadata": {},
     "output_type": "display_data"
    }
   ],
   "source": [
    "ax=sns.heatmap(movie_oscar_winners[['Year','Ceremony','Award','Name','Film']].isna(), yticklabels=False)\n",
    "ax.set(xlabel=\"Features\", ylabel=\"\")\n",
    "print('Sum of NaN in each feature : ')\n",
    "movie_oscar_winners[['Year','Ceremony','Award','Name','Film']].isna().sum(axis = 0)"
   ]
  },
  {
   "cell_type": "markdown",
   "metadata": {},
   "source": [
    "## First analyses gender related "
   ]
  },
  {
   "cell_type": "code",
   "execution_count": null,
   "metadata": {},
   "outputs": [
    {
     "ename": "KeyError",
     "evalue": "'Actor gender'",
     "output_type": "error",
     "traceback": [
      "\u001b[0;31m---------------------------------------------------------------------------\u001b[0m",
      "\u001b[0;31mKeyError\u001b[0m                                  Traceback (most recent call last)",
      "File \u001b[0;32m~/Library/Python/3.9/lib/python/site-packages/pandas/core/indexes/base.py:3803\u001b[0m, in \u001b[0;36mIndex.get_loc\u001b[0;34m(self, key, method, tolerance)\u001b[0m\n\u001b[1;32m   3802\u001b[0m \u001b[39mtry\u001b[39;00m:\n\u001b[0;32m-> 3803\u001b[0m     \u001b[39mreturn\u001b[39;00m \u001b[39mself\u001b[39;49m\u001b[39m.\u001b[39;49m_engine\u001b[39m.\u001b[39;49mget_loc(casted_key)\n\u001b[1;32m   3804\u001b[0m \u001b[39mexcept\u001b[39;00m \u001b[39mKeyError\u001b[39;00m \u001b[39mas\u001b[39;00m err:\n",
      "File \u001b[0;32m~/Library/Python/3.9/lib/python/site-packages/pandas/_libs/index.pyx:138\u001b[0m, in \u001b[0;36mpandas._libs.index.IndexEngine.get_loc\u001b[0;34m()\u001b[0m\n",
      "File \u001b[0;32m~/Library/Python/3.9/lib/python/site-packages/pandas/_libs/index.pyx:165\u001b[0m, in \u001b[0;36mpandas._libs.index.IndexEngine.get_loc\u001b[0;34m()\u001b[0m\n",
      "File \u001b[0;32mpandas/_libs/hashtable_class_helper.pxi:5745\u001b[0m, in \u001b[0;36mpandas._libs.hashtable.PyObjectHashTable.get_item\u001b[0;34m()\u001b[0m\n",
      "File \u001b[0;32mpandas/_libs/hashtable_class_helper.pxi:5753\u001b[0m, in \u001b[0;36mpandas._libs.hashtable.PyObjectHashTable.get_item\u001b[0;34m()\u001b[0m\n",
      "\u001b[0;31mKeyError\u001b[0m: 'Actor gender'",
      "\nThe above exception was the direct cause of the following exception:\n",
      "\u001b[0;31mKeyError\u001b[0m                                  Traceback (most recent call last)",
      "Cell \u001b[0;32mIn [92], line 1\u001b[0m\n\u001b[0;32m----> 1\u001b[0m fem_act \u001b[39m=\u001b[39m character_metadata[character_metadata[\u001b[39m'\u001b[39;49m\u001b[39mActor gender\u001b[39;49m\u001b[39m'\u001b[39;49m] \u001b[39m==\u001b[39m \u001b[39m'\u001b[39m\u001b[39mF\u001b[39m\u001b[39m'\u001b[39m]\n\u001b[1;32m      2\u001b[0m masc_act \u001b[39m=\u001b[39m character_metadata[character_metadata[\u001b[39m'\u001b[39m\u001b[39mActor gender\u001b[39m\u001b[39m'\u001b[39m] \u001b[39m==\u001b[39m \u001b[39m'\u001b[39m\u001b[39mM\u001b[39m\u001b[39m'\u001b[39m]\n\u001b[1;32m      3\u001b[0m plt\u001b[39m.\u001b[39mpie(np\u001b[39m.\u001b[39marray([fem_act[\u001b[39m'\u001b[39m\u001b[39mActor name\u001b[39m\u001b[39m'\u001b[39m]\u001b[39m.\u001b[39mnunique(),masc_act[\u001b[39m'\u001b[39m\u001b[39mActor name\u001b[39m\u001b[39m'\u001b[39m]\u001b[39m.\u001b[39mnunique()]),labels\u001b[39m=\u001b[39m[\u001b[39m'\u001b[39m\u001b[39mwomen\u001b[39m\u001b[39m'\u001b[39m,\u001b[39m'\u001b[39m\u001b[39mmen\u001b[39m\u001b[39m'\u001b[39m],colors \u001b[39m=\u001b[39m [\u001b[39m'\u001b[39m\u001b[39m#c2c2f0\u001b[39m\u001b[39m'\u001b[39m,\u001b[39m'\u001b[39m\u001b[39m#ffb3e6\u001b[39m\u001b[39m'\u001b[39m],autopct\u001b[39m=\u001b[39m\u001b[39m'\u001b[39m\u001b[39m%1.1f\u001b[39;00m\u001b[39m%%\u001b[39;00m\u001b[39m'\u001b[39m,shadow\u001b[39m=\u001b[39m\u001b[39mTrue\u001b[39;00m)\n",
      "File \u001b[0;32m~/Library/Python/3.9/lib/python/site-packages/pandas/core/frame.py:3804\u001b[0m, in \u001b[0;36mDataFrame.__getitem__\u001b[0;34m(self, key)\u001b[0m\n\u001b[1;32m   3802\u001b[0m \u001b[39mif\u001b[39;00m \u001b[39mself\u001b[39m\u001b[39m.\u001b[39mcolumns\u001b[39m.\u001b[39mnlevels \u001b[39m>\u001b[39m \u001b[39m1\u001b[39m:\n\u001b[1;32m   3803\u001b[0m     \u001b[39mreturn\u001b[39;00m \u001b[39mself\u001b[39m\u001b[39m.\u001b[39m_getitem_multilevel(key)\n\u001b[0;32m-> 3804\u001b[0m indexer \u001b[39m=\u001b[39m \u001b[39mself\u001b[39;49m\u001b[39m.\u001b[39;49mcolumns\u001b[39m.\u001b[39;49mget_loc(key)\n\u001b[1;32m   3805\u001b[0m \u001b[39mif\u001b[39;00m is_integer(indexer):\n\u001b[1;32m   3806\u001b[0m     indexer \u001b[39m=\u001b[39m [indexer]\n",
      "File \u001b[0;32m~/Library/Python/3.9/lib/python/site-packages/pandas/core/indexes/base.py:3805\u001b[0m, in \u001b[0;36mIndex.get_loc\u001b[0;34m(self, key, method, tolerance)\u001b[0m\n\u001b[1;32m   3803\u001b[0m     \u001b[39mreturn\u001b[39;00m \u001b[39mself\u001b[39m\u001b[39m.\u001b[39m_engine\u001b[39m.\u001b[39mget_loc(casted_key)\n\u001b[1;32m   3804\u001b[0m \u001b[39mexcept\u001b[39;00m \u001b[39mKeyError\u001b[39;00m \u001b[39mas\u001b[39;00m err:\n\u001b[0;32m-> 3805\u001b[0m     \u001b[39mraise\u001b[39;00m \u001b[39mKeyError\u001b[39;00m(key) \u001b[39mfrom\u001b[39;00m \u001b[39merr\u001b[39;00m\n\u001b[1;32m   3806\u001b[0m \u001b[39mexcept\u001b[39;00m \u001b[39mTypeError\u001b[39;00m:\n\u001b[1;32m   3807\u001b[0m     \u001b[39m# If we have a listlike key, _check_indexing_error will raise\u001b[39;00m\n\u001b[1;32m   3808\u001b[0m     \u001b[39m#  InvalidIndexError. Otherwise we fall through and re-raise\u001b[39;00m\n\u001b[1;32m   3809\u001b[0m     \u001b[39m#  the TypeError.\u001b[39;00m\n\u001b[1;32m   3810\u001b[0m     \u001b[39mself\u001b[39m\u001b[39m.\u001b[39m_check_indexing_error(key)\n",
      "\u001b[0;31mKeyError\u001b[0m: 'Actor gender'"
     ]
    }
   ],
   "source": [
    "fem_act = character_metadata[character_metadata['Actor gender'] == 'F']\n",
    "masc_act = character_metadata[character_metadata['Actor gender'] == 'M']\n",
    "plt.pie(np.array([fem_act['Actor name'].nunique(),masc_act['Actor name'].nunique()]),labels=['women','men'],colors = ['#c2c2f0','#ffb3e6'],autopct='%1.1f%%',shadow=True)\n",
    "plt.title('Percentage of women and men in the character metadata')\n",
    "plt.show()"
   ]
  },
  {
   "cell_type": "code",
   "execution_count": null,
   "metadata": {},
   "outputs": [],
   "source": [
    "#replace NaN values with 0\n",
    "character_metadata_clean = character_metadata.fillna(0)\n",
    "movie_metadata_clean = movie_metadata.fillna(0)"
   ]
  },
  {
   "cell_type": "code",
   "execution_count": null,
   "metadata": {},
   "outputs": [
    {
     "data": {
      "text/html": [
       "<div>\n",
       "<style scoped>\n",
       "    .dataframe tbody tr th:only-of-type {\n",
       "        vertical-align: middle;\n",
       "    }\n",
       "\n",
       "    .dataframe tbody tr th {\n",
       "        vertical-align: top;\n",
       "    }\n",
       "\n",
       "    .dataframe thead th {\n",
       "        text-align: right;\n",
       "    }\n",
       "</style>\n",
       "<table border=\"1\" class=\"dataframe\">\n",
       "  <thead>\n",
       "    <tr style=\"text-align: right;\">\n",
       "      <th></th>\n",
       "      <th>Freebase movie ID</th>\n",
       "      <th>Movie name</th>\n",
       "      <th>Movie release date</th>\n",
       "      <th>Movie box office revenue</th>\n",
       "      <th>Movie runtime</th>\n",
       "      <th>Movie languages</th>\n",
       "      <th>Movie countries</th>\n",
       "      <th>Movie genres</th>\n",
       "    </tr>\n",
       "    <tr>\n",
       "      <th>Wikipedia movie ID</th>\n",
       "      <th></th>\n",
       "      <th></th>\n",
       "      <th></th>\n",
       "      <th></th>\n",
       "      <th></th>\n",
       "      <th></th>\n",
       "      <th></th>\n",
       "      <th></th>\n",
       "    </tr>\n",
       "  </thead>\n",
       "  <tbody>\n",
       "    <tr>\n",
       "      <th>27554912</th>\n",
       "      <td>/m/0c03gcc</td>\n",
       "      <td>Kung Fu Panda 3</td>\n",
       "      <td>2016-03-18</td>\n",
       "      <td>0.0</td>\n",
       "      <td>0.0</td>\n",
<<<<<<< HEAD
       "      <td>{}</td>\n",
       "      <td>{}</td>\n",
       "      <td>{}</td>\n",
       "    </tr>\n",
       "    <tr>\n",
       "      <th>23124260</th>\n",
       "      <td>/m/064mmw7</td>\n",
       "      <td>Jeepers Creepers 4</td>\n",
       "      <td>2016-06-08</td>\n",
       "      <td>0.0</td>\n",
       "      <td>0.0</td>\n",
       "      <td>{}</td>\n",
       "      <td>{\"/m/09c7w0\": \"United States of America\"}</td>\n",
       "      <td>{\"/m/01jfsb\": \"Thriller\", \"/m/03npn\": \"Horror\"}</td>\n",
=======
       "      <td>82.0</td>\n",
       "      <td>[]</td>\n",
       "      <td>[United States of America]</td>\n",
       "      <td>[Romantic comedy, Romance Film, Comedy, Indie]</td>\n",
       "    </tr>\n",
       "    <tr>\n",
       "      <th>20604092</th>\n",
       "      <td>/m/0523t_1</td>\n",
       "      <td>Anbu Thozhi</td>\n",
       "      <td>2007-08-17</td>\n",
       "      <td>0.0</td>\n",
       "      <td>0.0</td>\n",
       "      <td>[Tamil Language]</td>\n",
       "      <td>[India]</td>\n",
       "      <td>[Romance Film]</td>\n",
       "    </tr>\n",
       "    <tr>\n",
       "      <th>29772142</th>\n",
       "      <td>/m/0fq260_</td>\n",
       "      <td>Karayilekku Oru Kadal Dooram</td>\n",
       "      <td>2010-12-31</td>\n",
       "      <td>0.0</td>\n",
       "      <td>110.0</td>\n",
       "      <td>[Malayalam Language]</td>\n",
       "      <td>[India]</td>\n",
       "      <td>[Drama]</td>\n",
       "    </tr>\n",
       "    <tr>\n",
       "      <th>26623942</th>\n",
       "      <td>/m/0bh9fbk</td>\n",
       "      <td>Kausthubham</td>\n",
       "      <td>2010-03-19</td>\n",
       "      <td>0.0</td>\n",
       "      <td>0.0</td>\n",
       "      <td>[Malayalam Language]</td>\n",
       "      <td>[India]</td>\n",
       "      <td>[Drama]</td>\n",
       "    </tr>\n",
       "    <tr>\n",
       "      <th>32445576</th>\n",
       "      <td>/m/0gyv1h1</td>\n",
       "      <td>Vinayaka Geleyara Balaga</td>\n",
       "      <td>2011-07-15</td>\n",
       "      <td>0.0</td>\n",
       "      <td>0.0</td>\n",
       "      <td>[]</td>\n",
       "      <td>[]</td>\n",
       "      <td>[]</td>\n",
>>>>>>> 66233b9cf7d09787845ba636b900f1f47b91ce3d
       "    </tr>\n",
       "  </tbody>\n",
       "</table>\n",
       "</div>"
      ],
      "text/plain": [
       "                   Freebase movie ID          Movie name Movie release date  \\\n",
       "Wikipedia movie ID                                                            \n",
       "27554912                  /m/0c03gcc     Kung Fu Panda 3         2016-03-18   \n",
       "23124260                  /m/064mmw7  Jeepers Creepers 4         2016-06-08   \n",
       "\n",
<<<<<<< HEAD
       "                    Movie box office revenue  Movie runtime Movie languages  \\\n",
       "Wikipedia movie ID                                                            \n",
       "27554912                                 0.0            0.0              {}   \n",
       "23124260                                 0.0            0.0              {}   \n",
       "\n",
       "                                              Movie countries  \\\n",
       "Wikipedia movie ID                                              \n",
       "27554912                                                   {}   \n",
       "23124260            {\"/m/09c7w0\": \"United States of America\"}   \n",
       "\n",
       "                                                       Movie genres  \n",
       "Wikipedia movie ID                                                   \n",
       "27554912                                                         {}  \n",
       "23124260            {\"/m/01jfsb\": \"Thriller\", \"/m/03npn\": \"Horror\"}  "
      ]
     },
     "execution_count": 152,
=======
       "                   Movie release date  Movie box office revenue  \\\n",
       "Wikipedia movie ID                                                \n",
       "21926710                   2009-01-01                       0.0   \n",
       "20604092                   2007-08-17                       0.0   \n",
       "29772142                   2010-12-31                       0.0   \n",
       "26623942                   2010-03-19                       0.0   \n",
       "32445576                   2011-07-15                       0.0   \n",
       "\n",
       "                    Movie runtime       Movie languages  \\\n",
       "Wikipedia movie ID                                        \n",
       "21926710                     82.0                    []   \n",
       "20604092                      0.0      [Tamil Language]   \n",
       "29772142                    110.0  [Malayalam Language]   \n",
       "26623942                      0.0  [Malayalam Language]   \n",
       "32445576                      0.0                    []   \n",
       "\n",
       "                               Movie countries  \\\n",
       "Wikipedia movie ID                               \n",
       "21926710            [United States of America]   \n",
       "20604092                               [India]   \n",
       "29772142                               [India]   \n",
       "26623942                               [India]   \n",
       "32445576                                    []   \n",
       "\n",
       "                                                      Movie genres  \n",
       "Wikipedia movie ID                                                  \n",
       "21926710            [Romantic comedy, Romance Film, Comedy, Indie]  \n",
       "20604092                                            [Romance Film]  \n",
       "29772142                                                   [Drama]  \n",
       "26623942                                                   [Drama]  \n",
       "32445576                                                        []  "
      ]
     },
     "execution_count": 421,
>>>>>>> 66233b9cf7d09787845ba636b900f1f47b91ce3d
     "metadata": {},
     "output_type": "execute_result"
    }
   ],
   "source": [
    "\n",
    "#new dataframe with movies after 2007 after converting the release date to datetime some dates are only year so we need to add the month and day\n",
    "\n",
    "movie_metadata_clean['Movie release date'] = pd.to_datetime(movie_metadata_clean['Movie release date'],errors='coerce')\n",
    "movie_metadata_clean = movie_metadata_clean[movie_metadata_clean['Movie release date'] > datetime(2007,1,1)]\n",
    "movie_metadata_clean.head()"
   ]
  },
  {
   "cell_type": "code",
   "execution_count": null,
   "metadata": {},
   "outputs": [
    {
     "data": {
<<<<<<< HEAD
      "image/png": "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",
=======
      "image/png": "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",
>>>>>>> 66233b9cf7d09787845ba636b900f1f47b91ce3d
      "text/plain": [
       "<Figure size 640x480 with 1 Axes>"
      ]
     },
     "metadata": {},
     "output_type": "display_data"
    }
   ],
   "source": [
    "#only keep characters with 'wikipedia movie ID' in movie_metadata_clean after 2007\n",
    "character_metadata_clean = character_metadata_clean[character_metadata_clean.index.isin(movie_metadata_clean.index)]\n",
    "#number of female actors compared to male actors for movies after 2007 plotted in a pie chart\n",
    "fem_act = character_metadata_clean[character_metadata_clean['Actor gender'] == 'F']\n",
    "masc_act = character_metadata_clean[character_metadata_clean['Actor gender'] == 'M']\n",
    "plt.pie(np.array([fem_act['Actor name'].nunique(),masc_act['Actor name'].nunique()]),labels=['women','men'],colors = ['#c2c2f0','#ffb3e6'],autopct='%1.1f%%',shadow=True)\n",
    "plt.title('Percentage of women and men in the character metadata after 2007')\n",
    "plt.show()"
   ]
  },
  {
   "cell_type": "code",
   "execution_count": null,
   "metadata": {},
   "outputs": [
    {
     "data": {
<<<<<<< HEAD
      "image/png": "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",
=======
      "image/png": "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",
>>>>>>> 66233b9cf7d09787845ba636b900f1f47b91ce3d
      "text/plain": [
       "<Figure size 640x480 with 1 Axes>"
      ]
     },
     "metadata": {},
     "output_type": "display_data"
    }
   ],
   "source": [
    "#new dataframe with movies after 2016 \n",
    "movie_metadata_clean = movie_metadata_clean[movie_metadata_clean['Movie release date'] > datetime(2016,1,1)]\n",
    "#only keep characters with 'wikipedia movie ID' in movie_metadata_clean after 2016\n",
    "character_metadata_clean = character_metadata_clean[character_metadata_clean.index.isin(movie_metadata_clean.index)]\n",
    "#number of female actors compared to male actors for movies after 2016 plotted in a pie chart\n",
    "fem_act = character_metadata_clean[character_metadata_clean['Actor gender'] == 'F']\n",
    "masc_act = character_metadata_clean[character_metadata_clean['Actor gender'] == 'M']\n",
    "plt.pie(np.array([fem_act['Actor name'].nunique(),masc_act['Actor name'].nunique()]),labels=['women','men'],colors = ['#c2c2f0','#ffb3e6'],autopct='%1.1f%%',shadow=True)\n",
    "plt.title('Percentage of women and men in the character metadata after 2016')\n",
    "plt.show()"
   ]
  },
  {
   "cell_type": "code",
   "execution_count": null,
<<<<<<< HEAD
   "metadata": {},
   "outputs": [
    {
     "data": {
      "text/html": [
       "<div>\n",
       "<style scoped>\n",
       "    .dataframe tbody tr th:only-of-type {\n",
       "        vertical-align: middle;\n",
       "    }\n",
       "\n",
       "    .dataframe tbody tr th {\n",
       "        vertical-align: top;\n",
       "    }\n",
       "\n",
       "    .dataframe thead th {\n",
       "        text-align: right;\n",
       "    }\n",
       "</style>\n",
       "<table border=\"1\" class=\"dataframe\">\n",
       "  <thead>\n",
       "    <tr style=\"text-align: right;\">\n",
       "      <th></th>\n",
       "      <th>Plot_Summary</th>\n",
       "      <th>Freebase_movie_ID</th>\n",
       "      <th>Movie_release_date</th>\n",
       "      <th>Character_name</th>\n",
       "      <th>Actor_date_of_birth</th>\n",
       "      <th>Actor_gender</th>\n",
       "      <th>Actor_height</th>\n",
       "      <th>Actor_ethnicity</th>\n",
       "      <th>Actor_name</th>\n",
       "      <th>Actor_age_at_movie_release</th>\n",
       "      <th>Freebase_character_actor_map_ID</th>\n",
       "      <th>Freebase_character_ID</th>\n",
       "      <th>Freebase_actor_ID</th>\n",
       "    </tr>\n",
       "    <tr>\n",
       "      <th>Wikipedia_movie_ID</th>\n",
       "      <th></th>\n",
       "      <th></th>\n",
       "      <th></th>\n",
       "      <th></th>\n",
       "      <th></th>\n",
       "      <th></th>\n",
       "      <th></th>\n",
       "      <th></th>\n",
       "      <th></th>\n",
       "      <th></th>\n",
       "      <th></th>\n",
       "      <th></th>\n",
       "      <th></th>\n",
       "    </tr>\n",
       "  </thead>\n",
       "  <tbody>\n",
       "    <tr>\n",
       "      <th>31186339</th>\n",
       "      <td>The nation of Panem consists of a wealthy Capi...</td>\n",
       "      <td>/m/0gkz15s</td>\n",
       "      <td>2012-03-12</td>\n",
       "      <td>Gale Hawthorne</td>\n",
       "      <td>1990-01-13</td>\n",
       "      <td>M</td>\n",
       "      <td>1.910</td>\n",
       "      <td>/m/0bbz66j</td>\n",
       "      <td>Liam Hemsworth</td>\n",
       "      <td>22.0</td>\n",
       "      <td>/m/0gw7kv7</td>\n",
       "      <td>/m/0ds96_p</td>\n",
       "      <td>/m/04yd0fh</td>\n",
       "    </tr>\n",
       "    <tr>\n",
       "      <th>31186339</th>\n",
       "      <td>The nation of Panem consists of a wealthy Capi...</td>\n",
       "      <td>/m/0gkz15s</td>\n",
       "      <td>2012-03-12</td>\n",
       "      <td>Caesar Flickerman</td>\n",
       "      <td>1960-11-11</td>\n",
       "      <td>M</td>\n",
       "      <td>1.721</td>\n",
       "      <td>/m/0xnvg</td>\n",
       "      <td>Stanley Tucci</td>\n",
       "      <td>51.0</td>\n",
       "      <td>/m/0gw7kw1</td>\n",
       "      <td>/m/0gwc3bn</td>\n",
       "      <td>/m/02bj6k</td>\n",
       "    </tr>\n",
       "    <tr>\n",
       "      <th>31186339</th>\n",
       "      <td>The nation of Panem consists of a wealthy Capi...</td>\n",
       "      <td>/m/0gkz15s</td>\n",
       "      <td>2012-03-12</td>\n",
       "      <td>President Snow</td>\n",
       "      <td>1935-07-17</td>\n",
       "      <td>M</td>\n",
       "      <td>1.930</td>\n",
       "      <td>/m/07bch9</td>\n",
       "      <td>Donald Sutherland</td>\n",
       "      <td>76.0</td>\n",
       "      <td>/m/0gwc391</td>\n",
       "      <td>/m/0dsbx11</td>\n",
       "      <td>/m/0ywqc</td>\n",
       "    </tr>\n",
       "    <tr>\n",
       "      <th>31186339</th>\n",
       "      <td>The nation of Panem consists of a wealthy Capi...</td>\n",
       "      <td>/m/0gkz15s</td>\n",
       "      <td>2012-03-12</td>\n",
       "      <td>Cinna</td>\n",
       "      <td>1964-05-26</td>\n",
       "      <td>M</td>\n",
       "      <td>1.740</td>\n",
       "      <td>/m/041rx</td>\n",
       "      <td>Lenny Kravitz</td>\n",
       "      <td>47.0</td>\n",
       "      <td>/m/0gw7kvx</td>\n",
       "      <td>/m/0gwc39n</td>\n",
       "      <td>/m/0161sp</td>\n",
       "    </tr>\n",
       "    <tr>\n",
       "      <th>31186339</th>\n",
       "      <td>The nation of Panem consists of a wealthy Capi...</td>\n",
       "      <td>/m/0gkz15s</td>\n",
       "      <td>2012-03-12</td>\n",
       "      <td>Claudius Templesmith</td>\n",
       "      <td>1966-09-07</td>\n",
       "      <td>M</td>\n",
       "      <td>1.650</td>\n",
       "      <td>/m/0d7wh</td>\n",
       "      <td>Toby Jones</td>\n",
       "      <td>45.0</td>\n",
       "      <td>/m/0j5lh7t</td>\n",
       "      <td>/m/0j5lh7x</td>\n",
       "      <td>/m/071ywj</td>\n",
       "    </tr>\n",
       "    <tr>\n",
       "      <th>...</th>\n",
       "      <td>...</td>\n",
       "      <td>...</td>\n",
       "      <td>...</td>\n",
       "      <td>...</td>\n",
       "      <td>...</td>\n",
       "      <td>...</td>\n",
       "      <td>...</td>\n",
       "      <td>...</td>\n",
       "      <td>...</td>\n",
       "      <td>...</td>\n",
       "      <td>...</td>\n",
       "      <td>...</td>\n",
       "      <td>...</td>\n",
       "    </tr>\n",
       "    <tr>\n",
       "      <th>8605430</th>\n",
       "      <td>The story develops around the evolution of Tit...</td>\n",
       "      <td>/m/0279p_0</td>\n",
       "      <td>2002</td>\n",
       "      <td>Titli</td>\n",
       "      <td>1979-12-03</td>\n",
       "      <td>F</td>\n",
       "      <td>1.550</td>\n",
       "      <td>/m/0dryh9k</td>\n",
       "      <td>Konkona Sen Sharma</td>\n",
       "      <td>22.0</td>\n",
       "      <td>/m/02tb7xb</td>\n",
       "      <td>/m/04hqnqj</td>\n",
       "      <td>/m/09w3dt</td>\n",
       "    </tr>\n",
       "    <tr>\n",
       "      <th>4913923</th>\n",
       "      <td>In Northern Norway during the 1860s, a little ...</td>\n",
       "      <td>/m/0cty8f</td>\n",
       "      <td>2002-03-08</td>\n",
       "      <td>Leo Zhukovsky</td>\n",
       "      <td>1964-02-16</td>\n",
       "      <td>M</td>\n",
       "      <td>1.830</td>\n",
       "      <td>/m/02w7gg</td>\n",
       "      <td>Christopher Eccleston</td>\n",
       "      <td>38.0</td>\n",
       "      <td>/m/0jzpw0</td>\n",
       "      <td>/m/0h0v5q0</td>\n",
       "      <td>/m/02cbs0</td>\n",
       "    </tr>\n",
       "    <tr>\n",
       "      <th>4913923</th>\n",
       "      <td>In Northern Norway during the 1860s, a little ...</td>\n",
       "      <td>/m/0cty8f</td>\n",
       "      <td>2002-03-08</td>\n",
       "      <td>Niels</td>\n",
       "      <td>1965-11-22</td>\n",
       "      <td>M</td>\n",
       "      <td>1.830</td>\n",
       "      <td>/m/0268_k</td>\n",
       "      <td>Mads Mikkelsen</td>\n",
       "      <td>36.0</td>\n",
       "      <td>/m/04d89tq</td>\n",
       "      <td>/m/0h39rc3</td>\n",
       "      <td>/m/076svb</td>\n",
       "    </tr>\n",
       "    <tr>\n",
       "      <th>26261438</th>\n",
       "      <td>While drinking alone one night and reminiscing...</td>\n",
       "      <td>/m/0b76dxj</td>\n",
       "      <td>1989</td>\n",
       "      <td>Xenos</td>\n",
       "      <td>1919-02-18</td>\n",
       "      <td>M</td>\n",
       "      <td>1.930</td>\n",
       "      <td>/m/0ffjvd</td>\n",
       "      <td>Jack Palance</td>\n",
       "      <td>69.0</td>\n",
       "      <td>/m/0gm35v0</td>\n",
       "      <td>/m/0gm35r7</td>\n",
       "      <td>/m/02t_w8</td>\n",
       "    </tr>\n",
       "    <tr>\n",
       "      <th>17208834</th>\n",
       "      <td>A high school prom in Georgia is unexpectedly ...</td>\n",
       "      <td>/m/04ydw1v</td>\n",
       "      <td>2008-10-13</td>\n",
       "      <td>Jensen</td>\n",
       "      <td>1990-08-10</td>\n",
       "      <td>M</td>\n",
       "      <td>1.780</td>\n",
       "      <td>/m/02ctzb</td>\n",
       "      <td>Lucas Till</td>\n",
       "      <td>18.0</td>\n",
       "      <td>/m/0cg5yh3</td>\n",
       "      <td>/m/0cwf3b_</td>\n",
       "      <td>/m/09tpw5</td>\n",
       "    </tr>\n",
       "  </tbody>\n",
       "</table>\n",
       "<p>38232 rows × 13 columns</p>\n",
       "</div>"
      ],
      "text/plain": [
       "                                                         Plot_Summary  \\\n",
       "Wikipedia_movie_ID                                                      \n",
       "31186339            The nation of Panem consists of a wealthy Capi...   \n",
       "31186339            The nation of Panem consists of a wealthy Capi...   \n",
       "31186339            The nation of Panem consists of a wealthy Capi...   \n",
       "31186339            The nation of Panem consists of a wealthy Capi...   \n",
       "31186339            The nation of Panem consists of a wealthy Capi...   \n",
       "...                                                               ...   \n",
       "8605430             The story develops around the evolution of Tit...   \n",
       "4913923             In Northern Norway during the 1860s, a little ...   \n",
       "4913923             In Northern Norway during the 1860s, a little ...   \n",
       "26261438            While drinking alone one night and reminiscing...   \n",
       "17208834            A high school prom in Georgia is unexpectedly ...   \n",
       "\n",
       "                   Freebase_movie_ID Movie_release_date        Character_name  \\\n",
       "Wikipedia_movie_ID                                                              \n",
       "31186339                  /m/0gkz15s         2012-03-12        Gale Hawthorne   \n",
       "31186339                  /m/0gkz15s         2012-03-12     Caesar Flickerman   \n",
       "31186339                  /m/0gkz15s         2012-03-12        President Snow   \n",
       "31186339                  /m/0gkz15s         2012-03-12                 Cinna   \n",
       "31186339                  /m/0gkz15s         2012-03-12  Claudius Templesmith   \n",
       "...                              ...                ...                   ...   \n",
       "8605430                   /m/0279p_0               2002                 Titli   \n",
       "4913923                    /m/0cty8f         2002-03-08         Leo Zhukovsky   \n",
       "4913923                    /m/0cty8f         2002-03-08                 Niels   \n",
       "26261438                  /m/0b76dxj               1989                 Xenos   \n",
       "17208834                  /m/04ydw1v         2008-10-13                Jensen   \n",
       "\n",
       "                   Actor_date_of_birth Actor_gender  Actor_height  \\\n",
       "Wikipedia_movie_ID                                                  \n",
       "31186339                    1990-01-13            M         1.910   \n",
       "31186339                    1960-11-11            M         1.721   \n",
       "31186339                    1935-07-17            M         1.930   \n",
       "31186339                    1964-05-26            M         1.740   \n",
       "31186339                    1966-09-07            M         1.650   \n",
       "...                                ...          ...           ...   \n",
       "8605430                     1979-12-03            F         1.550   \n",
       "4913923                     1964-02-16            M         1.830   \n",
       "4913923                     1965-11-22            M         1.830   \n",
       "26261438                    1919-02-18            M         1.930   \n",
       "17208834                    1990-08-10            M         1.780   \n",
       "\n",
       "                   Actor_ethnicity             Actor_name  \\\n",
       "Wikipedia_movie_ID                                          \n",
       "31186339                /m/0bbz66j         Liam Hemsworth   \n",
       "31186339                  /m/0xnvg          Stanley Tucci   \n",
       "31186339                 /m/07bch9      Donald Sutherland   \n",
       "31186339                  /m/041rx          Lenny Kravitz   \n",
       "31186339                  /m/0d7wh             Toby Jones   \n",
       "...                            ...                    ...   \n",
       "8605430                 /m/0dryh9k     Konkona Sen Sharma   \n",
       "4913923                  /m/02w7gg  Christopher Eccleston   \n",
       "4913923                  /m/0268_k         Mads Mikkelsen   \n",
       "26261438                 /m/0ffjvd           Jack Palance   \n",
       "17208834                 /m/02ctzb             Lucas Till   \n",
       "\n",
       "                    Actor_age_at_movie_release  \\\n",
       "Wikipedia_movie_ID                               \n",
       "31186339                                  22.0   \n",
       "31186339                                  51.0   \n",
       "31186339                                  76.0   \n",
       "31186339                                  47.0   \n",
       "31186339                                  45.0   \n",
       "...                                        ...   \n",
       "8605430                                   22.0   \n",
       "4913923                                   38.0   \n",
       "4913923                                   36.0   \n",
       "26261438                                  69.0   \n",
       "17208834                                  18.0   \n",
       "\n",
       "                   Freebase_character_actor_map_ID Freebase_character_ID  \\\n",
       "Wikipedia_movie_ID                                                         \n",
       "31186339                                /m/0gw7kv7            /m/0ds96_p   \n",
       "31186339                                /m/0gw7kw1            /m/0gwc3bn   \n",
       "31186339                                /m/0gwc391            /m/0dsbx11   \n",
       "31186339                                /m/0gw7kvx            /m/0gwc39n   \n",
       "31186339                                /m/0j5lh7t            /m/0j5lh7x   \n",
       "...                                            ...                   ...   \n",
       "8605430                                 /m/02tb7xb            /m/04hqnqj   \n",
       "4913923                                  /m/0jzpw0            /m/0h0v5q0   \n",
       "4913923                                 /m/04d89tq            /m/0h39rc3   \n",
       "26261438                                /m/0gm35v0            /m/0gm35r7   \n",
       "17208834                                /m/0cg5yh3            /m/0cwf3b_   \n",
       "\n",
       "                   Freebase_actor_ID  \n",
       "Wikipedia_movie_ID                    \n",
       "31186339                  /m/04yd0fh  \n",
       "31186339                   /m/02bj6k  \n",
       "31186339                    /m/0ywqc  \n",
       "31186339                   /m/0161sp  \n",
       "31186339                   /m/071ywj  \n",
       "...                              ...  \n",
       "8605430                    /m/09w3dt  \n",
       "4913923                    /m/02cbs0  \n",
       "4913923                    /m/076svb  \n",
       "26261438                   /m/02t_w8  \n",
       "17208834                   /m/09tpw5  \n",
       "\n",
       "[38232 rows x 13 columns]"
      ]
     },
     "execution_count": 93,
     "metadata": {},
     "output_type": "execute_result"
    }
   ],
   "source": [
    "\n",
    "plot_summaries\n",
    "#merge character metadata with plot summaries\n",
    "\n",
    "plot_summaries = plot_summaries.join(character_metadata, on='Wikipedia_movie_ID')\n",
    "plot_summaries=plot_summaries.dropna()\n",
    "plot_summaries"
   ]
  },
  {
   "cell_type": "code",
   "execution_count": null,
   "metadata": {},
   "outputs": [
    {
     "name": "stderr",
     "output_type": "stream",
     "text": [
      "/var/folders/4n/zzxjf3fs0fqbmxgbcht_g0cw0000gn/T/ipykernel_2624/3673826918.py:3: SettingWithCopyWarning: \n",
      "A value is trying to be set on a copy of a slice from a DataFrame.\n",
      "Try using .loc[row_indexer,col_indexer] = value instead\n",
      "\n",
      "See the caveats in the documentation: https://pandas.pydata.org/pandas-docs/stable/user_guide/indexing.html#returning-a-view-versus-a-copy\n",
      "  plot_summaries_new['Movie_release_date'] = pd.to_datetime(plot_summaries_new['Movie_release_date'],errors='coerce')\n",
      "/var/folders/4n/zzxjf3fs0fqbmxgbcht_g0cw0000gn/T/ipykernel_2624/3673826918.py:4: SettingWithCopyWarning: \n",
      "A value is trying to be set on a copy of a slice from a DataFrame.\n",
      "Try using .loc[row_indexer,col_indexer] = value instead\n",
      "\n",
      "See the caveats in the documentation: https://pandas.pydata.org/pandas-docs/stable/user_guide/indexing.html#returning-a-view-versus-a-copy\n",
      "  plot_summaries_new['Movie_release_date'] = plot_summaries_new['Movie_release_date'].dt.year\n",
      "/var/folders/4n/zzxjf3fs0fqbmxgbcht_g0cw0000gn/T/ipykernel_2624/3673826918.py:13: FutureWarning: Not prepending group keys to the result index of transform-like apply. In the future, the group keys will be included in the index, regardless of whether the applied function returns a like-indexed object.\n",
      "To preserve the previous behavior, use\n",
      "\n",
      "\t>>> .groupby(..., group_keys=False)\n",
      "\n",
      "To adopt the future behavior and silence this warning, use \n",
      "\n",
      "\t>>> .groupby(..., group_keys=True)\n",
      "  plot_summaries_new['ratio'] = plot_summaries_new.groupby('Movie_release_date')['counts'].apply(lambda x: x/x.sum())\n"
     ]
    },
    {
     "data": {
      "image/png": "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",
      "text/plain": [
       "<Figure size 640x480 with 1 Axes>"
      ]
     },
     "metadata": {},
     "output_type": "display_data"
    }
   ],
   "source": [
    "#create new dataframe where we change movie release date to datetime in plot_summaries\n",
    "plot_summaries_new = plot_summaries[['Freebase_movie_ID', 'Movie_release_date','Actor_gender']]\n",
    "plot_summaries_new['Movie_release_date'] = pd.to_datetime(plot_summaries_new['Movie_release_date'],errors='coerce')\n",
    "plot_summaries_new['Movie_release_date'] = plot_summaries_new['Movie_release_date'].dt.year\n",
    "plot_summaries_new\n",
    "#calculate the number of 'F' for every 'Movie release date'\n",
    "plot_summaries_new = plot_summaries_new.groupby(['Movie_release_date','Actor_gender']).size().reset_index(name='counts')\n",
    "plot_summaries_new[170:180]\n",
    "#add the total counts for every 'Movie release date'\n",
    "plot_summaries_new['total_counts'] = plot_summaries_new.groupby('Movie_release_date')['counts'].transform('sum')\n",
    "plot_summaries_new\n",
    "#find the ratio of 'F' counts to total counts for every 'Movie release date'\n",
    "plot_summaries_new['ratio'] = plot_summaries_new.groupby('Movie_release_date')['counts'].apply(lambda x: x/x.sum())\n",
    "plot_summaries_new\n",
    "#only keep the 'F' rows\n",
    "plot_summaries_new = plot_summaries_new[plot_summaries_new['Actor_gender'] == 'F']\n",
    "plot_summaries_new\n",
    "#plot the 'Movie release date' and 'ratio' in a line graph\n",
    "plt.plot(plot_summaries_new['Movie_release_date'], plot_summaries_new['ratio'])\n",
    "plt.xlabel('Movie release date')\n",
    "plt.ylabel('ratio of female actresses')\n",
    "plt.title('The ratio of female actresses in movies over time')\n",
    "plt.show()\n",
    "\n"
   ]
  },
  {
   "cell_type": "code",
   "execution_count": null,
=======
>>>>>>> 66233b9cf7d09787845ba636b900f1f47b91ce3d
   "metadata": {},
   "outputs": [],
   "source": [
    "#analysing plot summaries to find main character is the one whose name is mentioned the most\n",
    "#we will use the first 1000 characters of the plot summary to find the main character\n",
    "\n",
    "#function to find the main character in a plot summary\n",
    "def find_main_character(plot_summary):\n",
    "    #create a list of all the characters in the plot summary\n",
    "    characters = character_metadata_clean[character_metadata_clean.index == plot_summary.name]['Character name'].to_list()\n",
    "    #create a list of the number of times each character is mentioned in the plot summary\n",
    "    character_count = [plot_summary['Plot Summary'][:2000].count(character) for character in characters]\n",
    "    #return the character with the highest number of mentions\n",
    "    return characters[np.argmax(character_count)]   \n",
    "\n",
    "#apply the function to the plot summaries\n",
    "#plot_summaries['Main character'] = plot_summaries.apply(find_main_character(plot_summaries),axis=1)\n",
    "#plot_summaries.head()"
   ]
  },
  {
   "cell_type": "markdown",
   "metadata": {},
   "source": [
    "## Salaries, box office revenues, etc."
   ]
  },
  {
   "cell_type": "code",
   "execution_count": null,
   "metadata": {},
   "outputs": [],
   "source": [
    "#Find movies without box office revenue and filter them out\n",
    "no_rev = movie_metadata.loc[movie_metadata['Movie_box_office_revenue'].isnull()].index\n",
    "movie_metadata_filt = movie_metadata.drop(no_rev)"
   ]
  },
  {
   "cell_type": "code",
   "execution_count": null,
   "metadata": {},
   "outputs": [
    {
     "data": {
      "text/plain": [
       "81529"
      ]
     },
<<<<<<< HEAD
     "execution_count": 159,
=======
     "execution_count": 426,
>>>>>>> 66233b9cf7d09787845ba636b900f1f47b91ce3d
     "metadata": {},
     "output_type": "execute_result"
    }
   ],
   "source": [
    "movie_metadata.shape[0]"
   ]
  },
  {
   "cell_type": "code",
   "execution_count": null,
   "metadata": {},
   "outputs": [
    {
     "data": {
      "text/plain": [
       "8401"
      ]
     },
     "execution_count": 427,
     "metadata": {},
     "output_type": "execute_result"
    }
   ],
   "source": [
    "movie_metadata_filt.shape[0]"
   ]
  },
  {
   "cell_type": "markdown",
   "metadata": {},
   "source": [
    "We only have 8401 movies where we have their box office revenue."
   ]
  },
  {
   "cell_type": "code",
   "execution_count": null,
   "metadata": {},
   "outputs": [
    {
     "data": {
      "image/png": "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",
      "text/plain": [
       "<Figure size 500x500 with 1 Axes>"
      ]
     },
     "metadata": {},
     "output_type": "display_data"
    }
   ],
   "source": [
    "#Histogram of box office revenue of movies\n",
    "\n",
    "plt.figure(figsize=(5,5), dpi = 100)\n",
    "plt.xlabel('Movie box office revenue', fontsize = 15)\n",
    "plt.ylabel('Movie index', fontsize=15)\n",
    "plt.title('Box office revenue of all movies', fontsize=15)\n",
    "\n",
    "plt.hist(movie_metadata_filt['Movie box office revenue'])\n",
    "\n",
    "plt.show()"
   ]
  },
  {
   "cell_type": "code",
<<<<<<< HEAD
   "execution_count": null,
=======
   "execution_count": 238,
>>>>>>> 66233b9cf7d09787845ba636b900f1f47b91ce3d
   "metadata": {},
   "outputs": [
    {
     "name": "stdout",
     "output_type": "stream",
     "text": [
      "Movies with biggest box office revenues:\n"
     ]
    },
    {
<<<<<<< HEAD
     "data": {
      "text/html": [
       "<div>\n",
       "<style scoped>\n",
       "    .dataframe tbody tr th:only-of-type {\n",
       "        vertical-align: middle;\n",
       "    }\n",
       "\n",
       "    .dataframe tbody tr th {\n",
       "        vertical-align: top;\n",
       "    }\n",
       "\n",
       "    .dataframe thead th {\n",
       "        text-align: right;\n",
       "    }\n",
       "</style>\n",
       "<table border=\"1\" class=\"dataframe\">\n",
       "  <thead>\n",
       "    <tr style=\"text-align: right;\">\n",
       "      <th></th>\n",
       "      <th>Freebase_movie_ID</th>\n",
       "      <th>Movie_name</th>\n",
       "      <th>Movie_release_date</th>\n",
       "      <th>Movie_box_office_revenue</th>\n",
       "      <th>Movie_runtime</th>\n",
       "      <th>Movie_languages</th>\n",
       "      <th>Movie_countries</th>\n",
       "      <th>Movie_genres</th>\n",
       "    </tr>\n",
       "    <tr>\n",
       "      <th>Wikipedia_movie_ID</th>\n",
       "      <th></th>\n",
       "      <th></th>\n",
       "      <th></th>\n",
       "      <th></th>\n",
       "      <th></th>\n",
       "      <th></th>\n",
       "      <th></th>\n",
       "      <th></th>\n",
       "    </tr>\n",
       "  </thead>\n",
       "  <tbody>\n",
       "    <tr>\n",
       "      <th>4273140</th>\n",
       "      <td>/m/0bth54</td>\n",
       "      <td>Avatar</td>\n",
       "      <td>2009-12-10</td>\n",
       "      <td>2.782275e+09</td>\n",
       "      <td>178.0</td>\n",
       "      <td>[English Language, Spanish Language]</td>\n",
       "      <td>[United States of America, United Kingdom]</td>\n",
       "      <td>[Thriller, Science Fiction, Adventure, Compute...</td>\n",
       "    </tr>\n",
       "    <tr>\n",
       "      <th>52371</th>\n",
       "      <td>/m/0dr_4</td>\n",
       "      <td>Titanic</td>\n",
       "      <td>1997-11-01</td>\n",
       "      <td>2.185372e+09</td>\n",
       "      <td>194.0</td>\n",
       "      <td>[Italian Language, English Language, French La...</td>\n",
       "      <td>[United States of America]</td>\n",
       "      <td>[Tragedy, Costume drama, Historical fiction, A...</td>\n",
       "    </tr>\n",
       "    <tr>\n",
       "      <th>22114132</th>\n",
       "      <td>/m/062zm5h</td>\n",
       "      <td>The Avengers</td>\n",
       "      <td>2012-04-11</td>\n",
       "      <td>1.511758e+09</td>\n",
       "      <td>137.0</td>\n",
       "      <td>[Russian Language, English Language]</td>\n",
       "      <td>[United States of America]</td>\n",
       "      <td>[Science Fiction, Action]</td>\n",
       "    </tr>\n",
       "    <tr>\n",
       "      <th>31941988</th>\n",
       "      <td>/m/0gvsynb</td>\n",
       "      <td>Harry Potter and the Deathly Hallows – Part 2</td>\n",
       "      <td>2011-07-07</td>\n",
       "      <td>1.328111e+09</td>\n",
       "      <td>130.0</td>\n",
       "      <td>[English Language]</td>\n",
       "      <td>[United States of America, United Kingdom]</td>\n",
       "      <td>[Drama, Mystery, Fantasy, Adventure]</td>\n",
       "    </tr>\n",
       "    <tr>\n",
       "      <th>25001260</th>\n",
       "      <td>/m/0872p_c</td>\n",
       "      <td>Transformers: Dark of the Moon</td>\n",
       "      <td>2011-06-23</td>\n",
       "      <td>1.123747e+09</td>\n",
       "      <td>157.0</td>\n",
       "      <td>[English Language]</td>\n",
       "      <td>[United States of America]</td>\n",
       "      <td>[Alien Film, Science Fiction, Action, Adventure]</td>\n",
       "    </tr>\n",
       "  </tbody>\n",
       "</table>\n",
       "</div>"
      ],
      "text/plain": [
       "                   Freebase_movie_ID  \\\n",
       "Wikipedia_movie_ID                     \n",
       "4273140                    /m/0bth54   \n",
       "52371                       /m/0dr_4   \n",
       "22114132                  /m/062zm5h   \n",
       "31941988                  /m/0gvsynb   \n",
       "25001260                  /m/0872p_c   \n",
       "\n",
       "                                                       Movie_name  \\\n",
       "Wikipedia_movie_ID                                                  \n",
       "4273140                                                    Avatar   \n",
       "52371                                                     Titanic   \n",
       "22114132                                             The Avengers   \n",
       "31941988            Harry Potter and the Deathly Hallows – Part 2   \n",
       "25001260                           Transformers: Dark of the Moon   \n",
       "\n",
       "                   Movie_release_date  Movie_box_office_revenue  \\\n",
       "Wikipedia_movie_ID                                                \n",
       "4273140                    2009-12-10              2.782275e+09   \n",
       "52371                      1997-11-01              2.185372e+09   \n",
       "22114132                   2012-04-11              1.511758e+09   \n",
       "31941988                   2011-07-07              1.328111e+09   \n",
       "25001260                   2011-06-23              1.123747e+09   \n",
       "\n",
       "                    Movie_runtime  \\\n",
       "Wikipedia_movie_ID                  \n",
       "4273140                     178.0   \n",
       "52371                       194.0   \n",
       "22114132                    137.0   \n",
       "31941988                    130.0   \n",
       "25001260                    157.0   \n",
       "\n",
       "                                                      Movie_languages  \\\n",
       "Wikipedia_movie_ID                                                      \n",
       "4273140                          [English Language, Spanish Language]   \n",
       "52371               [Italian Language, English Language, French La...   \n",
       "22114132                         [Russian Language, English Language]   \n",
       "31941988                                           [English Language]   \n",
       "25001260                                           [English Language]   \n",
       "\n",
       "                                               Movie_countries  \\\n",
       "Wikipedia_movie_ID                                               \n",
       "4273140             [United States of America, United Kingdom]   \n",
       "52371                               [United States of America]   \n",
       "22114132                            [United States of America]   \n",
       "31941988            [United States of America, United Kingdom]   \n",
       "25001260                            [United States of America]   \n",
       "\n",
       "                                                         Movie_genres  \n",
       "Wikipedia_movie_ID                                                     \n",
       "4273140             [Thriller, Science Fiction, Adventure, Compute...  \n",
       "52371               [Tragedy, Costume drama, Historical fiction, A...  \n",
       "22114132                                    [Science Fiction, Action]  \n",
       "31941988                         [Drama, Mystery, Fantasy, Adventure]  \n",
       "25001260             [Alien Film, Science Fiction, Action, Adventure]  "
      ]
     },
     "execution_count": 39,
     "metadata": {},
     "output_type": "execute_result"
=======
     "ename": "KeyError",
     "evalue": "'Movie box office revenue'",
     "output_type": "error",
     "traceback": [
      "\u001b[0;31m---------------------------------------------------------------------------\u001b[0m",
      "\u001b[0;31mKeyError\u001b[0m                                  Traceback (most recent call last)",
      "Cell \u001b[0;32mIn [238], line 2\u001b[0m\n\u001b[1;32m      1\u001b[0m \u001b[39mprint\u001b[39m(\u001b[39m\"\u001b[39m\u001b[39mMovies with biggest box office revenues:\u001b[39m\u001b[39m\"\u001b[39m)\n\u001b[0;32m----> 2\u001b[0m movie_metadata\u001b[39m.\u001b[39msort_values(\u001b[39m'\u001b[39m\u001b[39mMovie box office revenue\u001b[39m\u001b[39m'\u001b[39m, ascending \u001b[39m=\u001b[39m \u001b[39mFalse\u001b[39;00m)\u001b[39m.\u001b[39mhead()\n",
      "File \u001b[0;32m~/Library/Python/3.8/lib/python/site-packages/pandas/util/_decorators.py:317\u001b[0m, in \u001b[0;36mdeprecate_nonkeyword_arguments.<locals>.decorate.<locals>.wrapper\u001b[0;34m(*args, **kwargs)\u001b[0m\n\u001b[1;32m    311\u001b[0m \u001b[39mif\u001b[39;00m \u001b[39mlen\u001b[39m(args) \u001b[39m>\u001b[39m num_allow_args:\n\u001b[1;32m    312\u001b[0m     warnings\u001b[39m.\u001b[39mwarn(\n\u001b[1;32m    313\u001b[0m         msg\u001b[39m.\u001b[39mformat(arguments\u001b[39m=\u001b[39marguments),\n\u001b[1;32m    314\u001b[0m         \u001b[39mFutureWarning\u001b[39;00m,\n\u001b[1;32m    315\u001b[0m         stacklevel\u001b[39m=\u001b[39mfind_stack_level(inspect\u001b[39m.\u001b[39mcurrentframe()),\n\u001b[1;32m    316\u001b[0m     )\n\u001b[0;32m--> 317\u001b[0m \u001b[39mreturn\u001b[39;00m func(\u001b[39m*\u001b[39;49margs, \u001b[39m*\u001b[39;49m\u001b[39m*\u001b[39;49mkwargs)\n",
      "File \u001b[0;32m~/Library/Python/3.8/lib/python/site-packages/pandas/core/frame.py:6904\u001b[0m, in \u001b[0;36mDataFrame.sort_values\u001b[0;34m(self, by, axis, ascending, inplace, kind, na_position, ignore_index, key)\u001b[0m\n\u001b[1;32m   6900\u001b[0m \u001b[39melif\u001b[39;00m \u001b[39mlen\u001b[39m(by):\n\u001b[1;32m   6901\u001b[0m     \u001b[39m# len(by) == 1\u001b[39;00m\n\u001b[1;32m   6903\u001b[0m     by \u001b[39m=\u001b[39m by[\u001b[39m0\u001b[39m]\n\u001b[0;32m-> 6904\u001b[0m     k \u001b[39m=\u001b[39m \u001b[39mself\u001b[39;49m\u001b[39m.\u001b[39;49m_get_label_or_level_values(by, axis\u001b[39m=\u001b[39;49maxis)\n\u001b[1;32m   6906\u001b[0m     \u001b[39m# need to rewrap column in Series to apply key function\u001b[39;00m\n\u001b[1;32m   6907\u001b[0m     \u001b[39mif\u001b[39;00m key \u001b[39mis\u001b[39;00m \u001b[39mnot\u001b[39;00m \u001b[39mNone\u001b[39;00m:\n\u001b[1;32m   6908\u001b[0m         \u001b[39m# error: Incompatible types in assignment (expression has type\u001b[39;00m\n\u001b[1;32m   6909\u001b[0m         \u001b[39m# \"Series\", variable has type \"ndarray\")\u001b[39;00m\n",
      "File \u001b[0;32m~/Library/Python/3.8/lib/python/site-packages/pandas/core/generic.py:1849\u001b[0m, in \u001b[0;36mNDFrame._get_label_or_level_values\u001b[0;34m(self, key, axis)\u001b[0m\n\u001b[1;32m   1843\u001b[0m     values \u001b[39m=\u001b[39m (\n\u001b[1;32m   1844\u001b[0m         \u001b[39mself\u001b[39m\u001b[39m.\u001b[39maxes[axis]\n\u001b[1;32m   1845\u001b[0m         \u001b[39m.\u001b[39mget_level_values(key)  \u001b[39m# type: ignore[assignment]\u001b[39;00m\n\u001b[1;32m   1846\u001b[0m         \u001b[39m.\u001b[39m_values\n\u001b[1;32m   1847\u001b[0m     )\n\u001b[1;32m   1848\u001b[0m \u001b[39melse\u001b[39;00m:\n\u001b[0;32m-> 1849\u001b[0m     \u001b[39mraise\u001b[39;00m \u001b[39mKeyError\u001b[39;00m(key)\n\u001b[1;32m   1851\u001b[0m \u001b[39m# Check for duplicates\u001b[39;00m\n\u001b[1;32m   1852\u001b[0m \u001b[39mif\u001b[39;00m values\u001b[39m.\u001b[39mndim \u001b[39m>\u001b[39m \u001b[39m1\u001b[39m:\n",
      "\u001b[0;31mKeyError\u001b[0m: 'Movie box office revenue'"
     ]
>>>>>>> 66233b9cf7d09787845ba636b900f1f47b91ce3d
    }
   ],
   "source": [
    "print(\"Movies with biggest box office revenues:\")\n",
    "movie_metadata.sort_values('Movie_box_office_revenue', ascending = False).head()"
   ]
  },
  {
   "cell_type": "code",
   "execution_count": null,
   "metadata": {},
   "outputs": [
    {
     "data": {
      "text/plain": [
       "'\\nplt.figure(figsize=(5,5), dpi = 100)\\nplt.xlabel(\\'Movie release date\\', fontsize = 15)\\nplt.ylabel(\\'Box office revenue\\', fontsize=15)\\nplt.title(\\'Box office revenue of all movies\\', fontsize=15)\\n\\nplt.plot(movie_metadata_filt[\"Movie release date\"],movie_metadata_filt[\\'Movie box office revenue\\'])\\n\\nplt.show()\\n'"
      ]
     },
<<<<<<< HEAD
     "execution_count": 40,
=======
     "execution_count": 445,
>>>>>>> 66233b9cf7d09787845ba636b900f1f47b91ce3d
     "metadata": {},
     "output_type": "execute_result"
    }
   ],
   "source": [
    "#No real use just to see\n",
    "'''\n",
    "plt.figure(figsize=(5,5), dpi = 100)\n",
    "plt.xlabel('Movie release date', fontsize = 15)\n",
    "plt.ylabel('Box office revenue', fontsize=15)\n",
    "plt.title('Box office revenue of all movies', fontsize=15)\n",
    "\n",
    "plt.plot(movie_metadata_filt[\"Movie release date\"],movie_metadata_filt['Movie box office revenue'])\n",
    "\n",
    "plt.show()\n",
    "'''"
   ]
  },
  {
   "cell_type": "code",
   "execution_count": null,
   "metadata": {},
   "outputs": [
    {
     "data": {
      "text/html": [
       "<div>\n",
       "<style scoped>\n",
       "    .dataframe tbody tr th:only-of-type {\n",
       "        vertical-align: middle;\n",
       "    }\n",
       "\n",
       "    .dataframe tbody tr th {\n",
       "        vertical-align: top;\n",
       "    }\n",
       "\n",
       "    .dataframe thead th {\n",
       "        text-align: right;\n",
       "    }\n",
       "</style>\n",
       "<table border=\"1\" class=\"dataframe\">\n",
       "  <thead>\n",
       "    <tr style=\"text-align: right;\">\n",
       "      <th></th>\n",
       "      <th>Freebase_movie_ID</th>\n",
       "      <th>Movie_release_date</th>\n",
       "      <th>Character_name</th>\n",
       "      <th>Actor_date_of_birth</th>\n",
       "      <th>Actor_gender</th>\n",
       "      <th>Actor_height</th>\n",
       "      <th>Actor_ethnicity</th>\n",
       "      <th>Actor_name</th>\n",
       "      <th>Actor_age_at_movie_release</th>\n",
       "      <th>Freebase_character_actor_map_ID</th>\n",
       "      <th>Freebase_character_ID</th>\n",
       "      <th>Freebase_actor_ID</th>\n",
       "    </tr>\n",
       "    <tr>\n",
       "      <th>Wikipedia_movie_ID</th>\n",
       "      <th></th>\n",
       "      <th></th>\n",
       "      <th></th>\n",
       "      <th></th>\n",
       "      <th></th>\n",
       "      <th></th>\n",
       "      <th></th>\n",
       "      <th></th>\n",
       "      <th></th>\n",
       "      <th></th>\n",
       "      <th></th>\n",
       "      <th></th>\n",
       "    </tr>\n",
       "  </thead>\n",
       "  <tbody>\n",
       "    <tr>\n",
       "      <th>975900</th>\n",
       "      <td>/m/03vyhn</td>\n",
       "      <td>2001-08-24</td>\n",
       "      <td>Lieutenant Melanie Ballard</td>\n",
       "      <td>1974-08-15</td>\n",
       "      <td>F</td>\n",
       "      <td>1.780</td>\n",
       "      <td>/m/044038p</td>\n",
       "      <td>Natasha Henstridge</td>\n",
       "      <td>27.0</td>\n",
       "      <td>/m/0jys3m</td>\n",
       "      <td>/m/0bgchn4</td>\n",
       "      <td>/m/0346l4</td>\n",
       "    </tr>\n",
       "    <tr>\n",
       "      <th>975900</th>\n",
       "      <td>/m/03vyhn</td>\n",
       "      <td>2001-08-24</td>\n",
       "      <td>Desolation Williams</td>\n",
       "      <td>1969-06-15</td>\n",
       "      <td>M</td>\n",
       "      <td>1.727</td>\n",
       "      <td>/m/0x67</td>\n",
       "      <td>Ice Cube</td>\n",
       "      <td>32.0</td>\n",
       "      <td>/m/0jys3g</td>\n",
       "      <td>/m/0bgchn_</td>\n",
       "      <td>/m/01vw26l</td>\n",
       "    </tr>\n",
       "    <tr>\n",
       "      <th>975900</th>\n",
       "      <td>/m/03vyhn</td>\n",
       "      <td>2001-08-24</td>\n",
       "      <td>Commander Helena Braddock</td>\n",
       "      <td>1949-05-26</td>\n",
       "      <td>F</td>\n",
       "      <td>1.727</td>\n",
       "      <td>/m/0x67</td>\n",
       "      <td>Pam Grier</td>\n",
       "      <td>52.0</td>\n",
       "      <td>/m/02vdcfp</td>\n",
       "      <td>/m/0bgchnd</td>\n",
       "      <td>/m/0418ft</td>\n",
       "    </tr>\n",
       "    <tr>\n",
       "      <th>2314463</th>\n",
       "      <td>/m/0734w5</td>\n",
       "      <td>2006</td>\n",
       "      <td>Taper Guy</td>\n",
       "      <td>1971-05-26</td>\n",
       "      <td>M</td>\n",
       "      <td>1.870</td>\n",
       "      <td>/m/033tf_</td>\n",
       "      <td>Matt Stone</td>\n",
       "      <td>34.0</td>\n",
       "      <td>/m/0cgn0lx</td>\n",
       "      <td>/m/0h0z488</td>\n",
       "      <td>/m/01_x6d</td>\n",
       "    </tr>\n",
       "    <tr>\n",
       "      <th>612710</th>\n",
       "      <td>/m/02wjqm</td>\n",
       "      <td>1999-10-01</td>\n",
       "      <td>Sandii</td>\n",
       "      <td>1975-09-20</td>\n",
       "      <td>F</td>\n",
       "      <td>1.680</td>\n",
       "      <td>/m/0222qb</td>\n",
       "      <td>Asia Argento</td>\n",
       "      <td>24.0</td>\n",
       "      <td>/m/02vcxk_</td>\n",
       "      <td>/m/0h2l6rx</td>\n",
       "      <td>/m/028pzq</td>\n",
       "    </tr>\n",
       "    <tr>\n",
       "      <th>...</th>\n",
       "      <td>...</td>\n",
       "      <td>...</td>\n",
       "      <td>...</td>\n",
       "      <td>...</td>\n",
       "      <td>...</td>\n",
       "      <td>...</td>\n",
       "      <td>...</td>\n",
       "      <td>...</td>\n",
       "      <td>...</td>\n",
       "      <td>...</td>\n",
       "      <td>...</td>\n",
       "      <td>...</td>\n",
       "    </tr>\n",
       "    <tr>\n",
       "      <th>22330502</th>\n",
       "      <td>/m/05sync6</td>\n",
       "      <td>1931-01-31</td>\n",
       "      <td>Yvonne Valbret</td>\n",
       "      <td>1905-09-18</td>\n",
       "      <td>F</td>\n",
       "      <td>1.702</td>\n",
       "      <td>/m/06mvq</td>\n",
       "      <td>Greta Garbo</td>\n",
       "      <td>25.0</td>\n",
       "      <td>/m/05tg4vb</td>\n",
       "      <td>/m/0h2ppfw</td>\n",
       "      <td>/m/0h14h</td>\n",
       "    </tr>\n",
       "    <tr>\n",
       "      <th>24997872</th>\n",
       "      <td>/m/09g6klx</td>\n",
       "      <td>2010-05-07</td>\n",
       "      <td>Raja</td>\n",
       "      <td>1951-09-07</td>\n",
       "      <td>M</td>\n",
       "      <td>1.780</td>\n",
       "      <td>/m/04mvp8</td>\n",
       "      <td>Mammootty</td>\n",
       "      <td>58.0</td>\n",
       "      <td>/m/0gvytkx</td>\n",
       "      <td>/m/0h27wx_</td>\n",
       "      <td>/m/02hkv5</td>\n",
       "    </tr>\n",
       "    <tr>\n",
       "      <th>24997872</th>\n",
       "      <td>/m/09g6klx</td>\n",
       "      <td>2010-05-07</td>\n",
       "      <td>Surya</td>\n",
       "      <td>1982-10-16</td>\n",
       "      <td>M</td>\n",
       "      <td>1.810</td>\n",
       "      <td>/m/0dryh9k</td>\n",
       "      <td>Prithviraj Sukumaran</td>\n",
       "      <td>27.0</td>\n",
       "      <td>/m/0gw0rm2</td>\n",
       "      <td>/m/0gz549m</td>\n",
       "      <td>/m/0cqcgj</td>\n",
       "    </tr>\n",
       "    <tr>\n",
       "      <th>24997872</th>\n",
       "      <td>/m/09g6klx</td>\n",
       "      <td>2010-05-07</td>\n",
       "      <td>Aswathy</td>\n",
       "      <td>1982-09-11</td>\n",
       "      <td>F</td>\n",
       "      <td>1.680</td>\n",
       "      <td>/m/0dryh9k</td>\n",
       "      <td>Shriya Saran</td>\n",
       "      <td>27.0</td>\n",
       "      <td>/m/0gw423l</td>\n",
       "      <td>/m/0gyf84q</td>\n",
       "      <td>/m/09r_wb</td>\n",
       "    </tr>\n",
       "    <tr>\n",
       "      <th>30553937</th>\n",
       "      <td>/m/0g9ts5h</td>\n",
       "      <td>1998-03-07</td>\n",
       "      <td>Tracy</td>\n",
       "      <td>1967-03-16</td>\n",
       "      <td>F</td>\n",
       "      <td>1.746</td>\n",
       "      <td>/m/033tf_</td>\n",
       "      <td>Lauren Graham</td>\n",
       "      <td>30.0</td>\n",
       "      <td>/m/0gw3h6q</td>\n",
       "      <td>/m/0h1gk0m</td>\n",
       "      <td>/m/03c6v3</td>\n",
       "    </tr>\n",
       "  </tbody>\n",
       "</table>\n",
       "<p>45264 rows × 12 columns</p>\n",
       "</div>"
      ],
      "text/plain": [
       "                   Freebase_movie_ID Movie_release_date  \\\n",
       "Wikipedia_movie_ID                                        \n",
       "975900                     /m/03vyhn         2001-08-24   \n",
<<<<<<< HEAD
       "975900                     /m/03vyhn         2001-08-24   \n",
       "975900                     /m/03vyhn         2001-08-24   \n",
=======
>>>>>>> 66233b9cf7d09787845ba636b900f1f47b91ce3d
       "2314463                    /m/0734w5               2006   \n",
       "612710                     /m/02wjqm         1999-10-01   \n",
       "...                              ...                ...   \n",
       "22330502                  /m/05sync6         1931-01-31   \n",
       "24997872                  /m/09g6klx         2010-05-07   \n",
       "24997872                  /m/09g6klx         2010-05-07   \n",
       "24997872                  /m/09g6klx         2010-05-07   \n",
       "30553937                  /m/0g9ts5h         1998-03-07   \n",
       "\n",
<<<<<<< HEAD
       "                                Character_name Actor_date_of_birth  \\\n",
       "Wikipedia_movie_ID                                                   \n",
=======
       "                                Character name Actor date of birth  \\\n",
       "Wikipedia movie ID                                                   \n",
>>>>>>> 66233b9cf7d09787845ba636b900f1f47b91ce3d
       "975900              Lieutenant Melanie Ballard          1974-08-15   \n",
       "975900                     Desolation Williams          1969-06-15   \n",
       "975900               Commander Helena Braddock          1949-05-26   \n",
       "2314463                              Taper Guy          1971-05-26   \n",
       "612710                                  Sandii          1975-09-20   \n",
       "...                                        ...                 ...   \n",
       "22330502                        Yvonne Valbret          1905-09-18   \n",
       "24997872                                  Raja          1951-09-07   \n",
       "24997872                                 Surya          1982-10-16   \n",
       "24997872                               Aswathy          1982-09-11   \n",
       "30553937                                 Tracy          1967-03-16   \n",
       "\n",
<<<<<<< HEAD
       "                   Actor_gender  Actor_height Actor_ethnicity  \\\n",
       "Wikipedia_movie_ID                                              \n",
=======
       "                   Actor gender  Actor height Actor ethnicity  \\\n",
       "Wikipedia movie ID                                              \n",
>>>>>>> 66233b9cf7d09787845ba636b900f1f47b91ce3d
       "975900                        F         1.780      /m/044038p   \n",
       "975900                        M         1.727         /m/0x67   \n",
       "975900                        F         1.727         /m/0x67   \n",
       "2314463                       M         1.870       /m/033tf_   \n",
       "612710                        F         1.680       /m/0222qb   \n",
       "...                         ...           ...             ...   \n",
       "22330502                      F         1.702        /m/06mvq   \n",
       "24997872                      M         1.780       /m/04mvp8   \n",
       "24997872                      M         1.810      /m/0dryh9k   \n",
       "24997872                      F         1.680      /m/0dryh9k   \n",
       "30553937                      F         1.746       /m/033tf_   \n",
       "\n",
<<<<<<< HEAD
       "                              Actor_name  Actor_age_at_movie_release  \\\n",
       "Wikipedia_movie_ID                                                     \n",
=======
       "                              Actor name  Actor age at movie release  \\\n",
       "Wikipedia movie ID                                                     \n",
>>>>>>> 66233b9cf7d09787845ba636b900f1f47b91ce3d
       "975900                Natasha Henstridge                        27.0   \n",
       "975900                          Ice Cube                        32.0   \n",
       "975900                         Pam Grier                        52.0   \n",
       "2314463                       Matt Stone                        34.0   \n",
       "612710                      Asia Argento                        24.0   \n",
       "...                                  ...                         ...   \n",
       "22330502                     Greta Garbo                        25.0   \n",
       "24997872                       Mammootty                        58.0   \n",
       "24997872            Prithviraj Sukumaran                        27.0   \n",
       "24997872                    Shriya Saran                        27.0   \n",
       "30553937                   Lauren Graham                        30.0   \n",
       "\n",
<<<<<<< HEAD
       "                   Freebase_character_actor_map_ID Freebase_character_ID  \\\n",
       "Wikipedia_movie_ID                                                         \n",
=======
       "                   Freebase character/actor map ID Freebase character ID  \\\n",
       "Wikipedia movie ID                                                         \n",
>>>>>>> 66233b9cf7d09787845ba636b900f1f47b91ce3d
       "975900                                   /m/0jys3m            /m/0bgchn4   \n",
       "975900                                   /m/0jys3g            /m/0bgchn_   \n",
       "975900                                  /m/02vdcfp            /m/0bgchnd   \n",
       "2314463                                 /m/0cgn0lx            /m/0h0z488   \n",
       "612710                                  /m/02vcxk_            /m/0h2l6rx   \n",
       "...                                            ...                   ...   \n",
       "22330502                                /m/05tg4vb            /m/0h2ppfw   \n",
       "24997872                                /m/0gvytkx            /m/0h27wx_   \n",
       "24997872                                /m/0gw0rm2            /m/0gz549m   \n",
       "24997872                                /m/0gw423l            /m/0gyf84q   \n",
       "30553937                                /m/0gw3h6q            /m/0h1gk0m   \n",
       "\n",
<<<<<<< HEAD
       "                   Freebase_actor_ID  \n",
       "Wikipedia_movie_ID                    \n",
=======
       "                   Freebase actor ID  \n",
       "Wikipedia movie ID                    \n",
>>>>>>> 66233b9cf7d09787845ba636b900f1f47b91ce3d
       "975900                     /m/0346l4  \n",
       "975900                    /m/01vw26l  \n",
       "975900                     /m/0418ft  \n",
       "2314463                    /m/01_x6d  \n",
       "612710                     /m/028pzq  \n",
       "...                              ...  \n",
       "22330502                    /m/0h14h  \n",
       "24997872                   /m/02hkv5  \n",
       "24997872                   /m/0cqcgj  \n",
       "24997872                   /m/09r_wb  \n",
       "30553937                   /m/03c6v3  \n",
       "\n",
       "[45264 rows x 12 columns]"
      ]
     },
<<<<<<< HEAD
     "execution_count": 41,
=======
     "execution_count": 451,
>>>>>>> 66233b9cf7d09787845ba636b900f1f47b91ce3d
     "metadata": {},
     "output_type": "execute_result"
    }
   ],
   "source": [
    "character_dropna = character_metadata.dropna()\n",
    "character_dropna"
   ]
  },
  {
   "cell_type": "code",
   "execution_count": null,
   "metadata": {},
   "outputs": [
    {
     "data": {
      "text/plain": [
       "\"\\ncharacter_dropna['Actor gender'] = pd.get_dummies(character_dropna['Actor gender'])\\ncharacter_dropna.head()\\n\""
      ]
     },
<<<<<<< HEAD
     "execution_count": 42,
=======
     "execution_count": 169,
>>>>>>> 66233b9cf7d09787845ba636b900f1f47b91ce3d
     "metadata": {},
     "output_type": "execute_result"
    }
   ],
   "source": [
    "'''\n",
    "character_dropna['Actor gender'] = pd.get_dummies(character_dropna['Actor gender'])\n",
    "character_dropna.head()\n",
    "'''"
   ]
  },
  {
   "cell_type": "markdown",
   "metadata": {},
   "source": [
    "## Detecting Main characters etc."
   ]
  },
  {
   "cell_type": "code",
   "execution_count": null,
   "metadata": {},
   "outputs": [
    {
     "name": "stdout",
     "output_type": "stream",
     "text": [
      "there are normally 450669 characters\n"
     ]
    }
   ],
   "source": [
    "plot_summaries.head()\n",
    "character_metadata.head()\n",
    "character_metadata=character_metadata.drop_duplicates()\n",
    "print('there are normally', len(character_metadata),'characters')"
   ]
  },
  {
   "cell_type": "code",
   "execution_count": null,
   "metadata": {},
   "outputs": [
    {
     "name": "stdout",
     "output_type": "stream",
     "text": [
      "Percentage of missing entries in the name of the characters dataset:\n",
<<<<<<< HEAD
      " Character_name    57.220488\n",
=======
      " Character name    57.220488\n",
>>>>>>> 66233b9cf7d09787845ba636b900f1f47b91ce3d
      "dtype: float64\n"
     ]
    }
   ],
   "source": [
<<<<<<< HEAD
    "character_dropna_name = character_metadata.dropna(subset=['Character_name'])\n",
    "print('Percentage of missing entries in the name of the characters dataset:\\n', 100*character_metadata[['Character_name']].isna().sum() / n_char)"
=======
    "character_dropna_name = character_metadata.dropna(subset=['Character name'])\n",
    "print('Percentage of missing entries in the name of the characters dataset:\\n', 100*character_metadata[['Character name']].isna().sum() / n_char)"
>>>>>>> 66233b9cf7d09787845ba636b900f1f47b91ce3d
   ]
  },
  {
   "cell_type": "code",
   "execution_count": null,
   "metadata": {},
   "outputs": [
    {
     "name": "stdout",
     "output_type": "stream",
     "text": [
      "we will consider 192794 characters and 23068 movies\n"
     ]
    },
    {
     "data": {
      "text/html": [
       "<div>\n",
       "<style scoped>\n",
       "    .dataframe tbody tr th:only-of-type {\n",
       "        vertical-align: middle;\n",
       "    }\n",
       "\n",
       "    .dataframe tbody tr th {\n",
       "        vertical-align: top;\n",
       "    }\n",
       "\n",
       "    .dataframe thead th {\n",
       "        text-align: right;\n",
       "    }\n",
       "</style>\n",
       "<table border=\"1\" class=\"dataframe\">\n",
       "  <thead>\n",
       "    <tr style=\"text-align: right;\">\n",
       "      <th></th>\n",
<<<<<<< HEAD
       "      <th>Freebase_movie_ID</th>\n",
       "      <th>Movie_release_date</th>\n",
       "      <th>Character_name</th>\n",
       "      <th>Actor_date_of_birth</th>\n",
       "      <th>Actor_gender</th>\n",
       "      <th>Actor_height</th>\n",
       "      <th>Actor_ethnicity</th>\n",
       "      <th>Actor_name</th>\n",
       "      <th>Actor_age_at_movie_release</th>\n",
       "      <th>Freebase_character_actor_map_ID</th>\n",
       "      <th>Freebase_character_ID</th>\n",
       "      <th>Freebase_actor_ID</th>\n",
       "      <th>Plot_Summary</th>\n",
       "    </tr>\n",
       "    <tr>\n",
       "      <th>Wikipedia_movie_ID</th>\n",
=======
       "      <th>Freebase movie ID</th>\n",
       "      <th>Movie release date</th>\n",
       "      <th>Character name</th>\n",
       "      <th>Actor date of birth</th>\n",
       "      <th>Actor gender</th>\n",
       "      <th>Actor height</th>\n",
       "      <th>Actor ethnicity</th>\n",
       "      <th>Actor name</th>\n",
       "      <th>Actor age at movie release</th>\n",
       "      <th>Freebase character/actor map ID</th>\n",
       "      <th>Freebase character ID</th>\n",
       "      <th>Freebase actor ID</th>\n",
       "      <th>Plot Summary</th>\n",
       "    </tr>\n",
       "    <tr>\n",
       "      <th>Wikipedia movie ID</th>\n",
>>>>>>> 66233b9cf7d09787845ba636b900f1f47b91ce3d
       "      <th></th>\n",
       "      <th></th>\n",
       "      <th></th>\n",
       "      <th></th>\n",
       "      <th></th>\n",
       "      <th></th>\n",
       "      <th></th>\n",
       "      <th></th>\n",
       "      <th></th>\n",
       "      <th></th>\n",
       "      <th></th>\n",
       "      <th></th>\n",
       "      <th></th>\n",
       "    </tr>\n",
       "  </thead>\n",
       "  <tbody>\n",
       "    <tr>\n",
       "      <th>3217</th>\n",
       "      <td>/m/014hr</td>\n",
       "      <td>1992-10-09</td>\n",
       "      <td>S-Mart Clerk</td>\n",
       "      <td>1965-12-14</td>\n",
       "      <td>M</td>\n",
       "      <td>1.87</td>\n",
       "      <td>NaN</td>\n",
       "      <td>Ted Raimi</td>\n",
       "      <td>26.0</td>\n",
       "      <td>/m/0hgcnkm</td>\n",
       "      <td>/m/0hgcnkq</td>\n",
       "      <td>/m/07qn0</td>\n",
       "      <td>After being pulled through a time portal, Ash ...</td>\n",
       "    </tr>\n",
       "    <tr>\n",
       "      <th>3217</th>\n",
       "      <td>/m/014hr</td>\n",
       "      <td>1992-10-09</td>\n",
       "      <td>Fake shemp</td>\n",
       "      <td>1956-01-01</td>\n",
       "      <td>M</td>\n",
       "      <td>NaN</td>\n",
       "      <td>NaN</td>\n",
       "      <td>Ivan Raimi</td>\n",
       "      <td>36.0</td>\n",
       "      <td>/m/04hzm56</td>\n",
       "      <td>/m/089hc6</td>\n",
       "      <td>/m/0gmjf8</td>\n",
       "      <td>After being pulled through a time portal, Ash ...</td>\n",
       "    </tr>\n",
       "    <tr>\n",
       "      <th>3217</th>\n",
       "      <td>/m/014hr</td>\n",
       "      <td>1992-10-09</td>\n",
       "      <td>Ash Williams</td>\n",
       "      <td>1958-06-22</td>\n",
       "      <td>M</td>\n",
       "      <td>1.85</td>\n",
       "      <td>NaN</td>\n",
       "      <td>Bruce Campbell</td>\n",
       "      <td>34.0</td>\n",
       "      <td>/m/0jtqtd</td>\n",
       "      <td>/m/06_krl</td>\n",
       "      <td>/m/01h8f</td>\n",
       "      <td>After being pulled through a time portal, Ash ...</td>\n",
       "    </tr>\n",
       "    <tr>\n",
       "      <th>3217</th>\n",
       "      <td>/m/014hr</td>\n",
       "      <td>1992-10-09</td>\n",
       "      <td>Evil Ash</td>\n",
       "      <td>1958-06-22</td>\n",
       "      <td>M</td>\n",
       "      <td>1.85</td>\n",
       "      <td>NaN</td>\n",
       "      <td>Bruce Campbell</td>\n",
       "      <td>34.0</td>\n",
       "      <td>/m/0jtgxg0</td>\n",
       "      <td>/m/0jtgxg3</td>\n",
       "      <td>/m/01h8f</td>\n",
       "      <td>After being pulled through a time portal, Ash ...</td>\n",
       "    </tr>\n",
       "    <tr>\n",
       "      <th>3217</th>\n",
       "      <td>/m/014hr</td>\n",
       "      <td>1992-10-09</td>\n",
       "      <td>Cowardly Warrior</td>\n",
       "      <td>1965-12-14</td>\n",
       "      <td>M</td>\n",
       "      <td>1.87</td>\n",
       "      <td>NaN</td>\n",
       "      <td>Ted Raimi</td>\n",
       "      <td>26.0</td>\n",
       "      <td>/m/04hzm5x</td>\n",
       "      <td>/m/0hgcnjh</td>\n",
       "      <td>/m/07qn0</td>\n",
       "      <td>After being pulled through a time portal, Ash ...</td>\n",
       "    </tr>\n",
       "  </tbody>\n",
       "</table>\n",
       "</div>"
      ],
      "text/plain": [
<<<<<<< HEAD
       "                   Freebase_movie_ID Movie_release_date    Character_name  \\\n",
       "Wikipedia_movie_ID                                                          \n",
=======
       "                   Freebase movie ID Movie release date    Character name  \\\n",
       "Wikipedia movie ID                                                          \n",
>>>>>>> 66233b9cf7d09787845ba636b900f1f47b91ce3d
       "3217                        /m/014hr         1992-10-09      S-Mart Clerk   \n",
       "3217                        /m/014hr         1992-10-09        Fake shemp   \n",
       "3217                        /m/014hr         1992-10-09      Ash Williams   \n",
       "3217                        /m/014hr         1992-10-09          Evil Ash   \n",
       "3217                        /m/014hr         1992-10-09  Cowardly Warrior   \n",
       "\n",
<<<<<<< HEAD
       "                   Actor_date_of_birth Actor_gender  Actor_height  \\\n",
       "Wikipedia_movie_ID                                                  \n",
=======
       "                   Actor date of birth Actor gender  Actor height  \\\n",
       "Wikipedia movie ID                                                  \n",
>>>>>>> 66233b9cf7d09787845ba636b900f1f47b91ce3d
       "3217                        1965-12-14            M          1.87   \n",
       "3217                        1956-01-01            M           NaN   \n",
       "3217                        1958-06-22            M          1.85   \n",
       "3217                        1958-06-22            M          1.85   \n",
       "3217                        1965-12-14            M          1.87   \n",
       "\n",
<<<<<<< HEAD
       "                   Actor_ethnicity      Actor_name  \\\n",
       "Wikipedia_movie_ID                                   \n",
=======
       "                   Actor ethnicity      Actor name  \\\n",
       "Wikipedia movie ID                                   \n",
>>>>>>> 66233b9cf7d09787845ba636b900f1f47b91ce3d
       "3217                           NaN       Ted Raimi   \n",
       "3217                           NaN      Ivan Raimi   \n",
       "3217                           NaN  Bruce Campbell   \n",
       "3217                           NaN  Bruce Campbell   \n",
       "3217                           NaN       Ted Raimi   \n",
       "\n",
<<<<<<< HEAD
       "                    Actor_age_at_movie_release  \\\n",
       "Wikipedia_movie_ID                               \n",
=======
       "                    Actor age at movie release  \\\n",
       "Wikipedia movie ID                               \n",
>>>>>>> 66233b9cf7d09787845ba636b900f1f47b91ce3d
       "3217                                      26.0   \n",
       "3217                                      36.0   \n",
       "3217                                      34.0   \n",
       "3217                                      34.0   \n",
       "3217                                      26.0   \n",
       "\n",
<<<<<<< HEAD
       "                   Freebase_character_actor_map_ID Freebase_character_ID  \\\n",
       "Wikipedia_movie_ID                                                         \n",
=======
       "                   Freebase character/actor map ID Freebase character ID  \\\n",
       "Wikipedia movie ID                                                         \n",
>>>>>>> 66233b9cf7d09787845ba636b900f1f47b91ce3d
       "3217                                    /m/0hgcnkm            /m/0hgcnkq   \n",
       "3217                                    /m/04hzm56             /m/089hc6   \n",
       "3217                                     /m/0jtqtd             /m/06_krl   \n",
       "3217                                    /m/0jtgxg0            /m/0jtgxg3   \n",
       "3217                                    /m/04hzm5x            /m/0hgcnjh   \n",
       "\n",
<<<<<<< HEAD
       "                   Freebase_actor_ID  \\\n",
       "Wikipedia_movie_ID                     \n",
=======
       "                   Freebase actor ID  \\\n",
       "Wikipedia movie ID                     \n",
>>>>>>> 66233b9cf7d09787845ba636b900f1f47b91ce3d
       "3217                        /m/07qn0   \n",
       "3217                       /m/0gmjf8   \n",
       "3217                        /m/01h8f   \n",
       "3217                        /m/01h8f   \n",
       "3217                        /m/07qn0   \n",
       "\n",
<<<<<<< HEAD
       "                                                         Plot_Summary  \n",
       "Wikipedia_movie_ID                                                     \n",
=======
       "                                                         Plot Summary  \n",
       "Wikipedia movie ID                                                     \n",
>>>>>>> 66233b9cf7d09787845ba636b900f1f47b91ce3d
       "3217                After being pulled through a time portal, Ash ...  \n",
       "3217                After being pulled through a time portal, Ash ...  \n",
       "3217                After being pulled through a time portal, Ash ...  \n",
       "3217                After being pulled through a time portal, Ash ...  \n",
       "3217                After being pulled through a time portal, Ash ...  "
      ]
     },
<<<<<<< HEAD
     "execution_count": 48,
=======
     "execution_count": 116,
>>>>>>> 66233b9cf7d09787845ba636b900f1f47b91ce3d
     "metadata": {},
     "output_type": "execute_result"
    }
   ],
   "source": [
    "characters_plot=pd.merge(character_dropna_name,plot_summaries, left_index=True, right_index=True, how=\"inner\")\n",
<<<<<<< HEAD
    "characters_plot['Movie_release_date'] = pd.to_datetime(characters_plot['Movie_release_date'],errors='coerce')\n",
    "characters_plot['Actor_date_of_birth'] = pd.to_datetime(characters_plot['Actor_date_of_birth'],errors='coerce') #might need to automate the process here\n",
=======
    "characters_plot['Movie release date'] = pd.to_datetime(characters_plot['Movie release date'],errors='coerce')\n",
    "characters_plot['Actor date of birth'] = pd.to_datetime(characters_plot['Actor date of birth'],errors='coerce') #might need to automate the process here\n",
>>>>>>> 66233b9cf7d09787845ba636b900f1f47b91ce3d
    "print('we will consider', len(character_dropna_name), 'characters and', len(characters_plot.index.drop_duplicates()),'movies')\n",
    "characters_plot.head()"
   ]
  },
  {
   "cell_type": "code",
   "execution_count": null,
   "metadata": {},
   "outputs": [
    {
<<<<<<< HEAD
     "data": {
      "text/html": [
       "<div>\n",
       "<style scoped>\n",
       "    .dataframe tbody tr th:only-of-type {\n",
       "        vertical-align: middle;\n",
       "    }\n",
       "\n",
       "    .dataframe tbody tr th {\n",
       "        vertical-align: top;\n",
       "    }\n",
       "\n",
       "    .dataframe thead th {\n",
       "        text-align: right;\n",
       "    }\n",
       "</style>\n",
       "<table border=\"1\" class=\"dataframe\">\n",
       "  <thead>\n",
       "    <tr style=\"text-align: right;\">\n",
       "      <th></th>\n",
       "      <th>Plot_Summary</th>\n",
       "    </tr>\n",
       "    <tr>\n",
       "      <th>Wikipedia_movie_ID</th>\n",
       "      <th></th>\n",
       "    </tr>\n",
       "  </thead>\n",
       "  <tbody>\n",
       "    <tr>\n",
       "      <th>23890098</th>\n",
       "      <td>Shlykov, a hard-working taxi driver and Lyosha...</td>\n",
       "    </tr>\n",
       "    <tr>\n",
       "      <th>31186339</th>\n",
       "      <td>The nation of Panem consists of a wealthy Capi...</td>\n",
       "    </tr>\n",
       "    <tr>\n",
       "      <th>20663735</th>\n",
       "      <td>Poovalli Induchoodan  is sentenced for six yea...</td>\n",
       "    </tr>\n",
       "    <tr>\n",
       "      <th>2231378</th>\n",
       "      <td>The Lemon Drop Kid , a New York City swindler,...</td>\n",
       "    </tr>\n",
       "    <tr>\n",
       "      <th>595909</th>\n",
       "      <td>Seventh-day Adventist Church pastor Michael Ch...</td>\n",
       "    </tr>\n",
       "    <tr>\n",
       "      <th>...</th>\n",
       "      <td>...</td>\n",
       "    </tr>\n",
       "    <tr>\n",
       "      <th>34808485</th>\n",
       "      <td>The story is about Reema , a young Muslim scho...</td>\n",
       "    </tr>\n",
       "    <tr>\n",
       "      <th>1096473</th>\n",
       "      <td>In 1928 Hollywood, director Leo Andreyev  look...</td>\n",
       "    </tr>\n",
       "    <tr>\n",
       "      <th>35102018</th>\n",
       "      <td>American Luthier focuses on Randy Parsons’ tra...</td>\n",
       "    </tr>\n",
       "    <tr>\n",
       "      <th>8628195</th>\n",
       "      <td>Abdur Rehman Khan , a middle-aged dry fruit se...</td>\n",
       "    </tr>\n",
       "    <tr>\n",
       "      <th>6040782</th>\n",
       "      <td>1940 - Operation Dynamo has just taken place. ...</td>\n",
       "    </tr>\n",
       "  </tbody>\n",
       "</table>\n",
       "<p>42303 rows × 1 columns</p>\n",
       "</div>"
      ],
      "text/plain": [
       "                                                         Plot_Summary\n",
       "Wikipedia_movie_ID                                                   \n",
       "23890098            Shlykov, a hard-working taxi driver and Lyosha...\n",
       "31186339            The nation of Panem consists of a wealthy Capi...\n",
       "20663735            Poovalli Induchoodan  is sentenced for six yea...\n",
       "2231378             The Lemon Drop Kid , a New York City swindler,...\n",
       "595909              Seventh-day Adventist Church pastor Michael Ch...\n",
       "...                                                               ...\n",
       "34808485            The story is about Reema , a young Muslim scho...\n",
       "1096473             In 1928 Hollywood, director Leo Andreyev  look...\n",
       "35102018            American Luthier focuses on Randy Parsons’ tra...\n",
       "8628195             Abdur Rehman Khan , a middle-aged dry fruit se...\n",
       "6040782             1940 - Operation Dynamo has just taken place. ...\n",
       "\n",
       "[42303 rows x 1 columns]"
      ]
     },
     "execution_count": 49,
=======
     "ename": "SyntaxError",
     "evalue": "EOL while scanning string literal (2302735547.py, line 1)",
     "output_type": "error",
     "traceback": [
      "\u001b[0;36m  Cell \u001b[0;32mIn [354], line 1\u001b[0;36m\u001b[0m\n\u001b[0;31m    characters_plot['Plot Summary']=characters_plot['Plot Summary'].replace(\"\\\",\"\")\u001b[0m\n\u001b[0m                                                                                   ^\u001b[0m\n\u001b[0;31mSyntaxError\u001b[0m\u001b[0;31m:\u001b[0m EOL while scanning string literal\n"
     ]
    }
   ],
   "source": [
    "characters_plot['Plot Summary']=characters_plot['Plot Summary'].replace(\"\\\",\"\")\n",
    "characters_plot\n"
   ]
  },
  {
   "cell_type": "code",
   "execution_count": null,
   "metadata": {},
   "outputs": [
    {
     "data": {
      "text/plain": [
       "'After being pulled through a time portal, Ash Williams lands in 1300 AD, where he is almost immediately captured by Lord Arthur\\'s men, who suspect him to be an agent for Duke Henry, with whom Arthur is at war. He is enslaved along with the captured Henry, his gun and chainsaw confiscated, and is taken to a castle. Ash is thrown in a pit where he fights off a Deadite and regains his weapons from Arthur\\'s Wise Man. After demanding Henry and his men be set free  and killing a deadite in full view of everyone, Ash is celebrated as a hero. He also grows attracted to Sheila, the sister of one of Arthur\\'s fallen knights. According to the Wise Man, the only way Ash can return to his time is to retrieve the Necronomicon Ex-Mortis. After bidding goodbye to Sheila, Ash starts his search for the Necronomicon. As he enters a haunted forest, an unseen force pursues Ash through the woods. Fleeing, he ducks into a windmill where he crashes into a mirror. The small reflections of Ash climb out from the shattered mirror and torment him. One of the reflections dives down Ash\\'s throat and uses his body to become a life-sized clone of Ash and attack him, after which Ash kills and buries the clone. When he arrives at the Necronomicon\\'s location, he finds three books instead of one. Ash eventually finds the real one and attempts to say the magic phrase that will allow him to remove the book safely — \"Klaatu verata nicto\". However, forgetting the last word, he tries to trick the book by mumbling/coughing the missing word. He then grabs the book from the cradle, and rushes back to the castle, while the dead rise from graves all around. During Ash\\'s panicked ride back, his evil copy rises from his grave and unites the Deadites into the Army of Darkness. Despite causing the predicament faced by the Medieval soldiers, Ash initially demands to be returned to his own time. However, Sheila is captured by a Flying Deadite, and later transformed into a Deadite. Ash becomes determined to lead the humans against the army of the dead. Reluctantly, the people agree to join Ash. Using scientific knowledge from textbooks in the trunk of his 1973 Oldsmobile Delta 88, and enlisting the help of Duke Henry, Ash successfully leads the medieval soldiers to victory over the Deadites and Evil Ash, saving Sheila and bringing peace between Arthur and Henry in the process. After this, he is brought back to his own time using a potion made from the Necronomicon. Later, Ash is at the S-Mart store telling a male co-worker  all about his adventure back in time, and how he could have been king. A female customer becomes possessed by a demon and starts wreaking havoc on the store, and Ash slays the creature.'"
      ]
     },
     "execution_count": 388,
>>>>>>> 66233b9cf7d09787845ba636b900f1f47b91ce3d
     "metadata": {},
     "output_type": "execute_result"
    }
   ],
   "source": [
<<<<<<< HEAD
    "\n",
    "plot_summaries\n"
=======
    "characters_plot['Plot Summary'].iloc[0]\n"
>>>>>>> 66233b9cf7d09787845ba636b900f1f47b91ce3d
   ]
  },
  {
   "cell_type": "code",
   "execution_count": null,
   "metadata": {},
   "outputs": [],
   "source": [
<<<<<<< HEAD
    "#create a function that counts the occurence of a word in a string\n",
    "def count_word(word, string):\n",
    "    return string.count(word)\n",
    "\n",
    "#count the number of times each character is mentioned in the plot summary\n",
    "plot_summaries['Character_occurence'] = plot_summaries.apply(lambda x: count_word(x['Character_name'], x['Plot_Summary']), axis=1)\n",
    "\n"
=======
    "def countOccurrences(str, word):\n",
    " \n",
    "    wordslist = list(str.split())\n",
    "    return wordslist.count(word)\n"
   ]
  },
  {
   "cell_type": "markdown",
   "metadata": {},
   "source": [
    "## STEP 4 : Discrimination through types of roles attribution and its evolution in time"
   ]
  },
  {
   "cell_type": "markdown",
   "metadata": {},
   "source": [
    "## Step 4.1: Summaries treatment"
>>>>>>> 66233b9cf7d09787845ba636b900f1f47b91ce3d
   ]
  },
  {
   "cell_type": "code",
   "execution_count": null,
<<<<<<< HEAD
   "metadata": {},
   "outputs": [
    {
     "data": {
      "text/html": [
       "<div>\n",
       "<style scoped>\n",
       "    .dataframe tbody tr th:only-of-type {\n",
       "        vertical-align: middle;\n",
       "    }\n",
       "\n",
       "    .dataframe tbody tr th {\n",
       "        vertical-align: top;\n",
       "    }\n",
       "\n",
       "    .dataframe thead th {\n",
       "        text-align: right;\n",
       "    }\n",
       "</style>\n",
       "<table border=\"1\" class=\"dataframe\">\n",
       "  <thead>\n",
       "    <tr style=\"text-align: right;\">\n",
       "      <th></th>\n",
       "      <th>Plot_Summary</th>\n",
       "      <th>Freebase_movie_ID</th>\n",
       "      <th>Movie_release_date</th>\n",
       "      <th>Character_name</th>\n",
       "      <th>Actor_date_of_birth</th>\n",
       "      <th>Actor_gender</th>\n",
       "      <th>Actor_height</th>\n",
       "      <th>Actor_ethnicity</th>\n",
       "      <th>Actor_name</th>\n",
       "      <th>Actor_age_at_movie_release</th>\n",
       "      <th>Freebase_character_actor_map_ID</th>\n",
       "      <th>Freebase_character_ID</th>\n",
       "      <th>Freebase_actor_ID</th>\n",
       "      <th>Character_occurence</th>\n",
       "    </tr>\n",
       "    <tr>\n",
       "      <th>Wikipedia_movie_ID</th>\n",
       "      <th></th>\n",
       "      <th></th>\n",
       "      <th></th>\n",
       "      <th></th>\n",
       "      <th></th>\n",
       "      <th></th>\n",
       "      <th></th>\n",
       "      <th></th>\n",
       "      <th></th>\n",
       "      <th></th>\n",
       "      <th></th>\n",
       "      <th></th>\n",
       "      <th></th>\n",
       "      <th></th>\n",
       "    </tr>\n",
       "  </thead>\n",
       "  <tbody>\n",
       "    <tr>\n",
       "      <th>31186339</th>\n",
       "      <td>The nation of Panem consists of a wealthy Capi...</td>\n",
       "      <td>/m/0gkz15s</td>\n",
       "      <td>2012-03-12</td>\n",
       "      <td>Gale Hawthorne</td>\n",
       "      <td>1990-01-13</td>\n",
       "      <td>M</td>\n",
       "      <td>1.910</td>\n",
       "      <td>/m/0bbz66j</td>\n",
       "      <td>Liam Hemsworth</td>\n",
       "      <td>22.0</td>\n",
       "      <td>/m/0gw7kv7</td>\n",
       "      <td>/m/0ds96_p</td>\n",
       "      <td>/m/04yd0fh</td>\n",
       "      <td>0</td>\n",
       "    </tr>\n",
       "    <tr>\n",
       "      <th>31186339</th>\n",
       "      <td>The nation of Panem consists of a wealthy Capi...</td>\n",
       "      <td>/m/0gkz15s</td>\n",
       "      <td>2012-03-12</td>\n",
       "      <td>Caesar Flickerman</td>\n",
       "      <td>1960-11-11</td>\n",
       "      <td>M</td>\n",
       "      <td>1.721</td>\n",
       "      <td>/m/0xnvg</td>\n",
       "      <td>Stanley Tucci</td>\n",
       "      <td>51.0</td>\n",
       "      <td>/m/0gw7kw1</td>\n",
       "      <td>/m/0gwc3bn</td>\n",
       "      <td>/m/02bj6k</td>\n",
       "      <td>1</td>\n",
       "    </tr>\n",
       "    <tr>\n",
       "      <th>31186339</th>\n",
       "      <td>The nation of Panem consists of a wealthy Capi...</td>\n",
       "      <td>/m/0gkz15s</td>\n",
       "      <td>2012-03-12</td>\n",
       "      <td>President Snow</td>\n",
       "      <td>1935-07-17</td>\n",
       "      <td>M</td>\n",
       "      <td>1.930</td>\n",
       "      <td>/m/07bch9</td>\n",
       "      <td>Donald Sutherland</td>\n",
       "      <td>76.0</td>\n",
       "      <td>/m/0gwc391</td>\n",
       "      <td>/m/0dsbx11</td>\n",
       "      <td>/m/0ywqc</td>\n",
       "      <td>2</td>\n",
       "    </tr>\n",
       "    <tr>\n",
       "      <th>31186339</th>\n",
       "      <td>The nation of Panem consists of a wealthy Capi...</td>\n",
       "      <td>/m/0gkz15s</td>\n",
       "      <td>2012-03-12</td>\n",
       "      <td>Cinna</td>\n",
       "      <td>1964-05-26</td>\n",
       "      <td>M</td>\n",
       "      <td>1.740</td>\n",
       "      <td>/m/041rx</td>\n",
       "      <td>Lenny Kravitz</td>\n",
       "      <td>47.0</td>\n",
       "      <td>/m/0gw7kvx</td>\n",
       "      <td>/m/0gwc39n</td>\n",
       "      <td>/m/0161sp</td>\n",
       "      <td>0</td>\n",
       "    </tr>\n",
       "    <tr>\n",
       "      <th>31186339</th>\n",
       "      <td>The nation of Panem consists of a wealthy Capi...</td>\n",
       "      <td>/m/0gkz15s</td>\n",
       "      <td>2012-03-12</td>\n",
       "      <td>Claudius Templesmith</td>\n",
       "      <td>1966-09-07</td>\n",
       "      <td>M</td>\n",
       "      <td>1.650</td>\n",
       "      <td>/m/0d7wh</td>\n",
       "      <td>Toby Jones</td>\n",
       "      <td>45.0</td>\n",
       "      <td>/m/0j5lh7t</td>\n",
       "      <td>/m/0j5lh7x</td>\n",
       "      <td>/m/071ywj</td>\n",
       "      <td>0</td>\n",
       "    </tr>\n",
       "    <tr>\n",
       "      <th>...</th>\n",
       "      <td>...</td>\n",
       "      <td>...</td>\n",
       "      <td>...</td>\n",
       "      <td>...</td>\n",
       "      <td>...</td>\n",
       "      <td>...</td>\n",
       "      <td>...</td>\n",
       "      <td>...</td>\n",
       "      <td>...</td>\n",
       "      <td>...</td>\n",
       "      <td>...</td>\n",
       "      <td>...</td>\n",
       "      <td>...</td>\n",
       "      <td>...</td>\n",
       "    </tr>\n",
       "    <tr>\n",
       "      <th>8605430</th>\n",
       "      <td>The story develops around the evolution of Tit...</td>\n",
       "      <td>/m/0279p_0</td>\n",
       "      <td>2002</td>\n",
       "      <td>Titli</td>\n",
       "      <td>1979-12-03</td>\n",
       "      <td>F</td>\n",
       "      <td>1.550</td>\n",
       "      <td>/m/0dryh9k</td>\n",
       "      <td>Konkona Sen Sharma</td>\n",
       "      <td>22.0</td>\n",
       "      <td>/m/02tb7xb</td>\n",
       "      <td>/m/04hqnqj</td>\n",
       "      <td>/m/09w3dt</td>\n",
       "      <td>12</td>\n",
       "    </tr>\n",
       "    <tr>\n",
       "      <th>4913923</th>\n",
       "      <td>In Northern Norway during the 1860s, a little ...</td>\n",
       "      <td>/m/0cty8f</td>\n",
       "      <td>2002-03-08</td>\n",
       "      <td>Leo Zhukovsky</td>\n",
       "      <td>1964-02-16</td>\n",
       "      <td>M</td>\n",
       "      <td>1.830</td>\n",
       "      <td>/m/02w7gg</td>\n",
       "      <td>Christopher Eccleston</td>\n",
       "      <td>38.0</td>\n",
       "      <td>/m/0jzpw0</td>\n",
       "      <td>/m/0h0v5q0</td>\n",
       "      <td>/m/02cbs0</td>\n",
       "      <td>0</td>\n",
       "    </tr>\n",
       "    <tr>\n",
       "      <th>4913923</th>\n",
       "      <td>In Northern Norway during the 1860s, a little ...</td>\n",
       "      <td>/m/0cty8f</td>\n",
       "      <td>2002-03-08</td>\n",
       "      <td>Niels</td>\n",
       "      <td>1965-11-22</td>\n",
       "      <td>M</td>\n",
       "      <td>1.830</td>\n",
       "      <td>/m/0268_k</td>\n",
       "      <td>Mads Mikkelsen</td>\n",
       "      <td>36.0</td>\n",
       "      <td>/m/04d89tq</td>\n",
       "      <td>/m/0h39rc3</td>\n",
       "      <td>/m/076svb</td>\n",
       "      <td>7</td>\n",
       "    </tr>\n",
       "    <tr>\n",
       "      <th>26261438</th>\n",
       "      <td>While drinking alone one night and reminiscing...</td>\n",
       "      <td>/m/0b76dxj</td>\n",
       "      <td>1989</td>\n",
       "      <td>Xenos</td>\n",
       "      <td>1919-02-18</td>\n",
       "      <td>M</td>\n",
       "      <td>1.930</td>\n",
       "      <td>/m/0ffjvd</td>\n",
       "      <td>Jack Palance</td>\n",
       "      <td>69.0</td>\n",
       "      <td>/m/0gm35v0</td>\n",
       "      <td>/m/0gm35r7</td>\n",
       "      <td>/m/02t_w8</td>\n",
       "      <td>6</td>\n",
       "    </tr>\n",
       "    <tr>\n",
       "      <th>17208834</th>\n",
       "      <td>A high school prom in Georgia is unexpectedly ...</td>\n",
       "      <td>/m/04ydw1v</td>\n",
       "      <td>2008-10-13</td>\n",
       "      <td>Jensen</td>\n",
       "      <td>1990-08-10</td>\n",
       "      <td>M</td>\n",
       "      <td>1.780</td>\n",
       "      <td>/m/02ctzb</td>\n",
       "      <td>Lucas Till</td>\n",
       "      <td>18.0</td>\n",
       "      <td>/m/0cg5yh3</td>\n",
       "      <td>/m/0cwf3b_</td>\n",
       "      <td>/m/09tpw5</td>\n",
       "      <td>5</td>\n",
       "    </tr>\n",
       "  </tbody>\n",
       "</table>\n",
       "<p>38232 rows × 14 columns</p>\n",
       "</div>"
      ],
      "text/plain": [
       "                                                         Plot_Summary  \\\n",
       "Wikipedia_movie_ID                                                      \n",
       "31186339            The nation of Panem consists of a wealthy Capi...   \n",
       "31186339            The nation of Panem consists of a wealthy Capi...   \n",
       "31186339            The nation of Panem consists of a wealthy Capi...   \n",
       "31186339            The nation of Panem consists of a wealthy Capi...   \n",
       "31186339            The nation of Panem consists of a wealthy Capi...   \n",
       "...                                                               ...   \n",
       "8605430             The story develops around the evolution of Tit...   \n",
       "4913923             In Northern Norway during the 1860s, a little ...   \n",
       "4913923             In Northern Norway during the 1860s, a little ...   \n",
       "26261438            While drinking alone one night and reminiscing...   \n",
       "17208834            A high school prom in Georgia is unexpectedly ...   \n",
       "\n",
       "                   Freebase_movie_ID Movie_release_date        Character_name  \\\n",
       "Wikipedia_movie_ID                                                              \n",
       "31186339                  /m/0gkz15s         2012-03-12        Gale Hawthorne   \n",
       "31186339                  /m/0gkz15s         2012-03-12     Caesar Flickerman   \n",
       "31186339                  /m/0gkz15s         2012-03-12        President Snow   \n",
       "31186339                  /m/0gkz15s         2012-03-12                 Cinna   \n",
       "31186339                  /m/0gkz15s         2012-03-12  Claudius Templesmith   \n",
       "...                              ...                ...                   ...   \n",
       "8605430                   /m/0279p_0               2002                 Titli   \n",
       "4913923                    /m/0cty8f         2002-03-08         Leo Zhukovsky   \n",
       "4913923                    /m/0cty8f         2002-03-08                 Niels   \n",
       "26261438                  /m/0b76dxj               1989                 Xenos   \n",
       "17208834                  /m/04ydw1v         2008-10-13                Jensen   \n",
       "\n",
       "                   Actor_date_of_birth Actor_gender  Actor_height  \\\n",
       "Wikipedia_movie_ID                                                  \n",
       "31186339                    1990-01-13            M         1.910   \n",
       "31186339                    1960-11-11            M         1.721   \n",
       "31186339                    1935-07-17            M         1.930   \n",
       "31186339                    1964-05-26            M         1.740   \n",
       "31186339                    1966-09-07            M         1.650   \n",
       "...                                ...          ...           ...   \n",
       "8605430                     1979-12-03            F         1.550   \n",
       "4913923                     1964-02-16            M         1.830   \n",
       "4913923                     1965-11-22            M         1.830   \n",
       "26261438                    1919-02-18            M         1.930   \n",
       "17208834                    1990-08-10            M         1.780   \n",
       "\n",
       "                   Actor_ethnicity             Actor_name  \\\n",
       "Wikipedia_movie_ID                                          \n",
       "31186339                /m/0bbz66j         Liam Hemsworth   \n",
       "31186339                  /m/0xnvg          Stanley Tucci   \n",
       "31186339                 /m/07bch9      Donald Sutherland   \n",
       "31186339                  /m/041rx          Lenny Kravitz   \n",
       "31186339                  /m/0d7wh             Toby Jones   \n",
       "...                            ...                    ...   \n",
       "8605430                 /m/0dryh9k     Konkona Sen Sharma   \n",
       "4913923                  /m/02w7gg  Christopher Eccleston   \n",
       "4913923                  /m/0268_k         Mads Mikkelsen   \n",
       "26261438                 /m/0ffjvd           Jack Palance   \n",
       "17208834                 /m/02ctzb             Lucas Till   \n",
       "\n",
       "                    Actor_age_at_movie_release  \\\n",
       "Wikipedia_movie_ID                               \n",
       "31186339                                  22.0   \n",
       "31186339                                  51.0   \n",
       "31186339                                  76.0   \n",
       "31186339                                  47.0   \n",
       "31186339                                  45.0   \n",
       "...                                        ...   \n",
       "8605430                                   22.0   \n",
       "4913923                                   38.0   \n",
       "4913923                                   36.0   \n",
       "26261438                                  69.0   \n",
       "17208834                                  18.0   \n",
       "\n",
       "                   Freebase_character_actor_map_ID Freebase_character_ID  \\\n",
       "Wikipedia_movie_ID                                                         \n",
       "31186339                                /m/0gw7kv7            /m/0ds96_p   \n",
       "31186339                                /m/0gw7kw1            /m/0gwc3bn   \n",
       "31186339                                /m/0gwc391            /m/0dsbx11   \n",
       "31186339                                /m/0gw7kvx            /m/0gwc39n   \n",
       "31186339                                /m/0j5lh7t            /m/0j5lh7x   \n",
       "...                                            ...                   ...   \n",
       "8605430                                 /m/02tb7xb            /m/04hqnqj   \n",
       "4913923                                  /m/0jzpw0            /m/0h0v5q0   \n",
       "4913923                                 /m/04d89tq            /m/0h39rc3   \n",
       "26261438                                /m/0gm35v0            /m/0gm35r7   \n",
       "17208834                                /m/0cg5yh3            /m/0cwf3b_   \n",
       "\n",
       "                   Freebase_actor_ID  Character_occurence  \n",
       "Wikipedia_movie_ID                                         \n",
       "31186339                  /m/04yd0fh                    0  \n",
       "31186339                   /m/02bj6k                    1  \n",
       "31186339                    /m/0ywqc                    2  \n",
       "31186339                   /m/0161sp                    0  \n",
       "31186339                   /m/071ywj                    0  \n",
       "...                              ...                  ...  \n",
       "8605430                    /m/09w3dt                   12  \n",
       "4913923                    /m/02cbs0                    0  \n",
       "4913923                    /m/076svb                    7  \n",
       "26261438                   /m/02t_w8                    6  \n",
       "17208834                   /m/09tpw5                    5  \n",
       "\n",
       "[38232 rows x 14 columns]"
      ]
     },
     "execution_count": 52,
     "metadata": {},
     "output_type": "execute_result"
    }
   ],
   "source": [
    "plot_summaries"
   ]
  },
  {
   "cell_type": "code",
   "execution_count": null,
   "metadata": {},
   "outputs": [
    {
     "data": {
      "text/html": [
       "<div>\n",
       "<style scoped>\n",
       "    .dataframe tbody tr th:only-of-type {\n",
       "        vertical-align: middle;\n",
       "    }\n",
       "\n",
       "    .dataframe tbody tr th {\n",
       "        vertical-align: top;\n",
       "    }\n",
       "\n",
       "    .dataframe thead th {\n",
       "        text-align: right;\n",
       "    }\n",
       "</style>\n",
       "<table border=\"1\" class=\"dataframe\">\n",
       "  <thead>\n",
       "    <tr style=\"text-align: right;\">\n",
       "      <th></th>\n",
       "      <th>Freebase_movie_ID</th>\n",
       "      <th>Character_name</th>\n",
       "      <th>Actor_gender</th>\n",
       "    </tr>\n",
       "  </thead>\n",
       "  <tbody>\n",
       "    <tr>\n",
       "      <th>0</th>\n",
       "      <td>/m/011wtv</td>\n",
       "      <td>Agatha</td>\n",
       "      <td>F</td>\n",
       "    </tr>\n",
       "    <tr>\n",
       "      <th>1</th>\n",
       "      <td>/m/011x_4</td>\n",
       "      <td>Phil Connors</td>\n",
       "      <td>M</td>\n",
       "    </tr>\n",
       "    <tr>\n",
       "      <th>2</th>\n",
       "      <td>/m/011xg5</td>\n",
       "      <td>David</td>\n",
       "      <td>M</td>\n",
       "    </tr>\n",
       "    <tr>\n",
       "      <th>3</th>\n",
       "      <td>/m/011xrr</td>\n",
       "      <td>Lord John Whorfin</td>\n",
       "      <td>M</td>\n",
       "    </tr>\n",
       "    <tr>\n",
       "      <th>4</th>\n",
       "      <td>/m/011ycb</td>\n",
       "      <td>Albert Freedman</td>\n",
       "      <td>M</td>\n",
       "    </tr>\n",
       "    <tr>\n",
       "      <th>...</th>\n",
       "      <td>...</td>\n",
       "      <td>...</td>\n",
       "      <td>...</td>\n",
       "    </tr>\n",
       "    <tr>\n",
       "      <th>15079</th>\n",
       "      <td>/m/0yyg4</td>\n",
       "      <td>Anderson</td>\n",
       "      <td>M</td>\n",
       "    </tr>\n",
       "    <tr>\n",
       "      <th>15080</th>\n",
       "      <td>/m/0yyn5</td>\n",
       "      <td>Jack Trainer</td>\n",
       "      <td>M</td>\n",
       "    </tr>\n",
       "    <tr>\n",
       "      <th>15081</th>\n",
       "      <td>/m/0yyts</td>\n",
       "      <td>Hoke Colburn</td>\n",
       "      <td>M</td>\n",
       "    </tr>\n",
       "    <tr>\n",
       "      <th>15082</th>\n",
       "      <td>/m/0yzbg</td>\n",
       "      <td>Todd Anderson</td>\n",
       "      <td>M</td>\n",
       "    </tr>\n",
       "    <tr>\n",
       "      <th>15083</th>\n",
       "      <td>/m/0yzp8</td>\n",
       "      <td>Shoeless Joe Jackson</td>\n",
       "      <td>M</td>\n",
       "    </tr>\n",
       "  </tbody>\n",
       "</table>\n",
       "<p>15084 rows × 3 columns</p>\n",
       "</div>"
      ],
      "text/plain": [
       "      Freebase_movie_ID        Character_name Actor_gender\n",
       "0             /m/011wtv                Agatha            F\n",
       "1             /m/011x_4          Phil Connors            M\n",
       "2             /m/011xg5                 David            M\n",
       "3             /m/011xrr     Lord John Whorfin            M\n",
       "4             /m/011ycb       Albert Freedman            M\n",
       "...                 ...                   ...          ...\n",
       "15079          /m/0yyg4              Anderson            M\n",
       "15080          /m/0yyn5          Jack Trainer            M\n",
       "15081          /m/0yyts          Hoke Colburn            M\n",
       "15082          /m/0yzbg         Todd Anderson            M\n",
       "15083          /m/0yzp8  Shoeless Joe Jackson            M\n",
       "\n",
       "[15084 rows x 3 columns]"
      ]
     },
     "execution_count": 54,
     "metadata": {},
     "output_type": "execute_result"
    }
   ],
   "source": [
    "#create dataframe with the highest character occurence for each Freebase movie ID and the corresponding character name and gender\n",
    "\n",
    "character_occurence = plot_summaries.groupby('Freebase_movie_ID')['Character_occurence'].max().reset_index()\n",
    "character_occurence = character_occurence.merge(plot_summaries[['Freebase_movie_ID', 'Character_name', 'Character_occurence']], on=['Freebase_movie_ID', 'Character_occurence'], how='left')\n",
    "character_occurence = character_occurence.drop_duplicates(subset='Freebase_movie_ID', keep='first')\n",
    "character_occurence = character_occurence.drop('Character_occurence', axis=1)\n",
    "character_occurence\n",
    "\n",
    "#add character name and gender to character_occurence\n",
    "character_occurence = character_occurence.merge(character_metadata[['Freebase_movie_ID', 'Character_name', 'Actor_gender']], on=['Freebase_movie_ID', 'Character_name'], how='left')\n",
    "\n",
    "character_occurence\n"
   ]
  },
  {
   "cell_type": "code",
   "execution_count": null,
   "metadata": {},
   "outputs": [
    {
     "name": "stdout",
     "output_type": "stream",
     "text": [
      "Freebase_movie_ID    5691\n",
      "Character_name       5691\n",
      "Actor_gender         5691\n",
      "dtype: int64\n"
     ]
    },
    {
     "data": {
      "image/png": "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",
      "text/plain": [
       "<Figure size 640x480 with 1 Axes>"
      ]
     },
     "metadata": {},
     "output_type": "display_data"
    }
   ],
   "source": [
    "x=character_occurence[character_occurence['Actor_gender'] == 'F'].count()\n",
    "print(x)\n",
    "y=character_occurence[character_occurence['Actor_gender'] == 'M'].count()\n",
    "#plot x and y in a pie chart\n",
    "plt.pie([x[0] , y[0]], labels=['number of female main characters', 'number of male main characters'], autopct='%1.1f%%')\n",
    "plt.show()"
   ]
  },
  {
   "cell_type": "markdown",
   "metadata": {},
   "source": [
    "## STEP 4 : Discrimination through types of roles attribution and its evolution in time"
   ]
  },
  {
   "cell_type": "markdown",
   "metadata": {},
   "source": [
    "## Step 4.1: Summaries treatment"
   ]
  },
  {
   "cell_type": "code",
   "execution_count": null,
=======
>>>>>>> 66233b9cf7d09787845ba636b900f1f47b91ce3d
   "metadata": {},
   "outputs": [],
   "source": [
    "# feminine pronouns occurence in summaries"
   ]
  },
  {
   "cell_type": "code",
   "execution_count": null,
   "metadata": {},
   "outputs": [],
   "source": [
    "def indicator_variable(dic,x,s):\n",
    "    '''\n",
    "    Returns indicator variable which equals to 1 if the corresponding headline uses \n",
    "    the corresponding type of pronoun and 0 otherwise.\n",
    "    :param dic: dictionary\n",
    "    :param x: string\n",
    "    :param s: string\n",
    "    :return: indicator variable\n",
    "    '''\n",
    "    return int(bool(set(dic[s]) & set(x.lower().split(\" \"))))"
   ]
  },
  {
   "cell_type": "code",
   "execution_count": null,
   "metadata": {},
   "outputs": [],
   "source": [
    "feature_wordsets = dict([\n",
    "    # https://en.wikipedia.org/wiki/English_personal_pronouns\n",
    "    ('fem_pronoun', ['she','her','hers','herself', \n",
    "                               \"she'll\", \"she's\", 'shes']),\n",
    "    ('masc_pronoun', ['he','him','his','himself',\n",
    "                               \"he'd\", \"he's\", 'hes'])\n",
    "])\n",
    "\n",
    "plot_summaries[\"fem_pronoun\"] = plot_summaries[\"Plot Summary\"].apply(lambda x : indicator_variable(feature_wordsets,x,'fem_pronoun'))\n",
    "plot_summaries[\"masc_pronoun\"] = plot_summaries[\"Plot Summary\"].apply(lambda x : indicator_variable(feature_wordsets,x,'masc_pronoun'))\n"
   ]
  },
  {
   "cell_type": "code",
   "execution_count": null,
   "metadata": {},
   "outputs": [
    {
     "data": {
      "text/html": [
       "<div>\n",
       "<style scoped>\n",
       "    .dataframe tbody tr th:only-of-type {\n",
       "        vertical-align: middle;\n",
       "    }\n",
       "\n",
       "    .dataframe tbody tr th {\n",
       "        vertical-align: top;\n",
       "    }\n",
       "\n",
       "    .dataframe thead th {\n",
       "        text-align: right;\n",
       "    }\n",
       "</style>\n",
       "<table border=\"1\" class=\"dataframe\">\n",
       "  <thead>\n",
       "    <tr style=\"text-align: right;\">\n",
       "      <th></th>\n",
       "      <th>Plot Summary</th>\n",
       "      <th>fem_pronoun</th>\n",
       "      <th>masc_pronoun</th>\n",
       "    </tr>\n",
       "    <tr>\n",
       "      <th>Wikipedia movie ID</th>\n",
       "      <th></th>\n",
       "      <th></th>\n",
       "      <th></th>\n",
       "    </tr>\n",
       "  </thead>\n",
       "  <tbody>\n",
       "    <tr>\n",
       "      <th>23890098</th>\n",
       "      <td>Shlykov, a hard-working taxi driver and Lyosha...</td>\n",
       "      <td>0</td>\n",
       "      <td>0</td>\n",
       "    </tr>\n",
       "    <tr>\n",
       "      <th>31186339</th>\n",
       "      <td>The nation of Panem consists of a wealthy Capi...</td>\n",
       "      <td>1</td>\n",
       "      <td>1</td>\n",
       "    </tr>\n",
       "    <tr>\n",
       "      <th>20663735</th>\n",
       "      <td>Poovalli Induchoodan  is sentenced for six yea...</td>\n",
       "      <td>1</td>\n",
       "      <td>1</td>\n",
       "    </tr>\n",
       "    <tr>\n",
       "      <th>2231378</th>\n",
       "      <td>The Lemon Drop Kid , a New York City swindler,...</td>\n",
       "      <td>1</td>\n",
       "      <td>1</td>\n",
       "    </tr>\n",
       "    <tr>\n",
       "      <th>595909</th>\n",
       "      <td>Seventh-day Adventist Church pastor Michael Ch...</td>\n",
       "      <td>1</td>\n",
       "      <td>1</td>\n",
       "    </tr>\n",
       "    <tr>\n",
       "      <th>...</th>\n",
       "      <td>...</td>\n",
       "      <td>...</td>\n",
       "      <td>...</td>\n",
       "    </tr>\n",
       "    <tr>\n",
       "      <th>34808485</th>\n",
       "      <td>The story is about Reema , a young Muslim scho...</td>\n",
       "      <td>1</td>\n",
       "      <td>0</td>\n",
       "    </tr>\n",
       "    <tr>\n",
       "      <th>1096473</th>\n",
       "      <td>In 1928 Hollywood, director Leo Andreyev  look...</td>\n",
       "      <td>1</td>\n",
       "      <td>1</td>\n",
       "    </tr>\n",
       "    <tr>\n",
       "      <th>35102018</th>\n",
       "      <td>American Luthier focuses on Randy Parsons’ tra...</td>\n",
       "      <td>0</td>\n",
       "      <td>1</td>\n",
       "    </tr>\n",
       "    <tr>\n",
       "      <th>8628195</th>\n",
       "      <td>Abdur Rehman Khan , a middle-aged dry fruit se...</td>\n",
       "      <td>1</td>\n",
       "      <td>1</td>\n",
       "    </tr>\n",
       "    <tr>\n",
       "      <th>6040782</th>\n",
       "      <td>1940 - Operation Dynamo has just taken place. ...</td>\n",
       "      <td>0</td>\n",
       "      <td>1</td>\n",
       "    </tr>\n",
       "  </tbody>\n",
       "</table>\n",
       "<p>42303 rows × 3 columns</p>\n",
       "</div>"
      ],
      "text/plain": [
       "                                                         Plot Summary  \\\n",
       "Wikipedia movie ID                                                      \n",
       "23890098            Shlykov, a hard-working taxi driver and Lyosha...   \n",
       "31186339            The nation of Panem consists of a wealthy Capi...   \n",
       "20663735            Poovalli Induchoodan  is sentenced for six yea...   \n",
       "2231378             The Lemon Drop Kid , a New York City swindler,...   \n",
       "595909              Seventh-day Adventist Church pastor Michael Ch...   \n",
       "...                                                               ...   \n",
       "34808485            The story is about Reema , a young Muslim scho...   \n",
       "1096473             In 1928 Hollywood, director Leo Andreyev  look...   \n",
       "35102018            American Luthier focuses on Randy Parsons’ tra...   \n",
       "8628195             Abdur Rehman Khan , a middle-aged dry fruit se...   \n",
       "6040782             1940 - Operation Dynamo has just taken place. ...   \n",
       "\n",
       "                    fem_pronoun  masc_pronoun  \n",
       "Wikipedia movie ID                             \n",
       "23890098                      0             0  \n",
       "31186339                      1             1  \n",
       "20663735                      1             1  \n",
       "2231378                       1             1  \n",
       "595909                        1             1  \n",
       "...                         ...           ...  \n",
       "34808485                      1             0  \n",
       "1096473                       1             1  \n",
       "35102018                      0             1  \n",
       "8628195                       1             1  \n",
       "6040782                       0             1  \n",
       "\n",
       "[42303 rows x 3 columns]"
      ]
     },
     "execution_count": 122,
     "metadata": {},
     "output_type": "execute_result"
    }
   ],
   "source": [
    "plot_summaries"
   ]
  },
  {
   "cell_type": "code",
   "execution_count": null,
   "metadata": {},
   "outputs": [],
   "source": [
    "length_summaries = len(plot_summaries)"
   ]
  },
  {
   "cell_type": "code",
   "execution_count": null,
   "metadata": {},
   "outputs": [
    {
     "name": "stdout",
     "output_type": "stream",
     "text": [
      "The number of summaries with feminine pronouns occurence: 25181\n",
      "The percentage of summaries with feminine pronouns occurence: 59.5253291728719 %\n"
     ]
    }
   ],
   "source": [
    "print('The number of summaries with feminine pronouns occurence:', sum(plot_summaries[\"fem_pronoun\"]))\n",
    "print('The percentage of summaries with feminine pronouns occurence:', 100*(sum(plot_summaries[\"fem_pronoun\"]))/ length_summaries, \"%\")"
   ]
  },
  {
   "cell_type": "code",
   "execution_count": null,
   "metadata": {},
   "outputs": [
    {
     "name": "stdout",
     "output_type": "stream",
     "text": [
      "The number of summaries with masculine pronouns occurence: 35197\n",
      "The percentage of summaries with masculine pronouns occurence: 83.2021369642815 %\n"
     ]
    }
   ],
   "source": [
    "print('The number of summaries with masculine pronouns occurence:', sum(plot_summaries[\"masc_pronoun\"]))\n",
    "print('The percentage of summaries with masculine pronouns occurence:', 100*(sum(plot_summaries[\"masc_pronoun\"]))/ length_summaries, \"%\")"
   ]
  },
  {
   "cell_type": "markdown",
   "metadata": {},
   "source": [
    "We observe that there is more than 23% difference between the occurence of feminine and masculine pronouns in the given summaries.\n",
    "\n",
    "We can check if the pronouns occurence changes through time."
   ]
  },
  {
   "cell_type": "code",
   "execution_count": null,
   "metadata": {},
   "outputs": [
    {
     "ename": "NameError",
     "evalue": "name 'movie_metadata_filt' is not defined",
     "output_type": "error",
     "traceback": [
      "\u001b[0;31m---------------------------------------------------------------------------\u001b[0m",
      "\u001b[0;31mNameError\u001b[0m                                 Traceback (most recent call last)",
      "Cell \u001b[0;32mIn [165], line 3\u001b[0m\n\u001b[1;32m      1\u001b[0m \u001b[39m# add a release date column to the plot_summaries dataset\u001b[39;00m\n\u001b[0;32m----> 3\u001b[0m summaries_with_date \u001b[39m=\u001b[39m movie_metadata_filt\u001b[39m.\u001b[39mjoin(plot_summaries) \u001b[39m#there were more summaries than given movies\u001b[39;00m\n\u001b[1;32m      4\u001b[0m summaries_with_date \u001b[39m=\u001b[39m summaries_with_date\u001b[39m.\u001b[39mdropna()\n\u001b[1;32m      5\u001b[0m summaries_with_date[\u001b[39m\"\u001b[39m\u001b[39mMovie release date\u001b[39m\u001b[39m\"\u001b[39m] \u001b[39m=\u001b[39m pd\u001b[39m.\u001b[39mto_datetime(summaries_with_date[\u001b[39m\"\u001b[39m\u001b[39mMovie release date\u001b[39m\u001b[39m\"\u001b[39m],errors\u001b[39m=\u001b[39m\u001b[39m'\u001b[39m\u001b[39mcoerce\u001b[39m\u001b[39m'\u001b[39m)\n",
      "\u001b[0;31mNameError\u001b[0m: name 'movie_metadata_filt' is not defined"
     ]
    }
   ],
   "source": [
    "# add a release date column to the plot_summaries dataset\n",
    "\n",
    "summaries_with_date = movie_metadata_filt.join(plot_summaries) #there were more summaries than given movies\n",
    "summaries_with_date = summaries_with_date.dropna()\n",
    "summaries_with_date[\"Movie release date\"] = pd.to_datetime(summaries_with_date[\"Movie release date\"],errors='coerce')\n",
    "summaries_with_date = summaries_with_date.sort_values(by=\"Movie release date\")\n",
    "summaries_with_date "
   ]
  },
  {
   "cell_type": "code",
   "execution_count": null,
   "metadata": {},
   "outputs": [
    {
     "data": {
      "text/html": [
       "<div>\n",
       "<style scoped>\n",
       "    .dataframe tbody tr th:only-of-type {\n",
       "        vertical-align: middle;\n",
       "    }\n",
       "\n",
       "    .dataframe tbody tr th {\n",
       "        vertical-align: top;\n",
       "    }\n",
       "\n",
       "    .dataframe thead th {\n",
       "        text-align: right;\n",
       "    }\n",
       "</style>\n",
       "<table border=\"1\" class=\"dataframe\">\n",
       "  <thead>\n",
       "    <tr style=\"text-align: right;\">\n",
       "      <th></th>\n",
       "      <th>Freebase movie ID</th>\n",
       "      <th>Movie name</th>\n",
       "      <th>Movie release date</th>\n",
       "      <th>Movie box office revenue</th>\n",
       "      <th>Movie runtime</th>\n",
       "      <th>Movie languages</th>\n",
       "      <th>Movie countries</th>\n",
       "      <th>Movie genres</th>\n",
       "      <th>Plot Summary</th>\n",
       "      <th>fem_pronoun</th>\n",
       "      <th>masc_pronoun</th>\n",
       "    </tr>\n",
       "    <tr>\n",
       "      <th>Wikipedia movie ID</th>\n",
       "      <th></th>\n",
       "      <th></th>\n",
       "      <th></th>\n",
       "      <th></th>\n",
       "      <th></th>\n",
       "      <th></th>\n",
       "      <th></th>\n",
       "      <th></th>\n",
       "      <th></th>\n",
       "      <th></th>\n",
       "      <th></th>\n",
       "    </tr>\n",
       "  </thead>\n",
       "  <tbody>\n",
       "  </tbody>\n",
       "</table>\n",
       "</div>"
      ],
      "text/plain": [
       "Empty DataFrame\n",
       "Columns: [Freebase movie ID, Movie name, Movie release date, Movie box office revenue, Movie runtime, Movie languages, Movie countries, Movie genres, Plot Summary, fem_pronoun, masc_pronoun]\n",
       "Index: []"
      ]
     },
     "execution_count": 340,
     "metadata": {},
     "output_type": "execute_result"
    }
   ],
   "source": [
    "#split dataset into three parts: before 2007, between 2007 and 2016, and after 2016\n",
    "\n",
    "summaries_before2007 = summaries_with_date[summaries_with_date[\"Movie release date\"] < \"2007-01-01\"]\n",
    "summaries_2007 = summaries_with_date[(summaries_with_date[\"Movie release date\"] >= \"2007-01-01\") & (summaries_with_date[\"Movie release date\"] < \"2016-01-01\") ]\n",
    "summaries_2016 = summaries_with_date[summaries_with_date[\"Movie release date\"] >= \"2016-01-01\"]\n",
    "summaries_2016"
   ]
  },
  {
   "cell_type": "code",
   "execution_count": null,
   "metadata": {},
   "outputs": [
    {
     "name": "stdout",
     "output_type": "stream",
     "text": [
      "The number of summaries before 2007 with feminine pronouns occurence: 4392.0\n",
      "The percentage of summaries before 2007 with feminine pronouns occurence: 76.2367644506162 %\n"
     ]
    }
   ],
   "source": [
    "print('The number of summaries before 2007 with feminine pronouns occurence:', sum(summaries_before2007[\"fem_pronoun\"]))\n",
    "print('The percentage of summaries before 2007 with feminine pronouns occurence:', 100*(sum(summaries_before2007[\"fem_pronoun\"]))/ len(summaries_before2007), \"%\")"
   ]
  },
  {
   "cell_type": "code",
   "execution_count": null,
   "metadata": {},
   "outputs": [
    {
     "name": "stdout",
     "output_type": "stream",
     "text": [
      "The number of summaries before 2007 with masculine pronouns occurence: 5405.0\n",
      "The percentage of summaries before 2007 with masculine pronouns occurence: 93.82051727130707 %\n"
     ]
    }
   ],
   "source": [
    "print('The number of summaries before 2007 with masculine pronouns occurence:', sum(summaries_before2007[\"masc_pronoun\"]))\n",
    "print('The percentage of summaries before 2007 with masculine pronouns occurence:', 100*(sum(summaries_before2007[\"masc_pronoun\"]))/ len(summaries_before2007), \"%\")"
   ]
  },
  {
   "cell_type": "code",
   "execution_count": null,
   "metadata": {},
   "outputs": [
    {
     "name": "stdout",
     "output_type": "stream",
     "text": [
      "The number of summaries after 2007 with feminine pronouns occurence: 1329.0\n",
      "The percentage of summaries after 2007 with feminine pronouns occurence: 78.1305114638448 %\n"
     ]
    }
   ],
   "source": [
    "print('The number of summaries after 2007 with feminine pronouns occurence:', sum(summaries_2007[\"fem_pronoun\"]))\n",
    "print('The percentage of summaries after 2007 with feminine pronouns occurence:', 100*(sum(summaries_2007[\"fem_pronoun\"]))/ len(summaries_2007), \"%\")"
   ]
  },
  {
   "cell_type": "code",
   "execution_count": null,
   "metadata": {},
   "outputs": [
    {
     "name": "stdout",
     "output_type": "stream",
     "text": [
      "The number of summaries after 2007 with masculine pronouns occurence: 1535.0\n",
      "The percentage of summaries after 2007 with masculine pronouns occurence: 90.24103468547914 %\n"
     ]
    }
   ],
   "source": [
    "print('The number of summaries after 2007 with masculine pronouns occurence:', sum(summaries_2007[\"masc_pronoun\"]))\n",
    "print('The percentage of summaries after 2007 with masculine pronouns occurence:', 100*(sum(summaries_2007[\"masc_pronoun\"]))/ len(summaries_2007), \"%\")"
   ]
  },
  {
   "cell_type": "markdown",
   "metadata": {},
   "source": [
    "the dataset does not contain any row after 2016\n",
    "\n",
    "On the period before and after 2007, we see a slight increase in feminine pronouns occurence and a slight decrease in masculine pronouns occurences, always with masculine pronouns mainly used in movies summaries. The subgroups tendencies are aligned with the entire group (it is not a Simpson paradox).\n",
    "\n",
    "These results can not be largely interpreted as the subgroup \"before 2007\" is fifth times larger than the \"after 2007\" subgroup. Results can be biased due to the different number of samples.\n",
    "\n",
    "Find a way to count the number of feminine and masculine pronouns in each summary, compute the mean and the mean difference for both groups. Compare mean number of fem/masc pronouns in function of movies genres. Compare this to length of summary too. (maybe action movies have shorter summaries, and they are also more representative of men population)\n",
    "\n",
    "The next step would be to correlate the masculine and feminine pronouns occurence with certain genres, and see if it matches certain gender stereotypes.\n",
    "\n",
    "In [211]:\n"
   ]
<<<<<<< HEAD
  },
  {
   "cell_type": "code",
   "execution_count": null,
   "metadata": {},
   "outputs": [
    {
     "data": {
      "text/html": [
       "<div>\n",
       "<style scoped>\n",
       "    .dataframe tbody tr th:only-of-type {\n",
       "        vertical-align: middle;\n",
       "    }\n",
       "\n",
       "    .dataframe tbody tr th {\n",
       "        vertical-align: top;\n",
       "    }\n",
       "\n",
       "    .dataframe thead th {\n",
       "        text-align: right;\n",
       "    }\n",
       "</style>\n",
       "<table border=\"1\" class=\"dataframe\">\n",
       "  <thead>\n",
       "    <tr style=\"text-align: right;\">\n",
       "      <th></th>\n",
       "      <th>Plot_Summary</th>\n",
       "    </tr>\n",
       "    <tr>\n",
       "      <th>Wikipedia_movie_ID</th>\n",
       "      <th></th>\n",
       "    </tr>\n",
       "  </thead>\n",
       "  <tbody>\n",
       "    <tr>\n",
       "      <th>23890098</th>\n",
       "      <td>Shlykov, a hard-working taxi driver and Lyosha...</td>\n",
       "    </tr>\n",
       "    <tr>\n",
       "      <th>31186339</th>\n",
       "      <td>The nation of Panem consists of a wealthy Capi...</td>\n",
       "    </tr>\n",
       "    <tr>\n",
       "      <th>20663735</th>\n",
       "      <td>Poovalli Induchoodan  is sentenced for six yea...</td>\n",
       "    </tr>\n",
       "    <tr>\n",
       "      <th>2231378</th>\n",
       "      <td>The Lemon Drop Kid , a New York City swindler,...</td>\n",
       "    </tr>\n",
       "    <tr>\n",
       "      <th>595909</th>\n",
       "      <td>Seventh-day Adventist Church pastor Michael Ch...</td>\n",
       "    </tr>\n",
       "    <tr>\n",
       "      <th>...</th>\n",
       "      <td>...</td>\n",
       "    </tr>\n",
       "    <tr>\n",
       "      <th>34808485</th>\n",
       "      <td>The story is about Reema , a young Muslim scho...</td>\n",
       "    </tr>\n",
       "    <tr>\n",
       "      <th>1096473</th>\n",
       "      <td>In 1928 Hollywood, director Leo Andreyev  look...</td>\n",
       "    </tr>\n",
       "    <tr>\n",
       "      <th>35102018</th>\n",
       "      <td>American Luthier focuses on Randy Parsons’ tra...</td>\n",
       "    </tr>\n",
       "    <tr>\n",
       "      <th>8628195</th>\n",
       "      <td>Abdur Rehman Khan , a middle-aged dry fruit se...</td>\n",
       "    </tr>\n",
       "    <tr>\n",
       "      <th>6040782</th>\n",
       "      <td>1940 - Operation Dynamo has just taken place. ...</td>\n",
       "    </tr>\n",
       "  </tbody>\n",
       "</table>\n",
       "<p>42303 rows × 1 columns</p>\n",
       "</div>"
      ],
      "text/plain": [
       "                                                         Plot_Summary\n",
       "Wikipedia_movie_ID                                                   \n",
       "23890098            Shlykov, a hard-working taxi driver and Lyosha...\n",
       "31186339            The nation of Panem consists of a wealthy Capi...\n",
       "20663735            Poovalli Induchoodan  is sentenced for six yea...\n",
       "2231378             The Lemon Drop Kid , a New York City swindler,...\n",
       "595909              Seventh-day Adventist Church pastor Michael Ch...\n",
       "...                                                               ...\n",
       "34808485            The story is about Reema , a young Muslim scho...\n",
       "1096473             In 1928 Hollywood, director Leo Andreyev  look...\n",
       "35102018            American Luthier focuses on Randy Parsons’ tra...\n",
       "8628195             Abdur Rehman Khan , a middle-aged dry fruit se...\n",
       "6040782             1940 - Operation Dynamo has just taken place. ...\n",
       "\n",
       "[42303 rows x 1 columns]"
      ]
     },
     "execution_count": 141,
     "metadata": {},
     "output_type": "execute_result"
    }
   ],
   "source": []
  },
  {
   "cell_type": "code",
   "execution_count": null,
   "metadata": {},
   "outputs": [],
   "source": []
=======
>>>>>>> 66233b9cf7d09787845ba636b900f1f47b91ce3d
  }
 ],
 "metadata": {
  "kernelspec": {
   "display_name": "Python 3 (ipykernel)",
   "language": "python",
   "name": "python3"
  },
  "language_info": {
   "codemirror_mode": {
    "name": "ipython",
    "version": 3
   },
   "file_extension": ".py",
   "mimetype": "text/x-python",
   "name": "python",
   "nbconvert_exporter": "python",
   "pygments_lexer": "ipython3",
<<<<<<< HEAD
   "version": "3.9.6"
=======
   "version": "3.8.9"
>>>>>>> 66233b9cf7d09787845ba636b900f1f47b91ce3d
  },
  "vscode": {
   "interpreter": {
    "hash": "31f2aee4e71d21fbe5cf8b01ff0e069b9275f58929596ceb00d14d90e3e16cd6"
   }
  }
 },
 "nbformat": 4,
 "nbformat_minor": 4
}
