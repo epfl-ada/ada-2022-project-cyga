{
 "cells": [
  {
   "cell_type": "code",
   "execution_count": 1,
   "metadata": {},
   "outputs": [
    {
     "data": {
      "text/plain": [
       "'\\nFile name: preprocessing.ipynb\\nAuthors: Yasmin El Euch, Aliénor Bénédicte G Hamoir, Clara Rossignol, Guillaume David E. Ryelandt\\nDate created: 04/11/2022\\nDate last modified: 18/11/2022\\nPython version: 3.8.8\\n'"
      ]
     },
     "execution_count": 1,
     "metadata": {},
     "output_type": "execute_result"
    }
   ],
   "source": [
    "'''\n",
    "File name: preprocessing.ipynb\n",
    "Authors: Yasmin El Euch, Aliénor Bénédicte G Hamoir, Clara Rossignol, Guillaume David E. Ryelandt\n",
    "Date created: 04/11/2022\n",
    "Date last modified: 14/12/2022\n",
    "Python version: 3.8.8\n",
    "'''"
   ]
  },
  {
   "cell_type": "markdown",
   "metadata": {},
   "source": [
    "# Bechdel Analysis\n",
    ">The Bechdel test is a commonly used tool to evaluate the representation of women in fiction. To pass the test, a work of fiction must meet the following three criteria:\n",
    "\\\n",
    "-It must have at least two named female characters.\\\n",
    "-Those two female characters must have a conversation with each other.\\\n",
    "-That conversation must be about something other than a man.\\\n",
    "While the Bechdel test is not perfect, it is a useful tool to identify gender imbalance in works of fiction. By requiring that female characters have their own agency and agency and engage in conversations with each other about topics other than men, the test encourages writers to create more well-rounded and realistic female characters. We have found a dataset which \n",
    "\n"
   ]
  },
  {
   "cell_type": "markdown",
   "metadata": {},
   "source": [
    "---\n",
    "## General Information <a id=\"GI\"> </a> "
   ]
  },
  {
   "cell_type": "markdown",
   "metadata": {},
   "source": [
    "### Folder structure <a id=\"Folder\"> </a>"
   ]
  },
  {
   "cell_type": "markdown",
   "metadata": {},
   "source": [
    "\n",
    "### Imports <a id=\"Imports\"> </a>"
   ]
  },
  {
   "cell_type": "markdown",
   "metadata": {},
   "source": [
    "***Libraries used for milestone 2:***\n",
    "- python=3.8.12\n",
    "- pandas\n",
    "- ast\n",
    "- datetime\n",
    "- seaborn\n",
    "- numpy\n",
    "- matplotlib\n",
    "- json"
   ]
  },
  {
   "cell_type": "code",
   "execution_count": 25,
   "metadata": {},
   "outputs": [],
   "source": [
    "#Imports used in this notebook\n",
    "import pandas as pd\n",
    "import numpy as np\n",
    "import matplotlib.pyplot as plt\n",
    "import seaborn as sns\n",
    "import statsmodels.api as sm\n",
    "from scipy.stats import t "
   ]
  },
  {
   "cell_type": "markdown",
   "metadata": {},
   "source": [
    "---\n",
    "##  Data scraping, pre-processing and dataset construction<a id=\"Step-1\"> </a>"
   ]
  },
  {
   "cell_type": "markdown",
   "metadata": {},
   "source": [
    "### Pre-processing <a id=\"#Pre-pro\"> </a>\n",
    ">basic sanity checks etc..."
   ]
  },
  {
   "cell_type": "markdown",
   "metadata": {},
   "source": [
    ">We are going to load the bechdel dataset. It was downloaded from kaggle https://www.kaggle.com/datasets/alisonyao/movie-bechdel-test-scores?resource=download&select=Bechdel_detailed.csv. "
   ]
  },
  {
   "cell_type": "code",
   "execution_count": 30,
   "metadata": {},
   "outputs": [],
   "source": [
    "PATH_DATA = 'data/'\n",
    "\n",
    "#additionnal datasets:\n",
    "PATH_MOVIE_BECHDEL = PATH_DATA+'Bechdel.csv'"
   ]
  },
  {
   "cell_type": "code",
   "execution_count": 41,
   "metadata": {},
   "outputs": [
    {
     "data": {
      "text/html": [
       "<div>\n",
       "<style scoped>\n",
       "    .dataframe tbody tr th:only-of-type {\n",
       "        vertical-align: middle;\n",
       "    }\n",
       "\n",
       "    .dataframe tbody tr th {\n",
       "        vertical-align: top;\n",
       "    }\n",
       "\n",
       "    .dataframe thead th {\n",
       "        text-align: right;\n",
       "    }\n",
       "</style>\n",
       "<table border=\"1\" class=\"dataframe\">\n",
       "  <thead>\n",
       "    <tr style=\"text-align: right;\">\n",
       "      <th></th>\n",
       "      <th>title</th>\n",
       "      <th>year</th>\n",
       "      <th>rating</th>\n",
       "      <th>dubious</th>\n",
       "      <th>imdbid</th>\n",
       "      <th>id.1</th>\n",
       "      <th>submitterid</th>\n",
       "      <th>date</th>\n",
       "      <th>visible</th>\n",
       "    </tr>\n",
       "  </thead>\n",
       "  <tbody>\n",
       "    <tr>\n",
       "      <th>0</th>\n",
       "      <td>Passage de Venus</td>\n",
       "      <td>1874.0</td>\n",
       "      <td>0.0</td>\n",
       "      <td>0.0</td>\n",
       "      <td>3155794.0</td>\n",
       "      <td>9602.0</td>\n",
       "      <td>18880.0</td>\n",
       "      <td>2021-04-02 20:58:09</td>\n",
       "      <td>1.0</td>\n",
       "    </tr>\n",
       "    <tr>\n",
       "      <th>1</th>\n",
       "      <td>La Rosace Magique</td>\n",
       "      <td>1877.0</td>\n",
       "      <td>0.0</td>\n",
       "      <td>0.0</td>\n",
       "      <td>14495706.0</td>\n",
       "      <td>9804.0</td>\n",
       "      <td>19145.0</td>\n",
       "      <td>2021-05-11 00:11:22</td>\n",
       "      <td>1.0</td>\n",
       "    </tr>\n",
       "    <tr>\n",
       "      <th>2</th>\n",
       "      <td>Sallie Gardner at a Gallop</td>\n",
       "      <td>1878.0</td>\n",
       "      <td>0.0</td>\n",
       "      <td>0.0</td>\n",
       "      <td>2221420.0</td>\n",
       "      <td>9603.0</td>\n",
       "      <td>18882.0</td>\n",
       "      <td>2021-04-03 02:25:27</td>\n",
       "      <td>1.0</td>\n",
       "    </tr>\n",
       "    <tr>\n",
       "      <th>3</th>\n",
       "      <td>Le singe musicien</td>\n",
       "      <td>1878.0</td>\n",
       "      <td>0.0</td>\n",
       "      <td>0.0</td>\n",
       "      <td>12592084.0</td>\n",
       "      <td>9806.0</td>\n",
       "      <td>19151.0</td>\n",
       "      <td>2021-05-11 23:38:54</td>\n",
       "      <td>1.0</td>\n",
       "    </tr>\n",
       "    <tr>\n",
       "      <th>4</th>\n",
       "      <td>Athlete Swinging a Pick</td>\n",
       "      <td>1881.0</td>\n",
       "      <td>0.0</td>\n",
       "      <td>0.0</td>\n",
       "      <td>7816420.0</td>\n",
       "      <td>9816.0</td>\n",
       "      <td>19162.0</td>\n",
       "      <td>2021-05-13 01:32:14</td>\n",
       "      <td>1.0</td>\n",
       "    </tr>\n",
       "    <tr>\n",
       "      <th>...</th>\n",
       "      <td>...</td>\n",
       "      <td>...</td>\n",
       "      <td>...</td>\n",
       "      <td>...</td>\n",
       "      <td>...</td>\n",
       "      <td>...</td>\n",
       "      <td>...</td>\n",
       "      <td>...</td>\n",
       "      <td>...</td>\n",
       "    </tr>\n",
       "    <tr>\n",
       "      <th>9368</th>\n",
       "      <td>Love Hard</td>\n",
       "      <td>2021.0</td>\n",
       "      <td>2.0</td>\n",
       "      <td>0.0</td>\n",
       "      <td>10752004.0</td>\n",
       "      <td>10152.0</td>\n",
       "      <td>19735.0</td>\n",
       "      <td>2021-12-05 19:22:20</td>\n",
       "      <td>1.0</td>\n",
       "    </tr>\n",
       "    <tr>\n",
       "      <th>9369</th>\n",
       "      <td>Cruella</td>\n",
       "      <td>2021.0</td>\n",
       "      <td>3.0</td>\n",
       "      <td>0.0</td>\n",
       "      <td>3228774.0</td>\n",
       "      <td>9861.0</td>\n",
       "      <td>19231.0</td>\n",
       "      <td>2021-06-01 03:16:58</td>\n",
       "      <td>1.0</td>\n",
       "    </tr>\n",
       "    <tr>\n",
       "      <th>9370</th>\n",
       "      <td>West Side Story</td>\n",
       "      <td>2021.0</td>\n",
       "      <td>3.0</td>\n",
       "      <td>0.0</td>\n",
       "      <td>3581652.0</td>\n",
       "      <td>10157.0</td>\n",
       "      <td>19743.0</td>\n",
       "      <td>2021-12-10 03:10:09</td>\n",
       "      <td>1.0</td>\n",
       "    </tr>\n",
       "    <tr>\n",
       "      <th>9371</th>\n",
       "      <td>Every Time a Bell Rings</td>\n",
       "      <td>2021.0</td>\n",
       "      <td>3.0</td>\n",
       "      <td>0.0</td>\n",
       "      <td>15943414.0</td>\n",
       "      <td>10158.0</td>\n",
       "      <td>19744.0</td>\n",
       "      <td>2021-12-10 08:03:02</td>\n",
       "      <td>1.0</td>\n",
       "    </tr>\n",
       "    <tr>\n",
       "      <th>9372</th>\n",
       "      <td>Single All The Way</td>\n",
       "      <td>2021.0</td>\n",
       "      <td>3.0</td>\n",
       "      <td>0.0</td>\n",
       "      <td>14315756.0</td>\n",
       "      <td>10161.0</td>\n",
       "      <td>19753.0</td>\n",
       "      <td>2021-12-15 10:10:36</td>\n",
       "      <td>1.0</td>\n",
       "    </tr>\n",
       "  </tbody>\n",
       "</table>\n",
       "<p>9373 rows × 9 columns</p>\n",
       "</div>"
      ],
      "text/plain": [
       "                           title    year  rating  dubious      imdbid  \\\n",
       "0               Passage de Venus  1874.0     0.0      0.0   3155794.0   \n",
       "1              La Rosace Magique  1877.0     0.0      0.0  14495706.0   \n",
       "2     Sallie Gardner at a Gallop  1878.0     0.0      0.0   2221420.0   \n",
       "3              Le singe musicien  1878.0     0.0      0.0  12592084.0   \n",
       "4        Athlete Swinging a Pick  1881.0     0.0      0.0   7816420.0   \n",
       "...                          ...     ...     ...      ...         ...   \n",
       "9368                   Love Hard  2021.0     2.0      0.0  10752004.0   \n",
       "9369                     Cruella  2021.0     3.0      0.0   3228774.0   \n",
       "9370             West Side Story  2021.0     3.0      0.0   3581652.0   \n",
       "9371     Every Time a Bell Rings  2021.0     3.0      0.0  15943414.0   \n",
       "9372          Single All The Way  2021.0     3.0      0.0  14315756.0   \n",
       "\n",
       "         id.1  submitterid                 date  visible  \n",
       "0      9602.0      18880.0  2021-04-02 20:58:09      1.0  \n",
       "1      9804.0      19145.0  2021-05-11 00:11:22      1.0  \n",
       "2      9603.0      18882.0  2021-04-03 02:25:27      1.0  \n",
       "3      9806.0      19151.0  2021-05-11 23:38:54      1.0  \n",
       "4      9816.0      19162.0  2021-05-13 01:32:14      1.0  \n",
       "...       ...          ...                  ...      ...  \n",
       "9368  10152.0      19735.0  2021-12-05 19:22:20      1.0  \n",
       "9369   9861.0      19231.0  2021-06-01 03:16:58      1.0  \n",
       "9370  10157.0      19743.0  2021-12-10 03:10:09      1.0  \n",
       "9371  10158.0      19744.0  2021-12-10 08:03:02      1.0  \n",
       "9372  10161.0      19753.0  2021-12-15 10:10:36      1.0  \n",
       "\n",
       "[9373 rows x 9 columns]"
      ]
     },
     "execution_count": 41,
     "metadata": {},
     "output_type": "execute_result"
    }
   ],
   "source": [
    "bechdel=pd.read_csv(PATH_MOVIE_BECHDEL,header=0)\n",
    "#delte the first column because it conatins the index\n",
    "del bechdel['id']\n",
    "bechdel"
   ]
  },
  {
   "cell_type": "code",
   "execution_count": 47,
   "metadata": {},
   "outputs": [
    {
     "data": {
      "text/plain": [
       "title          0\n",
       "year           0\n",
       "rating         0\n",
       "dubious        0\n",
       "imdbid         0\n",
       "id.1           0\n",
       "submitterid    0\n",
       "date           0\n",
       "visible        0\n",
       "dtype: int64"
      ]
     },
     "execution_count": 47,
     "metadata": {},
     "output_type": "execute_result"
    }
   ],
   "source": [
    "#check for missing values delete rows with missing values\n",
    "bechdel= bechdel.dropna().reset_index(drop=True)\n",
    "bechdel.isna().sum()"
   ]
  },
  {
   "cell_type": "code",
   "execution_count": 48,
   "metadata": {},
   "outputs": [
    {
     "name": "stdout",
     "output_type": "stream",
     "text": [
      "there are 9074 movies in the bechdel dataset\n"
     ]
    }
   ],
   "source": [
    "print('there are',len(bechdel),'movies in the bechdel dataset')"
   ]
  },
  {
   "cell_type": "code",
   "execution_count": 52,
   "metadata": {},
   "outputs": [
    {
     "data": {
      "text/html": [
       "<div>\n",
       "<style scoped>\n",
       "    .dataframe tbody tr th:only-of-type {\n",
       "        vertical-align: middle;\n",
       "    }\n",
       "\n",
       "    .dataframe tbody tr th {\n",
       "        vertical-align: top;\n",
       "    }\n",
       "\n",
       "    .dataframe thead th {\n",
       "        text-align: right;\n",
       "    }\n",
       "</style>\n",
       "<table border=\"1\" class=\"dataframe\">\n",
       "  <thead>\n",
       "    <tr style=\"text-align: right;\">\n",
       "      <th></th>\n",
       "      <th>title</th>\n",
       "      <th>year</th>\n",
       "      <th>rating</th>\n",
       "      <th>dubious</th>\n",
       "      <th>imdbid</th>\n",
       "      <th>id.1</th>\n",
       "      <th>submitterid</th>\n",
       "      <th>date</th>\n",
       "      <th>visible</th>\n",
       "    </tr>\n",
       "  </thead>\n",
       "  <tbody>\n",
       "    <tr>\n",
       "      <th>839</th>\n",
       "      <td>Saboteur</td>\n",
       "      <td>1956.0</td>\n",
       "      <td>1.0</td>\n",
       "      <td>0.0</td>\n",
       "      <td>35279.0</td>\n",
       "      <td>5938.0</td>\n",
       "      <td>11248.0</td>\n",
       "      <td>2014-11-22 17:38:29</td>\n",
       "      <td>1.0</td>\n",
       "    </tr>\n",
       "    <tr>\n",
       "      <th>1924</th>\n",
       "      <td>Terms of Endearment</td>\n",
       "      <td>1983.0</td>\n",
       "      <td>1.0</td>\n",
       "      <td>1.0</td>\n",
       "      <td>86425.0</td>\n",
       "      <td>4448.0</td>\n",
       "      <td>7970.0</td>\n",
       "      <td>2013-08-07 09:53:44</td>\n",
       "      <td>1.0</td>\n",
       "    </tr>\n",
       "    <tr>\n",
       "      <th>3149</th>\n",
       "      <td>Ayneh</td>\n",
       "      <td>1997.0</td>\n",
       "      <td>3.0</td>\n",
       "      <td>0.0</td>\n",
       "      <td>117056.0</td>\n",
       "      <td>4380.0</td>\n",
       "      <td>7796.0</td>\n",
       "      <td>2013-07-21 16:53:37</td>\n",
       "      <td>1.0</td>\n",
       "    </tr>\n",
       "    <tr>\n",
       "      <th>6183</th>\n",
       "      <td>Last Call at the Oasis</td>\n",
       "      <td>2011.0</td>\n",
       "      <td>3.0</td>\n",
       "      <td>0.0</td>\n",
       "      <td>2043900.0</td>\n",
       "      <td>4889.0</td>\n",
       "      <td>8867.0</td>\n",
       "      <td>2013-11-29 21:16:54</td>\n",
       "      <td>1.0</td>\n",
       "    </tr>\n",
       "    <tr>\n",
       "      <th>6826</th>\n",
       "      <td>Puella Magi Madoka Magica the Movie Part III: ...</td>\n",
       "      <td>2013.0</td>\n",
       "      <td>3.0</td>\n",
       "      <td>0.0</td>\n",
       "      <td>2457282.0</td>\n",
       "      <td>4980.0</td>\n",
       "      <td>9023.0</td>\n",
       "      <td>2013-12-24 20:34:24</td>\n",
       "      <td>1.0</td>\n",
       "    </tr>\n",
       "    <tr>\n",
       "      <th>8075</th>\n",
       "      <td>Moana</td>\n",
       "      <td>2016.0</td>\n",
       "      <td>3.0</td>\n",
       "      <td>0.0</td>\n",
       "      <td>3521164.0</td>\n",
       "      <td>7292.0</td>\n",
       "      <td>14251.0</td>\n",
       "      <td>2016-11-24 02:28:18</td>\n",
       "      <td>1.0</td>\n",
       "    </tr>\n",
       "    <tr>\n",
       "      <th>8834</th>\n",
       "      <td>Descendants 3</td>\n",
       "      <td>2019.0</td>\n",
       "      <td>3.0</td>\n",
       "      <td>0.0</td>\n",
       "      <td>8022928.0</td>\n",
       "      <td>8816.0</td>\n",
       "      <td>17295.0</td>\n",
       "      <td>2019-08-12 18:52:11</td>\n",
       "      <td>1.0</td>\n",
       "    </tr>\n",
       "    <tr>\n",
       "      <th>9063</th>\n",
       "      <td>Suicide Squad, The</td>\n",
       "      <td>2021.0</td>\n",
       "      <td>3.0</td>\n",
       "      <td>0.0</td>\n",
       "      <td>6334354.0</td>\n",
       "      <td>10004.0</td>\n",
       "      <td>19435.0</td>\n",
       "      <td>2021-08-08 22:16:55</td>\n",
       "      <td>1.0</td>\n",
       "    </tr>\n",
       "    <tr>\n",
       "      <th>9070</th>\n",
       "      <td>Cruella</td>\n",
       "      <td>2021.0</td>\n",
       "      <td>3.0</td>\n",
       "      <td>0.0</td>\n",
       "      <td>3228774.0</td>\n",
       "      <td>9861.0</td>\n",
       "      <td>19231.0</td>\n",
       "      <td>2021-06-01 03:16:58</td>\n",
       "      <td>1.0</td>\n",
       "    </tr>\n",
       "  </tbody>\n",
       "</table>\n",
       "</div>"
      ],
      "text/plain": [
       "                                                  title    year  rating  \\\n",
       "839                                            Saboteur  1956.0     1.0   \n",
       "1924                                Terms of Endearment  1983.0     1.0   \n",
       "3149                                              Ayneh  1997.0     3.0   \n",
       "6183                             Last Call at the Oasis  2011.0     3.0   \n",
       "6826  Puella Magi Madoka Magica the Movie Part III: ...  2013.0     3.0   \n",
       "8075                                              Moana  2016.0     3.0   \n",
       "8834                                      Descendants 3  2019.0     3.0   \n",
       "9063                                 Suicide Squad, The  2021.0     3.0   \n",
       "9070                                            Cruella  2021.0     3.0   \n",
       "\n",
       "      dubious     imdbid     id.1  submitterid                 date  visible  \n",
       "839       0.0    35279.0   5938.0      11248.0  2014-11-22 17:38:29      1.0  \n",
       "1924      1.0    86425.0   4448.0       7970.0  2013-08-07 09:53:44      1.0  \n",
       "3149      0.0   117056.0   4380.0       7796.0  2013-07-21 16:53:37      1.0  \n",
       "6183      0.0  2043900.0   4889.0       8867.0  2013-11-29 21:16:54      1.0  \n",
       "6826      0.0  2457282.0   4980.0       9023.0  2013-12-24 20:34:24      1.0  \n",
       "8075      0.0  3521164.0   7292.0      14251.0  2016-11-24 02:28:18      1.0  \n",
       "8834      0.0  8022928.0   8816.0      17295.0  2019-08-12 18:52:11      1.0  \n",
       "9063      0.0  6334354.0  10004.0      19435.0  2021-08-08 22:16:55      1.0  \n",
       "9070      0.0  3228774.0   9861.0      19231.0  2021-06-01 03:16:58      1.0  "
      ]
     },
     "execution_count": 52,
     "metadata": {},
     "output_type": "execute_result"
    }
   ],
   "source": [
    "#check for duplicates and print print the duplicates\n",
    "bechdel[bechdel.duplicated()]"
   ]
  },
  {
   "cell_type": "code",
   "execution_count": 53,
   "metadata": {},
   "outputs": [],
   "source": [
    "#looking at the 9 duplicates in the csv file, we can confirm that there has been a mistake in the data collection, so we will delete the duplicates\n",
    "bechdel=bechdel.drop_duplicates().reset_index(drop=True)"
   ]
  },
  {
   "cell_type": "code",
   "execution_count": 49,
   "metadata": {},
   "outputs": [
    {
     "name": "stdout",
     "output_type": "stream",
     "text": [
      "there are 9062 unique imdbids\n",
      "there are 8856 unique titles\n"
     ]
    }
   ],
   "source": [
    "#check for repeated values in the columns\n",
    "print('there are',len(bechdel['imdbid'].unique()),'unique imdbids')\n",
    "print('there are',len(bechdel['title'].unique()),'unique titles')\n"
   ]
  },
  {
   "cell_type": "markdown",
   "metadata": {},
   "source": [
    "## TODO regarder la procédure pour les duplicates dans les rows "
   ]
  },
  {
   "cell_type": "code",
   "execution_count": 68,
   "metadata": {},
   "outputs": [
    {
     "data": {
      "text/html": [
       "<div>\n",
       "<style scoped>\n",
       "    .dataframe tbody tr th:only-of-type {\n",
       "        vertical-align: middle;\n",
       "    }\n",
       "\n",
       "    .dataframe tbody tr th {\n",
       "        vertical-align: top;\n",
       "    }\n",
       "\n",
       "    .dataframe thead th {\n",
       "        text-align: right;\n",
       "    }\n",
       "</style>\n",
       "<table border=\"1\" class=\"dataframe\">\n",
       "  <thead>\n",
       "    <tr style=\"text-align: right;\">\n",
       "      <th></th>\n",
       "      <th>title</th>\n",
       "      <th>year</th>\n",
       "      <th>rating</th>\n",
       "      <th>dubious</th>\n",
       "      <th>imdbid</th>\n",
       "      <th>id.1</th>\n",
       "      <th>submitterid</th>\n",
       "      <th>date</th>\n",
       "      <th>visible</th>\n",
       "    </tr>\n",
       "  </thead>\n",
       "  <tbody>\n",
       "  </tbody>\n",
       "</table>\n",
       "</div>"
      ],
      "text/plain": [
       "Empty DataFrame\n",
       "Columns: [title, year, rating, dubious, imdbid, id.1, submitterid, date, visible]\n",
       "Index: []"
      ]
     },
     "execution_count": 68,
     "metadata": {},
     "output_type": "execute_result"
    }
   ],
   "source": [
    "#print duplicates in the title column\n",
    "bechdel[bechdel.duplicated(subset=['title'])].head(10)\n"
   ]
  },
  {
   "cell_type": "code",
   "execution_count": 66,
   "metadata": {},
   "outputs": [],
   "source": [
    "#delete rows with duplicate imdbids and titles, we will delete approximately 250 rows \n",
    "bechdel = bechdel.drop_duplicates(subset=['imdbid'], keep='first')\n",
    "bechdel = bechdel.drop_duplicates(subset=['title'], keep='first')\n",
    "\n"
   ]
  },
  {
   "cell_type": "code",
   "execution_count": 67,
   "metadata": {},
   "outputs": [
    {
     "data": {
      "text/html": [
       "<div>\n",
       "<style scoped>\n",
       "    .dataframe tbody tr th:only-of-type {\n",
       "        vertical-align: middle;\n",
       "    }\n",
       "\n",
       "    .dataframe tbody tr th {\n",
       "        vertical-align: top;\n",
       "    }\n",
       "\n",
       "    .dataframe thead th {\n",
       "        text-align: right;\n",
       "    }\n",
       "</style>\n",
       "<table border=\"1\" class=\"dataframe\">\n",
       "  <thead>\n",
       "    <tr style=\"text-align: right;\">\n",
       "      <th></th>\n",
       "      <th>title</th>\n",
       "      <th>year</th>\n",
       "      <th>rating</th>\n",
       "      <th>dubious</th>\n",
       "      <th>imdbid</th>\n",
       "      <th>id.1</th>\n",
       "      <th>submitterid</th>\n",
       "      <th>date</th>\n",
       "      <th>visible</th>\n",
       "    </tr>\n",
       "  </thead>\n",
       "  <tbody>\n",
       "    <tr>\n",
       "      <th>0</th>\n",
       "      <td>Passage de Venus</td>\n",
       "      <td>1874.0</td>\n",
       "      <td>0.0</td>\n",
       "      <td>0.0</td>\n",
       "      <td>3155794.0</td>\n",
       "      <td>9602.0</td>\n",
       "      <td>18880.0</td>\n",
       "      <td>2021-04-02 20:58:09</td>\n",
       "      <td>1.0</td>\n",
       "    </tr>\n",
       "    <tr>\n",
       "      <th>1</th>\n",
       "      <td>La Rosace Magique</td>\n",
       "      <td>1877.0</td>\n",
       "      <td>0.0</td>\n",
       "      <td>0.0</td>\n",
       "      <td>14495706.0</td>\n",
       "      <td>9804.0</td>\n",
       "      <td>19145.0</td>\n",
       "      <td>2021-05-11 00:11:22</td>\n",
       "      <td>1.0</td>\n",
       "    </tr>\n",
       "    <tr>\n",
       "      <th>2</th>\n",
       "      <td>Sallie Gardner at a Gallop</td>\n",
       "      <td>1878.0</td>\n",
       "      <td>0.0</td>\n",
       "      <td>0.0</td>\n",
       "      <td>2221420.0</td>\n",
       "      <td>9603.0</td>\n",
       "      <td>18882.0</td>\n",
       "      <td>2021-04-03 02:25:27</td>\n",
       "      <td>1.0</td>\n",
       "    </tr>\n",
       "    <tr>\n",
       "      <th>3</th>\n",
       "      <td>Le singe musicien</td>\n",
       "      <td>1878.0</td>\n",
       "      <td>0.0</td>\n",
       "      <td>0.0</td>\n",
       "      <td>12592084.0</td>\n",
       "      <td>9806.0</td>\n",
       "      <td>19151.0</td>\n",
       "      <td>2021-05-11 23:38:54</td>\n",
       "      <td>1.0</td>\n",
       "    </tr>\n",
       "    <tr>\n",
       "      <th>4</th>\n",
       "      <td>Athlete Swinging a Pick</td>\n",
       "      <td>1881.0</td>\n",
       "      <td>0.0</td>\n",
       "      <td>0.0</td>\n",
       "      <td>7816420.0</td>\n",
       "      <td>9816.0</td>\n",
       "      <td>19162.0</td>\n",
       "      <td>2021-05-13 01:32:14</td>\n",
       "      <td>1.0</td>\n",
       "    </tr>\n",
       "    <tr>\n",
       "      <th>...</th>\n",
       "      <td>...</td>\n",
       "      <td>...</td>\n",
       "      <td>...</td>\n",
       "      <td>...</td>\n",
       "      <td>...</td>\n",
       "      <td>...</td>\n",
       "      <td>...</td>\n",
       "      <td>...</td>\n",
       "      <td>...</td>\n",
       "    </tr>\n",
       "    <tr>\n",
       "      <th>8851</th>\n",
       "      <td>There&amp;#39;s Someone Inside Your House</td>\n",
       "      <td>2021.0</td>\n",
       "      <td>3.0</td>\n",
       "      <td>0.0</td>\n",
       "      <td>8150814.0</td>\n",
       "      <td>10147.0</td>\n",
       "      <td>19727.0</td>\n",
       "      <td>2021-11-30 16:18:27</td>\n",
       "      <td>1.0</td>\n",
       "    </tr>\n",
       "    <tr>\n",
       "      <th>8852</th>\n",
       "      <td>Encanto</td>\n",
       "      <td>2021.0</td>\n",
       "      <td>3.0</td>\n",
       "      <td>0.0</td>\n",
       "      <td>2953050.0</td>\n",
       "      <td>10151.0</td>\n",
       "      <td>19732.0</td>\n",
       "      <td>2021-12-02 00:36:48</td>\n",
       "      <td>1.0</td>\n",
       "    </tr>\n",
       "    <tr>\n",
       "      <th>8853</th>\n",
       "      <td>Love Hard</td>\n",
       "      <td>2021.0</td>\n",
       "      <td>2.0</td>\n",
       "      <td>0.0</td>\n",
       "      <td>10752004.0</td>\n",
       "      <td>10152.0</td>\n",
       "      <td>19735.0</td>\n",
       "      <td>2021-12-05 19:22:20</td>\n",
       "      <td>1.0</td>\n",
       "    </tr>\n",
       "    <tr>\n",
       "      <th>8854</th>\n",
       "      <td>Every Time a Bell Rings</td>\n",
       "      <td>2021.0</td>\n",
       "      <td>3.0</td>\n",
       "      <td>0.0</td>\n",
       "      <td>15943414.0</td>\n",
       "      <td>10158.0</td>\n",
       "      <td>19744.0</td>\n",
       "      <td>2021-12-10 08:03:02</td>\n",
       "      <td>1.0</td>\n",
       "    </tr>\n",
       "    <tr>\n",
       "      <th>8855</th>\n",
       "      <td>Single All The Way</td>\n",
       "      <td>2021.0</td>\n",
       "      <td>3.0</td>\n",
       "      <td>0.0</td>\n",
       "      <td>14315756.0</td>\n",
       "      <td>10161.0</td>\n",
       "      <td>19753.0</td>\n",
       "      <td>2021-12-15 10:10:36</td>\n",
       "      <td>1.0</td>\n",
       "    </tr>\n",
       "  </tbody>\n",
       "</table>\n",
       "<p>8856 rows × 9 columns</p>\n",
       "</div>"
      ],
      "text/plain": [
       "                                      title    year  rating  dubious  \\\n",
       "0                          Passage de Venus  1874.0     0.0      0.0   \n",
       "1                         La Rosace Magique  1877.0     0.0      0.0   \n",
       "2                Sallie Gardner at a Gallop  1878.0     0.0      0.0   \n",
       "3                         Le singe musicien  1878.0     0.0      0.0   \n",
       "4                   Athlete Swinging a Pick  1881.0     0.0      0.0   \n",
       "...                                     ...     ...     ...      ...   \n",
       "8851  There&#39;s Someone Inside Your House  2021.0     3.0      0.0   \n",
       "8852                                Encanto  2021.0     3.0      0.0   \n",
       "8853                              Love Hard  2021.0     2.0      0.0   \n",
       "8854                Every Time a Bell Rings  2021.0     3.0      0.0   \n",
       "8855                     Single All The Way  2021.0     3.0      0.0   \n",
       "\n",
       "          imdbid     id.1  submitterid                 date  visible  \n",
       "0      3155794.0   9602.0      18880.0  2021-04-02 20:58:09      1.0  \n",
       "1     14495706.0   9804.0      19145.0  2021-05-11 00:11:22      1.0  \n",
       "2      2221420.0   9603.0      18882.0  2021-04-03 02:25:27      1.0  \n",
       "3     12592084.0   9806.0      19151.0  2021-05-11 23:38:54      1.0  \n",
       "4      7816420.0   9816.0      19162.0  2021-05-13 01:32:14      1.0  \n",
       "...          ...      ...          ...                  ...      ...  \n",
       "8851   8150814.0  10147.0      19727.0  2021-11-30 16:18:27      1.0  \n",
       "8852   2953050.0  10151.0      19732.0  2021-12-02 00:36:48      1.0  \n",
       "8853  10752004.0  10152.0      19735.0  2021-12-05 19:22:20      1.0  \n",
       "8854  15943414.0  10158.0      19744.0  2021-12-10 08:03:02      1.0  \n",
       "8855  14315756.0  10161.0      19753.0  2021-12-15 10:10:36      1.0  \n",
       "\n",
       "[8856 rows x 9 columns]"
      ]
     },
     "execution_count": 67,
     "metadata": {},
     "output_type": "execute_result"
    }
   ],
   "source": [
    "#reset the index of the dataframe\n",
    "bechdel = bechdel.reset_index(drop=True)\n",
    "bechdel"
   ]
  },
  {
   "cell_type": "markdown",
   "metadata": {},
   "source": [
    "## first analyses"
   ]
  },
  {
   "cell_type": "code",
   "execution_count": 59,
   "metadata": {},
   "outputs": [
    {
     "data": {
      "image/png": "[encoded data removed]",
      "text/plain": [
       "<Figure size 600x600 with 1 Axes>"
      ]
     },
     "metadata": {},
     "output_type": "display_data"
    }
   ],
   "source": [
    "score0 = bechdel[bechdel['rating'] ==0]\n",
    "score1 = bechdel[bechdel['rating'] ==1]\n",
    "score2 = bechdel[bechdel['rating'] ==2]\n",
    "score3 = bechdel[bechdel['rating'] ==3]\n",
    "\n",
    "#plot score0, score1, score, score3 in pie chart\n",
    "plt.figure(figsize=(6,6))\n",
    "plt.pie([len(score0), len(score1), len(score2), len(score3)], labels=['0', '1', '2', '3'], autopct='%1.1f%%')\n",
    "plt.title('Distribution of the scores in the bechdel dataset')\n",
    "plt.show()\n"
   ]
  },
  {
   "cell_type": "markdown",
   "metadata": {},
   "source": [
    "> From the above plot, it appears that the test isn't that difficult to pass as more than a half of the movies in the dataset. It would be too simple to assert that movies passing the bechdel test are better in terms of gender equality. However, through our research, it was the only \"simple data\" we found to assess the gender equality. As a first insight, it seems good to perform some analyses on it. \n"
   ]
  },
  {
   "cell_type": "markdown",
   "metadata": {},
   "source": [
    "> we need to figure out what to do with the dubious ratings"
   ]
  },
  {
   "cell_type": "code",
   "execution_count": 69,
   "metadata": {},
   "outputs": [
    {
     "name": "stdout",
     "output_type": "stream",
     "text": [
      "there are 785 dubious ratings in the bechdel dataset\n",
      "this is 8.86 % of the total number of movies\n"
     ]
    }
   ],
   "source": [
    "# get the percentage of movies with dubious rating\n",
    "dubious = bechdel[bechdel['dubious'] == 1]\n",
    "print('there are',len(dubious),'dubious ratings in the bechdel dataset')\n",
    "print('this is',round(len(dubious)/len(bechdel)*100,2),'% of the total number of movies')\n"
   ]
  },
  {
   "cell_type": "markdown",
   "metadata": {},
   "source": [
    "> As we can see, they represent nearly 9 %, just deleting the rows would be a little bit to quick. Instead, what we are going to deal with them"
   ]
  },
  {
   "cell_type": "code",
   "execution_count": 70,
   "metadata": {},
   "outputs": [
    {
     "data": {
      "image/png": "[encoded data removed]",
      "text/plain": [
       "<Figure size 600x600 with 1 Axes>"
      ]
     },
     "metadata": {},
     "output_type": "display_data"
    }
   ],
   "source": [
    "#distribution of the scores in the bechdel dataset\n",
    "plt.figure(figsize=(6,6))\n",
    "plt.pie([len(score0), len(score1), len(score2), len(score3), len(dubious)], labels=['0', '1', '2', '3', 'dubious'], autopct='%1.1f%%')\n",
    "plt.title('Distribution of the scores in the bechdel dataset')\n",
    "plt.show()"
   ]
  },
  {
   "cell_type": "code",
   "execution_count": 81,
   "metadata": {},
   "outputs": [
    {
     "data": {
      "image/png": "[encoded data removed]",
      "text/plain": [
       "<Figure size 1000x600 with 1 Axes>"
      ]
     },
     "metadata": {},
     "output_type": "display_data"
    }
   ],
   "source": [
    "#evolution of the scores in the bechdel dataset over the years\n",
    "plt.figure(figsize=(10,6))\n",
    "plt.plot(bechdel.groupby('year')['rating'].mean())\n",
    "plt.title('Evolution of the scores in the bechdel dataset over the years')\n",
    "plt.xlabel('year')\n",
    "plt.ylabel('score')\n",
    "plt.show()\n"
   ]
  },
  {
   "cell_type": "markdown",
   "metadata": {},
   "source": [
    "> the mean of the bechdel score seems to be increasing over the years, let's now see the evolution of each feature"
   ]
  },
  {
   "cell_type": "code",
   "execution_count": 94,
   "metadata": {},
   "outputs": [],
   "source": [
    "#create a copy of the bechdel dataset\n",
    "bechdel_copy = bechdel.copy()\n",
    "#bechel.dubious==1 replace rating by -1\n",
    "bechdel_copy.loc[bechdel['dubious'] == 1, 'rating'] = -1\n"
   ]
  },
  {
   "cell_type": "code",
   "execution_count": 137,
   "metadata": {},
   "outputs": [
    {
     "data": {
      "text/html": [
       "<div>\n",
       "<style scoped>\n",
       "    .dataframe tbody tr th:only-of-type {\n",
       "        vertical-align: middle;\n",
       "    }\n",
       "\n",
       "    .dataframe tbody tr th {\n",
       "        vertical-align: top;\n",
       "    }\n",
       "\n",
       "    .dataframe thead th {\n",
       "        text-align: right;\n",
       "    }\n",
       "</style>\n",
       "<table border=\"1\" class=\"dataframe\">\n",
       "  <thead>\n",
       "    <tr style=\"text-align: right;\">\n",
       "      <th>rating</th>\n",
       "      <th>year</th>\n",
       "      <th>dubious</th>\n",
       "      <th>0</th>\n",
       "      <th>1</th>\n",
       "      <th>2</th>\n",
       "      <th>3</th>\n",
       "      <th>decade</th>\n",
       "    </tr>\n",
       "  </thead>\n",
       "  <tbody>\n",
       "    <tr>\n",
       "      <th>0</th>\n",
       "      <td>1874.0</td>\n",
       "      <td>NaN</td>\n",
       "      <td>1.000000</td>\n",
       "      <td>NaN</td>\n",
       "      <td>NaN</td>\n",
       "      <td>NaN</td>\n",
       "      <td>1870</td>\n",
       "    </tr>\n",
       "    <tr>\n",
       "      <th>1</th>\n",
       "      <td>1877.0</td>\n",
       "      <td>NaN</td>\n",
       "      <td>1.000000</td>\n",
       "      <td>NaN</td>\n",
       "      <td>NaN</td>\n",
       "      <td>NaN</td>\n",
       "      <td>1870</td>\n",
       "    </tr>\n",
       "    <tr>\n",
       "      <th>2</th>\n",
       "      <td>1878.0</td>\n",
       "      <td>NaN</td>\n",
       "      <td>1.000000</td>\n",
       "      <td>NaN</td>\n",
       "      <td>NaN</td>\n",
       "      <td>NaN</td>\n",
       "      <td>1870</td>\n",
       "    </tr>\n",
       "    <tr>\n",
       "      <th>3</th>\n",
       "      <td>1881.0</td>\n",
       "      <td>NaN</td>\n",
       "      <td>1.000000</td>\n",
       "      <td>NaN</td>\n",
       "      <td>NaN</td>\n",
       "      <td>NaN</td>\n",
       "      <td>1880</td>\n",
       "    </tr>\n",
       "    <tr>\n",
       "      <th>4</th>\n",
       "      <td>1883.0</td>\n",
       "      <td>NaN</td>\n",
       "      <td>1.000000</td>\n",
       "      <td>NaN</td>\n",
       "      <td>NaN</td>\n",
       "      <td>NaN</td>\n",
       "      <td>1880</td>\n",
       "    </tr>\n",
       "    <tr>\n",
       "      <th>...</th>\n",
       "      <td>...</td>\n",
       "      <td>...</td>\n",
       "      <td>...</td>\n",
       "      <td>...</td>\n",
       "      <td>...</td>\n",
       "      <td>...</td>\n",
       "      <td>...</td>\n",
       "    </tr>\n",
       "    <tr>\n",
       "      <th>135</th>\n",
       "      <td>2017.0</td>\n",
       "      <td>0.121212</td>\n",
       "      <td>0.071970</td>\n",
       "      <td>0.185606</td>\n",
       "      <td>0.064394</td>\n",
       "      <td>0.556818</td>\n",
       "      <td>2010</td>\n",
       "    </tr>\n",
       "    <tr>\n",
       "      <th>136</th>\n",
       "      <td>2018.0</td>\n",
       "      <td>0.091667</td>\n",
       "      <td>0.075000</td>\n",
       "      <td>0.166667</td>\n",
       "      <td>0.079167</td>\n",
       "      <td>0.587500</td>\n",
       "      <td>2010</td>\n",
       "    </tr>\n",
       "    <tr>\n",
       "      <th>137</th>\n",
       "      <td>2019.0</td>\n",
       "      <td>0.072340</td>\n",
       "      <td>0.059574</td>\n",
       "      <td>0.174468</td>\n",
       "      <td>0.059574</td>\n",
       "      <td>0.634043</td>\n",
       "      <td>2010</td>\n",
       "    </tr>\n",
       "    <tr>\n",
       "      <th>138</th>\n",
       "      <td>2020.0</td>\n",
       "      <td>0.110236</td>\n",
       "      <td>0.062992</td>\n",
       "      <td>0.110236</td>\n",
       "      <td>0.055118</td>\n",
       "      <td>0.661417</td>\n",
       "      <td>2020</td>\n",
       "    </tr>\n",
       "    <tr>\n",
       "      <th>139</th>\n",
       "      <td>2021.0</td>\n",
       "      <td>0.107527</td>\n",
       "      <td>0.086022</td>\n",
       "      <td>0.086022</td>\n",
       "      <td>0.096774</td>\n",
       "      <td>0.623656</td>\n",
       "      <td>2020</td>\n",
       "    </tr>\n",
       "  </tbody>\n",
       "</table>\n",
       "<p>140 rows × 7 columns</p>\n",
       "</div>"
      ],
      "text/plain": [
       "rating    year   dubious         0         1         2         3 decade\n",
       "0       1874.0       NaN  1.000000       NaN       NaN       NaN   1870\n",
       "1       1877.0       NaN  1.000000       NaN       NaN       NaN   1870\n",
       "2       1878.0       NaN  1.000000       NaN       NaN       NaN   1870\n",
       "3       1881.0       NaN  1.000000       NaN       NaN       NaN   1880\n",
       "4       1883.0       NaN  1.000000       NaN       NaN       NaN   1880\n",
       "..         ...       ...       ...       ...       ...       ...    ...\n",
       "135     2017.0  0.121212  0.071970  0.185606  0.064394  0.556818   2010\n",
       "136     2018.0  0.091667  0.075000  0.166667  0.079167  0.587500   2010\n",
       "137     2019.0  0.072340  0.059574  0.174468  0.059574  0.634043   2010\n",
       "138     2020.0  0.110236  0.062992  0.110236  0.055118  0.661417   2020\n",
       "139     2021.0  0.107527  0.086022  0.086022  0.096774  0.623656   2020\n",
       "\n",
       "[140 rows x 7 columns]"
      ]
     },
     "execution_count": 137,
     "metadata": {},
     "output_type": "execute_result"
    }
   ],
   "source": [
    "#create a dataframe percentage of movies with score 0, 1, 2, 3, -1 grouped by year\n",
    "bechdel_score_evol = pd.DataFrame(bechdel_copy.groupby('year')['rating'].value_counts(normalize=True).unstack())\n",
    "bechdel_score_evol = bechdel_score_evol.reset_index()\n",
    "bechdel_score_evol = bechdel_score_evol.rename(columns={-1:'dubious', 0:'0', 1:'1', 2:'2', 3:'3'})\n",
    "bechdel_score_evol\n",
    "#sanity check\n",
    "#col_list= ['dubious', 'less than 2 women', 'at least 2 women','talk 2 each other', 'about something other than man' ]\n",
    "#bechdel_score_evol['Sum'] = bechdel_score_evol[col_list].sum(axis=1)\n",
    "#bechdel_score_evol\n",
    "\n",
    "#new column with decade\n",
    "bechdel_score_evol['decade'] = bechdel_score_evol['year'].apply(lambda x: str(x)[0:3]+'0')\n",
    "bechdel_score_evol\n",
    "\n"
   ]
  },
  {
   "cell_type": "code",
   "execution_count": 144,
   "metadata": {},
   "outputs": [
    {
     "data": {
      "image/png": "[encoded data removed]",
      "text/plain": [
       "<Figure size 1000x600 with 1 Axes>"
      ]
     },
     "metadata": {},
     "output_type": "display_data"
    }
   ],
   "source": [
    "# bar stacked plot by decade\n",
    "plt.figure(figsize=(10,6))\n",
    "plt.bar(bechdel_score_evol['decade'], bechdel_score_evol['0'], color='red', label='0')\n",
    "plt.bar(bechdel_score_evol['decade'], bechdel_score_evol['1'], bottom=bechdel_score_evol['0'], color='blue', label='1')\n",
    "plt.bar(bechdel_score_evol['decade'], bechdel_score_evol['2'], bottom=bechdel_score_evol['0']+bechdel_score_evol['1'], color='green', label='2')\n",
    "plt.bar(bechdel_score_evol['decade'], bechdel_score_evol['3'], bottom=bechdel_score_evol['0']+bechdel_score_evol['1']+bechdel_score_evol['2'], color='yellow', label='3')\n",
    "plt.bar(bechdel_score_evol['decade'], bechdel_score_evol['dubious'], bottom=bechdel_score_evol['0']+bechdel_score_evol['1']+bechdel_score_evol['2']+bechdel_score_evol['3'], color='black', label='dubious')\n",
    "plt.title('Evolution of the scores in the bechdel dataset over the years')\n",
    "plt.xlabel('decade')\n",
    "plt.ylabel('percentage of movies')\n",
    "plt.legend()\n",
    "plt.show()\n"
   ]
  }
 ],
 "metadata": {
  "kernelspec": {
   "display_name": "Python 3.8.15 ('ADA')",
   "language": "python",
   "name": "python3"
  },
  "language_info": {
   "codemirror_mode": {
    "name": "ipython",
    "version": 3
   },
   "file_extension": ".py",
   "mimetype": "text/x-python",
   "name": "python",
   "nbconvert_exporter": "python",
   "pygments_lexer": "ipython3",
   "version": "3.8.15"
  },
  "vscode": {
   "interpreter": {
    "hash": "33a84d476f468faad60f82f72ffeabf7137776612d1aa6170926cd686dcd2eb5"
   }
  }
 },
 "nbformat": 4,
 "nbformat_minor": 4
}
