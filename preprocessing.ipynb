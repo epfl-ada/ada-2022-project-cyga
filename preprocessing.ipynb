{
 "cells": [
  {
   "cell_type": "code",
   "execution_count": 166,
   "metadata": {},
   "outputs": [
    {
     "data": {
      "text/plain": [
       "'\\nFile name: preprocessing.ipynb\\nAuthors: Yasmin El Euch, Aliénor Bénédicte G Hamoir, Clara Rossignol, Guillaume David E. Ryelandt\\nDate created: 04/11/2022\\nDate last modified: 15/11/2022\\nPython version: 3.8.8\\n'"
      ]
     },
     "execution_count": 166,
     "metadata": {},
     "output_type": "execute_result"
    }
   ],
   "source": [
    "'''\n",
    "File name: preprocessing.ipynb\n",
    "Authors: Yasmin El Euch, Aliénor Bénédicte G Hamoir, Clara Rossignol, Guillaume David E. Ryelandt\n",
    "Date created: 04/11/2022\n",
    "Date last modified: 15/11/2022\n",
    "Python version: 3.8.8\n",
    "'''"
   ]
  },
  {
   "cell_type": "markdown",
   "metadata": {},
   "source": [
    "# MeToo\n",
    "Analyze the evolution of sexism and women discrimination in the film industry through the roles/job they are given. Did the MeToo movement change things?"
   ]
  },
  {
   "cell_type": "markdown",
   "metadata": {},
   "source": [
    "## Table of contents\n",
    "\n",
    "0. [General Information](#GI)\\\n",
    "        A. [Folder structure](#Folder)\\\n",
    "        B. [Imports](#Imports)\\\n",
    "        C. [Paths](#Paths)\n",
    "</br> \n",
    "1. [Step 1: Data scraping, pre-processing and dataset construction](#Step-1)\\\n",
    "        A. [Box Office](#Box Office)\\\n",
    "        B. [detecting main characters] (#Main Characters)\\\n",
    "</br> \n"
   ]
  },
  {
   "cell_type": "markdown",
   "metadata": {},
   "source": [
    "---\n",
    "## General Information <a id=\"GI\"> </a> "
   ]
  },
  {
   "cell_type": "markdown",
   "metadata": {},
   "source": [
    "### Folder structure <a id=\"Folder\"> </a>"
   ]
  },
  {
   "cell_type": "markdown",
   "metadata": {},
   "source": [
    "***Files and directories to make this notebook run successfully:***\n",
    "\n",
    "- **data/**\n",
    "    - *character.metadata.tsv*\n",
    "    - *movie.metadata.tsv*\n",
    "    - *name.clusters.txt*\n",
    "    - *plot_summaries.txt*\n",
    "    - *tvtropes.clusters.txt*\n",
    "- *preprocessing.ipynb*\n",
    "\n",
    "Directories are in **bold** and files are in *italic*."
   ]
  },
  {
   "cell_type": "markdown",
   "metadata": {},
   "source": [
    "\n",
    "### Imports <a id=\"Imports\"> </a>"
   ]
  },
  {
   "cell_type": "markdown",
   "metadata": {},
   "source": [
    "***Libraries used for milestone 2:***\n",
    "- python=3.8.12\n",
    "- pandas\n",
    "- datetime\n",
    "- numpy\n",
    "- matplotlib"
   ]
  },
  {
   "cell_type": "code",
   "execution_count": 167,
   "metadata": {},
   "outputs": [],
   "source": [
    "#Imports used in this notebook\n",
    "from datetime import datetime\n",
    "\n",
    "import pandas as pd\n",
    "import numpy as np\n",
    "import matplotlib.pyplot as plt\n",
    "import seaborn as sns\n",
    "import json as js \n",
    "import ast\n",
    "import datetime as dt"
   ]
  },
  {
   "cell_type": "markdown",
   "metadata": {},
   "source": [
    "\n",
    "### Paths <a id=\"Paths\"> </a>"
   ]
  },
  {
   "cell_type": "markdown",
   "metadata": {},
   "source": [
    "Required to adapt those path to local file organization"
   ]
  },
  {
   "cell_type": "code",
   "execution_count": 168,
   "metadata": {},
   "outputs": [],
   "source": [
    "### PATHs for dataset:\n",
    "PATH_DATA = 'data/'\n",
    "PATH_MOVIE_METADATA = PATH_DATA+'movie.metadata.tsv'\n",
    "PATH_PLOT_SUMMARY = PATH_DATA+'plot_summaries.txt'\n",
    "PATH_CHARACTER_METADATA = PATH_DATA+'character.metadata.tsv'\n",
    "PATH_NAME_CLUSTERS=PATH_DATA+'name.clusters.txt'\n",
    "PATH_TV_TROPES_CLUSTERS=PATH_DATA+'tvtropes.clusters.txt'"
   ]
  },
  {
   "cell_type": "markdown",
   "metadata": {},
   "source": [
    "---\n",
    "## **Step 1: Data scraping, pre-processing and dataset construction** <a id=\"Step-1\"> </a>"
   ]
  },
  {
   "cell_type": "markdown",
   "metadata": {},
   "source": [
    "First we will properly name ecach column of  in order to manipulate in an easier way"
   ]
  },
  {
   "cell_type": "code",
   "execution_count": 169,
   "metadata": {},
   "outputs": [],
   "source": [
    "def dict_to_cols(row): \n",
    "    '''\n",
    "    allows to transform the dictionnary into  a dataframe with multiple columns \n",
    "    '''\n",
    "    d = js.loads(row[1])\n",
    "    return row[0], *list(d.values())\n",
    "\n",
    "def dict_to_lst(str):\n",
    "    '''\n",
    "    allows to transform a dictionnary into a list of features\n",
    "    '''\n",
    "    \n",
    "    dict = ast.literal_eval(str)\n",
    "    lst  = list(dict.values())\n",
    "    return lst"
   ]
  },
  {
   "cell_type": "code",
   "execution_count": 197,
   "metadata": {},
   "outputs": [
    {
     "name": "stdout",
     "output_type": "stream",
     "text": [
      "Reading in movie data\n"
     ]
    },
    {
     "data": {
      "text/html": [
       "<div>\n",
       "<style scoped>\n",
       "    .dataframe tbody tr th:only-of-type {\n",
       "        vertical-align: middle;\n",
       "    }\n",
       "\n",
       "    .dataframe tbody tr th {\n",
       "        vertical-align: top;\n",
       "    }\n",
       "\n",
       "    .dataframe thead th {\n",
       "        text-align: right;\n",
       "    }\n",
       "</style>\n",
       "<table border=\"1\" class=\"dataframe\">\n",
       "  <thead>\n",
       "    <tr style=\"text-align: right;\">\n",
       "      <th></th>\n",
       "      <th>Freebase_movie_ID</th>\n",
       "      <th>Movie_name</th>\n",
       "      <th>Movie_release_date</th>\n",
       "      <th>Movie_box_office_revenue</th>\n",
       "      <th>Movie_runtime</th>\n",
       "      <th>Movie_languages</th>\n",
       "      <th>Movie_countries</th>\n",
       "      <th>Movie_genres</th>\n",
       "    </tr>\n",
       "    <tr>\n",
       "      <th>Wikipedia_movie_ID</th>\n",
       "      <th></th>\n",
       "      <th></th>\n",
       "      <th></th>\n",
       "      <th></th>\n",
       "      <th></th>\n",
       "      <th></th>\n",
       "      <th></th>\n",
       "      <th></th>\n",
       "    </tr>\n",
       "  </thead>\n",
       "  <tbody>\n",
       "    <tr>\n",
       "      <th>975900</th>\n",
       "      <td>/m/03vyhn</td>\n",
       "      <td>Ghosts of Mars</td>\n",
       "      <td>2001-08-24</td>\n",
       "      <td>14010832.0</td>\n",
       "      <td>98.0</td>\n",
       "      <td>[English Language]</td>\n",
       "      <td>[United States of America]</td>\n",
       "      <td>[Thriller, Science Fiction, Horror, Adventure,...</td>\n",
       "    </tr>\n",
       "    <tr>\n",
       "      <th>3196793</th>\n",
       "      <td>/m/08yl5d</td>\n",
       "      <td>Getting Away with Murder: The JonBenét Ramsey ...</td>\n",
       "      <td>2000-02-16</td>\n",
       "      <td>NaN</td>\n",
       "      <td>95.0</td>\n",
       "      <td>[English Language]</td>\n",
       "      <td>[United States of America]</td>\n",
       "      <td>[Mystery, Biographical film, Drama, Crime Drama]</td>\n",
       "    </tr>\n",
       "    <tr>\n",
       "      <th>28463795</th>\n",
       "      <td>/m/0crgdbh</td>\n",
       "      <td>Brun bitter</td>\n",
       "      <td>1988</td>\n",
       "      <td>NaN</td>\n",
       "      <td>83.0</td>\n",
       "      <td>[Norwegian Language]</td>\n",
       "      <td>[Norway]</td>\n",
       "      <td>[Crime Fiction, Drama]</td>\n",
       "    </tr>\n",
       "    <tr>\n",
       "      <th>9363483</th>\n",
       "      <td>/m/0285_cd</td>\n",
       "      <td>White Of The Eye</td>\n",
       "      <td>1987</td>\n",
       "      <td>NaN</td>\n",
       "      <td>110.0</td>\n",
       "      <td>[English Language]</td>\n",
       "      <td>[United Kingdom]</td>\n",
       "      <td>[Thriller, Erotic thriller, Psychological thri...</td>\n",
       "    </tr>\n",
       "    <tr>\n",
       "      <th>261236</th>\n",
       "      <td>/m/01mrr1</td>\n",
       "      <td>A Woman in Flames</td>\n",
       "      <td>1983</td>\n",
       "      <td>NaN</td>\n",
       "      <td>106.0</td>\n",
       "      <td>[German Language]</td>\n",
       "      <td>[Germany]</td>\n",
       "      <td>[Drama]</td>\n",
       "    </tr>\n",
       "    <tr>\n",
       "      <th>...</th>\n",
       "      <td>...</td>\n",
       "      <td>...</td>\n",
       "      <td>...</td>\n",
       "      <td>...</td>\n",
       "      <td>...</td>\n",
       "      <td>...</td>\n",
       "      <td>...</td>\n",
       "      <td>...</td>\n",
       "    </tr>\n",
       "    <tr>\n",
       "      <th>35228177</th>\n",
       "      <td>/m/0j7hxnt</td>\n",
       "      <td>Mermaids: The Body Found</td>\n",
       "      <td>2011-03-19</td>\n",
       "      <td>NaN</td>\n",
       "      <td>120.0</td>\n",
       "      <td>[English Language]</td>\n",
       "      <td>[United States of America]</td>\n",
       "      <td>[Drama]</td>\n",
       "    </tr>\n",
       "    <tr>\n",
       "      <th>34980460</th>\n",
       "      <td>/m/0g4pl34</td>\n",
       "      <td>Knuckle</td>\n",
       "      <td>2011-01-21</td>\n",
       "      <td>NaN</td>\n",
       "      <td>96.0</td>\n",
       "      <td>[English Language]</td>\n",
       "      <td>[Ireland, United Kingdom]</td>\n",
       "      <td>[Biographical film, Drama, Documentary]</td>\n",
       "    </tr>\n",
       "    <tr>\n",
       "      <th>9971909</th>\n",
       "      <td>/m/02pygw1</td>\n",
       "      <td>Another Nice Mess</td>\n",
       "      <td>1972-09-22</td>\n",
       "      <td>NaN</td>\n",
       "      <td>66.0</td>\n",
       "      <td>[English Language]</td>\n",
       "      <td>[United States of America]</td>\n",
       "      <td>[Satire, Comedy]</td>\n",
       "    </tr>\n",
       "    <tr>\n",
       "      <th>913762</th>\n",
       "      <td>/m/03pcrp</td>\n",
       "      <td>The Super Dimension Fortress Macross II: Lover...</td>\n",
       "      <td>1992-05-21</td>\n",
       "      <td>NaN</td>\n",
       "      <td>150.0</td>\n",
       "      <td>[Japanese Language]</td>\n",
       "      <td>[Japan]</td>\n",
       "      <td>[Science Fiction, Japanese Movies, Adventure, ...</td>\n",
       "    </tr>\n",
       "    <tr>\n",
       "      <th>12476867</th>\n",
       "      <td>/m/02w7zz8</td>\n",
       "      <td>Spliced</td>\n",
       "      <td>2002</td>\n",
       "      <td>NaN</td>\n",
       "      <td>86.0</td>\n",
       "      <td>[English Language]</td>\n",
       "      <td>[Canada]</td>\n",
       "      <td>[Thriller, Horror, Slasher, Teen]</td>\n",
       "    </tr>\n",
       "  </tbody>\n",
       "</table>\n",
       "<p>81741 rows × 8 columns</p>\n",
       "</div>"
      ],
      "text/plain": [
       "                   Freebase_movie_ID  \\\n",
       "Wikipedia_movie_ID                     \n",
       "975900                     /m/03vyhn   \n",
       "3196793                    /m/08yl5d   \n",
       "28463795                  /m/0crgdbh   \n",
       "9363483                   /m/0285_cd   \n",
       "261236                     /m/01mrr1   \n",
       "...                              ...   \n",
       "35228177                  /m/0j7hxnt   \n",
       "34980460                  /m/0g4pl34   \n",
       "9971909                   /m/02pygw1   \n",
       "913762                     /m/03pcrp   \n",
       "12476867                  /m/02w7zz8   \n",
       "\n",
       "                                                           Movie_name  \\\n",
       "Wikipedia_movie_ID                                                      \n",
       "975900                                                 Ghosts of Mars   \n",
       "3196793             Getting Away with Murder: The JonBenét Ramsey ...   \n",
       "28463795                                                  Brun bitter   \n",
       "9363483                                              White Of The Eye   \n",
       "261236                                              A Woman in Flames   \n",
       "...                                                               ...   \n",
       "35228177                                     Mermaids: The Body Found   \n",
       "34980460                                                      Knuckle   \n",
       "9971909                                             Another Nice Mess   \n",
       "913762              The Super Dimension Fortress Macross II: Lover...   \n",
       "12476867                                                      Spliced   \n",
       "\n",
       "                   Movie_release_date  Movie_box_office_revenue  \\\n",
       "Wikipedia_movie_ID                                                \n",
       "975900                     2001-08-24                14010832.0   \n",
       "3196793                    2000-02-16                       NaN   \n",
       "28463795                         1988                       NaN   \n",
       "9363483                          1987                       NaN   \n",
       "261236                           1983                       NaN   \n",
       "...                               ...                       ...   \n",
       "35228177                   2011-03-19                       NaN   \n",
       "34980460                   2011-01-21                       NaN   \n",
       "9971909                    1972-09-22                       NaN   \n",
       "913762                     1992-05-21                       NaN   \n",
       "12476867                         2002                       NaN   \n",
       "\n",
       "                    Movie_runtime       Movie_languages  \\\n",
       "Wikipedia_movie_ID                                        \n",
       "975900                       98.0    [English Language]   \n",
       "3196793                      95.0    [English Language]   \n",
       "28463795                     83.0  [Norwegian Language]   \n",
       "9363483                     110.0    [English Language]   \n",
       "261236                      106.0     [German Language]   \n",
       "...                           ...                   ...   \n",
       "35228177                    120.0    [English Language]   \n",
       "34980460                     96.0    [English Language]   \n",
       "9971909                      66.0    [English Language]   \n",
       "913762                      150.0   [Japanese Language]   \n",
       "12476867                     86.0    [English Language]   \n",
       "\n",
       "                               Movie_countries  \\\n",
       "Wikipedia_movie_ID                               \n",
       "975900              [United States of America]   \n",
       "3196793             [United States of America]   \n",
       "28463795                              [Norway]   \n",
       "9363483                       [United Kingdom]   \n",
       "261236                               [Germany]   \n",
       "...                                        ...   \n",
       "35228177            [United States of America]   \n",
       "34980460             [Ireland, United Kingdom]   \n",
       "9971909             [United States of America]   \n",
       "913762                                 [Japan]   \n",
       "12476867                              [Canada]   \n",
       "\n",
       "                                                         Movie_genres  \n",
       "Wikipedia_movie_ID                                                     \n",
       "975900              [Thriller, Science Fiction, Horror, Adventure,...  \n",
       "3196793              [Mystery, Biographical film, Drama, Crime Drama]  \n",
       "28463795                                       [Crime Fiction, Drama]  \n",
       "9363483             [Thriller, Erotic thriller, Psychological thri...  \n",
       "261236                                                        [Drama]  \n",
       "...                                                               ...  \n",
       "35228177                                                      [Drama]  \n",
       "34980460                      [Biographical film, Drama, Documentary]  \n",
       "9971909                                              [Satire, Comedy]  \n",
       "913762              [Science Fiction, Japanese Movies, Adventure, ...  \n",
       "12476867                            [Thriller, Horror, Slasher, Teen]  \n",
       "\n",
       "[81741 rows x 8 columns]"
      ]
     },
     "execution_count": 197,
     "metadata": {},
     "output_type": "execute_result"
    }
   ],
   "source": [
    "print(\"Reading in movie data\")\n",
    "\n",
    "#Read in movie metadata, plot summaries, and character metadata.\n",
    "movie_headers = ['Wikipedia_movie_ID', 'Freebase_movie_ID', 'Movie_name','Movie_release_date','Movie_box_office_revenue',\n",
    "                 'Movie_runtime','Movie_languages','Movie_countries','Movie_genres']\n",
    "plot_headers = ['Wikipedia_movie_ID','Plot_Summary']\n",
    "character_headers = ['Wikipedia_movie_ID', 'Freebase_movie_ID','Movie_release_date','Character_name','Actor_date_of_birth',\n",
    "                     'Actor_gender','Actor_height','Actor_ethnicity','Actor_name','Actor_age_at_movie_release',\n",
    "                     'Freebase_character_actor_map_ID','Freebase_character_ID','Freebase_actor_ID']\n",
    "name_clusters_headers=['Character_name', 'id']\n",
    "name_clusters_headers=['Character_name', 'id']\n",
    "tv_tropes_cluster_headers=['Trope','Character_name','movie','id','actor']\n",
    "\n",
    "\n",
    "movie_metadata = pd.read_csv(PATH_MOVIE_METADATA,sep='\\t',header=None,names=movie_headers,index_col=0)\n",
    "plot_summaries = pd.read_csv(PATH_PLOT_SUMMARY,sep='\\t',index_col=0,names=plot_headers)\n",
    "character_metadata = pd.read_csv(PATH_CHARACTER_METADATA,sep='\\t',header=None,names=character_headers,index_col='Wikipedia_movie_ID')\n",
    "name_clusters=pd.read_csv(PATH_NAME_CLUSTERS,sep='\\t',header=None,names=name_clusters_headers,index_col='id')\n",
    "tv_tropes_clusters = pd.read_csv(PATH_TV_TROPES_CLUSTERS,sep='\\t',header=None).apply(dict_to_cols, axis=1, result_type='expand')\n",
    "tv_tropes_clusters.columns = tv_tropes_cluster_headers\n",
    "tv_tropes_clusters.set_index('id')\n",
    "movie_metadata['Movie_languages']=movie_metadata['Movie_languages'].apply(lambda x: dict_to_lst(x))\n",
    "movie_metadata['Movie_countries']=movie_metadata['Movie_countries'].apply(lambda x: dict_to_lst(x))\n",
    "movie_metadata['Movie_genres']=movie_metadata['Movie_genres'].apply(lambda x: dict_to_lst(x))\n",
    "movie_metadata\n",
    "'''\n",
    "s'il y moyen de taper les 3 dernières lignes en une ce serait nickel!!\n",
    "'''\n",
    "movie_metadata"
   ]
  },
  {
   "cell_type": "code",
   "execution_count": 171,
   "metadata": {},
   "outputs": [
    {
     "data": {
      "text/html": [
       "<div>\n",
       "<style scoped>\n",
       "    .dataframe tbody tr th:only-of-type {\n",
       "        vertical-align: middle;\n",
       "    }\n",
       "\n",
       "    .dataframe tbody tr th {\n",
       "        vertical-align: top;\n",
       "    }\n",
       "\n",
       "    .dataframe thead th {\n",
       "        text-align: right;\n",
       "    }\n",
       "</style>\n",
       "<table border=\"1\" class=\"dataframe\">\n",
       "  <thead>\n",
       "    <tr style=\"text-align: right;\">\n",
       "      <th></th>\n",
       "      <th>Character_name</th>\n",
       "    </tr>\n",
       "    <tr>\n",
       "      <th>id</th>\n",
       "      <th></th>\n",
       "    </tr>\n",
       "  </thead>\n",
       "  <tbody>\n",
       "    <tr>\n",
       "      <th>/m/0k3w9c</th>\n",
       "      <td>Stuart Little</td>\n",
       "    </tr>\n",
       "    <tr>\n",
       "      <th>/m/0k3wcx</th>\n",
       "      <td>Stuart Little</td>\n",
       "    </tr>\n",
       "    <tr>\n",
       "      <th>/m/0k3wbn</th>\n",
       "      <td>Stuart Little</td>\n",
       "    </tr>\n",
       "    <tr>\n",
       "      <th>/m/0jyg35</th>\n",
       "      <td>John Doe</td>\n",
       "    </tr>\n",
       "    <tr>\n",
       "      <th>/m/0k2_zn</th>\n",
       "      <td>John Doe</td>\n",
       "    </tr>\n",
       "  </tbody>\n",
       "</table>\n",
       "</div>"
      ],
      "text/plain": [
       "          Character_name\n",
       "id                      \n",
       "/m/0k3w9c  Stuart Little\n",
       "/m/0k3wcx  Stuart Little\n",
       "/m/0k3wbn  Stuart Little\n",
       "/m/0jyg35       John Doe\n",
       "/m/0k2_zn       John Doe"
      ]
     },
     "execution_count": 171,
     "metadata": {},
     "output_type": "execute_result"
    }
   ],
   "source": [
    "name_clusters.head()"
   ]
  },
  {
   "cell_type": "markdown",
   "metadata": {},
   "source": [
    "First of all, we make an inspection of the dataframes, to see wether there exist some duplicates, NaN values etc... "
   ]
  },
  {
   "cell_type": "code",
   "execution_count": 172,
   "metadata": {},
   "outputs": [
    {
     "data": {
      "text/plain": [
       "True"
      ]
     },
     "execution_count": 172,
     "metadata": {},
     "output_type": "execute_result"
    }
   ],
   "source": [
    "movie_metadata.index.is_unique"
   ]
  },
  {
   "cell_type": "code",
   "execution_count": 173,
   "metadata": {},
   "outputs": [
    {
     "data": {
      "text/plain": [
       "Freebase_movie_ID           False\n",
       "Movie_name                  False\n",
       "Movie_release_date           True\n",
       "Movie_box_office_revenue     True\n",
       "Movie_runtime                True\n",
       "Movie_languages             False\n",
       "Movie_countries             False\n",
       "Movie_genres                False\n",
       "dtype: bool"
      ]
     },
     "execution_count": 173,
     "metadata": {},
     "output_type": "execute_result"
    }
   ],
   "source": [
    "movie_metadata.isna().any()"
   ]
  },
  {
   "cell_type": "markdown",
   "metadata": {},
   "source": [
    "here is a more visual way to see which columns of the dataset contain missing entries"
   ]
  },
  {
   "cell_type": "code",
   "execution_count": 174,
   "metadata": {},
   "outputs": [
    {
     "name": "stdout",
     "output_type": "stream",
     "text": [
      "Sum of NaN in each feature : \n"
     ]
    },
    {
     "data": {
      "text/plain": [
       "Freebase_movie_ID               0\n",
       "Movie_name                      0\n",
       "Movie_release_date           6902\n",
       "Movie_box_office_revenue    73340\n",
       "Movie_runtime               20450\n",
       "Movie_languages                 0\n",
       "Movie_countries                 0\n",
       "Movie_genres                    0\n",
       "dtype: int64"
      ]
     },
     "execution_count": 174,
     "metadata": {},
     "output_type": "execute_result"
    },
    {
     "data": {
      "image/png": "[encoded data removed]",
      "text/plain": [
       "<Figure size 640x480 with 2 Axes>"
      ]
     },
     "metadata": {},
     "output_type": "display_data"
    }
   ],
   "source": [
    "ax=sns.heatmap(movie_metadata.isna(), yticklabels=False)\n",
    "ax.set(xlabel=\"Features\", ylabel=\"Wikipedi_ID\")\n",
    "print('Sum of NaN in each feature : ')\n",
    "movie_metadata.isna().sum(axis = 0)"
   ]
  },
  {
   "cell_type": "code",
   "execution_count": 175,
   "metadata": {},
   "outputs": [
    {
     "name": "stdout",
     "output_type": "stream",
     "text": [
      "Percentage of missing entries in the movie.metadata dataset:\n",
      " Movie_release_date           8.443743\n",
      "Movie_box_office_revenue    89.722416\n",
      "Movie_runtime               25.018045\n",
      "dtype: float64\n"
     ]
    }
   ],
   "source": [
    "n_movie=len(movie_metadata)\n",
    "print('Percentage of missing entries in the movie.metadata dataset:\\n', 100*movie_metadata[['Movie_release_date', 'Movie_box_office_revenue', 'Movie_runtime']].isna().sum() / n_movie)"
   ]
  },
  {
   "cell_type": "markdown",
   "metadata": {},
   "source": [
    "We are missing a lot of the data on the movie box office revenue. Maybe we should try and find those missing informations in another dataset as this could be helpful in our analysis."
   ]
  },
  {
   "cell_type": "code",
   "execution_count": 176,
   "metadata": {},
   "outputs": [
    {
     "data": {
      "text/html": [
       "<div>\n",
       "<style scoped>\n",
       "    .dataframe tbody tr th:only-of-type {\n",
       "        vertical-align: middle;\n",
       "    }\n",
       "\n",
       "    .dataframe tbody tr th {\n",
       "        vertical-align: top;\n",
       "    }\n",
       "\n",
       "    .dataframe thead th {\n",
       "        text-align: right;\n",
       "    }\n",
       "</style>\n",
       "<table border=\"1\" class=\"dataframe\">\n",
       "  <thead>\n",
       "    <tr style=\"text-align: right;\">\n",
       "      <th></th>\n",
       "      <th>Plot_Summary</th>\n",
       "    </tr>\n",
       "    <tr>\n",
       "      <th>Wikipedia_movie_ID</th>\n",
       "      <th></th>\n",
       "    </tr>\n",
       "  </thead>\n",
       "  <tbody>\n",
       "    <tr>\n",
       "      <th>23890098</th>\n",
       "      <td>Shlykov, a hard-working taxi driver and Lyosha...</td>\n",
       "    </tr>\n",
       "    <tr>\n",
       "      <th>31186339</th>\n",
       "      <td>The nation of Panem consists of a wealthy Capi...</td>\n",
       "    </tr>\n",
       "    <tr>\n",
       "      <th>20663735</th>\n",
       "      <td>Poovalli Induchoodan  is sentenced for six yea...</td>\n",
       "    </tr>\n",
       "    <tr>\n",
       "      <th>2231378</th>\n",
       "      <td>The Lemon Drop Kid , a New York City swindler,...</td>\n",
       "    </tr>\n",
       "    <tr>\n",
       "      <th>595909</th>\n",
       "      <td>Seventh-day Adventist Church pastor Michael Ch...</td>\n",
       "    </tr>\n",
       "  </tbody>\n",
       "</table>\n",
       "</div>"
      ],
      "text/plain": [
       "                                                         Plot_Summary\n",
       "Wikipedia_movie_ID                                                   \n",
       "23890098            Shlykov, a hard-working taxi driver and Lyosha...\n",
       "31186339            The nation of Panem consists of a wealthy Capi...\n",
       "20663735            Poovalli Induchoodan  is sentenced for six yea...\n",
       "2231378             The Lemon Drop Kid , a New York City swindler,...\n",
       "595909              Seventh-day Adventist Church pastor Michael Ch..."
      ]
     },
     "execution_count": 176,
     "metadata": {},
     "output_type": "execute_result"
    }
   ],
   "source": [
    "plot_summaries.head()"
   ]
  },
  {
   "cell_type": "code",
   "execution_count": 177,
   "metadata": {},
   "outputs": [
    {
     "data": {
      "text/plain": [
       "True"
      ]
     },
     "execution_count": 177,
     "metadata": {},
     "output_type": "execute_result"
    }
   ],
   "source": [
    "plot_summaries.index.is_unique"
   ]
  },
  {
   "cell_type": "code",
   "execution_count": 178,
   "metadata": {},
   "outputs": [
    {
     "name": "stdout",
     "output_type": "stream",
     "text": [
      "Sum of NaN in each feature : \n"
     ]
    },
    {
     "data": {
      "text/plain": [
       "Plot_Summary    0\n",
       "dtype: int64"
      ]
     },
     "execution_count": 178,
     "metadata": {},
     "output_type": "execute_result"
    }
   ],
   "source": [
    "print('Sum of NaN in each feature : ')\n",
    "plot_summaries.isna().sum(axis = 0)"
   ]
  },
  {
   "cell_type": "markdown",
   "metadata": {},
   "source": [
    "The summary dataset seems to be relatively clean "
   ]
  },
  {
   "cell_type": "code",
   "execution_count": 179,
   "metadata": {},
   "outputs": [
    {
     "data": {
      "text/html": [
       "<div>\n",
       "<style scoped>\n",
       "    .dataframe tbody tr th:only-of-type {\n",
       "        vertical-align: middle;\n",
       "    }\n",
       "\n",
       "    .dataframe tbody tr th {\n",
       "        vertical-align: top;\n",
       "    }\n",
       "\n",
       "    .dataframe thead th {\n",
       "        text-align: right;\n",
       "    }\n",
       "</style>\n",
       "<table border=\"1\" class=\"dataframe\">\n",
       "  <thead>\n",
       "    <tr style=\"text-align: right;\">\n",
       "      <th></th>\n",
       "      <th>Freebase_movie_ID</th>\n",
       "      <th>Movie_release_date</th>\n",
       "      <th>Character_name</th>\n",
       "      <th>Actor_date_of_birth</th>\n",
       "      <th>Actor_gender</th>\n",
       "      <th>Actor_height</th>\n",
       "      <th>Actor_ethnicity</th>\n",
       "      <th>Actor_name</th>\n",
       "      <th>Actor_age_at_movie_release</th>\n",
       "      <th>Freebase_character_actor_map_ID</th>\n",
       "      <th>Freebase_character_ID</th>\n",
       "      <th>Freebase_actor_ID</th>\n",
       "    </tr>\n",
       "    <tr>\n",
       "      <th>Wikipedia_movie_ID</th>\n",
       "      <th></th>\n",
       "      <th></th>\n",
       "      <th></th>\n",
       "      <th></th>\n",
       "      <th></th>\n",
       "      <th></th>\n",
       "      <th></th>\n",
       "      <th></th>\n",
       "      <th></th>\n",
       "      <th></th>\n",
       "      <th></th>\n",
       "      <th></th>\n",
       "    </tr>\n",
       "  </thead>\n",
       "  <tbody>\n",
       "    <tr>\n",
       "      <th>975900</th>\n",
       "      <td>/m/03vyhn</td>\n",
       "      <td>2001-08-24</td>\n",
       "      <td>Akooshay</td>\n",
       "      <td>1958-08-26</td>\n",
       "      <td>F</td>\n",
       "      <td>1.620</td>\n",
       "      <td>NaN</td>\n",
       "      <td>Wanda De Jesus</td>\n",
       "      <td>42.0</td>\n",
       "      <td>/m/0bgchxw</td>\n",
       "      <td>/m/0bgcj3x</td>\n",
       "      <td>/m/03wcfv7</td>\n",
       "    </tr>\n",
       "    <tr>\n",
       "      <th>975900</th>\n",
       "      <td>/m/03vyhn</td>\n",
       "      <td>2001-08-24</td>\n",
       "      <td>Lieutenant Melanie Ballard</td>\n",
       "      <td>1974-08-15</td>\n",
       "      <td>F</td>\n",
       "      <td>1.780</td>\n",
       "      <td>/m/044038p</td>\n",
       "      <td>Natasha Henstridge</td>\n",
       "      <td>27.0</td>\n",
       "      <td>/m/0jys3m</td>\n",
       "      <td>/m/0bgchn4</td>\n",
       "      <td>/m/0346l4</td>\n",
       "    </tr>\n",
       "    <tr>\n",
       "      <th>975900</th>\n",
       "      <td>/m/03vyhn</td>\n",
       "      <td>2001-08-24</td>\n",
       "      <td>Desolation Williams</td>\n",
       "      <td>1969-06-15</td>\n",
       "      <td>M</td>\n",
       "      <td>1.727</td>\n",
       "      <td>/m/0x67</td>\n",
       "      <td>Ice Cube</td>\n",
       "      <td>32.0</td>\n",
       "      <td>/m/0jys3g</td>\n",
       "      <td>/m/0bgchn_</td>\n",
       "      <td>/m/01vw26l</td>\n",
       "    </tr>\n",
       "    <tr>\n",
       "      <th>975900</th>\n",
       "      <td>/m/03vyhn</td>\n",
       "      <td>2001-08-24</td>\n",
       "      <td>Sgt Jericho Butler</td>\n",
       "      <td>1967-09-12</td>\n",
       "      <td>M</td>\n",
       "      <td>1.750</td>\n",
       "      <td>NaN</td>\n",
       "      <td>Jason Statham</td>\n",
       "      <td>33.0</td>\n",
       "      <td>/m/02vchl6</td>\n",
       "      <td>/m/0bgchnq</td>\n",
       "      <td>/m/034hyc</td>\n",
       "    </tr>\n",
       "    <tr>\n",
       "      <th>975900</th>\n",
       "      <td>/m/03vyhn</td>\n",
       "      <td>2001-08-24</td>\n",
       "      <td>Bashira Kincaid</td>\n",
       "      <td>1977-09-25</td>\n",
       "      <td>F</td>\n",
       "      <td>1.650</td>\n",
       "      <td>NaN</td>\n",
       "      <td>Clea DuVall</td>\n",
       "      <td>23.0</td>\n",
       "      <td>/m/02vbb3r</td>\n",
       "      <td>/m/0bgchp9</td>\n",
       "      <td>/m/01y9xg</td>\n",
       "    </tr>\n",
       "  </tbody>\n",
       "</table>\n",
       "</div>"
      ],
      "text/plain": [
       "                   Freebase_movie_ID Movie_release_date  \\\n",
       "Wikipedia_movie_ID                                        \n",
       "975900                     /m/03vyhn         2001-08-24   \n",
       "975900                     /m/03vyhn         2001-08-24   \n",
       "975900                     /m/03vyhn         2001-08-24   \n",
       "975900                     /m/03vyhn         2001-08-24   \n",
       "975900                     /m/03vyhn         2001-08-24   \n",
       "\n",
       "                                Character_name Actor_date_of_birth  \\\n",
       "Wikipedia_movie_ID                                                   \n",
       "975900                                Akooshay          1958-08-26   \n",
       "975900              Lieutenant Melanie Ballard          1974-08-15   \n",
       "975900                     Desolation Williams          1969-06-15   \n",
       "975900                      Sgt Jericho Butler          1967-09-12   \n",
       "975900                         Bashira Kincaid          1977-09-25   \n",
       "\n",
       "                   Actor_gender  Actor_height Actor_ethnicity  \\\n",
       "Wikipedia_movie_ID                                              \n",
       "975900                        F         1.620             NaN   \n",
       "975900                        F         1.780      /m/044038p   \n",
       "975900                        M         1.727         /m/0x67   \n",
       "975900                        M         1.750             NaN   \n",
       "975900                        F         1.650             NaN   \n",
       "\n",
       "                            Actor_name  Actor_age_at_movie_release  \\\n",
       "Wikipedia_movie_ID                                                   \n",
       "975900                  Wanda De Jesus                        42.0   \n",
       "975900              Natasha Henstridge                        27.0   \n",
       "975900                        Ice Cube                        32.0   \n",
       "975900                   Jason Statham                        33.0   \n",
       "975900                     Clea DuVall                        23.0   \n",
       "\n",
       "                   Freebase_character_actor_map_ID Freebase_character_ID  \\\n",
       "Wikipedia_movie_ID                                                         \n",
       "975900                                  /m/0bgchxw            /m/0bgcj3x   \n",
       "975900                                   /m/0jys3m            /m/0bgchn4   \n",
       "975900                                   /m/0jys3g            /m/0bgchn_   \n",
       "975900                                  /m/02vchl6            /m/0bgchnq   \n",
       "975900                                  /m/02vbb3r            /m/0bgchp9   \n",
       "\n",
       "                   Freebase_actor_ID  \n",
       "Wikipedia_movie_ID                    \n",
       "975900                    /m/03wcfv7  \n",
       "975900                     /m/0346l4  \n",
       "975900                    /m/01vw26l  \n",
       "975900                     /m/034hyc  \n",
       "975900                     /m/01y9xg  "
      ]
     },
     "execution_count": 179,
     "metadata": {},
     "output_type": "execute_result"
    }
   ],
   "source": [
    "character_metadata.head()"
   ]
  },
  {
   "cell_type": "code",
   "execution_count": 180,
   "metadata": {},
   "outputs": [
    {
     "data": {
      "text/plain": [
       "Freebase_movie_ID                  False\n",
       "Movie_release_date                  True\n",
       "Character_name                      True\n",
       "Actor_date_of_birth                 True\n",
       "Actor_gender                        True\n",
       "Actor_height                        True\n",
       "Actor_ethnicity                     True\n",
       "Actor_name                          True\n",
       "Actor_age_at_movie_release          True\n",
       "Freebase_character_actor_map_ID    False\n",
       "Freebase_character_ID               True\n",
       "Freebase_actor_ID                   True\n",
       "dtype: bool"
      ]
     },
     "execution_count": 180,
     "metadata": {},
     "output_type": "execute_result"
    }
   ],
   "source": [
    "character_metadata.isna().any()"
   ]
  },
  {
   "cell_type": "code",
   "execution_count": 181,
   "metadata": {},
   "outputs": [
    {
     "name": "stdout",
     "output_type": "stream",
     "text": [
      "Sum of NaN in each feature : \n"
     ]
    },
    {
     "data": {
      "text/plain": [
       "Freebase_movie_ID                       0\n",
       "Movie_release_date                   9995\n",
       "Character_name                     257875\n",
       "Actor_date_of_birth                106145\n",
       "Actor_gender                        45609\n",
       "Actor_height                       295845\n",
       "Actor_ethnicity                    344611\n",
       "Actor_name                           1228\n",
       "Actor_age_at_movie_release         158113\n",
       "Freebase_character_actor_map_ID         0\n",
       "Freebase_character_ID              257865\n",
       "Freebase_actor_ID                     815\n",
       "dtype: int64"
      ]
     },
     "execution_count": 181,
     "metadata": {},
     "output_type": "execute_result"
    },
    {
     "data": {
      "image/png": "[encoded data removed]",
      "text/plain": [
       "<Figure size 640x480 with 2 Axes>"
      ]
     },
     "metadata": {},
     "output_type": "display_data"
    }
   ],
   "source": [
    "ax=sns.heatmap(character_metadata.isna(), yticklabels=False)\n",
    "ax.set(xlabel=\"Features\", ylabel=\"Wikipedia_ID\")\n",
    "print('Sum of NaN in each feature : ')\n",
    "character_metadata.isna().sum(axis = 0)"
   ]
  },
  {
   "cell_type": "code",
   "execution_count": 182,
   "metadata": {},
   "outputs": [
    {
     "name": "stdout",
     "output_type": "stream",
     "text": [
      "Percentage of missing entries in the character.metadata dataset:\n",
      " Freebase_movie_ID              0.000000\n",
      "Movie_release_date             2.217814\n",
      "Character_name                57.220488\n",
      "Actor_date_of_birth           23.552763\n",
      "Actor_gender                  10.120288\n",
      "Actor_height                  65.645740\n",
      "Actor_ethnicity               76.466542\n",
      "Actor_name                     0.272484\n",
      "Actor_age_at_movie_release    35.084064\n",
      "Freebase_character_ID         57.218269\n",
      "Freebase_actor_ID              0.180842\n",
      "dtype: float64\n"
     ]
    }
   ],
   "source": [
    "n_char=len(character_metadata)\n",
    "print('Percentage of missing entries in the character.metadata dataset:\\n', 100*character_metadata[['Freebase_movie_ID', 'Movie_release_date', 'Character_name',\n",
    "                                                                                   'Actor_date_of_birth', 'Actor_gender', 'Actor_height', 'Actor_ethnicity',\n",
    "                                                                                   'Actor_name', 'Actor_age_at_movie_release', 'Freebase_character_ID',\n",
    "                                                                                   'Freebase_actor_ID']].isna().sum() / n_char)"
   ]
  },
  {
   "cell_type": "markdown",
   "metadata": {},
   "source": [
    "We are missing a lot of data on actor's and actresses' ethnicities and their heights. This should not affect our analysis a we did not plan on using these features initially."
   ]
  },
  {
   "cell_type": "code",
   "execution_count": 183,
   "metadata": {},
   "outputs": [
    {
     "name": "stdout",
     "output_type": "stream",
     "text": [
      "Number of rows in the movie.metadata dataset : 81741\n",
      "Number of rows in the character.metadata dataset : 450669\n"
     ]
    }
   ],
   "source": [
    "print('Number of rows in the movie.metadata dataset : %d' %n_movie)\n",
    "print('Number of rows in the character.metadata dataset : %d' %n_char)"
   ]
  },
  {
   "cell_type": "code",
   "execution_count": 184,
   "metadata": {},
   "outputs": [
    {
     "name": "stdout",
     "output_type": "stream",
     "text": [
      "What is needed to be processed:\n",
      "Rows with actor age at movie release under or equal to 0: 433\n",
      "Rows with actor height under or equal to 0: 0\n",
      "Rows with movie runtime under or equal to 0: 1\n"
     ]
    }
   ],
   "source": [
    "print(\"What is needed to be processed:\")\n",
    "print(\"Rows with actor age at movie release under or equal to 0: %d\" %len(character_metadata[character_metadata['Actor_age_at_movie_release']<=0]))\n",
    "print(\"Rows with actor height under or equal to 0: %d\" %len(character_metadata[character_metadata['Actor_height']<=0]))\n",
    "print(\"Rows with movie runtime under or equal to 0: %d\" %len(movie_metadata[movie_metadata['Movie_runtime']<=0]))"
   ]
  },
  {
   "cell_type": "code",
   "execution_count": 185,
   "metadata": {},
   "outputs": [
    {
     "name": "stdout",
     "output_type": "stream",
     "text": [
      "Freebase_movie_ID has 0 duplicated rows\n",
      "Movie_name has 6263 duplicated rows\n",
      "Movie_release_date has 61351 duplicated rows\n",
      "Movie_box_office_revenue has 74378 duplicated rows\n",
      "Movie_runtime has 81143 duplicated rows\n",
      "Movie_languages has 79924 duplicated rows\n",
      "Movie_countries has 79617 duplicated rows\n",
      "Movie_genres has 57924 duplicated rows\n"
     ]
    }
   ],
   "source": [
    "#Looking for duplicates in our datasets\n",
    "for f in movie_metadata.columns:\n",
    "    dupl = movie_metadata[f].duplicated().sum()\n",
    "    print(\"{} has {} duplicated rows\".format(f, dupl))"
   ]
  },
  {
   "cell_type": "code",
   "execution_count": 186,
   "metadata": {},
   "outputs": [
    {
     "data": {
      "text/html": [
       "<div>\n",
       "<style scoped>\n",
       "    .dataframe tbody tr th:only-of-type {\n",
       "        vertical-align: middle;\n",
       "    }\n",
       "\n",
       "    .dataframe tbody tr th {\n",
       "        vertical-align: top;\n",
       "    }\n",
       "\n",
       "    .dataframe thead th {\n",
       "        text-align: right;\n",
       "    }\n",
       "</style>\n",
       "<table border=\"1\" class=\"dataframe\">\n",
       "  <thead>\n",
       "    <tr style=\"text-align: right;\">\n",
       "      <th></th>\n",
       "      <th>Freebase_movie_ID</th>\n",
       "      <th>Movie_name</th>\n",
       "      <th>Movie_release_date</th>\n",
       "      <th>Movie_box_office_revenue</th>\n",
       "      <th>Movie_runtime</th>\n",
       "      <th>Movie_languages</th>\n",
       "      <th>Movie_countries</th>\n",
       "      <th>Movie_genres</th>\n",
       "    </tr>\n",
       "    <tr>\n",
       "      <th>Wikipedia_movie_ID</th>\n",
       "      <th></th>\n",
       "      <th></th>\n",
       "      <th></th>\n",
       "      <th></th>\n",
       "      <th></th>\n",
       "      <th></th>\n",
       "      <th></th>\n",
       "      <th></th>\n",
       "    </tr>\n",
       "  </thead>\n",
       "  <tbody>\n",
       "    <tr>\n",
       "      <th>29666067</th>\n",
       "      <td>/m/0fphzrf</td>\n",
       "      <td>Hunting Season</td>\n",
       "      <td>1010-12-02</td>\n",
       "      <td>12160978.0</td>\n",
       "      <td>140.0</td>\n",
       "      <td>[Turkish Language, English Language]</td>\n",
       "      <td>[Turkey]</td>\n",
       "      <td>[Crime Fiction, Mystery, Drama, Thriller]</td>\n",
       "    </tr>\n",
       "  </tbody>\n",
       "</table>\n",
       "</div>"
      ],
      "text/plain": [
       "                   Freebase_movie_ID      Movie_name Movie_release_date  \\\n",
       "Wikipedia_movie_ID                                                        \n",
       "29666067                  /m/0fphzrf  Hunting Season         1010-12-02   \n",
       "\n",
       "                    Movie_box_office_revenue  Movie_runtime  \\\n",
       "Wikipedia_movie_ID                                            \n",
       "29666067                          12160978.0          140.0   \n",
       "\n",
       "                                         Movie_languages Movie_countries  \\\n",
       "Wikipedia_movie_ID                                                         \n",
       "29666067            [Turkish Language, English Language]        [Turkey]   \n",
       "\n",
       "                                                 Movie_genres  \n",
       "Wikipedia_movie_ID                                             \n",
       "29666067            [Crime Fiction, Mystery, Drama, Thriller]  "
      ]
     },
     "execution_count": 186,
     "metadata": {},
     "output_type": "execute_result"
    }
   ],
   "source": [
    "movie_metadata[movie_metadata[\"Movie_name\"]==\"Hunting Season\"]"
   ]
  },
  {
   "cell_type": "code",
   "execution_count": 187,
   "metadata": {},
   "outputs": [
    {
     "data": {
      "text/plain": [
       "Freebase_movie_ID            object\n",
       "Movie_name                   object\n",
       "Movie_release_date           object\n",
       "Movie_box_office_revenue    float64\n",
       "Movie_runtime               float64\n",
       "Movie_languages              object\n",
       "Movie_countries              object\n",
       "Movie_genres                 object\n",
       "dtype: object"
      ]
     },
     "execution_count": 187,
     "metadata": {},
     "output_type": "execute_result"
    }
   ],
   "source": [
    "movie_metadata.dtypes"
   ]
  },
  {
   "cell_type": "markdown",
   "metadata": {},
   "source": [
    "Some dates only include de the year"
   ]
  },
  {
   "cell_type": "code",
   "execution_count": 188,
   "metadata": {},
   "outputs": [
    {
     "data": {
      "text/html": [
       "<div>\n",
       "<style scoped>\n",
       "    .dataframe tbody tr th:only-of-type {\n",
       "        vertical-align: middle;\n",
       "    }\n",
       "\n",
       "    .dataframe tbody tr th {\n",
       "        vertical-align: top;\n",
       "    }\n",
       "\n",
       "    .dataframe thead th {\n",
       "        text-align: right;\n",
       "    }\n",
       "</style>\n",
       "<table border=\"1\" class=\"dataframe\">\n",
       "  <thead>\n",
       "    <tr style=\"text-align: right;\">\n",
       "      <th></th>\n",
       "      <th>Freebase_movie_ID</th>\n",
       "      <th>Movie_name</th>\n",
       "      <th>Movie_release_date</th>\n",
       "      <th>Movie_box_office_revenue</th>\n",
       "      <th>Movie_runtime</th>\n",
       "      <th>Movie_languages</th>\n",
       "      <th>Movie_countries</th>\n",
       "      <th>Movie_genres</th>\n",
       "    </tr>\n",
       "    <tr>\n",
       "      <th>Wikipedia_movie_ID</th>\n",
       "      <th></th>\n",
       "      <th></th>\n",
       "      <th></th>\n",
       "      <th></th>\n",
       "      <th></th>\n",
       "      <th></th>\n",
       "      <th></th>\n",
       "      <th></th>\n",
       "    </tr>\n",
       "  </thead>\n",
       "  <tbody>\n",
       "    <tr>\n",
       "      <th>975900</th>\n",
       "      <td>/m/03vyhn</td>\n",
       "      <td>Ghosts of Mars</td>\n",
       "      <td>2001-08-24</td>\n",
       "      <td>14010832.0</td>\n",
       "      <td>98.0</td>\n",
       "      <td>[English Language]</td>\n",
       "      <td>[United States of America]</td>\n",
       "      <td>[Thriller, Science Fiction, Horror, Adventure,...</td>\n",
       "    </tr>\n",
       "    <tr>\n",
       "      <th>3196793</th>\n",
       "      <td>/m/08yl5d</td>\n",
       "      <td>Getting Away with Murder: The JonBenét Ramsey ...</td>\n",
       "      <td>2000-02-16</td>\n",
       "      <td>NaN</td>\n",
       "      <td>95.0</td>\n",
       "      <td>[English Language]</td>\n",
       "      <td>[United States of America]</td>\n",
       "      <td>[Mystery, Biographical film, Drama, Crime Drama]</td>\n",
       "    </tr>\n",
       "    <tr>\n",
       "      <th>28463795</th>\n",
       "      <td>/m/0crgdbh</td>\n",
       "      <td>Brun bitter</td>\n",
       "      <td>1988-01-01</td>\n",
       "      <td>NaN</td>\n",
       "      <td>83.0</td>\n",
       "      <td>[Norwegian Language]</td>\n",
       "      <td>[Norway]</td>\n",
       "      <td>[Crime Fiction, Drama]</td>\n",
       "    </tr>\n",
       "    <tr>\n",
       "      <th>9363483</th>\n",
       "      <td>/m/0285_cd</td>\n",
       "      <td>White Of The Eye</td>\n",
       "      <td>1987-01-01</td>\n",
       "      <td>NaN</td>\n",
       "      <td>110.0</td>\n",
       "      <td>[English Language]</td>\n",
       "      <td>[United Kingdom]</td>\n",
       "      <td>[Thriller, Erotic thriller, Psychological thri...</td>\n",
       "    </tr>\n",
       "    <tr>\n",
       "      <th>261236</th>\n",
       "      <td>/m/01mrr1</td>\n",
       "      <td>A Woman in Flames</td>\n",
       "      <td>1983-01-01</td>\n",
       "      <td>NaN</td>\n",
       "      <td>106.0</td>\n",
       "      <td>[German Language]</td>\n",
       "      <td>[Germany]</td>\n",
       "      <td>[Drama]</td>\n",
       "    </tr>\n",
       "    <tr>\n",
       "      <th>...</th>\n",
       "      <td>...</td>\n",
       "      <td>...</td>\n",
       "      <td>...</td>\n",
       "      <td>...</td>\n",
       "      <td>...</td>\n",
       "      <td>...</td>\n",
       "      <td>...</td>\n",
       "      <td>...</td>\n",
       "    </tr>\n",
       "    <tr>\n",
       "      <th>35228177</th>\n",
       "      <td>/m/0j7hxnt</td>\n",
       "      <td>Mermaids: The Body Found</td>\n",
       "      <td>2011-03-19</td>\n",
       "      <td>NaN</td>\n",
       "      <td>120.0</td>\n",
       "      <td>[English Language]</td>\n",
       "      <td>[United States of America]</td>\n",
       "      <td>[Drama]</td>\n",
       "    </tr>\n",
       "    <tr>\n",
       "      <th>34980460</th>\n",
       "      <td>/m/0g4pl34</td>\n",
       "      <td>Knuckle</td>\n",
       "      <td>2011-01-21</td>\n",
       "      <td>NaN</td>\n",
       "      <td>96.0</td>\n",
       "      <td>[English Language]</td>\n",
       "      <td>[Ireland, United Kingdom]</td>\n",
       "      <td>[Biographical film, Drama, Documentary]</td>\n",
       "    </tr>\n",
       "    <tr>\n",
       "      <th>9971909</th>\n",
       "      <td>/m/02pygw1</td>\n",
       "      <td>Another Nice Mess</td>\n",
       "      <td>1972-09-22</td>\n",
       "      <td>NaN</td>\n",
       "      <td>66.0</td>\n",
       "      <td>[English Language]</td>\n",
       "      <td>[United States of America]</td>\n",
       "      <td>[Satire, Comedy]</td>\n",
       "    </tr>\n",
       "    <tr>\n",
       "      <th>913762</th>\n",
       "      <td>/m/03pcrp</td>\n",
       "      <td>The Super Dimension Fortress Macross II: Lover...</td>\n",
       "      <td>1992-05-21</td>\n",
       "      <td>NaN</td>\n",
       "      <td>150.0</td>\n",
       "      <td>[Japanese Language]</td>\n",
       "      <td>[Japan]</td>\n",
       "      <td>[Science Fiction, Japanese Movies, Adventure, ...</td>\n",
       "    </tr>\n",
       "    <tr>\n",
       "      <th>12476867</th>\n",
       "      <td>/m/02w7zz8</td>\n",
       "      <td>Spliced</td>\n",
       "      <td>2002-01-01</td>\n",
       "      <td>NaN</td>\n",
       "      <td>86.0</td>\n",
       "      <td>[English Language]</td>\n",
       "      <td>[Canada]</td>\n",
       "      <td>[Thriller, Horror, Slasher, Teen]</td>\n",
       "    </tr>\n",
       "  </tbody>\n",
       "</table>\n",
       "<p>81741 rows × 8 columns</p>\n",
       "</div>"
      ],
      "text/plain": [
       "                   Freebase_movie_ID  \\\n",
       "Wikipedia_movie_ID                     \n",
       "975900                     /m/03vyhn   \n",
       "3196793                    /m/08yl5d   \n",
       "28463795                  /m/0crgdbh   \n",
       "9363483                   /m/0285_cd   \n",
       "261236                     /m/01mrr1   \n",
       "...                              ...   \n",
       "35228177                  /m/0j7hxnt   \n",
       "34980460                  /m/0g4pl34   \n",
       "9971909                   /m/02pygw1   \n",
       "913762                     /m/03pcrp   \n",
       "12476867                  /m/02w7zz8   \n",
       "\n",
       "                                                           Movie_name  \\\n",
       "Wikipedia_movie_ID                                                      \n",
       "975900                                                 Ghosts of Mars   \n",
       "3196793             Getting Away with Murder: The JonBenét Ramsey ...   \n",
       "28463795                                                  Brun bitter   \n",
       "9363483                                              White Of The Eye   \n",
       "261236                                              A Woman in Flames   \n",
       "...                                                               ...   \n",
       "35228177                                     Mermaids: The Body Found   \n",
       "34980460                                                      Knuckle   \n",
       "9971909                                             Another Nice Mess   \n",
       "913762              The Super Dimension Fortress Macross II: Lover...   \n",
       "12476867                                                      Spliced   \n",
       "\n",
       "                   Movie_release_date  Movie_box_office_revenue  \\\n",
       "Wikipedia_movie_ID                                                \n",
       "975900                     2001-08-24                14010832.0   \n",
       "3196793                    2000-02-16                       NaN   \n",
       "28463795                   1988-01-01                       NaN   \n",
       "9363483                    1987-01-01                       NaN   \n",
       "261236                     1983-01-01                       NaN   \n",
       "...                               ...                       ...   \n",
       "35228177                   2011-03-19                       NaN   \n",
       "34980460                   2011-01-21                       NaN   \n",
       "9971909                    1972-09-22                       NaN   \n",
       "913762                     1992-05-21                       NaN   \n",
       "12476867                   2002-01-01                       NaN   \n",
       "\n",
       "                    Movie_runtime       Movie_languages  \\\n",
       "Wikipedia_movie_ID                                        \n",
       "975900                       98.0    [English Language]   \n",
       "3196793                      95.0    [English Language]   \n",
       "28463795                     83.0  [Norwegian Language]   \n",
       "9363483                     110.0    [English Language]   \n",
       "261236                      106.0     [German Language]   \n",
       "...                           ...                   ...   \n",
       "35228177                    120.0    [English Language]   \n",
       "34980460                     96.0    [English Language]   \n",
       "9971909                      66.0    [English Language]   \n",
       "913762                      150.0   [Japanese Language]   \n",
       "12476867                     86.0    [English Language]   \n",
       "\n",
       "                               Movie_countries  \\\n",
       "Wikipedia_movie_ID                               \n",
       "975900              [United States of America]   \n",
       "3196793             [United States of America]   \n",
       "28463795                              [Norway]   \n",
       "9363483                       [United Kingdom]   \n",
       "261236                               [Germany]   \n",
       "...                                        ...   \n",
       "35228177            [United States of America]   \n",
       "34980460             [Ireland, United Kingdom]   \n",
       "9971909             [United States of America]   \n",
       "913762                                 [Japan]   \n",
       "12476867                              [Canada]   \n",
       "\n",
       "                                                         Movie_genres  \n",
       "Wikipedia_movie_ID                                                     \n",
       "975900              [Thriller, Science Fiction, Horror, Adventure,...  \n",
       "3196793              [Mystery, Biographical film, Drama, Crime Drama]  \n",
       "28463795                                       [Crime Fiction, Drama]  \n",
       "9363483             [Thriller, Erotic thriller, Psychological thri...  \n",
       "261236                                                        [Drama]  \n",
       "...                                                               ...  \n",
       "35228177                                                      [Drama]  \n",
       "34980460                      [Biographical film, Drama, Documentary]  \n",
       "9971909                                              [Satire, Comedy]  \n",
       "913762              [Science Fiction, Japanese Movies, Adventure, ...  \n",
       "12476867                            [Thriller, Horror, Slasher, Teen]  \n",
       "\n",
       "[81741 rows x 8 columns]"
      ]
     },
     "execution_count": 188,
     "metadata": {},
     "output_type": "execute_result"
    }
   ],
   "source": [
    "#01-01-Year for movies only including a year for the dates\n",
    "movie_metadata[\"Movie_release_date\"] = pd.to_datetime(movie_metadata[\"Movie_release_date\"],errors='coerce') \n",
    "movie_metadata"
   ]
  },
  {
   "cell_type": "markdown",
   "metadata": {},
   "source": [
    "We can see that the release date of this movie is wrong. 1010-12-02 should be 2010-12-03."
   ]
  },
  {
   "cell_type": "code",
   "execution_count": 189,
   "metadata": {},
   "outputs": [],
   "source": [
    "movie_metadata.loc[movie_metadata['Movie_release_date'] == '1010-12-02','Movie_release_date'] = '2010-12-02'"
   ]
  },
  {
   "cell_type": "code",
   "execution_count": 191,
   "metadata": {},
   "outputs": [
    {
     "data": {
      "text/html": [
       "<div>\n",
       "<style scoped>\n",
       "    .dataframe tbody tr th:only-of-type {\n",
       "        vertical-align: middle;\n",
       "    }\n",
       "\n",
       "    .dataframe tbody tr th {\n",
       "        vertical-align: top;\n",
       "    }\n",
       "\n",
       "    .dataframe thead th {\n",
       "        text-align: right;\n",
       "    }\n",
       "</style>\n",
       "<table border=\"1\" class=\"dataframe\">\n",
       "  <thead>\n",
       "    <tr style=\"text-align: right;\">\n",
       "      <th></th>\n",
       "      <th>Freebase_movie_ID</th>\n",
       "      <th>Movie_name</th>\n",
       "      <th>Movie_release_date</th>\n",
       "      <th>Movie_box_office_revenue</th>\n",
       "      <th>Movie_runtime</th>\n",
       "      <th>Movie_languages</th>\n",
       "      <th>Movie_countries</th>\n",
       "      <th>Movie_genres</th>\n",
       "    </tr>\n",
       "    <tr>\n",
       "      <th>Wikipedia_movie_ID</th>\n",
       "      <th></th>\n",
       "      <th></th>\n",
       "      <th></th>\n",
       "      <th></th>\n",
       "      <th></th>\n",
       "      <th></th>\n",
       "      <th></th>\n",
       "      <th></th>\n",
       "    </tr>\n",
       "  </thead>\n",
       "  <tbody>\n",
       "    <tr>\n",
       "      <th>29666067</th>\n",
       "      <td>/m/0fphzrf</td>\n",
       "      <td>Hunting Season</td>\n",
       "      <td>NaT</td>\n",
       "      <td>12160978.0</td>\n",
       "      <td>140.0</td>\n",
       "      <td>[Turkish Language, English Language]</td>\n",
       "      <td>[Turkey]</td>\n",
       "      <td>[Crime Fiction, Mystery, Drama, Thriller]</td>\n",
       "    </tr>\n",
       "  </tbody>\n",
       "</table>\n",
       "</div>"
      ],
      "text/plain": [
       "                   Freebase_movie_ID      Movie_name Movie_release_date  \\\n",
       "Wikipedia_movie_ID                                                        \n",
       "29666067                  /m/0fphzrf  Hunting Season                NaT   \n",
       "\n",
       "                    Movie_box_office_revenue  Movie_runtime  \\\n",
       "Wikipedia_movie_ID                                            \n",
       "29666067                          12160978.0          140.0   \n",
       "\n",
       "                                         Movie_languages Movie_countries  \\\n",
       "Wikipedia_movie_ID                                                         \n",
       "29666067            [Turkish Language, English Language]        [Turkey]   \n",
       "\n",
       "                                                 Movie_genres  \n",
       "Wikipedia_movie_ID                                             \n",
       "29666067            [Crime Fiction, Mystery, Drama, Thriller]  "
      ]
     },
     "execution_count": 191,
     "metadata": {},
     "output_type": "execute_result"
    }
   ],
   "source": [
    "movie_metadata[movie_metadata[\"Movie_name\"]==\"Hunting Season\"]"
   ]
  },
  {
   "cell_type": "code",
   "execution_count": 192,
   "metadata": {},
   "outputs": [
    {
     "name": "stdout",
     "output_type": "stream",
     "text": [
      "the last film in our dataframe was released in 2016 and the first one in 1888\n"
     ]
    },
    {
     "name": "stderr",
     "output_type": "stream",
     "text": [
      "/var/folders/1x/fjwg5qd1275c9755rz7f68pw0000gn/T/ipykernel_14089/1069636430.py:9: MatplotlibDeprecationWarning: The seaborn styles shipped by Matplotlib are deprecated since 3.6, as they no longer correspond to the styles shipped by seaborn. However, they will remain available as 'seaborn-v0_8-<style>'. Alternatively, directly use the seaborn API instead.\n",
      "  plt.style.use('seaborn-whitegrid')\n"
     ]
    },
    {
     "data": {
      "image/png": "[encoded data removed]",
      "text/plain": [
       "<Figure size 1400x700 with 1 Axes>"
      ]
     },
     "metadata": {},
     "output_type": "display_data"
    }
   ],
   "source": [
    "'''\n",
    "sns.histplot(data=movie_metadata, x='Movie_runtime')\n",
    "plt.title('Movie_release_year') je ne suis pas arrivé à mettre le histplot \n",
    "'''\n",
    "print('the last film in our dataframe was released in', movie_metadata.Movie_release_date.max().year,'and the first one in',movie_metadata.Movie_release_date.min().year)\n",
    "num_years=(movie_metadata.Movie_release_date.max().year-movie_metadata.Movie_release_date.min().year)\n",
    "\n",
    "plt.figure(figsize=(14,7))\n",
    "plt.style.use('seaborn-whitegrid')\n",
    "plt.hist(movie_metadata['Movie_release_date'],bins=num_years, facecolor = '#2ab0ff', edgecolor='#169acf', linewidth=0.5)\n",
    "plt.title('Movie release dates') \n",
    "plt.xlabel('Years') \n",
    "plt.ylabel('Number of movies') \n",
    "plt.show()"
   ]
  },
  {
   "cell_type": "markdown",
   "metadata": {},
   "source": [
    "As we can see the first film seems to have been released in 1888, it is in fact a short sequence of less than 3 seconds. But for our analysis it isn't releavant. Even if there is a debate on which is the fisrt \"real movie\" we will consider that it is \"A trip to the Moon\", which is often taught at school. So we will consider movies starting from 1902, and this seems relevant in view of the plot above! \n",
    "Source: https://www.studiobinder.com/blog/what-was-the-first-movie-ever-made/"
   ]
  },
  {
   "cell_type": "code",
   "execution_count": null,
   "metadata": {},
   "outputs": [],
   "source": [
    "movie_metadata=movie_metadata[~(movie_metadata['Movie_release_date'] <= '1902-01-01')]"
   ]
  },
  {
   "cell_type": "code",
   "execution_count": null,
   "metadata": {},
   "outputs": [
    {
     "data": {
      "text/plain": [
       "\"\\nmovie_metadata['Movie release date'] = pd.to_datetime(movie_metadata['Movie release date'],format='%Y-%m-%d').dt.year\\ncharacter_metadata['Movie release date'] = pd.to_datetime(character_metadata['Movie release date'],format='%Y-%m-%d').dt.year\\ncharacter_metadata['Actor date of birth'] = pd.to_datetime(character_metadata['Actor date of birth'],format='%Y-%m-%d').dt.year\\n\""
      ]
     },
     "execution_count": 152,
     "metadata": {},
     "output_type": "execute_result"
    }
   ],
   "source": [
    "'''\n",
    "movie_metadata['Movie release date'] = pd.to_datetime(movie_metadata['Movie release date'],format='%Y-%m-%d').dt.year\n",
    "character_metadata['Movie release date'] = pd.to_datetime(character_metadata['Movie release date'],format='%Y-%m-%d').dt.year\n",
    "character_metadata['Actor date of birth'] = pd.to_datetime(character_metadata['Actor date of birth'],format='%Y-%m-%d').dt.year\n",
    "'''"
   ]
  },
  {
   "cell_type": "markdown",
   "metadata": {},
   "source": [
    "## additional datasets preprocess "
   ]
  },
  {
   "cell_type": "code",
   "execution_count": 198,
   "metadata": {},
   "outputs": [],
   "source": [
    "### PATHs for dataset:\n",
    "PATH_DATA = 'data/'\n",
    "PATH_MOVIE_OSCAR_WINNERS = PATH_DATA+'oscar_winners.csv'\n",
    "PATH_MOVIE_APPRECIATION = PATH_DATA+'movie_appreciation_metadata.csv'"
   ]
  },
  {
   "cell_type": "code",
   "execution_count": 233,
   "metadata": {},
   "outputs": [
    {
     "data": {
      "text/html": [
       "<div>\n",
       "<style scoped>\n",
       "    .dataframe tbody tr th:only-of-type {\n",
       "        vertical-align: middle;\n",
       "    }\n",
       "\n",
       "    .dataframe tbody tr th {\n",
       "        vertical-align: top;\n",
       "    }\n",
       "\n",
       "    .dataframe thead th {\n",
       "        text-align: right;\n",
       "    }\n",
       "</style>\n",
       "<table border=\"1\" class=\"dataframe\">\n",
       "  <thead>\n",
       "    <tr style=\"text-align: right;\">\n",
       "      <th></th>\n",
       "      <th>movie_title</th>\n",
       "      <th>director name</th>\n",
       "      <th>duration</th>\n",
       "      <th>country</th>\n",
       "      <th>actor_1_name</th>\n",
       "      <th>actor_2_name</th>\n",
       "      <th>actor_3_name</th>\n",
       "      <th>movie_facebook_likes</th>\n",
       "      <th>actor_1_facebook_likes</th>\n",
       "      <th>actor_2_facebook_likes</th>\n",
       "      <th>...</th>\n",
       "      <th>genres</th>\n",
       "      <th>num_voted_users</th>\n",
       "      <th>cast_total_facebook_likes</th>\n",
       "      <th>facenumber_in_poster</th>\n",
       "      <th>num_user_for_reviews</th>\n",
       "      <th>content_rating</th>\n",
       "      <th>budget</th>\n",
       "      <th>title_year</th>\n",
       "      <th>imdb_score</th>\n",
       "      <th>aspect_ratio</th>\n",
       "    </tr>\n",
       "  </thead>\n",
       "  <tbody>\n",
       "    <tr>\n",
       "      <th>0</th>\n",
       "      <td>Avatar</td>\n",
       "      <td>NaN</td>\n",
       "      <td>178.0</td>\n",
       "      <td>USA</td>\n",
       "      <td>CCH Pounder</td>\n",
       "      <td>Joel David Moore</td>\n",
       "      <td>Wes Studi</td>\n",
       "      <td>33000</td>\n",
       "      <td>1000.0</td>\n",
       "      <td>936.0</td>\n",
       "      <td>...</td>\n",
       "      <td>Action|Adventure|Fantasy|Sci-Fi</td>\n",
       "      <td>886204</td>\n",
       "      <td>4834</td>\n",
       "      <td>0.0</td>\n",
       "      <td>3054.0</td>\n",
       "      <td>PG-13</td>\n",
       "      <td>237000000.0</td>\n",
       "      <td>2009.0</td>\n",
       "      <td>7.9</td>\n",
       "      <td>1.78</td>\n",
       "    </tr>\n",
       "    <tr>\n",
       "      <th>1</th>\n",
       "      <td>Pirates of the Caribbean: At World's End</td>\n",
       "      <td>NaN</td>\n",
       "      <td>169.0</td>\n",
       "      <td>USA</td>\n",
       "      <td>Johnny Depp</td>\n",
       "      <td>Orlando Bloom</td>\n",
       "      <td>Jack Davenport</td>\n",
       "      <td>0</td>\n",
       "      <td>40000.0</td>\n",
       "      <td>5000.0</td>\n",
       "      <td>...</td>\n",
       "      <td>Action|Adventure|Fantasy</td>\n",
       "      <td>471220</td>\n",
       "      <td>48350</td>\n",
       "      <td>0.0</td>\n",
       "      <td>1238.0</td>\n",
       "      <td>PG-13</td>\n",
       "      <td>300000000.0</td>\n",
       "      <td>2007.0</td>\n",
       "      <td>7.1</td>\n",
       "      <td>2.35</td>\n",
       "    </tr>\n",
       "    <tr>\n",
       "      <th>2</th>\n",
       "      <td>Spectre</td>\n",
       "      <td>NaN</td>\n",
       "      <td>148.0</td>\n",
       "      <td>UK</td>\n",
       "      <td>Christoph Waltz</td>\n",
       "      <td>Rory Kinnear</td>\n",
       "      <td>Stephanie Sigman</td>\n",
       "      <td>85000</td>\n",
       "      <td>11000.0</td>\n",
       "      <td>393.0</td>\n",
       "      <td>...</td>\n",
       "      <td>Action|Adventure|Thriller</td>\n",
       "      <td>275868</td>\n",
       "      <td>11700</td>\n",
       "      <td>1.0</td>\n",
       "      <td>994.0</td>\n",
       "      <td>PG-13</td>\n",
       "      <td>245000000.0</td>\n",
       "      <td>2015.0</td>\n",
       "      <td>6.8</td>\n",
       "      <td>2.35</td>\n",
       "    </tr>\n",
       "    <tr>\n",
       "      <th>3</th>\n",
       "      <td>The Dark Knight Rises</td>\n",
       "      <td>NaN</td>\n",
       "      <td>164.0</td>\n",
       "      <td>USA</td>\n",
       "      <td>Tom Hardy</td>\n",
       "      <td>Christian Bale</td>\n",
       "      <td>Joseph Gordon-Levitt</td>\n",
       "      <td>164000</td>\n",
       "      <td>27000.0</td>\n",
       "      <td>23000.0</td>\n",
       "      <td>...</td>\n",
       "      <td>Action|Thriller</td>\n",
       "      <td>1144337</td>\n",
       "      <td>106759</td>\n",
       "      <td>0.0</td>\n",
       "      <td>2701.0</td>\n",
       "      <td>PG-13</td>\n",
       "      <td>250000000.0</td>\n",
       "      <td>2012.0</td>\n",
       "      <td>8.5</td>\n",
       "      <td>2.35</td>\n",
       "    </tr>\n",
       "    <tr>\n",
       "      <th>4</th>\n",
       "      <td>Star Wars: Episode VII - The Force Awakens    ...</td>\n",
       "      <td>NaN</td>\n",
       "      <td>NaN</td>\n",
       "      <td>NaN</td>\n",
       "      <td>Doug Walker</td>\n",
       "      <td>Rob Walker</td>\n",
       "      <td>NaN</td>\n",
       "      <td>0</td>\n",
       "      <td>131.0</td>\n",
       "      <td>12.0</td>\n",
       "      <td>...</td>\n",
       "      <td>Documentary</td>\n",
       "      <td>8</td>\n",
       "      <td>143</td>\n",
       "      <td>0.0</td>\n",
       "      <td>NaN</td>\n",
       "      <td>NaN</td>\n",
       "      <td>NaN</td>\n",
       "      <td>NaN</td>\n",
       "      <td>7.1</td>\n",
       "      <td>NaN</td>\n",
       "    </tr>\n",
       "    <tr>\n",
       "      <th>...</th>\n",
       "      <td>...</td>\n",
       "      <td>...</td>\n",
       "      <td>...</td>\n",
       "      <td>...</td>\n",
       "      <td>...</td>\n",
       "      <td>...</td>\n",
       "      <td>...</td>\n",
       "      <td>...</td>\n",
       "      <td>...</td>\n",
       "      <td>...</td>\n",
       "      <td>...</td>\n",
       "      <td>...</td>\n",
       "      <td>...</td>\n",
       "      <td>...</td>\n",
       "      <td>...</td>\n",
       "      <td>...</td>\n",
       "      <td>...</td>\n",
       "      <td>...</td>\n",
       "      <td>...</td>\n",
       "      <td>...</td>\n",
       "      <td>...</td>\n",
       "    </tr>\n",
       "    <tr>\n",
       "      <th>5038</th>\n",
       "      <td>Signed Sealed Delivered</td>\n",
       "      <td>NaN</td>\n",
       "      <td>87.0</td>\n",
       "      <td>Canada</td>\n",
       "      <td>Eric Mabius</td>\n",
       "      <td>Daphne Zuniga</td>\n",
       "      <td>Crystal Lowe</td>\n",
       "      <td>84</td>\n",
       "      <td>637.0</td>\n",
       "      <td>470.0</td>\n",
       "      <td>...</td>\n",
       "      <td>Comedy|Drama</td>\n",
       "      <td>629</td>\n",
       "      <td>2283</td>\n",
       "      <td>2.0</td>\n",
       "      <td>6.0</td>\n",
       "      <td>NaN</td>\n",
       "      <td>NaN</td>\n",
       "      <td>2013.0</td>\n",
       "      <td>7.7</td>\n",
       "      <td>NaN</td>\n",
       "    </tr>\n",
       "    <tr>\n",
       "      <th>5039</th>\n",
       "      <td>The Following</td>\n",
       "      <td>NaN</td>\n",
       "      <td>43.0</td>\n",
       "      <td>USA</td>\n",
       "      <td>Natalie Zea</td>\n",
       "      <td>Valorie Curry</td>\n",
       "      <td>Sam Underwood</td>\n",
       "      <td>32000</td>\n",
       "      <td>841.0</td>\n",
       "      <td>593.0</td>\n",
       "      <td>...</td>\n",
       "      <td>Crime|Drama|Mystery|Thriller</td>\n",
       "      <td>73839</td>\n",
       "      <td>1753</td>\n",
       "      <td>1.0</td>\n",
       "      <td>359.0</td>\n",
       "      <td>TV-14</td>\n",
       "      <td>NaN</td>\n",
       "      <td>NaN</td>\n",
       "      <td>7.5</td>\n",
       "      <td>16.00</td>\n",
       "    </tr>\n",
       "    <tr>\n",
       "      <th>5040</th>\n",
       "      <td>A Plague So Pleasant</td>\n",
       "      <td>NaN</td>\n",
       "      <td>76.0</td>\n",
       "      <td>USA</td>\n",
       "      <td>Eva Boehnke</td>\n",
       "      <td>Maxwell Moody</td>\n",
       "      <td>David Chandler</td>\n",
       "      <td>16</td>\n",
       "      <td>0.0</td>\n",
       "      <td>0.0</td>\n",
       "      <td>...</td>\n",
       "      <td>Drama|Horror|Thriller</td>\n",
       "      <td>38</td>\n",
       "      <td>0</td>\n",
       "      <td>0.0</td>\n",
       "      <td>3.0</td>\n",
       "      <td>NaN</td>\n",
       "      <td>1400.0</td>\n",
       "      <td>2013.0</td>\n",
       "      <td>6.3</td>\n",
       "      <td>NaN</td>\n",
       "    </tr>\n",
       "    <tr>\n",
       "      <th>5041</th>\n",
       "      <td>Shanghai Calling</td>\n",
       "      <td>NaN</td>\n",
       "      <td>100.0</td>\n",
       "      <td>USA</td>\n",
       "      <td>Alan Ruck</td>\n",
       "      <td>Daniel Henney</td>\n",
       "      <td>Eliza Coupe</td>\n",
       "      <td>660</td>\n",
       "      <td>946.0</td>\n",
       "      <td>719.0</td>\n",
       "      <td>...</td>\n",
       "      <td>Comedy|Drama|Romance</td>\n",
       "      <td>1255</td>\n",
       "      <td>2386</td>\n",
       "      <td>5.0</td>\n",
       "      <td>9.0</td>\n",
       "      <td>PG-13</td>\n",
       "      <td>NaN</td>\n",
       "      <td>2012.0</td>\n",
       "      <td>6.3</td>\n",
       "      <td>2.35</td>\n",
       "    </tr>\n",
       "    <tr>\n",
       "      <th>5042</th>\n",
       "      <td>My Date with Drew</td>\n",
       "      <td>NaN</td>\n",
       "      <td>90.0</td>\n",
       "      <td>USA</td>\n",
       "      <td>John August</td>\n",
       "      <td>Brian Herzlinger</td>\n",
       "      <td>Jon Gunn</td>\n",
       "      <td>456</td>\n",
       "      <td>86.0</td>\n",
       "      <td>23.0</td>\n",
       "      <td>...</td>\n",
       "      <td>Documentary</td>\n",
       "      <td>4285</td>\n",
       "      <td>163</td>\n",
       "      <td>0.0</td>\n",
       "      <td>84.0</td>\n",
       "      <td>PG</td>\n",
       "      <td>1100.0</td>\n",
       "      <td>2004.0</td>\n",
       "      <td>6.6</td>\n",
       "      <td>1.85</td>\n",
       "    </tr>\n",
       "  </tbody>\n",
       "</table>\n",
       "<p>5043 rows × 23 columns</p>\n",
       "</div>"
      ],
      "text/plain": [
       "                                            movie_title  director name  \\\n",
       "0                                               Avatar             NaN   \n",
       "1             Pirates of the Caribbean: At World's End             NaN   \n",
       "2                                              Spectre             NaN   \n",
       "3                                The Dark Knight Rises             NaN   \n",
       "4     Star Wars: Episode VII - The Force Awakens    ...            NaN   \n",
       "...                                                 ...            ...   \n",
       "5038                           Signed Sealed Delivered             NaN   \n",
       "5039                         The Following                         NaN   \n",
       "5040                              A Plague So Pleasant             NaN   \n",
       "5041                                  Shanghai Calling             NaN   \n",
       "5042                                 My Date with Drew             NaN   \n",
       "\n",
       "      duration country     actor_1_name      actor_2_name  \\\n",
       "0        178.0     USA      CCH Pounder  Joel David Moore   \n",
       "1        169.0     USA      Johnny Depp     Orlando Bloom   \n",
       "2        148.0      UK  Christoph Waltz      Rory Kinnear   \n",
       "3        164.0     USA        Tom Hardy    Christian Bale   \n",
       "4          NaN     NaN      Doug Walker        Rob Walker   \n",
       "...        ...     ...              ...               ...   \n",
       "5038      87.0  Canada      Eric Mabius     Daphne Zuniga   \n",
       "5039      43.0     USA      Natalie Zea     Valorie Curry   \n",
       "5040      76.0     USA      Eva Boehnke     Maxwell Moody   \n",
       "5041     100.0     USA        Alan Ruck     Daniel Henney   \n",
       "5042      90.0     USA      John August  Brian Herzlinger   \n",
       "\n",
       "              actor_3_name  movie_facebook_likes  actor_1_facebook_likes  \\\n",
       "0                Wes Studi                 33000                  1000.0   \n",
       "1           Jack Davenport                     0                 40000.0   \n",
       "2         Stephanie Sigman                 85000                 11000.0   \n",
       "3     Joseph Gordon-Levitt                164000                 27000.0   \n",
       "4                      NaN                     0                   131.0   \n",
       "...                    ...                   ...                     ...   \n",
       "5038          Crystal Lowe                    84                   637.0   \n",
       "5039         Sam Underwood                 32000                   841.0   \n",
       "5040        David Chandler                    16                     0.0   \n",
       "5041           Eliza Coupe                   660                   946.0   \n",
       "5042              Jon Gunn                   456                    86.0   \n",
       "\n",
       "      actor_2_facebook_likes  ...                           genres  \\\n",
       "0                      936.0  ...  Action|Adventure|Fantasy|Sci-Fi   \n",
       "1                     5000.0  ...         Action|Adventure|Fantasy   \n",
       "2                      393.0  ...        Action|Adventure|Thriller   \n",
       "3                    23000.0  ...                  Action|Thriller   \n",
       "4                       12.0  ...                      Documentary   \n",
       "...                      ...  ...                              ...   \n",
       "5038                   470.0  ...                     Comedy|Drama   \n",
       "5039                   593.0  ...     Crime|Drama|Mystery|Thriller   \n",
       "5040                     0.0  ...            Drama|Horror|Thriller   \n",
       "5041                   719.0  ...             Comedy|Drama|Romance   \n",
       "5042                    23.0  ...                      Documentary   \n",
       "\n",
       "      num_voted_users  cast_total_facebook_likes facenumber_in_poster  \\\n",
       "0              886204                       4834                  0.0   \n",
       "1              471220                      48350                  0.0   \n",
       "2              275868                      11700                  1.0   \n",
       "3             1144337                     106759                  0.0   \n",
       "4                   8                        143                  0.0   \n",
       "...               ...                        ...                  ...   \n",
       "5038              629                       2283                  2.0   \n",
       "5039            73839                       1753                  1.0   \n",
       "5040               38                          0                  0.0   \n",
       "5041             1255                       2386                  5.0   \n",
       "5042             4285                        163                  0.0   \n",
       "\n",
       "      num_user_for_reviews  content_rating       budget  title_year  \\\n",
       "0                   3054.0           PG-13  237000000.0      2009.0   \n",
       "1                   1238.0           PG-13  300000000.0      2007.0   \n",
       "2                    994.0           PG-13  245000000.0      2015.0   \n",
       "3                   2701.0           PG-13  250000000.0      2012.0   \n",
       "4                      NaN             NaN          NaN         NaN   \n",
       "...                    ...             ...          ...         ...   \n",
       "5038                   6.0             NaN          NaN      2013.0   \n",
       "5039                 359.0           TV-14          NaN         NaN   \n",
       "5040                   3.0             NaN       1400.0      2013.0   \n",
       "5041                   9.0           PG-13          NaN      2012.0   \n",
       "5042                  84.0              PG       1100.0      2004.0   \n",
       "\n",
       "     imdb_score  aspect_ratio  \n",
       "0           7.9          1.78  \n",
       "1           7.1          2.35  \n",
       "2           6.8          2.35  \n",
       "3           8.5          2.35  \n",
       "4           7.1           NaN  \n",
       "...         ...           ...  \n",
       "5038        7.7           NaN  \n",
       "5039        7.5         16.00  \n",
       "5040        6.3           NaN  \n",
       "5041        6.3          2.35  \n",
       "5042        6.6          1.85  \n",
       "\n",
       "[5043 rows x 23 columns]"
      ]
     },
     "execution_count": 233,
     "metadata": {},
     "output_type": "execute_result"
    }
   ],
   "source": [
    "'''movie_headers = ['Wikipedia_movie_ID', 'Freebase_movie_ID', 'Movie_name','Movie_release_date','Movie_box_office_revenue',\n",
    "                 'Movie_runtime','Movie_languages','Movie_countries','Movie_genres']\n",
    "plot_headers = ['Wikipedia_movie_ID','Plot_Summary']\n",
    "character_headers = ['Wikipedia_movie_ID', 'Freebase_movie_ID','Movie_release_date','Character_name','Actor_date_of_birth',\n",
    "                     'Actor_gender','Actor_height','Actor_ethnicity','Actor_name','Actor_age_at_movie_release',\n",
    "                     'Freebase_character_actor_map_ID','Freebase_character_ID','Freebase_actor_ID']\n",
    "name_clusters_headers=['Character_name', 'id']\n",
    "name_clusters_headers=['Character_name', 'id']\n",
    "tv_tropes_cluster_headers=['Trope','Character_name','movie','id','actor']'''\n",
    "\n",
    "movie_appreciation_metadata = pd.read_csv(PATH_MOVIE_APPRECIATION,header=0)\n",
    "movie_appreciation_metadata.drop(['color','movie_imdb_link'], axis=1)\n",
    "new_cols_apprec=['movie_title','director name','duration','country','actor_1_name','actor_2_name','actor_3_name',\n",
    "                    'movie_facebook_likes','actor_1_facebook_likes','actor_2_facebook_likes','actor_3_facebook_likes',\n",
    "                    'director_facebook_likes','gross','genres','num_voted_users','cast_total_facebook_likes',\n",
    "                    'facenumber_in_poster','num_user_for_reviews','content_rating','budget',\n",
    "                    'title_year','imdb_score','aspect_ratio'\n",
    "                    ]\n",
    "movie_apprciation_metadata=movie_appreciation_metadata.reindex(columns=new_cols_apprec)\n",
    "movie_apprciation_metadata"
   ]
  },
  {
   "cell_type": "code",
   "execution_count": 237,
   "metadata": {},
   "outputs": [
    {
     "data": {
      "text/html": [
       "<div>\n",
       "<style scoped>\n",
       "    .dataframe tbody tr th:only-of-type {\n",
       "        vertical-align: middle;\n",
       "    }\n",
       "\n",
       "    .dataframe tbody tr th {\n",
       "        vertical-align: top;\n",
       "    }\n",
       "\n",
       "    .dataframe thead th {\n",
       "        text-align: right;\n",
       "    }\n",
       "</style>\n",
       "<table border=\"1\" class=\"dataframe\">\n",
       "  <thead>\n",
       "    <tr style=\"text-align: right;\">\n",
       "      <th></th>\n",
       "      <th>Year</th>\n",
       "      <th>Ceremony</th>\n",
       "      <th>Award</th>\n",
       "      <th>Winner</th>\n",
       "      <th>Name</th>\n",
       "      <th>Film</th>\n",
       "    </tr>\n",
       "  </thead>\n",
       "  <tbody>\n",
       "    <tr>\n",
       "      <th>0</th>\n",
       "      <td>1928</td>\n",
       "      <td>1</td>\n",
       "      <td>Actor</td>\n",
       "      <td>NaN</td>\n",
       "      <td>Richard Barthelmess</td>\n",
       "      <td>The Noose</td>\n",
       "    </tr>\n",
       "    <tr>\n",
       "      <th>1</th>\n",
       "      <td>1928</td>\n",
       "      <td>1</td>\n",
       "      <td>Actor</td>\n",
       "      <td>1.0</td>\n",
       "      <td>Emil Jannings</td>\n",
       "      <td>The Last Command</td>\n",
       "    </tr>\n",
       "    <tr>\n",
       "      <th>2</th>\n",
       "      <td>1928</td>\n",
       "      <td>1</td>\n",
       "      <td>Actress</td>\n",
       "      <td>NaN</td>\n",
       "      <td>Louise Dresser</td>\n",
       "      <td>A Ship Comes In</td>\n",
       "    </tr>\n",
       "    <tr>\n",
       "      <th>3</th>\n",
       "      <td>1928</td>\n",
       "      <td>1</td>\n",
       "      <td>Actress</td>\n",
       "      <td>1.0</td>\n",
       "      <td>Janet Gaynor</td>\n",
       "      <td>7th Heaven</td>\n",
       "    </tr>\n",
       "    <tr>\n",
       "      <th>4</th>\n",
       "      <td>1928</td>\n",
       "      <td>1</td>\n",
       "      <td>Actress</td>\n",
       "      <td>NaN</td>\n",
       "      <td>Gloria Swanson</td>\n",
       "      <td>Sadie Thompson</td>\n",
       "    </tr>\n",
       "    <tr>\n",
       "      <th>...</th>\n",
       "      <td>...</td>\n",
       "      <td>...</td>\n",
       "      <td>...</td>\n",
       "      <td>...</td>\n",
       "      <td>...</td>\n",
       "      <td>...</td>\n",
       "    </tr>\n",
       "    <tr>\n",
       "      <th>9959</th>\n",
       "      <td>2015</td>\n",
       "      <td>88</td>\n",
       "      <td>Writing (Original Screenplay)</td>\n",
       "      <td>1.0</td>\n",
       "      <td>Spotlight</td>\n",
       "      <td>Written by Josh Singer &amp; Tom McCarthy</td>\n",
       "    </tr>\n",
       "    <tr>\n",
       "      <th>9960</th>\n",
       "      <td>2015</td>\n",
       "      <td>88</td>\n",
       "      <td>Writing (Original Screenplay)</td>\n",
       "      <td>NaN</td>\n",
       "      <td>Straight Outta Compton</td>\n",
       "      <td>Screenplay by Jonathan Herman and Andrea Berlo...</td>\n",
       "    </tr>\n",
       "    <tr>\n",
       "      <th>9961</th>\n",
       "      <td>2015</td>\n",
       "      <td>88</td>\n",
       "      <td>Jean Hersholt Humanitarian Award</td>\n",
       "      <td>1.0</td>\n",
       "      <td>Debbie Reynolds</td>\n",
       "      <td>NaN</td>\n",
       "    </tr>\n",
       "    <tr>\n",
       "      <th>9962</th>\n",
       "      <td>2015</td>\n",
       "      <td>88</td>\n",
       "      <td>Honorary Award</td>\n",
       "      <td>1.0</td>\n",
       "      <td>Spike Lee</td>\n",
       "      <td>NaN</td>\n",
       "    </tr>\n",
       "    <tr>\n",
       "      <th>9963</th>\n",
       "      <td>2015</td>\n",
       "      <td>88</td>\n",
       "      <td>Honorary Award</td>\n",
       "      <td>1.0</td>\n",
       "      <td>Gena Rowlands</td>\n",
       "      <td>NaN</td>\n",
       "    </tr>\n",
       "  </tbody>\n",
       "</table>\n",
       "<p>9964 rows × 6 columns</p>\n",
       "</div>"
      ],
      "text/plain": [
       "      Year  Ceremony                             Award  Winner  \\\n",
       "0     1928         1                             Actor     NaN   \n",
       "1     1928         1                             Actor     1.0   \n",
       "2     1928         1                           Actress     NaN   \n",
       "3     1928         1                           Actress     1.0   \n",
       "4     1928         1                           Actress     NaN   \n",
       "...    ...       ...                               ...     ...   \n",
       "9959  2015        88     Writing (Original Screenplay)     1.0   \n",
       "9960  2015        88     Writing (Original Screenplay)     NaN   \n",
       "9961  2015        88  Jean Hersholt Humanitarian Award     1.0   \n",
       "9962  2015        88                    Honorary Award     1.0   \n",
       "9963  2015        88                    Honorary Award     1.0   \n",
       "\n",
       "                        Name  \\\n",
       "0        Richard Barthelmess   \n",
       "1              Emil Jannings   \n",
       "2             Louise Dresser   \n",
       "3               Janet Gaynor   \n",
       "4             Gloria Swanson   \n",
       "...                      ...   \n",
       "9959               Spotlight   \n",
       "9960  Straight Outta Compton   \n",
       "9961         Debbie Reynolds   \n",
       "9962               Spike Lee   \n",
       "9963           Gena Rowlands   \n",
       "\n",
       "                                                   Film  \n",
       "0                                             The Noose  \n",
       "1                                      The Last Command  \n",
       "2                                       A Ship Comes In  \n",
       "3                                            7th Heaven  \n",
       "4                                        Sadie Thompson  \n",
       "...                                                 ...  \n",
       "9959              Written by Josh Singer & Tom McCarthy  \n",
       "9960  Screenplay by Jonathan Herman and Andrea Berlo...  \n",
       "9961                                                NaN  \n",
       "9962                                                NaN  \n",
       "9963                                                NaN  \n",
       "\n",
       "[9964 rows x 6 columns]"
      ]
     },
     "execution_count": 237,
     "metadata": {},
     "output_type": "execute_result"
    }
   ],
   "source": [
    "movie_oscar_winners=pd.read_csv(PATH_MOVIE_OSCAR_WINNERS,header=0)\n",
    "movie_oscar_winners=movie_oscar_winners.replace('1927/1928','1928').replace('1928/1929','1929').replace(\n",
    "    '1929/1930','1930').replace('1930/1931','1931').replace('1931/1932','1932').replace('1932/1933','1933')\n",
    "#c'est vraiment dégeulasse comme manière de faire \n",
    "movie_oscar_winners"
   ]
  },
  {
   "cell_type": "code",
   "execution_count": 229,
   "metadata": {},
   "outputs": [
    {
     "data": {
      "text/plain": [
       "color                         True\n",
       "director_name                 True\n",
       "num_critic_for_reviews        True\n",
       "duration                      True\n",
       "director_facebook_likes       True\n",
       "actor_3_facebook_likes        True\n",
       "actor_2_name                  True\n",
       "actor_1_facebook_likes        True\n",
       "gross                         True\n",
       "genres                       False\n",
       "actor_1_name                  True\n",
       "movie_title                  False\n",
       "num_voted_users              False\n",
       "cast_total_facebook_likes    False\n",
       "actor_3_name                  True\n",
       "facenumber_in_poster          True\n",
       "plot_keywords                 True\n",
       "movie_imdb_link              False\n",
       "num_user_for_reviews          True\n",
       "language                      True\n",
       "country                       True\n",
       "content_rating                True\n",
       "budget                        True\n",
       "title_year                    True\n",
       "actor_2_facebook_likes        True\n",
       "imdb_score                   False\n",
       "aspect_ratio                  True\n",
       "movie_facebook_likes         False\n",
       "dtype: bool"
      ]
     },
     "execution_count": 229,
     "metadata": {},
     "output_type": "execute_result"
    }
   ],
   "source": [
    "movie_appreciation_metadata.isna().any()"
   ]
  },
  {
   "cell_type": "code",
   "execution_count": null,
   "metadata": {},
   "outputs": [
    {
     "name": "stdout",
     "output_type": "stream",
     "text": [
      "Sum of NaN in each feature : \n"
     ]
    },
    {
     "data": {
      "text/plain": [
       "color                         19\n",
       "director_name                104\n",
       "num_critic_for_reviews        50\n",
       "duration                      15\n",
       "director_facebook_likes      104\n",
       "actor_3_facebook_likes        23\n",
       "actor_2_name                  13\n",
       "actor_1_facebook_likes         7\n",
       "gross                        884\n",
       "genres                         0\n",
       "actor_1_name                   7\n",
       "movie_title                    0\n",
       "num_voted_users                0\n",
       "cast_total_facebook_likes      0\n",
       "actor_3_name                  23\n",
       "facenumber_in_poster          13\n",
       "plot_keywords                153\n",
       "movie_imdb_link                0\n",
       "num_user_for_reviews          21\n",
       "language                      12\n",
       "country                        5\n",
       "content_rating               303\n",
       "budget                       492\n",
       "title_year                   108\n",
       "actor_2_facebook_likes        13\n",
       "imdb_score                     0\n",
       "aspect_ratio                 329\n",
       "movie_facebook_likes           0\n",
       "dtype: int64"
      ]
     },
     "execution_count": 162,
     "metadata": {},
     "output_type": "execute_result"
    },
    {
     "data": {
      "image/png": "[encoded data removed]",
      "text/plain": [
       "<Figure size 640x480 with 2 Axes>"
      ]
     },
     "metadata": {},
     "output_type": "display_data"
    }
   ],
   "source": [
    "ax=sns.heatmap(movie_appreciation_metadata.isna(), yticklabels=False)\n",
    "ax.set(xlabel=\"Features\", ylabel=\"\")\n",
    "print('Sum of NaN in each feature : ')\n",
    "movie_appreciation_metadata.isna().sum(axis = 0)"
   ]
  },
  {
   "cell_type": "code",
   "execution_count": 202,
   "metadata": {},
   "outputs": [
    {
     "data": {
      "text/plain": [
       "Year        False\n",
       "Ceremony    False\n",
       "Award       False\n",
       "Winner       True\n",
       "Name        False\n",
       "Film         True\n",
       "dtype: bool"
      ]
     },
     "execution_count": 202,
     "metadata": {},
     "output_type": "execute_result"
    }
   ],
   "source": [
    "movie_oscar_winners.isna().any()"
   ]
  },
  {
   "cell_type": "markdown",
   "metadata": {},
   "source": [
    "We do not consider the column 'winner' as it contains indicators ( 1 and 0) to check wether a movie, an actor, a director has won the oscar. "
   ]
  },
  {
   "cell_type": "code",
   "execution_count": 236,
   "metadata": {},
   "outputs": [
    {
     "name": "stdout",
     "output_type": "stream",
     "text": [
      "Sum of NaN in each feature : \n"
     ]
    },
    {
     "data": {
      "text/plain": [
       "Year          0\n",
       "Ceremony      0\n",
       "Award         0\n",
       "Name          0\n",
       "Film        333\n",
       "dtype: int64"
      ]
     },
     "execution_count": 236,
     "metadata": {},
     "output_type": "execute_result"
    },
    {
     "data": {
      "image/png": "[encoded data removed]",
      "text/plain": [
       "<Figure size 640x480 with 2 Axes>"
      ]
     },
     "metadata": {},
     "output_type": "display_data"
    }
   ],
   "source": [
    "ax=sns.heatmap(movie_oscar_winners[['Year','Ceremony','Award','Name','Film']].isna(), yticklabels=False)\n",
    "ax.set(xlabel=\"Features\", ylabel=\"\")\n",
    "print('Sum of NaN in each feature : ')\n",
    "movie_oscar_winners[['Year','Ceremony','Award','Name','Film']].isna().sum(axis = 0)"
   ]
  },
  {
   "cell_type": "markdown",
   "metadata": {},
   "source": [
    "## First analyses gender related "
   ]
  },
  {
   "cell_type": "code",
   "execution_count": null,
   "metadata": {},
   "outputs": [
    {
     "data": {
      "image/png": "[encoded data removed]",
      "text/plain": [
       "<Figure size 640x480 with 1 Axes>"
      ]
     },
     "metadata": {},
     "output_type": "display_data"
    }
   ],
   "source": [
    "fem_act = character_metadata[character_metadata['Actor gender'] == 'F']\n",
    "masc_act = character_metadata[character_metadata['Actor gender'] == 'M']\n",
    "plt.pie(np.array([fem_act['Actor name'].nunique(),masc_act['Actor name'].nunique()]),labels=['women','men'],colors = ['#c2c2f0','#ffb3e6'],autopct='%1.1f%%',shadow=True)\n",
    "plt.title('Percentage of women and men in the character metadata')\n",
    "plt.show()"
   ]
  },
  {
   "cell_type": "code",
   "execution_count": null,
   "metadata": {},
   "outputs": [],
   "source": [
    "#replace NaN values with 0\n",
    "character_metadata_clean = character_metadata.fillna(0)\n",
    "movie_metadata_clean = movie_metadata.fillna(0)"
   ]
  },
  {
   "cell_type": "code",
   "execution_count": null,
   "metadata": {},
   "outputs": [
    {
     "data": {
      "text/html": [
       "<div>\n",
       "<style scoped>\n",
       "    .dataframe tbody tr th:only-of-type {\n",
       "        vertical-align: middle;\n",
       "    }\n",
       "\n",
       "    .dataframe tbody tr th {\n",
       "        vertical-align: top;\n",
       "    }\n",
       "\n",
       "    .dataframe thead th {\n",
       "        text-align: right;\n",
       "    }\n",
       "</style>\n",
       "<table border=\"1\" class=\"dataframe\">\n",
       "  <thead>\n",
       "    <tr style=\"text-align: right;\">\n",
       "      <th></th>\n",
       "      <th>Freebase movie ID</th>\n",
       "      <th>Movie name</th>\n",
       "      <th>Movie release date</th>\n",
       "      <th>Movie box office revenue</th>\n",
       "      <th>Movie runtime</th>\n",
       "      <th>Movie languages</th>\n",
       "      <th>Movie countries</th>\n",
       "      <th>Movie genres</th>\n",
       "    </tr>\n",
       "    <tr>\n",
       "      <th>Wikipedia movie ID</th>\n",
       "      <th></th>\n",
       "      <th></th>\n",
       "      <th></th>\n",
       "      <th></th>\n",
       "      <th></th>\n",
       "      <th></th>\n",
       "      <th></th>\n",
       "      <th></th>\n",
       "    </tr>\n",
       "  </thead>\n",
       "  <tbody>\n",
       "    <tr>\n",
       "      <th>21926710</th>\n",
       "      <td>/m/05p45cv</td>\n",
       "      <td>White on Rice</td>\n",
       "      <td>2009-01-01</td>\n",
       "      <td>0.0</td>\n",
       "      <td>82.0</td>\n",
       "      <td>[]</td>\n",
       "      <td>[United States of America]</td>\n",
       "      <td>[Romantic comedy, Romance Film, Comedy, Indie]</td>\n",
       "    </tr>\n",
       "    <tr>\n",
       "      <th>20604092</th>\n",
       "      <td>/m/0523t_1</td>\n",
       "      <td>Anbu Thozhi</td>\n",
       "      <td>2007-08-17</td>\n",
       "      <td>0.0</td>\n",
       "      <td>0.0</td>\n",
       "      <td>[Tamil Language]</td>\n",
       "      <td>[India]</td>\n",
       "      <td>[Romance Film]</td>\n",
       "    </tr>\n",
       "    <tr>\n",
       "      <th>29772142</th>\n",
       "      <td>/m/0fq260_</td>\n",
       "      <td>Karayilekku Oru Kadal Dooram</td>\n",
       "      <td>2010-12-31</td>\n",
       "      <td>0.0</td>\n",
       "      <td>110.0</td>\n",
       "      <td>[Malayalam Language]</td>\n",
       "      <td>[India]</td>\n",
       "      <td>[Drama]</td>\n",
       "    </tr>\n",
       "    <tr>\n",
       "      <th>26623942</th>\n",
       "      <td>/m/0bh9fbk</td>\n",
       "      <td>Kausthubham</td>\n",
       "      <td>2010-03-19</td>\n",
       "      <td>0.0</td>\n",
       "      <td>0.0</td>\n",
       "      <td>[Malayalam Language]</td>\n",
       "      <td>[India]</td>\n",
       "      <td>[Drama]</td>\n",
       "    </tr>\n",
       "    <tr>\n",
       "      <th>32445576</th>\n",
       "      <td>/m/0gyv1h1</td>\n",
       "      <td>Vinayaka Geleyara Balaga</td>\n",
       "      <td>2011-07-15</td>\n",
       "      <td>0.0</td>\n",
       "      <td>0.0</td>\n",
       "      <td>[]</td>\n",
       "      <td>[]</td>\n",
       "      <td>[]</td>\n",
       "    </tr>\n",
       "  </tbody>\n",
       "</table>\n",
       "</div>"
      ],
      "text/plain": [
       "                   Freebase movie ID                    Movie name  \\\n",
       "Wikipedia movie ID                                                   \n",
       "21926710                  /m/05p45cv                 White on Rice   \n",
       "20604092                  /m/0523t_1                   Anbu Thozhi   \n",
       "29772142                  /m/0fq260_  Karayilekku Oru Kadal Dooram   \n",
       "26623942                  /m/0bh9fbk                   Kausthubham   \n",
       "32445576                  /m/0gyv1h1      Vinayaka Geleyara Balaga   \n",
       "\n",
       "                   Movie release date  Movie box office revenue  \\\n",
       "Wikipedia movie ID                                                \n",
       "21926710                   2009-01-01                       0.0   \n",
       "20604092                   2007-08-17                       0.0   \n",
       "29772142                   2010-12-31                       0.0   \n",
       "26623942                   2010-03-19                       0.0   \n",
       "32445576                   2011-07-15                       0.0   \n",
       "\n",
       "                    Movie runtime       Movie languages  \\\n",
       "Wikipedia movie ID                                        \n",
       "21926710                     82.0                    []   \n",
       "20604092                      0.0      [Tamil Language]   \n",
       "29772142                    110.0  [Malayalam Language]   \n",
       "26623942                      0.0  [Malayalam Language]   \n",
       "32445576                      0.0                    []   \n",
       "\n",
       "                               Movie countries  \\\n",
       "Wikipedia movie ID                               \n",
       "21926710            [United States of America]   \n",
       "20604092                               [India]   \n",
       "29772142                               [India]   \n",
       "26623942                               [India]   \n",
       "32445576                                    []   \n",
       "\n",
       "                                                      Movie genres  \n",
       "Wikipedia movie ID                                                  \n",
       "21926710            [Romantic comedy, Romance Film, Comedy, Indie]  \n",
       "20604092                                            [Romance Film]  \n",
       "29772142                                                   [Drama]  \n",
       "26623942                                                   [Drama]  \n",
       "32445576                                                        []  "
      ]
     },
     "execution_count": 421,
     "metadata": {},
     "output_type": "execute_result"
    }
   ],
   "source": [
    "\n",
    "#new dataframe with movies after 2007 after converting the release date to datetime some dates are only year so we need to add the month and day\n",
    "\n",
    "movie_metadata_clean['Movie release date'] = pd.to_datetime(movie_metadata_clean['Movie release date'],errors='coerce')\n",
    "movie_metadata_clean = movie_metadata_clean[movie_metadata_clean['Movie release date'] > datetime(2007,1,1)]\n",
    "movie_metadata_clean.head()"
   ]
  },
  {
   "cell_type": "code",
   "execution_count": null,
   "metadata": {},
   "outputs": [
    {
     "data": {
      "image/png": "[encoded data removed]",
      "text/plain": [
       "<Figure size 640x480 with 1 Axes>"
      ]
     },
     "metadata": {},
     "output_type": "display_data"
    }
   ],
   "source": [
    "#only keep characters with 'wikipedia movie ID' in movie_metadata_clean after 2007\n",
    "character_metadata_clean = character_metadata_clean[character_metadata_clean.index.isin(movie_metadata_clean.index)]\n",
    "#number of female actors compared to male actors for movies after 2007 plotted in a pie chart\n",
    "fem_act = character_metadata_clean[character_metadata_clean['Actor gender'] == 'F']\n",
    "masc_act = character_metadata_clean[character_metadata_clean['Actor gender'] == 'M']\n",
    "plt.pie(np.array([fem_act['Actor name'].nunique(),masc_act['Actor name'].nunique()]),labels=['women','men'],colors = ['#c2c2f0','#ffb3e6'],autopct='%1.1f%%',shadow=True)\n",
    "plt.title('Percentage of women and men in the character metadata after 2007')\n",
    "plt.show()"
   ]
  },
  {
   "cell_type": "code",
   "execution_count": null,
   "metadata": {},
   "outputs": [
    {
     "data": {
      "image/png": "[encoded data removed]",
      "text/plain": [
       "<Figure size 640x480 with 1 Axes>"
      ]
     },
     "metadata": {},
     "output_type": "display_data"
    }
   ],
   "source": [
    "#new dataframe with movies after 2016 \n",
    "movie_metadata_clean = movie_metadata_clean[movie_metadata_clean['Movie release date'] > datetime(2016,1,1)]\n",
    "#only keep characters with 'wikipedia movie ID' in movie_metadata_clean after 2016\n",
    "character_metadata_clean = character_metadata_clean[character_metadata_clean.index.isin(movie_metadata_clean.index)]\n",
    "#number of female actors compared to male actors for movies after 2016 plotted in a pie chart\n",
    "fem_act = character_metadata_clean[character_metadata_clean['Actor gender'] == 'F']\n",
    "masc_act = character_metadata_clean[character_metadata_clean['Actor gender'] == 'M']\n",
    "plt.pie(np.array([fem_act['Actor name'].nunique(),masc_act['Actor name'].nunique()]),labels=['women','men'],colors = ['#c2c2f0','#ffb3e6'],autopct='%1.1f%%',shadow=True)\n",
    "plt.title('Percentage of women and men in the character metadata after 2016')\n",
    "plt.show()"
   ]
  },
  {
   "cell_type": "code",
   "execution_count": null,
   "metadata": {},
   "outputs": [],
   "source": [
    "#analysing plot summaries to find main character is the one whose name is mentioned the most\n",
    "#we will use the first 1000 characters of the plot summary to find the main character\n",
    "\n",
    "#function to find the main character in a plot summary\n",
    "def find_main_character(plot_summary):\n",
    "    #create a list of all the characters in the plot summary\n",
    "    characters = character_metadata_clean[character_metadata_clean.index == plot_summary.name]['Character name'].to_list()\n",
    "    #create a list of the number of times each character is mentioned in the plot summary\n",
    "    character_count = [plot_summary['Plot Summary'][:2000].count(character) for character in characters]\n",
    "    #return the character with the highest number of mentions\n",
    "    return characters[np.argmax(character_count)]   \n",
    "\n",
    "#apply the function to the plot summaries\n",
    "#plot_summaries['Main character'] = plot_summaries.apply(find_main_character(plot_summaries),axis=1)\n",
    "#plot_summaries.head()"
   ]
  },
  {
   "cell_type": "markdown",
   "metadata": {},
   "source": [
    "## Salaries, box office revenues, etc."
   ]
  },
  {
   "cell_type": "code",
   "execution_count": null,
   "metadata": {},
   "outputs": [],
   "source": [
    "#Find movies without box office revenue and filter them out\n",
    "no_rev = movie_metadata.loc[movie_metadata['Movie box office revenue'].isnull()].index\n",
    "movie_metadata_filt = movie_metadata.drop(no_rev)"
   ]
  },
  {
   "cell_type": "code",
   "execution_count": null,
   "metadata": {},
   "outputs": [
    {
     "data": {
      "text/plain": [
       "81741"
      ]
     },
     "execution_count": 426,
     "metadata": {},
     "output_type": "execute_result"
    }
   ],
   "source": [
    "movie_metadata.shape[0]"
   ]
  },
  {
   "cell_type": "code",
   "execution_count": null,
   "metadata": {},
   "outputs": [
    {
     "data": {
      "text/plain": [
       "8401"
      ]
     },
     "execution_count": 427,
     "metadata": {},
     "output_type": "execute_result"
    }
   ],
   "source": [
    "movie_metadata_filt.shape[0]"
   ]
  },
  {
   "cell_type": "markdown",
   "metadata": {},
   "source": [
    "We only have 8401 movies where we have their box office revenue."
   ]
  },
  {
   "cell_type": "code",
   "execution_count": null,
   "metadata": {},
   "outputs": [
    {
     "data": {
      "image/png": "[encoded data removed]",
      "text/plain": [
       "<Figure size 500x500 with 1 Axes>"
      ]
     },
     "metadata": {},
     "output_type": "display_data"
    }
   ],
   "source": [
    "#Histogram of box office revenue of movies\n",
    "\n",
    "plt.figure(figsize=(5,5), dpi = 100)\n",
    "plt.xlabel('Movie box office revenue', fontsize = 15)\n",
    "plt.ylabel('Movie index', fontsize=15)\n",
    "plt.title('Box office revenue of all movies', fontsize=15)\n",
    "\n",
    "plt.hist(movie_metadata_filt['Movie box office revenue'])\n",
    "\n",
    "plt.show()"
   ]
  },
  {
   "cell_type": "code",
   "execution_count": 238,
   "metadata": {},
   "outputs": [
    {
     "name": "stdout",
     "output_type": "stream",
     "text": [
      "Movies with biggest box office revenues:\n"
     ]
    },
    {
     "ename": "KeyError",
     "evalue": "'Movie box office revenue'",
     "output_type": "error",
     "traceback": [
      "\u001b[0;31m---------------------------------------------------------------------------\u001b[0m",
      "\u001b[0;31mKeyError\u001b[0m                                  Traceback (most recent call last)",
      "Cell \u001b[0;32mIn [238], line 2\u001b[0m\n\u001b[1;32m      1\u001b[0m \u001b[39mprint\u001b[39m(\u001b[39m\"\u001b[39m\u001b[39mMovies with biggest box office revenues:\u001b[39m\u001b[39m\"\u001b[39m)\n\u001b[0;32m----> 2\u001b[0m movie_metadata\u001b[39m.\u001b[39msort_values(\u001b[39m'\u001b[39m\u001b[39mMovie box office revenue\u001b[39m\u001b[39m'\u001b[39m, ascending \u001b[39m=\u001b[39m \u001b[39mFalse\u001b[39;00m)\u001b[39m.\u001b[39mhead()\n",
      "File \u001b[0;32m~/Library/Python/3.8/lib/python/site-packages/pandas/util/_decorators.py:317\u001b[0m, in \u001b[0;36mdeprecate_nonkeyword_arguments.<locals>.decorate.<locals>.wrapper\u001b[0;34m(*args, **kwargs)\u001b[0m\n\u001b[1;32m    311\u001b[0m \u001b[39mif\u001b[39;00m \u001b[39mlen\u001b[39m(args) \u001b[39m>\u001b[39m num_allow_args:\n\u001b[1;32m    312\u001b[0m     warnings\u001b[39m.\u001b[39mwarn(\n\u001b[1;32m    313\u001b[0m         msg\u001b[39m.\u001b[39mformat(arguments\u001b[39m=\u001b[39marguments),\n\u001b[1;32m    314\u001b[0m         \u001b[39mFutureWarning\u001b[39;00m,\n\u001b[1;32m    315\u001b[0m         stacklevel\u001b[39m=\u001b[39mfind_stack_level(inspect\u001b[39m.\u001b[39mcurrentframe()),\n\u001b[1;32m    316\u001b[0m     )\n\u001b[0;32m--> 317\u001b[0m \u001b[39mreturn\u001b[39;00m func(\u001b[39m*\u001b[39;49margs, \u001b[39m*\u001b[39;49m\u001b[39m*\u001b[39;49mkwargs)\n",
      "File \u001b[0;32m~/Library/Python/3.8/lib/python/site-packages/pandas/core/frame.py:6904\u001b[0m, in \u001b[0;36mDataFrame.sort_values\u001b[0;34m(self, by, axis, ascending, inplace, kind, na_position, ignore_index, key)\u001b[0m\n\u001b[1;32m   6900\u001b[0m \u001b[39melif\u001b[39;00m \u001b[39mlen\u001b[39m(by):\n\u001b[1;32m   6901\u001b[0m     \u001b[39m# len(by) == 1\u001b[39;00m\n\u001b[1;32m   6903\u001b[0m     by \u001b[39m=\u001b[39m by[\u001b[39m0\u001b[39m]\n\u001b[0;32m-> 6904\u001b[0m     k \u001b[39m=\u001b[39m \u001b[39mself\u001b[39;49m\u001b[39m.\u001b[39;49m_get_label_or_level_values(by, axis\u001b[39m=\u001b[39;49maxis)\n\u001b[1;32m   6906\u001b[0m     \u001b[39m# need to rewrap column in Series to apply key function\u001b[39;00m\n\u001b[1;32m   6907\u001b[0m     \u001b[39mif\u001b[39;00m key \u001b[39mis\u001b[39;00m \u001b[39mnot\u001b[39;00m \u001b[39mNone\u001b[39;00m:\n\u001b[1;32m   6908\u001b[0m         \u001b[39m# error: Incompatible types in assignment (expression has type\u001b[39;00m\n\u001b[1;32m   6909\u001b[0m         \u001b[39m# \"Series\", variable has type \"ndarray\")\u001b[39;00m\n",
      "File \u001b[0;32m~/Library/Python/3.8/lib/python/site-packages/pandas/core/generic.py:1849\u001b[0m, in \u001b[0;36mNDFrame._get_label_or_level_values\u001b[0;34m(self, key, axis)\u001b[0m\n\u001b[1;32m   1843\u001b[0m     values \u001b[39m=\u001b[39m (\n\u001b[1;32m   1844\u001b[0m         \u001b[39mself\u001b[39m\u001b[39m.\u001b[39maxes[axis]\n\u001b[1;32m   1845\u001b[0m         \u001b[39m.\u001b[39mget_level_values(key)  \u001b[39m# type: ignore[assignment]\u001b[39;00m\n\u001b[1;32m   1846\u001b[0m         \u001b[39m.\u001b[39m_values\n\u001b[1;32m   1847\u001b[0m     )\n\u001b[1;32m   1848\u001b[0m \u001b[39melse\u001b[39;00m:\n\u001b[0;32m-> 1849\u001b[0m     \u001b[39mraise\u001b[39;00m \u001b[39mKeyError\u001b[39;00m(key)\n\u001b[1;32m   1851\u001b[0m \u001b[39m# Check for duplicates\u001b[39;00m\n\u001b[1;32m   1852\u001b[0m \u001b[39mif\u001b[39;00m values\u001b[39m.\u001b[39mndim \u001b[39m>\u001b[39m \u001b[39m1\u001b[39m:\n",
      "\u001b[0;31mKeyError\u001b[0m: 'Movie box office revenue'"
     ]
    }
   ],
   "source": [
    "print(\"Movies with biggest box office revenues:\")\n",
    "movie_metadata.sort_values('Movie box office revenue', ascending = False).head()"
   ]
  },
  {
   "cell_type": "code",
   "execution_count": null,
   "metadata": {},
   "outputs": [
    {
     "data": {
      "text/plain": [
       "'\\nplt.figure(figsize=(5,5), dpi = 100)\\nplt.xlabel(\\'Movie release date\\', fontsize = 15)\\nplt.ylabel(\\'Box office revenue\\', fontsize=15)\\nplt.title(\\'Box office revenue of all movies\\', fontsize=15)\\n\\nplt.plot(movie_metadata_filt[\"Movie release date\"],movie_metadata_filt[\\'Movie box office revenue\\'])\\n\\nplt.show()\\n'"
      ]
     },
     "execution_count": 445,
     "metadata": {},
     "output_type": "execute_result"
    }
   ],
   "source": [
    "#No real use just to see\n",
    "'''\n",
    "plt.figure(figsize=(5,5), dpi = 100)\n",
    "plt.xlabel('Movie release date', fontsize = 15)\n",
    "plt.ylabel('Box office revenue', fontsize=15)\n",
    "plt.title('Box office revenue of all movies', fontsize=15)\n",
    "\n",
    "plt.plot(movie_metadata_filt[\"Movie release date\"],movie_metadata_filt['Movie box office revenue'])\n",
    "\n",
    "plt.show()\n",
    "'''"
   ]
  },
  {
   "cell_type": "code",
   "execution_count": null,
   "metadata": {},
   "outputs": [
    {
     "data": {
      "text/html": [
       "<div>\n",
       "<style scoped>\n",
       "    .dataframe tbody tr th:only-of-type {\n",
       "        vertical-align: middle;\n",
       "    }\n",
       "\n",
       "    .dataframe tbody tr th {\n",
       "        vertical-align: top;\n",
       "    }\n",
       "\n",
       "    .dataframe thead th {\n",
       "        text-align: right;\n",
       "    }\n",
       "</style>\n",
       "<table border=\"1\" class=\"dataframe\">\n",
       "  <thead>\n",
       "    <tr style=\"text-align: right;\">\n",
       "      <th></th>\n",
       "      <th>Freebase movie ID</th>\n",
       "      <th>Movie release date</th>\n",
       "      <th>Character name</th>\n",
       "      <th>Actor date of birth</th>\n",
       "      <th>Actor gender</th>\n",
       "      <th>Actor height</th>\n",
       "      <th>Actor ethnicity</th>\n",
       "      <th>Actor name</th>\n",
       "      <th>Actor age at movie release</th>\n",
       "      <th>Freebase character/actor map ID</th>\n",
       "      <th>Freebase character ID</th>\n",
       "      <th>Freebase actor ID</th>\n",
       "    </tr>\n",
       "    <tr>\n",
       "      <th>Wikipedia movie ID</th>\n",
       "      <th></th>\n",
       "      <th></th>\n",
       "      <th></th>\n",
       "      <th></th>\n",
       "      <th></th>\n",
       "      <th></th>\n",
       "      <th></th>\n",
       "      <th></th>\n",
       "      <th></th>\n",
       "      <th></th>\n",
       "      <th></th>\n",
       "      <th></th>\n",
       "    </tr>\n",
       "  </thead>\n",
       "  <tbody>\n",
       "    <tr>\n",
       "      <th>975900</th>\n",
       "      <td>/m/03vyhn</td>\n",
       "      <td>2001-08-24</td>\n",
       "      <td>Lieutenant Melanie Ballard</td>\n",
       "      <td>1974-08-15</td>\n",
       "      <td>F</td>\n",
       "      <td>1.780</td>\n",
       "      <td>/m/044038p</td>\n",
       "      <td>Natasha Henstridge</td>\n",
       "      <td>27.0</td>\n",
       "      <td>/m/0jys3m</td>\n",
       "      <td>/m/0bgchn4</td>\n",
       "      <td>/m/0346l4</td>\n",
       "    </tr>\n",
       "    <tr>\n",
       "      <th>975900</th>\n",
       "      <td>/m/03vyhn</td>\n",
       "      <td>2001-08-24</td>\n",
       "      <td>Desolation Williams</td>\n",
       "      <td>1969-06-15</td>\n",
       "      <td>M</td>\n",
       "      <td>1.727</td>\n",
       "      <td>/m/0x67</td>\n",
       "      <td>Ice Cube</td>\n",
       "      <td>32.0</td>\n",
       "      <td>/m/0jys3g</td>\n",
       "      <td>/m/0bgchn_</td>\n",
       "      <td>/m/01vw26l</td>\n",
       "    </tr>\n",
       "    <tr>\n",
       "      <th>975900</th>\n",
       "      <td>/m/03vyhn</td>\n",
       "      <td>2001-08-24</td>\n",
       "      <td>Commander Helena Braddock</td>\n",
       "      <td>1949-05-26</td>\n",
       "      <td>F</td>\n",
       "      <td>1.727</td>\n",
       "      <td>/m/0x67</td>\n",
       "      <td>Pam Grier</td>\n",
       "      <td>52.0</td>\n",
       "      <td>/m/02vdcfp</td>\n",
       "      <td>/m/0bgchnd</td>\n",
       "      <td>/m/0418ft</td>\n",
       "    </tr>\n",
       "    <tr>\n",
       "      <th>2314463</th>\n",
       "      <td>/m/0734w5</td>\n",
       "      <td>2006</td>\n",
       "      <td>Taper Guy</td>\n",
       "      <td>1971-05-26</td>\n",
       "      <td>M</td>\n",
       "      <td>1.870</td>\n",
       "      <td>/m/033tf_</td>\n",
       "      <td>Matt Stone</td>\n",
       "      <td>34.0</td>\n",
       "      <td>/m/0cgn0lx</td>\n",
       "      <td>/m/0h0z488</td>\n",
       "      <td>/m/01_x6d</td>\n",
       "    </tr>\n",
       "    <tr>\n",
       "      <th>612710</th>\n",
       "      <td>/m/02wjqm</td>\n",
       "      <td>1999-10-01</td>\n",
       "      <td>Sandii</td>\n",
       "      <td>1975-09-20</td>\n",
       "      <td>F</td>\n",
       "      <td>1.680</td>\n",
       "      <td>/m/0222qb</td>\n",
       "      <td>Asia Argento</td>\n",
       "      <td>24.0</td>\n",
       "      <td>/m/02vcxk_</td>\n",
       "      <td>/m/0h2l6rx</td>\n",
       "      <td>/m/028pzq</td>\n",
       "    </tr>\n",
       "    <tr>\n",
       "      <th>...</th>\n",
       "      <td>...</td>\n",
       "      <td>...</td>\n",
       "      <td>...</td>\n",
       "      <td>...</td>\n",
       "      <td>...</td>\n",
       "      <td>...</td>\n",
       "      <td>...</td>\n",
       "      <td>...</td>\n",
       "      <td>...</td>\n",
       "      <td>...</td>\n",
       "      <td>...</td>\n",
       "      <td>...</td>\n",
       "    </tr>\n",
       "    <tr>\n",
       "      <th>22330502</th>\n",
       "      <td>/m/05sync6</td>\n",
       "      <td>1931-01-31</td>\n",
       "      <td>Yvonne Valbret</td>\n",
       "      <td>1905-09-18</td>\n",
       "      <td>F</td>\n",
       "      <td>1.702</td>\n",
       "      <td>/m/06mvq</td>\n",
       "      <td>Greta Garbo</td>\n",
       "      <td>25.0</td>\n",
       "      <td>/m/05tg4vb</td>\n",
       "      <td>/m/0h2ppfw</td>\n",
       "      <td>/m/0h14h</td>\n",
       "    </tr>\n",
       "    <tr>\n",
       "      <th>24997872</th>\n",
       "      <td>/m/09g6klx</td>\n",
       "      <td>2010-05-07</td>\n",
       "      <td>Raja</td>\n",
       "      <td>1951-09-07</td>\n",
       "      <td>M</td>\n",
       "      <td>1.780</td>\n",
       "      <td>/m/04mvp8</td>\n",
       "      <td>Mammootty</td>\n",
       "      <td>58.0</td>\n",
       "      <td>/m/0gvytkx</td>\n",
       "      <td>/m/0h27wx_</td>\n",
       "      <td>/m/02hkv5</td>\n",
       "    </tr>\n",
       "    <tr>\n",
       "      <th>24997872</th>\n",
       "      <td>/m/09g6klx</td>\n",
       "      <td>2010-05-07</td>\n",
       "      <td>Surya</td>\n",
       "      <td>1982-10-16</td>\n",
       "      <td>M</td>\n",
       "      <td>1.810</td>\n",
       "      <td>/m/0dryh9k</td>\n",
       "      <td>Prithviraj Sukumaran</td>\n",
       "      <td>27.0</td>\n",
       "      <td>/m/0gw0rm2</td>\n",
       "      <td>/m/0gz549m</td>\n",
       "      <td>/m/0cqcgj</td>\n",
       "    </tr>\n",
       "    <tr>\n",
       "      <th>24997872</th>\n",
       "      <td>/m/09g6klx</td>\n",
       "      <td>2010-05-07</td>\n",
       "      <td>Aswathy</td>\n",
       "      <td>1982-09-11</td>\n",
       "      <td>F</td>\n",
       "      <td>1.680</td>\n",
       "      <td>/m/0dryh9k</td>\n",
       "      <td>Shriya Saran</td>\n",
       "      <td>27.0</td>\n",
       "      <td>/m/0gw423l</td>\n",
       "      <td>/m/0gyf84q</td>\n",
       "      <td>/m/09r_wb</td>\n",
       "    </tr>\n",
       "    <tr>\n",
       "      <th>30553937</th>\n",
       "      <td>/m/0g9ts5h</td>\n",
       "      <td>1998-03-07</td>\n",
       "      <td>Tracy</td>\n",
       "      <td>1967-03-16</td>\n",
       "      <td>F</td>\n",
       "      <td>1.746</td>\n",
       "      <td>/m/033tf_</td>\n",
       "      <td>Lauren Graham</td>\n",
       "      <td>30.0</td>\n",
       "      <td>/m/0gw3h6q</td>\n",
       "      <td>/m/0h1gk0m</td>\n",
       "      <td>/m/03c6v3</td>\n",
       "    </tr>\n",
       "  </tbody>\n",
       "</table>\n",
       "<p>45264 rows × 12 columns</p>\n",
       "</div>"
      ],
      "text/plain": [
       "                   Freebase movie ID Movie release date  \\\n",
       "Wikipedia movie ID                                        \n",
       "975900                     /m/03vyhn         2001-08-24   \n",
       "975900                     /m/03vyhn         2001-08-24   \n",
       "975900                     /m/03vyhn         2001-08-24   \n",
       "2314463                    /m/0734w5               2006   \n",
       "612710                     /m/02wjqm         1999-10-01   \n",
       "...                              ...                ...   \n",
       "22330502                  /m/05sync6         1931-01-31   \n",
       "24997872                  /m/09g6klx         2010-05-07   \n",
       "24997872                  /m/09g6klx         2010-05-07   \n",
       "24997872                  /m/09g6klx         2010-05-07   \n",
       "30553937                  /m/0g9ts5h         1998-03-07   \n",
       "\n",
       "                                Character name Actor date of birth  \\\n",
       "Wikipedia movie ID                                                   \n",
       "975900              Lieutenant Melanie Ballard          1974-08-15   \n",
       "975900                     Desolation Williams          1969-06-15   \n",
       "975900               Commander Helena Braddock          1949-05-26   \n",
       "2314463                              Taper Guy          1971-05-26   \n",
       "612710                                  Sandii          1975-09-20   \n",
       "...                                        ...                 ...   \n",
       "22330502                        Yvonne Valbret          1905-09-18   \n",
       "24997872                                  Raja          1951-09-07   \n",
       "24997872                                 Surya          1982-10-16   \n",
       "24997872                               Aswathy          1982-09-11   \n",
       "30553937                                 Tracy          1967-03-16   \n",
       "\n",
       "                   Actor gender  Actor height Actor ethnicity  \\\n",
       "Wikipedia movie ID                                              \n",
       "975900                        F         1.780      /m/044038p   \n",
       "975900                        M         1.727         /m/0x67   \n",
       "975900                        F         1.727         /m/0x67   \n",
       "2314463                       M         1.870       /m/033tf_   \n",
       "612710                        F         1.680       /m/0222qb   \n",
       "...                         ...           ...             ...   \n",
       "22330502                      F         1.702        /m/06mvq   \n",
       "24997872                      M         1.780       /m/04mvp8   \n",
       "24997872                      M         1.810      /m/0dryh9k   \n",
       "24997872                      F         1.680      /m/0dryh9k   \n",
       "30553937                      F         1.746       /m/033tf_   \n",
       "\n",
       "                              Actor name  Actor age at movie release  \\\n",
       "Wikipedia movie ID                                                     \n",
       "975900                Natasha Henstridge                        27.0   \n",
       "975900                          Ice Cube                        32.0   \n",
       "975900                         Pam Grier                        52.0   \n",
       "2314463                       Matt Stone                        34.0   \n",
       "612710                      Asia Argento                        24.0   \n",
       "...                                  ...                         ...   \n",
       "22330502                     Greta Garbo                        25.0   \n",
       "24997872                       Mammootty                        58.0   \n",
       "24997872            Prithviraj Sukumaran                        27.0   \n",
       "24997872                    Shriya Saran                        27.0   \n",
       "30553937                   Lauren Graham                        30.0   \n",
       "\n",
       "                   Freebase character/actor map ID Freebase character ID  \\\n",
       "Wikipedia movie ID                                                         \n",
       "975900                                   /m/0jys3m            /m/0bgchn4   \n",
       "975900                                   /m/0jys3g            /m/0bgchn_   \n",
       "975900                                  /m/02vdcfp            /m/0bgchnd   \n",
       "2314463                                 /m/0cgn0lx            /m/0h0z488   \n",
       "612710                                  /m/02vcxk_            /m/0h2l6rx   \n",
       "...                                            ...                   ...   \n",
       "22330502                                /m/05tg4vb            /m/0h2ppfw   \n",
       "24997872                                /m/0gvytkx            /m/0h27wx_   \n",
       "24997872                                /m/0gw0rm2            /m/0gz549m   \n",
       "24997872                                /m/0gw423l            /m/0gyf84q   \n",
       "30553937                                /m/0gw3h6q            /m/0h1gk0m   \n",
       "\n",
       "                   Freebase actor ID  \n",
       "Wikipedia movie ID                    \n",
       "975900                     /m/0346l4  \n",
       "975900                    /m/01vw26l  \n",
       "975900                     /m/0418ft  \n",
       "2314463                    /m/01_x6d  \n",
       "612710                     /m/028pzq  \n",
       "...                              ...  \n",
       "22330502                    /m/0h14h  \n",
       "24997872                   /m/02hkv5  \n",
       "24997872                   /m/0cqcgj  \n",
       "24997872                   /m/09r_wb  \n",
       "30553937                   /m/03c6v3  \n",
       "\n",
       "[45264 rows x 12 columns]"
      ]
     },
     "execution_count": 451,
     "metadata": {},
     "output_type": "execute_result"
    }
   ],
   "source": [
    "character_dropna = character_metadata.dropna()\n",
    "character_dropna"
   ]
  },
  {
   "cell_type": "code",
   "execution_count": null,
   "metadata": {},
   "outputs": [
    {
     "data": {
      "text/plain": [
       "\"\\ncharacter_dropna['Actor gender'] = pd.get_dummies(character_dropna['Actor gender'])\\ncharacter_dropna.head()\\n\""
      ]
     },
     "execution_count": 169,
     "metadata": {},
     "output_type": "execute_result"
    }
   ],
   "source": [
    "'''\n",
    "character_dropna['Actor gender'] = pd.get_dummies(character_dropna['Actor gender'])\n",
    "character_dropna.head()\n",
    "'''"
   ]
  },
  {
   "cell_type": "markdown",
   "metadata": {},
   "source": [
    "## Detecting Main characters etc."
   ]
  },
  {
   "cell_type": "code",
   "execution_count": null,
   "metadata": {},
   "outputs": [
    {
     "name": "stdout",
     "output_type": "stream",
     "text": [
      "there are normally 450669 characters\n"
     ]
    }
   ],
   "source": [
    "plot_summaries.head()\n",
    "character_metadata.head()\n",
    "character_metadata=character_metadata.drop_duplicates()\n",
    "print('there are normally', len(character_metadata),'characters')"
   ]
  },
  {
   "cell_type": "code",
   "execution_count": null,
   "metadata": {},
   "outputs": [
    {
     "name": "stdout",
     "output_type": "stream",
     "text": [
      "Percentage of missing entries in the name of the characters dataset:\n",
      " Character name    57.220488\n",
      "dtype: float64\n"
     ]
    }
   ],
   "source": [
    "character_dropna_name = character_metadata.dropna(subset=['Character name'])\n",
    "print('Percentage of missing entries in the name of the characters dataset:\\n', 100*character_metadata[['Character name']].isna().sum() / n_char)"
   ]
  },
  {
   "cell_type": "code",
   "execution_count": null,
   "metadata": {},
   "outputs": [
    {
     "name": "stdout",
     "output_type": "stream",
     "text": [
      "we will consider 192794 characters and 23068 movies\n"
     ]
    },
    {
     "data": {
      "text/html": [
       "<div>\n",
       "<style scoped>\n",
       "    .dataframe tbody tr th:only-of-type {\n",
       "        vertical-align: middle;\n",
       "    }\n",
       "\n",
       "    .dataframe tbody tr th {\n",
       "        vertical-align: top;\n",
       "    }\n",
       "\n",
       "    .dataframe thead th {\n",
       "        text-align: right;\n",
       "    }\n",
       "</style>\n",
       "<table border=\"1\" class=\"dataframe\">\n",
       "  <thead>\n",
       "    <tr style=\"text-align: right;\">\n",
       "      <th></th>\n",
       "      <th>Freebase movie ID</th>\n",
       "      <th>Movie release date</th>\n",
       "      <th>Character name</th>\n",
       "      <th>Actor date of birth</th>\n",
       "      <th>Actor gender</th>\n",
       "      <th>Actor height</th>\n",
       "      <th>Actor ethnicity</th>\n",
       "      <th>Actor name</th>\n",
       "      <th>Actor age at movie release</th>\n",
       "      <th>Freebase character/actor map ID</th>\n",
       "      <th>Freebase character ID</th>\n",
       "      <th>Freebase actor ID</th>\n",
       "      <th>Plot Summary</th>\n",
       "    </tr>\n",
       "    <tr>\n",
       "      <th>Wikipedia movie ID</th>\n",
       "      <th></th>\n",
       "      <th></th>\n",
       "      <th></th>\n",
       "      <th></th>\n",
       "      <th></th>\n",
       "      <th></th>\n",
       "      <th></th>\n",
       "      <th></th>\n",
       "      <th></th>\n",
       "      <th></th>\n",
       "      <th></th>\n",
       "      <th></th>\n",
       "      <th></th>\n",
       "    </tr>\n",
       "  </thead>\n",
       "  <tbody>\n",
       "    <tr>\n",
       "      <th>3217</th>\n",
       "      <td>/m/014hr</td>\n",
       "      <td>1992-10-09</td>\n",
       "      <td>S-Mart Clerk</td>\n",
       "      <td>1965-12-14</td>\n",
       "      <td>M</td>\n",
       "      <td>1.87</td>\n",
       "      <td>NaN</td>\n",
       "      <td>Ted Raimi</td>\n",
       "      <td>26.0</td>\n",
       "      <td>/m/0hgcnkm</td>\n",
       "      <td>/m/0hgcnkq</td>\n",
       "      <td>/m/07qn0</td>\n",
       "      <td>After being pulled through a time portal, Ash ...</td>\n",
       "    </tr>\n",
       "    <tr>\n",
       "      <th>3217</th>\n",
       "      <td>/m/014hr</td>\n",
       "      <td>1992-10-09</td>\n",
       "      <td>Fake shemp</td>\n",
       "      <td>1956-01-01</td>\n",
       "      <td>M</td>\n",
       "      <td>NaN</td>\n",
       "      <td>NaN</td>\n",
       "      <td>Ivan Raimi</td>\n",
       "      <td>36.0</td>\n",
       "      <td>/m/04hzm56</td>\n",
       "      <td>/m/089hc6</td>\n",
       "      <td>/m/0gmjf8</td>\n",
       "      <td>After being pulled through a time portal, Ash ...</td>\n",
       "    </tr>\n",
       "    <tr>\n",
       "      <th>3217</th>\n",
       "      <td>/m/014hr</td>\n",
       "      <td>1992-10-09</td>\n",
       "      <td>Ash Williams</td>\n",
       "      <td>1958-06-22</td>\n",
       "      <td>M</td>\n",
       "      <td>1.85</td>\n",
       "      <td>NaN</td>\n",
       "      <td>Bruce Campbell</td>\n",
       "      <td>34.0</td>\n",
       "      <td>/m/0jtqtd</td>\n",
       "      <td>/m/06_krl</td>\n",
       "      <td>/m/01h8f</td>\n",
       "      <td>After being pulled through a time portal, Ash ...</td>\n",
       "    </tr>\n",
       "    <tr>\n",
       "      <th>3217</th>\n",
       "      <td>/m/014hr</td>\n",
       "      <td>1992-10-09</td>\n",
       "      <td>Evil Ash</td>\n",
       "      <td>1958-06-22</td>\n",
       "      <td>M</td>\n",
       "      <td>1.85</td>\n",
       "      <td>NaN</td>\n",
       "      <td>Bruce Campbell</td>\n",
       "      <td>34.0</td>\n",
       "      <td>/m/0jtgxg0</td>\n",
       "      <td>/m/0jtgxg3</td>\n",
       "      <td>/m/01h8f</td>\n",
       "      <td>After being pulled through a time portal, Ash ...</td>\n",
       "    </tr>\n",
       "    <tr>\n",
       "      <th>3217</th>\n",
       "      <td>/m/014hr</td>\n",
       "      <td>1992-10-09</td>\n",
       "      <td>Cowardly Warrior</td>\n",
       "      <td>1965-12-14</td>\n",
       "      <td>M</td>\n",
       "      <td>1.87</td>\n",
       "      <td>NaN</td>\n",
       "      <td>Ted Raimi</td>\n",
       "      <td>26.0</td>\n",
       "      <td>/m/04hzm5x</td>\n",
       "      <td>/m/0hgcnjh</td>\n",
       "      <td>/m/07qn0</td>\n",
       "      <td>After being pulled through a time portal, Ash ...</td>\n",
       "    </tr>\n",
       "  </tbody>\n",
       "</table>\n",
       "</div>"
      ],
      "text/plain": [
       "                   Freebase movie ID Movie release date    Character name  \\\n",
       "Wikipedia movie ID                                                          \n",
       "3217                        /m/014hr         1992-10-09      S-Mart Clerk   \n",
       "3217                        /m/014hr         1992-10-09        Fake shemp   \n",
       "3217                        /m/014hr         1992-10-09      Ash Williams   \n",
       "3217                        /m/014hr         1992-10-09          Evil Ash   \n",
       "3217                        /m/014hr         1992-10-09  Cowardly Warrior   \n",
       "\n",
       "                   Actor date of birth Actor gender  Actor height  \\\n",
       "Wikipedia movie ID                                                  \n",
       "3217                        1965-12-14            M          1.87   \n",
       "3217                        1956-01-01            M           NaN   \n",
       "3217                        1958-06-22            M          1.85   \n",
       "3217                        1958-06-22            M          1.85   \n",
       "3217                        1965-12-14            M          1.87   \n",
       "\n",
       "                   Actor ethnicity      Actor name  \\\n",
       "Wikipedia movie ID                                   \n",
       "3217                           NaN       Ted Raimi   \n",
       "3217                           NaN      Ivan Raimi   \n",
       "3217                           NaN  Bruce Campbell   \n",
       "3217                           NaN  Bruce Campbell   \n",
       "3217                           NaN       Ted Raimi   \n",
       "\n",
       "                    Actor age at movie release  \\\n",
       "Wikipedia movie ID                               \n",
       "3217                                      26.0   \n",
       "3217                                      36.0   \n",
       "3217                                      34.0   \n",
       "3217                                      34.0   \n",
       "3217                                      26.0   \n",
       "\n",
       "                   Freebase character/actor map ID Freebase character ID  \\\n",
       "Wikipedia movie ID                                                         \n",
       "3217                                    /m/0hgcnkm            /m/0hgcnkq   \n",
       "3217                                    /m/04hzm56             /m/089hc6   \n",
       "3217                                     /m/0jtqtd             /m/06_krl   \n",
       "3217                                    /m/0jtgxg0            /m/0jtgxg3   \n",
       "3217                                    /m/04hzm5x            /m/0hgcnjh   \n",
       "\n",
       "                   Freebase actor ID  \\\n",
       "Wikipedia movie ID                     \n",
       "3217                        /m/07qn0   \n",
       "3217                       /m/0gmjf8   \n",
       "3217                        /m/01h8f   \n",
       "3217                        /m/01h8f   \n",
       "3217                        /m/07qn0   \n",
       "\n",
       "                                                         Plot Summary  \n",
       "Wikipedia movie ID                                                     \n",
       "3217                After being pulled through a time portal, Ash ...  \n",
       "3217                After being pulled through a time portal, Ash ...  \n",
       "3217                After being pulled through a time portal, Ash ...  \n",
       "3217                After being pulled through a time portal, Ash ...  \n",
       "3217                After being pulled through a time portal, Ash ...  "
      ]
     },
     "execution_count": 116,
     "metadata": {},
     "output_type": "execute_result"
    }
   ],
   "source": [
    "characters_plot=pd.merge(character_dropna_name,plot_summaries, left_index=True, right_index=True, how=\"inner\")\n",
    "characters_plot['Movie release date'] = pd.to_datetime(characters_plot['Movie release date'],errors='coerce')\n",
    "characters_plot['Actor date of birth'] = pd.to_datetime(characters_plot['Actor date of birth'],errors='coerce') #might need to automate the process here\n",
    "print('we will consider', len(character_dropna_name), 'characters and', len(characters_plot.index.drop_duplicates()),'movies')\n",
    "characters_plot.head()"
   ]
  },
  {
   "cell_type": "code",
   "execution_count": null,
   "metadata": {},
   "outputs": [
    {
     "ename": "SyntaxError",
     "evalue": "EOL while scanning string literal (2302735547.py, line 1)",
     "output_type": "error",
     "traceback": [
      "\u001b[0;36m  Cell \u001b[0;32mIn [354], line 1\u001b[0;36m\u001b[0m\n\u001b[0;31m    characters_plot['Plot Summary']=characters_plot['Plot Summary'].replace(\"\\\",\"\")\u001b[0m\n\u001b[0m                                                                                   ^\u001b[0m\n\u001b[0;31mSyntaxError\u001b[0m\u001b[0;31m:\u001b[0m EOL while scanning string literal\n"
     ]
    }
   ],
   "source": [
    "characters_plot['Plot Summary']=characters_plot['Plot Summary'].replace(\"\\\",\"\")\n",
    "characters_plot\n"
   ]
  },
  {
   "cell_type": "code",
   "execution_count": null,
   "metadata": {},
   "outputs": [
    {
     "data": {
      "text/plain": [
       "'After being pulled through a time portal, Ash Williams lands in 1300 AD, where he is almost immediately captured by Lord Arthur\\'s men, who suspect him to be an agent for Duke Henry, with whom Arthur is at war. He is enslaved along with the captured Henry, his gun and chainsaw confiscated, and is taken to a castle. Ash is thrown in a pit where he fights off a Deadite and regains his weapons from Arthur\\'s Wise Man. After demanding Henry and his men be set free  and killing a deadite in full view of everyone, Ash is celebrated as a hero. He also grows attracted to Sheila, the sister of one of Arthur\\'s fallen knights. According to the Wise Man, the only way Ash can return to his time is to retrieve the Necronomicon Ex-Mortis. After bidding goodbye to Sheila, Ash starts his search for the Necronomicon. As he enters a haunted forest, an unseen force pursues Ash through the woods. Fleeing, he ducks into a windmill where he crashes into a mirror. The small reflections of Ash climb out from the shattered mirror and torment him. One of the reflections dives down Ash\\'s throat and uses his body to become a life-sized clone of Ash and attack him, after which Ash kills and buries the clone. When he arrives at the Necronomicon\\'s location, he finds three books instead of one. Ash eventually finds the real one and attempts to say the magic phrase that will allow him to remove the book safely — \"Klaatu verata nicto\". However, forgetting the last word, he tries to trick the book by mumbling/coughing the missing word. He then grabs the book from the cradle, and rushes back to the castle, while the dead rise from graves all around. During Ash\\'s panicked ride back, his evil copy rises from his grave and unites the Deadites into the Army of Darkness. Despite causing the predicament faced by the Medieval soldiers, Ash initially demands to be returned to his own time. However, Sheila is captured by a Flying Deadite, and later transformed into a Deadite. Ash becomes determined to lead the humans against the army of the dead. Reluctantly, the people agree to join Ash. Using scientific knowledge from textbooks in the trunk of his 1973 Oldsmobile Delta 88, and enlisting the help of Duke Henry, Ash successfully leads the medieval soldiers to victory over the Deadites and Evil Ash, saving Sheila and bringing peace between Arthur and Henry in the process. After this, he is brought back to his own time using a potion made from the Necronomicon. Later, Ash is at the S-Mart store telling a male co-worker  all about his adventure back in time, and how he could have been king. A female customer becomes possessed by a demon and starts wreaking havoc on the store, and Ash slays the creature.'"
      ]
     },
     "execution_count": 388,
     "metadata": {},
     "output_type": "execute_result"
    }
   ],
   "source": [
    "characters_plot['Plot Summary'].iloc[0]\n"
   ]
  },
  {
   "cell_type": "code",
   "execution_count": null,
   "metadata": {},
   "outputs": [],
   "source": [
    "def countOccurrences(str, word):\n",
    " \n",
    "    wordslist = list(str.split())\n",
    "    return wordslist.count(word)\n"
   ]
  },
  {
   "cell_type": "markdown",
   "metadata": {},
   "source": [
    "## STEP 4 : Discrimination through types of roles attribution and its evolution in time"
   ]
  },
  {
   "cell_type": "markdown",
   "metadata": {},
   "source": [
    "## Step 4.1: Summaries treatment"
   ]
  },
  {
   "cell_type": "code",
   "execution_count": null,
   "metadata": {},
   "outputs": [],
   "source": [
    "# feminine pronouns occurence in summaries"
   ]
  },
  {
   "cell_type": "code",
   "execution_count": null,
   "metadata": {},
   "outputs": [],
   "source": [
    "def indicator_variable(dic,x,s):\n",
    "    '''\n",
    "    Returns indicator variable which equals to 1 if the corresponding headline uses \n",
    "    the corresponding type of pronoun and 0 otherwise.\n",
    "    :param dic: dictionary\n",
    "    :param x: string\n",
    "    :param s: string\n",
    "    :return: indicator variable\n",
    "    '''\n",
    "    return int(bool(set(dic[s]) & set(x.lower().split(\" \"))))"
   ]
  },
  {
   "cell_type": "code",
   "execution_count": null,
   "metadata": {},
   "outputs": [],
   "source": [
    "feature_wordsets = dict([\n",
    "    # https://en.wikipedia.org/wiki/English_personal_pronouns\n",
    "    ('fem_pronoun', ['she','her','hers','herself', \n",
    "                               \"she'll\", \"she's\", 'shes']),\n",
    "    ('masc_pronoun', ['he','him','his','himself',\n",
    "                               \"he'd\", \"he's\", 'hes'])\n",
    "])\n",
    "\n",
    "plot_summaries[\"fem_pronoun\"] = plot_summaries[\"Plot Summary\"].apply(lambda x : indicator_variable(feature_wordsets,x,'fem_pronoun'))\n",
    "plot_summaries[\"masc_pronoun\"] = plot_summaries[\"Plot Summary\"].apply(lambda x : indicator_variable(feature_wordsets,x,'masc_pronoun'))\n"
   ]
  },
  {
   "cell_type": "code",
   "execution_count": null,
   "metadata": {},
   "outputs": [
    {
     "data": {
      "text/html": [
       "<div>\n",
       "<style scoped>\n",
       "    .dataframe tbody tr th:only-of-type {\n",
       "        vertical-align: middle;\n",
       "    }\n",
       "\n",
       "    .dataframe tbody tr th {\n",
       "        vertical-align: top;\n",
       "    }\n",
       "\n",
       "    .dataframe thead th {\n",
       "        text-align: right;\n",
       "    }\n",
       "</style>\n",
       "<table border=\"1\" class=\"dataframe\">\n",
       "  <thead>\n",
       "    <tr style=\"text-align: right;\">\n",
       "      <th></th>\n",
       "      <th>Plot Summary</th>\n",
       "      <th>fem_pronoun</th>\n",
       "      <th>masc_pronoun</th>\n",
       "    </tr>\n",
       "    <tr>\n",
       "      <th>Wikipedia movie ID</th>\n",
       "      <th></th>\n",
       "      <th></th>\n",
       "      <th></th>\n",
       "    </tr>\n",
       "  </thead>\n",
       "  <tbody>\n",
       "    <tr>\n",
       "      <th>23890098</th>\n",
       "      <td>Shlykov, a hard-working taxi driver and Lyosha...</td>\n",
       "      <td>0</td>\n",
       "      <td>0</td>\n",
       "    </tr>\n",
       "    <tr>\n",
       "      <th>31186339</th>\n",
       "      <td>The nation of Panem consists of a wealthy Capi...</td>\n",
       "      <td>1</td>\n",
       "      <td>1</td>\n",
       "    </tr>\n",
       "    <tr>\n",
       "      <th>20663735</th>\n",
       "      <td>Poovalli Induchoodan  is sentenced for six yea...</td>\n",
       "      <td>1</td>\n",
       "      <td>1</td>\n",
       "    </tr>\n",
       "    <tr>\n",
       "      <th>2231378</th>\n",
       "      <td>The Lemon Drop Kid , a New York City swindler,...</td>\n",
       "      <td>1</td>\n",
       "      <td>1</td>\n",
       "    </tr>\n",
       "    <tr>\n",
       "      <th>595909</th>\n",
       "      <td>Seventh-day Adventist Church pastor Michael Ch...</td>\n",
       "      <td>1</td>\n",
       "      <td>1</td>\n",
       "    </tr>\n",
       "    <tr>\n",
       "      <th>...</th>\n",
       "      <td>...</td>\n",
       "      <td>...</td>\n",
       "      <td>...</td>\n",
       "    </tr>\n",
       "    <tr>\n",
       "      <th>34808485</th>\n",
       "      <td>The story is about Reema , a young Muslim scho...</td>\n",
       "      <td>1</td>\n",
       "      <td>0</td>\n",
       "    </tr>\n",
       "    <tr>\n",
       "      <th>1096473</th>\n",
       "      <td>In 1928 Hollywood, director Leo Andreyev  look...</td>\n",
       "      <td>1</td>\n",
       "      <td>1</td>\n",
       "    </tr>\n",
       "    <tr>\n",
       "      <th>35102018</th>\n",
       "      <td>American Luthier focuses on Randy Parsons’ tra...</td>\n",
       "      <td>0</td>\n",
       "      <td>1</td>\n",
       "    </tr>\n",
       "    <tr>\n",
       "      <th>8628195</th>\n",
       "      <td>Abdur Rehman Khan , a middle-aged dry fruit se...</td>\n",
       "      <td>1</td>\n",
       "      <td>1</td>\n",
       "    </tr>\n",
       "    <tr>\n",
       "      <th>6040782</th>\n",
       "      <td>1940 - Operation Dynamo has just taken place. ...</td>\n",
       "      <td>0</td>\n",
       "      <td>1</td>\n",
       "    </tr>\n",
       "  </tbody>\n",
       "</table>\n",
       "<p>42303 rows × 3 columns</p>\n",
       "</div>"
      ],
      "text/plain": [
       "                                                         Plot Summary  \\\n",
       "Wikipedia movie ID                                                      \n",
       "23890098            Shlykov, a hard-working taxi driver and Lyosha...   \n",
       "31186339            The nation of Panem consists of a wealthy Capi...   \n",
       "20663735            Poovalli Induchoodan  is sentenced for six yea...   \n",
       "2231378             The Lemon Drop Kid , a New York City swindler,...   \n",
       "595909              Seventh-day Adventist Church pastor Michael Ch...   \n",
       "...                                                               ...   \n",
       "34808485            The story is about Reema , a young Muslim scho...   \n",
       "1096473             In 1928 Hollywood, director Leo Andreyev  look...   \n",
       "35102018            American Luthier focuses on Randy Parsons’ tra...   \n",
       "8628195             Abdur Rehman Khan , a middle-aged dry fruit se...   \n",
       "6040782             1940 - Operation Dynamo has just taken place. ...   \n",
       "\n",
       "                    fem_pronoun  masc_pronoun  \n",
       "Wikipedia movie ID                             \n",
       "23890098                      0             0  \n",
       "31186339                      1             1  \n",
       "20663735                      1             1  \n",
       "2231378                       1             1  \n",
       "595909                        1             1  \n",
       "...                         ...           ...  \n",
       "34808485                      1             0  \n",
       "1096473                       1             1  \n",
       "35102018                      0             1  \n",
       "8628195                       1             1  \n",
       "6040782                       0             1  \n",
       "\n",
       "[42303 rows x 3 columns]"
      ]
     },
     "execution_count": 122,
     "metadata": {},
     "output_type": "execute_result"
    }
   ],
   "source": [
    "plot_summaries"
   ]
  },
  {
   "cell_type": "code",
   "execution_count": null,
   "metadata": {},
   "outputs": [],
   "source": [
    "length_summaries = len(plot_summaries)"
   ]
  },
  {
   "cell_type": "code",
   "execution_count": null,
   "metadata": {},
   "outputs": [
    {
     "name": "stdout",
     "output_type": "stream",
     "text": [
      "The number of summaries with feminine pronouns occurence: 25181\n",
      "The percentage of summaries with feminine pronouns occurence: 59.5253291728719 %\n"
     ]
    }
   ],
   "source": [
    "print('The number of summaries with feminine pronouns occurence:', sum(plot_summaries[\"fem_pronoun\"]))\n",
    "print('The percentage of summaries with feminine pronouns occurence:', 100*(sum(plot_summaries[\"fem_pronoun\"]))/ length_summaries, \"%\")"
   ]
  },
  {
   "cell_type": "code",
   "execution_count": null,
   "metadata": {},
   "outputs": [
    {
     "name": "stdout",
     "output_type": "stream",
     "text": [
      "The number of summaries with masculine pronouns occurence: 35197\n",
      "The percentage of summaries with masculine pronouns occurence: 83.2021369642815 %\n"
     ]
    }
   ],
   "source": [
    "print('The number of summaries with masculine pronouns occurence:', sum(plot_summaries[\"masc_pronoun\"]))\n",
    "print('The percentage of summaries with masculine pronouns occurence:', 100*(sum(plot_summaries[\"masc_pronoun\"]))/ length_summaries, \"%\")"
   ]
  },
  {
   "cell_type": "markdown",
   "metadata": {},
   "source": [
    "We observe that there is more than 23% difference between the occurence of feminine and masculine pronouns in the given summaries.\n",
    "\n",
    "We can check if the pronouns occurence changes through time."
   ]
  },
  {
   "cell_type": "code",
   "execution_count": null,
   "metadata": {},
   "outputs": [
    {
     "ename": "NameError",
     "evalue": "name 'movie_metadata_filt' is not defined",
     "output_type": "error",
     "traceback": [
      "\u001b[0;31m---------------------------------------------------------------------------\u001b[0m",
      "\u001b[0;31mNameError\u001b[0m                                 Traceback (most recent call last)",
      "Cell \u001b[0;32mIn [165], line 3\u001b[0m\n\u001b[1;32m      1\u001b[0m \u001b[39m# add a release date column to the plot_summaries dataset\u001b[39;00m\n\u001b[0;32m----> 3\u001b[0m summaries_with_date \u001b[39m=\u001b[39m movie_metadata_filt\u001b[39m.\u001b[39mjoin(plot_summaries) \u001b[39m#there were more summaries than given movies\u001b[39;00m\n\u001b[1;32m      4\u001b[0m summaries_with_date \u001b[39m=\u001b[39m summaries_with_date\u001b[39m.\u001b[39mdropna()\n\u001b[1;32m      5\u001b[0m summaries_with_date[\u001b[39m\"\u001b[39m\u001b[39mMovie release date\u001b[39m\u001b[39m\"\u001b[39m] \u001b[39m=\u001b[39m pd\u001b[39m.\u001b[39mto_datetime(summaries_with_date[\u001b[39m\"\u001b[39m\u001b[39mMovie release date\u001b[39m\u001b[39m\"\u001b[39m],errors\u001b[39m=\u001b[39m\u001b[39m'\u001b[39m\u001b[39mcoerce\u001b[39m\u001b[39m'\u001b[39m)\n",
      "\u001b[0;31mNameError\u001b[0m: name 'movie_metadata_filt' is not defined"
     ]
    }
   ],
   "source": [
    "# add a release date column to the plot_summaries dataset\n",
    "\n",
    "summaries_with_date = movie_metadata_filt.join(plot_summaries) #there were more summaries than given movies\n",
    "summaries_with_date = summaries_with_date.dropna()\n",
    "summaries_with_date[\"Movie release date\"] = pd.to_datetime(summaries_with_date[\"Movie release date\"],errors='coerce')\n",
    "summaries_with_date = summaries_with_date.sort_values(by=\"Movie release date\")\n",
    "summaries_with_date "
   ]
  },
  {
   "cell_type": "code",
   "execution_count": null,
   "metadata": {},
   "outputs": [
    {
     "data": {
      "text/html": [
       "<div>\n",
       "<style scoped>\n",
       "    .dataframe tbody tr th:only-of-type {\n",
       "        vertical-align: middle;\n",
       "    }\n",
       "\n",
       "    .dataframe tbody tr th {\n",
       "        vertical-align: top;\n",
       "    }\n",
       "\n",
       "    .dataframe thead th {\n",
       "        text-align: right;\n",
       "    }\n",
       "</style>\n",
       "<table border=\"1\" class=\"dataframe\">\n",
       "  <thead>\n",
       "    <tr style=\"text-align: right;\">\n",
       "      <th></th>\n",
       "      <th>Freebase movie ID</th>\n",
       "      <th>Movie name</th>\n",
       "      <th>Movie release date</th>\n",
       "      <th>Movie box office revenue</th>\n",
       "      <th>Movie runtime</th>\n",
       "      <th>Movie languages</th>\n",
       "      <th>Movie countries</th>\n",
       "      <th>Movie genres</th>\n",
       "      <th>Plot Summary</th>\n",
       "      <th>fem_pronoun</th>\n",
       "      <th>masc_pronoun</th>\n",
       "    </tr>\n",
       "    <tr>\n",
       "      <th>Wikipedia movie ID</th>\n",
       "      <th></th>\n",
       "      <th></th>\n",
       "      <th></th>\n",
       "      <th></th>\n",
       "      <th></th>\n",
       "      <th></th>\n",
       "      <th></th>\n",
       "      <th></th>\n",
       "      <th></th>\n",
       "      <th></th>\n",
       "      <th></th>\n",
       "    </tr>\n",
       "  </thead>\n",
       "  <tbody>\n",
       "  </tbody>\n",
       "</table>\n",
       "</div>"
      ],
      "text/plain": [
       "Empty DataFrame\n",
       "Columns: [Freebase movie ID, Movie name, Movie release date, Movie box office revenue, Movie runtime, Movie languages, Movie countries, Movie genres, Plot Summary, fem_pronoun, masc_pronoun]\n",
       "Index: []"
      ]
     },
     "execution_count": 340,
     "metadata": {},
     "output_type": "execute_result"
    }
   ],
   "source": [
    "#split dataset into three parts: before 2007, between 2007 and 2016, and after 2016\n",
    "\n",
    "summaries_before2007 = summaries_with_date[summaries_with_date[\"Movie release date\"] < \"2007-01-01\"]\n",
    "summaries_2007 = summaries_with_date[(summaries_with_date[\"Movie release date\"] >= \"2007-01-01\") & (summaries_with_date[\"Movie release date\"] < \"2016-01-01\") ]\n",
    "summaries_2016 = summaries_with_date[summaries_with_date[\"Movie release date\"] >= \"2016-01-01\"]\n",
    "summaries_2016"
   ]
  },
  {
   "cell_type": "code",
   "execution_count": null,
   "metadata": {},
   "outputs": [
    {
     "name": "stdout",
     "output_type": "stream",
     "text": [
      "The number of summaries before 2007 with feminine pronouns occurence: 4392.0\n",
      "The percentage of summaries before 2007 with feminine pronouns occurence: 76.2367644506162 %\n"
     ]
    }
   ],
   "source": [
    "print('The number of summaries before 2007 with feminine pronouns occurence:', sum(summaries_before2007[\"fem_pronoun\"]))\n",
    "print('The percentage of summaries before 2007 with feminine pronouns occurence:', 100*(sum(summaries_before2007[\"fem_pronoun\"]))/ len(summaries_before2007), \"%\")"
   ]
  },
  {
   "cell_type": "code",
   "execution_count": null,
   "metadata": {},
   "outputs": [
    {
     "name": "stdout",
     "output_type": "stream",
     "text": [
      "The number of summaries before 2007 with masculine pronouns occurence: 5405.0\n",
      "The percentage of summaries before 2007 with masculine pronouns occurence: 93.82051727130707 %\n"
     ]
    }
   ],
   "source": [
    "print('The number of summaries before 2007 with masculine pronouns occurence:', sum(summaries_before2007[\"masc_pronoun\"]))\n",
    "print('The percentage of summaries before 2007 with masculine pronouns occurence:', 100*(sum(summaries_before2007[\"masc_pronoun\"]))/ len(summaries_before2007), \"%\")"
   ]
  },
  {
   "cell_type": "code",
   "execution_count": null,
   "metadata": {},
   "outputs": [
    {
     "name": "stdout",
     "output_type": "stream",
     "text": [
      "The number of summaries after 2007 with feminine pronouns occurence: 1329.0\n",
      "The percentage of summaries after 2007 with feminine pronouns occurence: 78.1305114638448 %\n"
     ]
    }
   ],
   "source": [
    "print('The number of summaries after 2007 with feminine pronouns occurence:', sum(summaries_2007[\"fem_pronoun\"]))\n",
    "print('The percentage of summaries after 2007 with feminine pronouns occurence:', 100*(sum(summaries_2007[\"fem_pronoun\"]))/ len(summaries_2007), \"%\")"
   ]
  },
  {
   "cell_type": "code",
   "execution_count": null,
   "metadata": {},
   "outputs": [
    {
     "name": "stdout",
     "output_type": "stream",
     "text": [
      "The number of summaries after 2007 with masculine pronouns occurence: 1535.0\n",
      "The percentage of summaries after 2007 with masculine pronouns occurence: 90.24103468547914 %\n"
     ]
    }
   ],
   "source": [
    "print('The number of summaries after 2007 with masculine pronouns occurence:', sum(summaries_2007[\"masc_pronoun\"]))\n",
    "print('The percentage of summaries after 2007 with masculine pronouns occurence:', 100*(sum(summaries_2007[\"masc_pronoun\"]))/ len(summaries_2007), \"%\")"
   ]
  },
  {
   "cell_type": "markdown",
   "metadata": {},
   "source": [
    "the dataset does not contain any row after 2016\n",
    "\n",
    "On the period before and after 2007, we see a slight increase in feminine pronouns occurence and a slight decrease in masculine pronouns occurences, always with masculine pronouns mainly used in movies summaries. The subgroups tendencies are aligned with the entire group (it is not a Simpson paradox).\n",
    "\n",
    "These results can not be largely interpreted as the subgroup \"before 2007\" is fifth times larger than the \"after 2007\" subgroup. Results can be biased due to the different number of samples.\n",
    "\n",
    "Find a way to count the number of feminine and masculine pronouns in each summary, compute the mean and the mean difference for both groups. Compare mean number of fem/masc pronouns in function of movies genres. Compare this to length of summary too. (maybe action movies have shorter summaries, and they are also more representative of men population)\n",
    "\n",
    "The next step would be to correlate the masculine and feminine pronouns occurence with certain genres, and see if it matches certain gender stereotypes.\n",
    "\n",
    "In [211]:\n"
   ]
  }
 ],
 "metadata": {
  "kernelspec": {
   "display_name": "Python 3 (ipykernel)",
   "language": "python",
   "name": "python3"
  },
  "language_info": {
   "codemirror_mode": {
    "name": "ipython",
    "version": 3
   },
   "file_extension": ".py",
   "mimetype": "text/x-python",
   "name": "python",
   "nbconvert_exporter": "python",
   "pygments_lexer": "ipython3",
   "version": "3.8.9"
  },
  "vscode": {
   "interpreter": {
    "hash": "31f2aee4e71d21fbe5cf8b01ff0e069b9275f58929596ceb00d14d90e3e16cd6"
   }
  }
 },
 "nbformat": 4,
 "nbformat_minor": 4
}
