{
 "cells": [
  {
   "cell_type": "code",
   "execution_count": 46,
   "metadata": {},
   "outputs": [
    {
     "data": {
      "text/plain": [
       "'\\nFile name: preprocessing.ipynb\\nAuthors: Yasmin El Euch, Aliénor Bénédicte G Hamoir, Clara Rossignol, Guillaume David E. Ryelandt\\nDate created: 04/11/2022\\nDate last modified: 11/11/2022\\nPython version: 3.8.8\\n'"
      ]
     },
     "execution_count": 46,
     "metadata": {},
     "output_type": "execute_result"
    }
   ],
   "source": [
    "'''\n",
    "File name: preprocessing.ipynb\n",
    "Authors: Yasmin El Euch, Aliénor Bénédicte G Hamoir, Clara Rossignol, Guillaume David E. Ryelandt\n",
    "Date created: 04/11/2022\n",
    "Date last modified: 11/11/2022\n",
    "Python version: 3.8.8\n",
    "'''"
   ]
  },
  {
   "cell_type": "markdown",
   "metadata": {},
   "source": [
    "# Gender gap in the film industry\n",
    "Our goal here is to analyze the evolution of sexism and women discrimination in the film industry with time. \n",
    "With the #MeToo movement in 2017 (it first started in 2007 but made less noise), we expect a positive evolution in the gender gap, in the movie industry and else where. Did the MeToo movement really impact the situation? We could compare the data before 2007, between 2007 and 2016, and after 2017 to see if the different steps of the movement made things change.\n",
    "\n",
    "In order to evaluate the gender gap in the film industry, we will have a look at 3 different axis.\n",
    "First, we'll check the financial aspect, trying to correlate the numbers to discrimination (while being careful to confounders). We'll have a look at the box office revenues and we will try to find the salaries of actors.\n",
    "Secondly, we will analyze the evolution of the types of roles attributed to women, to see if there is an improvement in this sense to diminish the gender gap. To do so, we will look at textual data with NLP libraires (i.e. we will treat the summaries) through topic detection, sentiment analysis, feminine pronouns occurences, ... to extract information on the type of roles and the types of representation of women in movies. The importance of the role will also be evaluated. Tropes and stereotypes will be analyzed too, from the adequate dataset, and put into relation with the summaries."
   ]
  },
  {
   "cell_type": "markdown",
   "metadata": {},
   "source": [
    "## Table of contents\n",
    "\n",
    "0. [General Information](#GI)\\\n",
    "        A. [Folder structure](#Folder)\\\n",
    "        B. [Imports](#Imports)\\\n",
    "        C. [Paths](#Paths)\n",
    "</br> \n",
    "1. [Step 1: Data scraping, pre-processing and dataset construction](#Step-1)\\\n",
    "        A. \n",
    "</br> "
   ]
  },
  {
   "cell_type": "markdown",
   "metadata": {},
   "source": [
    "---\n",
    "## General Information <a id=\"GI\"> </a> "
   ]
  },
  {
   "cell_type": "markdown",
   "metadata": {},
   "source": [
    "### Folder structure <a id=\"Folder\"> </a>"
   ]
  },
  {
   "cell_type": "markdown",
   "metadata": {},
   "source": [
    "***Files and directories to make this notebook run successfully:***\n",
    "\n",
    "- **data/**\n",
    "    - *character.metadata.tsv*\n",
    "    - *movie.metadata.tsv*\n",
    "    - *name.clusters.txt*\n",
    "    - *plot_summaries.txt*\n",
    "    - *tvtropes.clusters.txt*\n",
    "- *preprocessing.ipynb*\n",
    "\n",
    "Directories are in **bold** and files are in *italic*."
   ]
  },
  {
   "cell_type": "markdown",
   "metadata": {},
   "source": [
    "\n",
    "### Imports <a id=\"Imports\"> </a>"
   ]
  },
  {
   "cell_type": "markdown",
   "metadata": {},
   "source": [
    "***Libraries used:***\n",
    "- python=3.8.12\n",
    "- pandas\n",
    "- datetime\n",
    "- numpy\n",
    "- matplotlib\n",
    "- regex"
   ]
  },
  {
   "cell_type": "code",
   "execution_count": 2,
   "metadata": {},
   "outputs": [],
   "source": [
    "#Imports used in this notebook\n",
    "from datetime import datetime\n",
    "\n",
    "import pandas as pd\n",
    "import numpy as np\n",
    "import matplotlib.pyplot as plt\n",
    "import re"
   ]
  },
  {
   "cell_type": "markdown",
   "metadata": {},
   "source": [
    "\n",
    "### Paths <a id=\"Paths\"> </a>"
   ]
  },
  {
   "cell_type": "markdown",
   "metadata": {},
   "source": [
    "Required to adapt those path to local file organization"
   ]
  },
  {
   "cell_type": "code",
   "execution_count": 3,
   "metadata": {},
   "outputs": [],
   "source": [
    "### PATHs for dataset:\n",
    "PATH_DATA = 'data/'\n",
    "PATH_MOVIE_METADATA = PATH_DATA+'movie.metadata.tsv'\n",
    "PATH_PLOT_SUMMARY = PATH_DATA+'plot_summaries.txt'\n",
    "PATH_CHARACTER_METADATA = PATH_DATA+'character.metadata.tsv'"
   ]
  },
  {
   "cell_type": "markdown",
   "metadata": {},
   "source": [
    "---\n",
    "## **Step 1: Data scraping, pre-processing and dataset construction** <a id=\"Step-1\"> </a>"
   ]
  },
  {
   "cell_type": "code",
   "execution_count": 4,
   "metadata": {},
   "outputs": [
    {
     "name": "stdout",
     "output_type": "stream",
     "text": [
      "Reading in movie data\n"
     ]
    }
   ],
   "source": [
    "print(\"Reading in movie data\")\n",
    "\n",
    "#Read in movie metadata, plot summaries, and character metadata.\n",
    "movie_headers = ['Wikipedia movie ID', 'Freebase movie ID', 'Movie name','Movie release date','Movie box office revenue',\n",
    "                 'Movie runtime','Movie languages','Movie countries','Movie genres']\n",
    "plot_headers = ['Wikipedia movie ID','Plot Summary']\n",
    "character_headers = ['Wikipedia movie ID', 'Freebase movie ID','Movie release date','Character name','Actor date of birth',\n",
    "                     'Actor gender','Actor height','Actor ethnicity','Actor name','Actor age at movie release',\n",
    "                     'Freebase character/actor map ID','Freebase character ID','Freebase actor ID']\n",
    "\n",
    "movie_metadata = pd.read_csv(PATH_MOVIE_METADATA,sep='\\t',header=None,names=movie_headers,index_col=0)\n",
    "plot_summaries = pd.read_csv(PATH_PLOT_SUMMARY,sep='\\t',index_col=0,names=plot_headers)\n",
    "character_metadata = pd.read_csv(PATH_CHARACTER_METADATA,sep='\\t',header=None,names=character_headers,index_col='Wikipedia movie ID')"
   ]
  },
  {
   "cell_type": "code",
   "execution_count": 5,
   "metadata": {},
   "outputs": [
    {
     "data": {
      "text/html": [
       "<div>\n",
       "<style scoped>\n",
       "    .dataframe tbody tr th:only-of-type {\n",
       "        vertical-align: middle;\n",
       "    }\n",
       "\n",
       "    .dataframe tbody tr th {\n",
       "        vertical-align: top;\n",
       "    }\n",
       "\n",
       "    .dataframe thead th {\n",
       "        text-align: right;\n",
       "    }\n",
       "</style>\n",
       "<table border=\"1\" class=\"dataframe\">\n",
       "  <thead>\n",
       "    <tr style=\"text-align: right;\">\n",
       "      <th></th>\n",
       "      <th>Freebase movie ID</th>\n",
       "      <th>Movie name</th>\n",
       "      <th>Movie release date</th>\n",
       "      <th>Movie box office revenue</th>\n",
       "      <th>Movie runtime</th>\n",
       "      <th>Movie languages</th>\n",
       "      <th>Movie countries</th>\n",
       "      <th>Movie genres</th>\n",
       "    </tr>\n",
       "    <tr>\n",
       "      <th>Wikipedia movie ID</th>\n",
       "      <th></th>\n",
       "      <th></th>\n",
       "      <th></th>\n",
       "      <th></th>\n",
       "      <th></th>\n",
       "      <th></th>\n",
       "      <th></th>\n",
       "      <th></th>\n",
       "    </tr>\n",
       "  </thead>\n",
       "  <tbody>\n",
       "    <tr>\n",
       "      <th>975900</th>\n",
       "      <td>/m/03vyhn</td>\n",
       "      <td>Ghosts of Mars</td>\n",
       "      <td>2001-08-24</td>\n",
       "      <td>14010832.0</td>\n",
       "      <td>98.0</td>\n",
       "      <td>{\"/m/02h40lc\": \"English Language\"}</td>\n",
       "      <td>{\"/m/09c7w0\": \"United States of America\"}</td>\n",
       "      <td>{\"/m/01jfsb\": \"Thriller\", \"/m/06n90\": \"Science...</td>\n",
       "    </tr>\n",
       "    <tr>\n",
       "      <th>3196793</th>\n",
       "      <td>/m/08yl5d</td>\n",
       "      <td>Getting Away with Murder: The JonBenét Ramsey ...</td>\n",
       "      <td>2000-02-16</td>\n",
       "      <td>NaN</td>\n",
       "      <td>95.0</td>\n",
       "      <td>{\"/m/02h40lc\": \"English Language\"}</td>\n",
       "      <td>{\"/m/09c7w0\": \"United States of America\"}</td>\n",
       "      <td>{\"/m/02n4kr\": \"Mystery\", \"/m/03bxz7\": \"Biograp...</td>\n",
       "    </tr>\n",
       "    <tr>\n",
       "      <th>28463795</th>\n",
       "      <td>/m/0crgdbh</td>\n",
       "      <td>Brun bitter</td>\n",
       "      <td>1988</td>\n",
       "      <td>NaN</td>\n",
       "      <td>83.0</td>\n",
       "      <td>{\"/m/05f_3\": \"Norwegian Language\"}</td>\n",
       "      <td>{\"/m/05b4w\": \"Norway\"}</td>\n",
       "      <td>{\"/m/0lsxr\": \"Crime Fiction\", \"/m/07s9rl0\": \"D...</td>\n",
       "    </tr>\n",
       "    <tr>\n",
       "      <th>9363483</th>\n",
       "      <td>/m/0285_cd</td>\n",
       "      <td>White Of The Eye</td>\n",
       "      <td>1987</td>\n",
       "      <td>NaN</td>\n",
       "      <td>110.0</td>\n",
       "      <td>{\"/m/02h40lc\": \"English Language\"}</td>\n",
       "      <td>{\"/m/07ssc\": \"United Kingdom\"}</td>\n",
       "      <td>{\"/m/01jfsb\": \"Thriller\", \"/m/0glj9q\": \"Erotic...</td>\n",
       "    </tr>\n",
       "    <tr>\n",
       "      <th>261236</th>\n",
       "      <td>/m/01mrr1</td>\n",
       "      <td>A Woman in Flames</td>\n",
       "      <td>1983</td>\n",
       "      <td>NaN</td>\n",
       "      <td>106.0</td>\n",
       "      <td>{\"/m/04306rv\": \"German Language\"}</td>\n",
       "      <td>{\"/m/0345h\": \"Germany\"}</td>\n",
       "      <td>{\"/m/07s9rl0\": \"Drama\"}</td>\n",
       "    </tr>\n",
       "  </tbody>\n",
       "</table>\n",
       "</div>"
      ],
      "text/plain": [
       "                   Freebase movie ID  \\\n",
       "Wikipedia movie ID                     \n",
       "975900                     /m/03vyhn   \n",
       "3196793                    /m/08yl5d   \n",
       "28463795                  /m/0crgdbh   \n",
       "9363483                   /m/0285_cd   \n",
       "261236                     /m/01mrr1   \n",
       "\n",
       "                                                           Movie name  \\\n",
       "Wikipedia movie ID                                                      \n",
       "975900                                                 Ghosts of Mars   \n",
       "3196793             Getting Away with Murder: The JonBenét Ramsey ...   \n",
       "28463795                                                  Brun bitter   \n",
       "9363483                                              White Of The Eye   \n",
       "261236                                              A Woman in Flames   \n",
       "\n",
       "                   Movie release date  Movie box office revenue  \\\n",
       "Wikipedia movie ID                                                \n",
       "975900                     2001-08-24                14010832.0   \n",
       "3196793                    2000-02-16                       NaN   \n",
       "28463795                         1988                       NaN   \n",
       "9363483                          1987                       NaN   \n",
       "261236                           1983                       NaN   \n",
       "\n",
       "                    Movie runtime                     Movie languages  \\\n",
       "Wikipedia movie ID                                                      \n",
       "975900                       98.0  {\"/m/02h40lc\": \"English Language\"}   \n",
       "3196793                      95.0  {\"/m/02h40lc\": \"English Language\"}   \n",
       "28463795                     83.0  {\"/m/05f_3\": \"Norwegian Language\"}   \n",
       "9363483                     110.0  {\"/m/02h40lc\": \"English Language\"}   \n",
       "261236                      106.0   {\"/m/04306rv\": \"German Language\"}   \n",
       "\n",
       "                                              Movie countries  \\\n",
       "Wikipedia movie ID                                              \n",
       "975900              {\"/m/09c7w0\": \"United States of America\"}   \n",
       "3196793             {\"/m/09c7w0\": \"United States of America\"}   \n",
       "28463795                               {\"/m/05b4w\": \"Norway\"}   \n",
       "9363483                        {\"/m/07ssc\": \"United Kingdom\"}   \n",
       "261236                                {\"/m/0345h\": \"Germany\"}   \n",
       "\n",
       "                                                         Movie genres  \n",
       "Wikipedia movie ID                                                     \n",
       "975900              {\"/m/01jfsb\": \"Thriller\", \"/m/06n90\": \"Science...  \n",
       "3196793             {\"/m/02n4kr\": \"Mystery\", \"/m/03bxz7\": \"Biograp...  \n",
       "28463795            {\"/m/0lsxr\": \"Crime Fiction\", \"/m/07s9rl0\": \"D...  \n",
       "9363483             {\"/m/01jfsb\": \"Thriller\", \"/m/0glj9q\": \"Erotic...  \n",
       "261236                                        {\"/m/07s9rl0\": \"Drama\"}  "
      ]
     },
     "execution_count": 5,
     "metadata": {},
     "output_type": "execute_result"
    }
   ],
   "source": [
    "movie_metadata.head()"
   ]
  },
  {
   "cell_type": "code",
   "execution_count": 6,
   "metadata": {},
   "outputs": [
    {
     "data": {
      "text/plain": [
       "True"
      ]
     },
     "execution_count": 6,
     "metadata": {},
     "output_type": "execute_result"
    }
   ],
   "source": [
    "movie_metadata.index.is_unique"
   ]
  },
  {
   "cell_type": "code",
   "execution_count": 7,
   "metadata": {},
   "outputs": [
    {
     "name": "stdout",
     "output_type": "stream",
     "text": [
      "Sum of NaN in each feature of the movie.metadata dataset: \n"
     ]
    },
    {
     "data": {
      "text/plain": [
       "Freebase movie ID               0\n",
       "Movie name                      0\n",
       "Movie release date           6902\n",
       "Movie box office revenue    73340\n",
       "Movie runtime               20450\n",
       "Movie languages                 0\n",
       "Movie countries                 0\n",
       "Movie genres                    0\n",
       "dtype: int64"
      ]
     },
     "execution_count": 7,
     "metadata": {},
     "output_type": "execute_result"
    }
   ],
   "source": [
    "print('Sum of NaN in each feature of the movie.metadata dataset: ')\n",
    "movie_metadata.isna().sum(axis = 0)"
   ]
  },
  {
   "cell_type": "code",
   "execution_count": 8,
   "metadata": {},
   "outputs": [
    {
     "data": {
      "text/plain": [
       "Freebase movie ID           False\n",
       "Movie name                  False\n",
       "Movie release date           True\n",
       "Movie box office revenue     True\n",
       "Movie runtime                True\n",
       "Movie languages             False\n",
       "Movie countries             False\n",
       "Movie genres                False\n",
       "dtype: bool"
      ]
     },
     "execution_count": 8,
     "metadata": {},
     "output_type": "execute_result"
    }
   ],
   "source": [
    "movie_metadata.isna().any()"
   ]
  },
  {
   "cell_type": "code",
   "execution_count": 15,
   "metadata": {},
   "outputs": [
    {
     "name": "stdout",
     "output_type": "stream",
     "text": [
      "Percentage of missing entries in the movie.metadata dataset:\n",
      " Movie release date           8.443743\n",
      "Movie box office revenue    89.722416\n",
      "Movie runtime               25.018045\n",
      "dtype: float64\n"
     ]
    }
   ],
   "source": [
    "n_movie = len(movie_metadata)\n",
    "print('Percentage of missing entries in the movie.metadata dataset:\\n', 100*movie_metadata[['Movie release date', 'Movie box office revenue', 'Movie runtime']].isna().sum() / n_movie)"
   ]
  },
  {
   "cell_type": "markdown",
   "metadata": {},
   "source": [
    "We are missing a lot of the data on the movie box office revenue. Maybe we should try and find those missing informations in another dataset as this could be helpful in our analysis."
   ]
  },
  {
   "cell_type": "code",
   "execution_count": 16,
   "metadata": {},
   "outputs": [
    {
     "data": {
      "text/html": [
       "<div>\n",
       "<style scoped>\n",
       "    .dataframe tbody tr th:only-of-type {\n",
       "        vertical-align: middle;\n",
       "    }\n",
       "\n",
       "    .dataframe tbody tr th {\n",
       "        vertical-align: top;\n",
       "    }\n",
       "\n",
       "    .dataframe thead th {\n",
       "        text-align: right;\n",
       "    }\n",
       "</style>\n",
       "<table border=\"1\" class=\"dataframe\">\n",
       "  <thead>\n",
       "    <tr style=\"text-align: right;\">\n",
       "      <th></th>\n",
       "      <th>Plot Summary</th>\n",
       "    </tr>\n",
       "    <tr>\n",
       "      <th>Wikipedia movie ID</th>\n",
       "      <th></th>\n",
       "    </tr>\n",
       "  </thead>\n",
       "  <tbody>\n",
       "    <tr>\n",
       "      <th>23890098</th>\n",
       "      <td>Shlykov, a hard-working taxi driver and Lyosha...</td>\n",
       "    </tr>\n",
       "    <tr>\n",
       "      <th>31186339</th>\n",
       "      <td>The nation of Panem consists of a wealthy Capi...</td>\n",
       "    </tr>\n",
       "    <tr>\n",
       "      <th>20663735</th>\n",
       "      <td>Poovalli Induchoodan  is sentenced for six yea...</td>\n",
       "    </tr>\n",
       "    <tr>\n",
       "      <th>2231378</th>\n",
       "      <td>The Lemon Drop Kid , a New York City swindler,...</td>\n",
       "    </tr>\n",
       "    <tr>\n",
       "      <th>595909</th>\n",
       "      <td>Seventh-day Adventist Church pastor Michael Ch...</td>\n",
       "    </tr>\n",
       "  </tbody>\n",
       "</table>\n",
       "</div>"
      ],
      "text/plain": [
       "                                                         Plot Summary\n",
       "Wikipedia movie ID                                                   \n",
       "23890098            Shlykov, a hard-working taxi driver and Lyosha...\n",
       "31186339            The nation of Panem consists of a wealthy Capi...\n",
       "20663735            Poovalli Induchoodan  is sentenced for six yea...\n",
       "2231378             The Lemon Drop Kid , a New York City swindler,...\n",
       "595909              Seventh-day Adventist Church pastor Michael Ch..."
      ]
     },
     "execution_count": 16,
     "metadata": {},
     "output_type": "execute_result"
    }
   ],
   "source": [
    "plot_summaries.head()"
   ]
  },
  {
   "cell_type": "code",
   "execution_count": 17,
   "metadata": {},
   "outputs": [
    {
     "data": {
      "text/plain": [
       "True"
      ]
     },
     "execution_count": 17,
     "metadata": {},
     "output_type": "execute_result"
    }
   ],
   "source": [
    "plot_summaries.index.is_unique"
   ]
  },
  {
   "cell_type": "code",
   "execution_count": 18,
   "metadata": {},
   "outputs": [
    {
     "name": "stdout",
     "output_type": "stream",
     "text": [
      "Sum of NaN in each feature : \n"
     ]
    },
    {
     "data": {
      "text/plain": [
       "Plot Summary    0\n",
       "dtype: int64"
      ]
     },
     "execution_count": 18,
     "metadata": {},
     "output_type": "execute_result"
    }
   ],
   "source": [
    "print('Sum of NaN in each feature : ')\n",
    "plot_summaries.isna().sum(axis = 0)"
   ]
  },
  {
   "cell_type": "code",
   "execution_count": 19,
   "metadata": {},
   "outputs": [
    {
     "data": {
      "text/html": [
       "<div>\n",
       "<style scoped>\n",
       "    .dataframe tbody tr th:only-of-type {\n",
       "        vertical-align: middle;\n",
       "    }\n",
       "\n",
       "    .dataframe tbody tr th {\n",
       "        vertical-align: top;\n",
       "    }\n",
       "\n",
       "    .dataframe thead th {\n",
       "        text-align: right;\n",
       "    }\n",
       "</style>\n",
       "<table border=\"1\" class=\"dataframe\">\n",
       "  <thead>\n",
       "    <tr style=\"text-align: right;\">\n",
       "      <th></th>\n",
       "      <th>Freebase movie ID</th>\n",
       "      <th>Movie release date</th>\n",
       "      <th>Character name</th>\n",
       "      <th>Actor date of birth</th>\n",
       "      <th>Actor gender</th>\n",
       "      <th>Actor height</th>\n",
       "      <th>Actor ethnicity</th>\n",
       "      <th>Actor name</th>\n",
       "      <th>Actor age at movie release</th>\n",
       "      <th>Freebase character/actor map ID</th>\n",
       "      <th>Freebase character ID</th>\n",
       "      <th>Freebase actor ID</th>\n",
       "    </tr>\n",
       "    <tr>\n",
       "      <th>Wikipedia movie ID</th>\n",
       "      <th></th>\n",
       "      <th></th>\n",
       "      <th></th>\n",
       "      <th></th>\n",
       "      <th></th>\n",
       "      <th></th>\n",
       "      <th></th>\n",
       "      <th></th>\n",
       "      <th></th>\n",
       "      <th></th>\n",
       "      <th></th>\n",
       "      <th></th>\n",
       "    </tr>\n",
       "  </thead>\n",
       "  <tbody>\n",
       "    <tr>\n",
       "      <th>975900</th>\n",
       "      <td>/m/03vyhn</td>\n",
       "      <td>2001-08-24</td>\n",
       "      <td>Akooshay</td>\n",
       "      <td>1958-08-26</td>\n",
       "      <td>F</td>\n",
       "      <td>1.620</td>\n",
       "      <td>NaN</td>\n",
       "      <td>Wanda De Jesus</td>\n",
       "      <td>42.0</td>\n",
       "      <td>/m/0bgchxw</td>\n",
       "      <td>/m/0bgcj3x</td>\n",
       "      <td>/m/03wcfv7</td>\n",
       "    </tr>\n",
       "    <tr>\n",
       "      <th>975900</th>\n",
       "      <td>/m/03vyhn</td>\n",
       "      <td>2001-08-24</td>\n",
       "      <td>Lieutenant Melanie Ballard</td>\n",
       "      <td>1974-08-15</td>\n",
       "      <td>F</td>\n",
       "      <td>1.780</td>\n",
       "      <td>/m/044038p</td>\n",
       "      <td>Natasha Henstridge</td>\n",
       "      <td>27.0</td>\n",
       "      <td>/m/0jys3m</td>\n",
       "      <td>/m/0bgchn4</td>\n",
       "      <td>/m/0346l4</td>\n",
       "    </tr>\n",
       "    <tr>\n",
       "      <th>975900</th>\n",
       "      <td>/m/03vyhn</td>\n",
       "      <td>2001-08-24</td>\n",
       "      <td>Desolation Williams</td>\n",
       "      <td>1969-06-15</td>\n",
       "      <td>M</td>\n",
       "      <td>1.727</td>\n",
       "      <td>/m/0x67</td>\n",
       "      <td>Ice Cube</td>\n",
       "      <td>32.0</td>\n",
       "      <td>/m/0jys3g</td>\n",
       "      <td>/m/0bgchn_</td>\n",
       "      <td>/m/01vw26l</td>\n",
       "    </tr>\n",
       "    <tr>\n",
       "      <th>975900</th>\n",
       "      <td>/m/03vyhn</td>\n",
       "      <td>2001-08-24</td>\n",
       "      <td>Sgt Jericho Butler</td>\n",
       "      <td>1967-09-12</td>\n",
       "      <td>M</td>\n",
       "      <td>1.750</td>\n",
       "      <td>NaN</td>\n",
       "      <td>Jason Statham</td>\n",
       "      <td>33.0</td>\n",
       "      <td>/m/02vchl6</td>\n",
       "      <td>/m/0bgchnq</td>\n",
       "      <td>/m/034hyc</td>\n",
       "    </tr>\n",
       "    <tr>\n",
       "      <th>975900</th>\n",
       "      <td>/m/03vyhn</td>\n",
       "      <td>2001-08-24</td>\n",
       "      <td>Bashira Kincaid</td>\n",
       "      <td>1977-09-25</td>\n",
       "      <td>F</td>\n",
       "      <td>1.650</td>\n",
       "      <td>NaN</td>\n",
       "      <td>Clea DuVall</td>\n",
       "      <td>23.0</td>\n",
       "      <td>/m/02vbb3r</td>\n",
       "      <td>/m/0bgchp9</td>\n",
       "      <td>/m/01y9xg</td>\n",
       "    </tr>\n",
       "  </tbody>\n",
       "</table>\n",
       "</div>"
      ],
      "text/plain": [
       "                   Freebase movie ID Movie release date  \\\n",
       "Wikipedia movie ID                                        \n",
       "975900                     /m/03vyhn         2001-08-24   \n",
       "975900                     /m/03vyhn         2001-08-24   \n",
       "975900                     /m/03vyhn         2001-08-24   \n",
       "975900                     /m/03vyhn         2001-08-24   \n",
       "975900                     /m/03vyhn         2001-08-24   \n",
       "\n",
       "                                Character name Actor date of birth  \\\n",
       "Wikipedia movie ID                                                   \n",
       "975900                                Akooshay          1958-08-26   \n",
       "975900              Lieutenant Melanie Ballard          1974-08-15   \n",
       "975900                     Desolation Williams          1969-06-15   \n",
       "975900                      Sgt Jericho Butler          1967-09-12   \n",
       "975900                         Bashira Kincaid          1977-09-25   \n",
       "\n",
       "                   Actor gender  Actor height Actor ethnicity  \\\n",
       "Wikipedia movie ID                                              \n",
       "975900                        F         1.620             NaN   \n",
       "975900                        F         1.780      /m/044038p   \n",
       "975900                        M         1.727         /m/0x67   \n",
       "975900                        M         1.750             NaN   \n",
       "975900                        F         1.650             NaN   \n",
       "\n",
       "                            Actor name  Actor age at movie release  \\\n",
       "Wikipedia movie ID                                                   \n",
       "975900                  Wanda De Jesus                        42.0   \n",
       "975900              Natasha Henstridge                        27.0   \n",
       "975900                        Ice Cube                        32.0   \n",
       "975900                   Jason Statham                        33.0   \n",
       "975900                     Clea DuVall                        23.0   \n",
       "\n",
       "                   Freebase character/actor map ID Freebase character ID  \\\n",
       "Wikipedia movie ID                                                         \n",
       "975900                                  /m/0bgchxw            /m/0bgcj3x   \n",
       "975900                                   /m/0jys3m            /m/0bgchn4   \n",
       "975900                                   /m/0jys3g            /m/0bgchn_   \n",
       "975900                                  /m/02vchl6            /m/0bgchnq   \n",
       "975900                                  /m/02vbb3r            /m/0bgchp9   \n",
       "\n",
       "                   Freebase actor ID  \n",
       "Wikipedia movie ID                    \n",
       "975900                    /m/03wcfv7  \n",
       "975900                     /m/0346l4  \n",
       "975900                    /m/01vw26l  \n",
       "975900                     /m/034hyc  \n",
       "975900                     /m/01y9xg  "
      ]
     },
     "execution_count": 19,
     "metadata": {},
     "output_type": "execute_result"
    }
   ],
   "source": [
    "character_metadata.head()"
   ]
  },
  {
   "cell_type": "code",
   "execution_count": 20,
   "metadata": {},
   "outputs": [
    {
     "data": {
      "text/plain": [
       "Freebase movie ID                  False\n",
       "Movie release date                  True\n",
       "Character name                      True\n",
       "Actor date of birth                 True\n",
       "Actor gender                        True\n",
       "Actor height                        True\n",
       "Actor ethnicity                     True\n",
       "Actor name                          True\n",
       "Actor age at movie release          True\n",
       "Freebase character/actor map ID    False\n",
       "Freebase character ID               True\n",
       "Freebase actor ID                   True\n",
       "dtype: bool"
      ]
     },
     "execution_count": 20,
     "metadata": {},
     "output_type": "execute_result"
    }
   ],
   "source": [
    "character_metadata.isna().any()"
   ]
  },
  {
   "cell_type": "code",
   "execution_count": 21,
   "metadata": {},
   "outputs": [
    {
     "name": "stdout",
     "output_type": "stream",
     "text": [
      "Sum of NaN in each feature of the character.metadata dataset: \n"
     ]
    },
    {
     "data": {
      "text/plain": [
       "Freebase movie ID                       0\n",
       "Movie release date                   9995\n",
       "Character name                     257875\n",
       "Actor date of birth                106145\n",
       "Actor gender                        45609\n",
       "Actor height                       295845\n",
       "Actor ethnicity                    344611\n",
       "Actor name                           1228\n",
       "Actor age at movie release         158113\n",
       "Freebase character/actor map ID         0\n",
       "Freebase character ID              257865\n",
       "Freebase actor ID                     815\n",
       "dtype: int64"
      ]
     },
     "execution_count": 21,
     "metadata": {},
     "output_type": "execute_result"
    }
   ],
   "source": [
    "print('Sum of NaN in each feature of the character.metadata dataset: ')\n",
    "character_metadata.isna().sum(axis = 0)"
   ]
  },
  {
   "cell_type": "code",
   "execution_count": 22,
   "metadata": {},
   "outputs": [
    {
     "name": "stdout",
     "output_type": "stream",
     "text": [
      "Percentage of missing entries in the character.metadata dataset:\n",
      " Freebase movie ID              0.000000\n",
      "Movie release date             2.217814\n",
      "Character name                57.220488\n",
      "Actor date of birth           23.552763\n",
      "Actor gender                  10.120288\n",
      "Actor height                  65.645740\n",
      "Actor ethnicity               76.466542\n",
      "Actor name                     0.272484\n",
      "Actor age at movie release    35.084064\n",
      "Freebase character ID         57.218269\n",
      "Freebase actor ID              0.180842\n",
      "dtype: float64\n"
     ]
    }
   ],
   "source": [
    "n_char = len(character_metadata)\n",
    "print('Percentage of missing entries in the character.metadata dataset:\\n', 100*character_metadata[['Freebase movie ID', 'Movie release date', 'Character name',\n",
    "                                                                                   'Actor date of birth', 'Actor gender', 'Actor height', 'Actor ethnicity',\n",
    "                                                                                   'Actor name', 'Actor age at movie release', 'Freebase character ID',\n",
    "                                                                                   'Freebase actor ID']].isna().sum() / n_char)"
   ]
  },
  {
   "cell_type": "markdown",
   "metadata": {},
   "source": [
    "We are missing a lot of data on actor's and actresses' ethnicities and their heights. This should not affect our analysis a we did not plan on using these features initially."
   ]
  },
  {
   "cell_type": "code",
   "execution_count": 23,
   "metadata": {},
   "outputs": [
    {
     "name": "stdout",
     "output_type": "stream",
     "text": [
      "Movies with biggest box office revenues:\n"
     ]
    },
    {
     "data": {
      "text/html": [
       "<div>\n",
       "<style scoped>\n",
       "    .dataframe tbody tr th:only-of-type {\n",
       "        vertical-align: middle;\n",
       "    }\n",
       "\n",
       "    .dataframe tbody tr th {\n",
       "        vertical-align: top;\n",
       "    }\n",
       "\n",
       "    .dataframe thead th {\n",
       "        text-align: right;\n",
       "    }\n",
       "</style>\n",
       "<table border=\"1\" class=\"dataframe\">\n",
       "  <thead>\n",
       "    <tr style=\"text-align: right;\">\n",
       "      <th></th>\n",
       "      <th>Freebase movie ID</th>\n",
       "      <th>Movie name</th>\n",
       "      <th>Movie release date</th>\n",
       "      <th>Movie box office revenue</th>\n",
       "      <th>Movie runtime</th>\n",
       "      <th>Movie languages</th>\n",
       "      <th>Movie countries</th>\n",
       "      <th>Movie genres</th>\n",
       "    </tr>\n",
       "    <tr>\n",
       "      <th>Wikipedia movie ID</th>\n",
       "      <th></th>\n",
       "      <th></th>\n",
       "      <th></th>\n",
       "      <th></th>\n",
       "      <th></th>\n",
       "      <th></th>\n",
       "      <th></th>\n",
       "      <th></th>\n",
       "    </tr>\n",
       "  </thead>\n",
       "  <tbody>\n",
       "    <tr>\n",
       "      <th>4273140</th>\n",
       "      <td>/m/0bth54</td>\n",
       "      <td>Avatar</td>\n",
       "      <td>2009-12-10</td>\n",
       "      <td>2.782275e+09</td>\n",
       "      <td>178.0</td>\n",
       "      <td>{\"/m/02h40lc\": \"English Language\", \"/m/06nm1\":...</td>\n",
       "      <td>{\"/m/09c7w0\": \"United States of America\", \"/m/...</td>\n",
       "      <td>{\"/m/01jfsb\": \"Thriller\", \"/m/06n90\": \"Science...</td>\n",
       "    </tr>\n",
       "    <tr>\n",
       "      <th>52371</th>\n",
       "      <td>/m/0dr_4</td>\n",
       "      <td>Titanic</td>\n",
       "      <td>1997-11-01</td>\n",
       "      <td>2.185372e+09</td>\n",
       "      <td>194.0</td>\n",
       "      <td>{\"/m/02bjrlw\": \"Italian Language\", \"/m/02h40lc...</td>\n",
       "      <td>{\"/m/09c7w0\": \"United States of America\"}</td>\n",
       "      <td>{\"/m/0fx2s\": \"Tragedy\", \"/m/04xvh5\": \"Costume ...</td>\n",
       "    </tr>\n",
       "    <tr>\n",
       "      <th>22114132</th>\n",
       "      <td>/m/062zm5h</td>\n",
       "      <td>The Avengers</td>\n",
       "      <td>2012-04-11</td>\n",
       "      <td>1.511758e+09</td>\n",
       "      <td>137.0</td>\n",
       "      <td>{\"/m/06b_j\": \"Russian Language\", \"/m/02h40lc\":...</td>\n",
       "      <td>{\"/m/09c7w0\": \"United States of America\"}</td>\n",
       "      <td>{\"/m/06n90\": \"Science Fiction\", \"/m/02kdv5l\": ...</td>\n",
       "    </tr>\n",
       "    <tr>\n",
       "      <th>31941988</th>\n",
       "      <td>/m/0gvsynb</td>\n",
       "      <td>Harry Potter and the Deathly Hallows – Part 2</td>\n",
       "      <td>2011-07-07</td>\n",
       "      <td>1.328111e+09</td>\n",
       "      <td>130.0</td>\n",
       "      <td>{\"/m/02h40lc\": \"English Language\"}</td>\n",
       "      <td>{\"/m/09c7w0\": \"United States of America\", \"/m/...</td>\n",
       "      <td>{\"/m/07s9rl0\": \"Drama\", \"/m/02n4kr\": \"Mystery\"...</td>\n",
       "    </tr>\n",
       "    <tr>\n",
       "      <th>25001260</th>\n",
       "      <td>/m/0872p_c</td>\n",
       "      <td>Transformers: Dark of the Moon</td>\n",
       "      <td>2011-06-23</td>\n",
       "      <td>1.123747e+09</td>\n",
       "      <td>157.0</td>\n",
       "      <td>{\"/m/02h40lc\": \"English Language\"}</td>\n",
       "      <td>{\"/m/09c7w0\": \"United States of America\"}</td>\n",
       "      <td>{\"/m/0hj3mt0\": \"Alien Film\", \"/m/06n90\": \"Scie...</td>\n",
       "    </tr>\n",
       "  </tbody>\n",
       "</table>\n",
       "</div>"
      ],
      "text/plain": [
       "                   Freebase movie ID  \\\n",
       "Wikipedia movie ID                     \n",
       "4273140                    /m/0bth54   \n",
       "52371                       /m/0dr_4   \n",
       "22114132                  /m/062zm5h   \n",
       "31941988                  /m/0gvsynb   \n",
       "25001260                  /m/0872p_c   \n",
       "\n",
       "                                                       Movie name  \\\n",
       "Wikipedia movie ID                                                  \n",
       "4273140                                                    Avatar   \n",
       "52371                                                     Titanic   \n",
       "22114132                                             The Avengers   \n",
       "31941988            Harry Potter and the Deathly Hallows – Part 2   \n",
       "25001260                           Transformers: Dark of the Moon   \n",
       "\n",
       "                   Movie release date  Movie box office revenue  \\\n",
       "Wikipedia movie ID                                                \n",
       "4273140                    2009-12-10              2.782275e+09   \n",
       "52371                      1997-11-01              2.185372e+09   \n",
       "22114132                   2012-04-11              1.511758e+09   \n",
       "31941988                   2011-07-07              1.328111e+09   \n",
       "25001260                   2011-06-23              1.123747e+09   \n",
       "\n",
       "                    Movie runtime  \\\n",
       "Wikipedia movie ID                  \n",
       "4273140                     178.0   \n",
       "52371                       194.0   \n",
       "22114132                    137.0   \n",
       "31941988                    130.0   \n",
       "25001260                    157.0   \n",
       "\n",
       "                                                      Movie languages  \\\n",
       "Wikipedia movie ID                                                      \n",
       "4273140             {\"/m/02h40lc\": \"English Language\", \"/m/06nm1\":...   \n",
       "52371               {\"/m/02bjrlw\": \"Italian Language\", \"/m/02h40lc...   \n",
       "22114132            {\"/m/06b_j\": \"Russian Language\", \"/m/02h40lc\":...   \n",
       "31941988                           {\"/m/02h40lc\": \"English Language\"}   \n",
       "25001260                           {\"/m/02h40lc\": \"English Language\"}   \n",
       "\n",
       "                                                      Movie countries  \\\n",
       "Wikipedia movie ID                                                      \n",
       "4273140             {\"/m/09c7w0\": \"United States of America\", \"/m/...   \n",
       "52371                       {\"/m/09c7w0\": \"United States of America\"}   \n",
       "22114132                    {\"/m/09c7w0\": \"United States of America\"}   \n",
       "31941988            {\"/m/09c7w0\": \"United States of America\", \"/m/...   \n",
       "25001260                    {\"/m/09c7w0\": \"United States of America\"}   \n",
       "\n",
       "                                                         Movie genres  \n",
       "Wikipedia movie ID                                                     \n",
       "4273140             {\"/m/01jfsb\": \"Thriller\", \"/m/06n90\": \"Science...  \n",
       "52371               {\"/m/0fx2s\": \"Tragedy\", \"/m/04xvh5\": \"Costume ...  \n",
       "22114132            {\"/m/06n90\": \"Science Fiction\", \"/m/02kdv5l\": ...  \n",
       "31941988            {\"/m/07s9rl0\": \"Drama\", \"/m/02n4kr\": \"Mystery\"...  \n",
       "25001260            {\"/m/0hj3mt0\": \"Alien Film\", \"/m/06n90\": \"Scie...  "
      ]
     },
     "execution_count": 23,
     "metadata": {},
     "output_type": "execute_result"
    }
   ],
   "source": [
    "print(\"Movies with biggest box office revenues:\")\n",
    "movie_metadata.sort_values('Movie box office revenue', ascending = False).head()"
   ]
  },
  {
   "cell_type": "code",
   "execution_count": 24,
   "metadata": {},
   "outputs": [
    {
     "name": "stdout",
     "output_type": "stream",
     "text": [
      "Number of rows in the movie.metadata dataset : 81741\n",
      "Number of rows in the character.metadata dataset : 450669\n"
     ]
    }
   ],
   "source": [
    "n_movie = len(movie_metadata)\n",
    "n_char = len(character_metadata)\n",
    "print('Number of rows in the movie.metadata dataset : %d' %n_movie)\n",
    "print('Number of rows in the character.metadata dataset : %d' %n_char)"
   ]
  },
  {
   "cell_type": "code",
   "execution_count": 25,
   "metadata": {},
   "outputs": [
    {
     "name": "stdout",
     "output_type": "stream",
     "text": [
      "What is needed to be processed in the character metadata dataset:\n",
      "Rows with actor age at movie release under or equal to 0: 433\n",
      "Rows with actor height under or equal to 0: 0\n",
      "Rows with movie runtime under or equal to 0: 1\n"
     ]
    }
   ],
   "source": [
    "print(\"What is needed to be processed in the character metadata dataset:\")\n",
    "print(\"Rows with actor age at movie release under or equal to 0: %d\" %len(character_metadata[character_metadata['Actor age at movie release']<=0]))\n",
    "print(\"Rows with actor height under or equal to 0: %d\" %len(character_metadata[character_metadata['Actor height']<=0]))\n",
    "print(\"Rows with movie runtime under or equal to 0: %d\" %len(movie_metadata[movie_metadata['Movie runtime']<=0]))"
   ]
  },
  {
   "cell_type": "code",
   "execution_count": 26,
   "metadata": {},
   "outputs": [
    {
     "name": "stdout",
     "output_type": "stream",
     "text": [
      "Freebase movie ID has 0 duplicated rows\n",
      "Movie name has 6263 duplicated rows\n",
      "Movie release date has 61351 duplicated rows\n",
      "Movie box office revenue has 74378 duplicated rows\n",
      "Movie runtime has 81143 duplicated rows\n",
      "Movie languages has 79924 duplicated rows\n",
      "Movie countries has 79617 duplicated rows\n",
      "Movie genres has 57924 duplicated rows\n"
     ]
    }
   ],
   "source": [
    "#Looking for duplicates in our datasets\n",
    "for f in movie_metadata.columns:\n",
    "    dupl = movie_metadata[f].duplicated().sum()\n",
    "    print(\"{} has {} duplicated rows\".format(f, dupl))"
   ]
  },
  {
   "cell_type": "code",
   "execution_count": 27,
   "metadata": {},
   "outputs": [
    {
     "data": {
      "text/html": [
       "<div>\n",
       "<style scoped>\n",
       "    .dataframe tbody tr th:only-of-type {\n",
       "        vertical-align: middle;\n",
       "    }\n",
       "\n",
       "    .dataframe tbody tr th {\n",
       "        vertical-align: top;\n",
       "    }\n",
       "\n",
       "    .dataframe thead th {\n",
       "        text-align: right;\n",
       "    }\n",
       "</style>\n",
       "<table border=\"1\" class=\"dataframe\">\n",
       "  <thead>\n",
       "    <tr style=\"text-align: right;\">\n",
       "      <th></th>\n",
       "      <th>Freebase movie ID</th>\n",
       "      <th>Movie name</th>\n",
       "      <th>Movie release date</th>\n",
       "      <th>Movie box office revenue</th>\n",
       "      <th>Movie runtime</th>\n",
       "      <th>Movie languages</th>\n",
       "      <th>Movie countries</th>\n",
       "      <th>Movie genres</th>\n",
       "    </tr>\n",
       "    <tr>\n",
       "      <th>Wikipedia movie ID</th>\n",
       "      <th></th>\n",
       "      <th></th>\n",
       "      <th></th>\n",
       "      <th></th>\n",
       "      <th></th>\n",
       "      <th></th>\n",
       "      <th></th>\n",
       "      <th></th>\n",
       "    </tr>\n",
       "  </thead>\n",
       "  <tbody>\n",
       "    <tr>\n",
       "      <th>29666067</th>\n",
       "      <td>/m/0fphzrf</td>\n",
       "      <td>Hunting Season</td>\n",
       "      <td>1010-12-02</td>\n",
       "      <td>12160978.0</td>\n",
       "      <td>140.0</td>\n",
       "      <td>{\"/m/02hwyss\": \"Turkish Language\", \"/m/02h40lc...</td>\n",
       "      <td>{\"/m/01znc_\": \"Turkey\"}</td>\n",
       "      <td>{\"/m/0lsxr\": \"Crime Fiction\", \"/m/02n4kr\": \"My...</td>\n",
       "    </tr>\n",
       "  </tbody>\n",
       "</table>\n",
       "</div>"
      ],
      "text/plain": [
       "                   Freebase movie ID      Movie name Movie release date  \\\n",
       "Wikipedia movie ID                                                        \n",
       "29666067                  /m/0fphzrf  Hunting Season         1010-12-02   \n",
       "\n",
       "                    Movie box office revenue  Movie runtime  \\\n",
       "Wikipedia movie ID                                            \n",
       "29666067                          12160978.0          140.0   \n",
       "\n",
       "                                                      Movie languages  \\\n",
       "Wikipedia movie ID                                                      \n",
       "29666067            {\"/m/02hwyss\": \"Turkish Language\", \"/m/02h40lc...   \n",
       "\n",
       "                            Movie countries  \\\n",
       "Wikipedia movie ID                            \n",
       "29666067            {\"/m/01znc_\": \"Turkey\"}   \n",
       "\n",
       "                                                         Movie genres  \n",
       "Wikipedia movie ID                                                     \n",
       "29666067            {\"/m/0lsxr\": \"Crime Fiction\", \"/m/02n4kr\": \"My...  "
      ]
     },
     "execution_count": 27,
     "metadata": {},
     "output_type": "execute_result"
    }
   ],
   "source": [
    "movie_metadata[movie_metadata[\"Movie name\"]==\"Hunting Season\"]"
   ]
  },
  {
   "cell_type": "code",
   "execution_count": 28,
   "metadata": {},
   "outputs": [
    {
     "data": {
      "text/plain": [
       "Freebase movie ID            object\n",
       "Movie name                   object\n",
       "Movie release date           object\n",
       "Movie box office revenue    float64\n",
       "Movie runtime               float64\n",
       "Movie languages              object\n",
       "Movie countries              object\n",
       "Movie genres                 object\n",
       "dtype: object"
      ]
     },
     "execution_count": 28,
     "metadata": {},
     "output_type": "execute_result"
    }
   ],
   "source": [
    "movie_metadata.dtypes"
   ]
  },
  {
   "cell_type": "markdown",
   "metadata": {},
   "source": [
    "We can see that the release date of this movie is wrong. 1010-12-02 should be 2010-12-02."
   ]
  },
  {
   "cell_type": "code",
   "execution_count": 29,
   "metadata": {},
   "outputs": [],
   "source": [
    "movie_metadata.loc[movie_metadata['Movie release date'] == '1010-12-02','Movie release date'] = '2010-12-02'"
   ]
  },
  {
   "cell_type": "code",
   "execution_count": 30,
   "metadata": {},
   "outputs": [
    {
     "data": {
      "text/html": [
       "<div>\n",
       "<style scoped>\n",
       "    .dataframe tbody tr th:only-of-type {\n",
       "        vertical-align: middle;\n",
       "    }\n",
       "\n",
       "    .dataframe tbody tr th {\n",
       "        vertical-align: top;\n",
       "    }\n",
       "\n",
       "    .dataframe thead th {\n",
       "        text-align: right;\n",
       "    }\n",
       "</style>\n",
       "<table border=\"1\" class=\"dataframe\">\n",
       "  <thead>\n",
       "    <tr style=\"text-align: right;\">\n",
       "      <th></th>\n",
       "      <th>Freebase movie ID</th>\n",
       "      <th>Movie name</th>\n",
       "      <th>Movie release date</th>\n",
       "      <th>Movie box office revenue</th>\n",
       "      <th>Movie runtime</th>\n",
       "      <th>Movie languages</th>\n",
       "      <th>Movie countries</th>\n",
       "      <th>Movie genres</th>\n",
       "    </tr>\n",
       "    <tr>\n",
       "      <th>Wikipedia movie ID</th>\n",
       "      <th></th>\n",
       "      <th></th>\n",
       "      <th></th>\n",
       "      <th></th>\n",
       "      <th></th>\n",
       "      <th></th>\n",
       "      <th></th>\n",
       "      <th></th>\n",
       "    </tr>\n",
       "  </thead>\n",
       "  <tbody>\n",
       "    <tr>\n",
       "      <th>29666067</th>\n",
       "      <td>/m/0fphzrf</td>\n",
       "      <td>Hunting Season</td>\n",
       "      <td>2010-12-02</td>\n",
       "      <td>12160978.0</td>\n",
       "      <td>140.0</td>\n",
       "      <td>{\"/m/02hwyss\": \"Turkish Language\", \"/m/02h40lc...</td>\n",
       "      <td>{\"/m/01znc_\": \"Turkey\"}</td>\n",
       "      <td>{\"/m/0lsxr\": \"Crime Fiction\", \"/m/02n4kr\": \"My...</td>\n",
       "    </tr>\n",
       "  </tbody>\n",
       "</table>\n",
       "</div>"
      ],
      "text/plain": [
       "                   Freebase movie ID      Movie name Movie release date  \\\n",
       "Wikipedia movie ID                                                        \n",
       "29666067                  /m/0fphzrf  Hunting Season         2010-12-02   \n",
       "\n",
       "                    Movie box office revenue  Movie runtime  \\\n",
       "Wikipedia movie ID                                            \n",
       "29666067                          12160978.0          140.0   \n",
       "\n",
       "                                                      Movie languages  \\\n",
       "Wikipedia movie ID                                                      \n",
       "29666067            {\"/m/02hwyss\": \"Turkish Language\", \"/m/02h40lc...   \n",
       "\n",
       "                            Movie countries  \\\n",
       "Wikipedia movie ID                            \n",
       "29666067            {\"/m/01znc_\": \"Turkey\"}   \n",
       "\n",
       "                                                         Movie genres  \n",
       "Wikipedia movie ID                                                     \n",
       "29666067            {\"/m/0lsxr\": \"Crime Fiction\", \"/m/02n4kr\": \"My...  "
      ]
     },
     "execution_count": 30,
     "metadata": {},
     "output_type": "execute_result"
    }
   ],
   "source": [
    "movie_metadata[movie_metadata[\"Movie name\"]==\"Hunting Season\"]"
   ]
  },
  {
   "cell_type": "code",
   "execution_count": 31,
   "metadata": {},
   "outputs": [
    {
     "data": {
      "text/plain": [
       "\"\\nmovie_metadata['Movie release date'] = pd.to_datetime(movie_metadata['Movie release date'],format='%Y-%m-%d').dt.year\\ncharacter_metadata['Movie release date'] = pd.to_datetime(character_metadata['Movie release date'],format='%Y-%m-%d').dt.year\\ncharacter_metadata['Actor date of birth'] = pd.to_datetime(character_metadata['Actor date of birth'],format='%Y-%m-%d').dt.year\\n\""
      ]
     },
     "execution_count": 31,
     "metadata": {},
     "output_type": "execute_result"
    }
   ],
   "source": [
    "'''\n",
    "movie_metadata['Movie release date'] = pd.to_datetime(movie_metadata['Movie release date'],format='%Y-%m-%d').dt.year\n",
    "character_metadata['Movie release date'] = pd.to_datetime(character_metadata['Movie release date'],format='%Y-%m-%d').dt.year\n",
    "character_metadata['Actor date of birth'] = pd.to_datetime(character_metadata['Actor date of birth'],format='%Y-%m-%d').dt.year\n",
    "'''"
   ]
  },
  {
   "cell_type": "markdown",
   "metadata": {},
   "source": [
    "# Step 2: first analysis of women representation in the film industry - number of actresses vs. actors in the character metadata dataset"
   ]
  },
  {
   "cell_type": "code",
   "execution_count": 47,
   "metadata": {},
   "outputs": [
    {
     "data": {
      "image/png": "[encoded data removed]",
      "text/plain": [
       "<Figure size 432x288 with 1 Axes>"
      ]
     },
     "metadata": {},
     "output_type": "display_data"
    }
   ],
   "source": [
    "fem_act = character_metadata[character_metadata['Actor gender'] == 'F']\n",
    "masc_act = character_metadata[character_metadata['Actor gender'] == 'M']\n",
    "plt.pie(np.array([fem_act['Actor name'].nunique(),masc_act['Actor name'].nunique()]),labels=['women','men'],colors = ['#c2c2f0','#ffb3e6'],autopct='%1.1f%%',shadow=True)\n",
    "plt.title('Percentage of women and men in the character metadata')\n",
    "plt.show()"
   ]
  },
  {
   "cell_type": "code",
   "execution_count": 48,
   "metadata": {},
   "outputs": [],
   "source": [
    "#replace NaN values with 0\n",
    "character_metadata_clean = character_metadata.fillna(0)\n",
    "movie_metadata_clean = movie_metadata.fillna(0)"
   ]
  },
  {
   "cell_type": "code",
   "execution_count": 49,
   "metadata": {},
   "outputs": [
    {
     "data": {
      "text/html": [
       "<div>\n",
       "<style scoped>\n",
       "    .dataframe tbody tr th:only-of-type {\n",
       "        vertical-align: middle;\n",
       "    }\n",
       "\n",
       "    .dataframe tbody tr th {\n",
       "        vertical-align: top;\n",
       "    }\n",
       "\n",
       "    .dataframe thead th {\n",
       "        text-align: right;\n",
       "    }\n",
       "</style>\n",
       "<table border=\"1\" class=\"dataframe\">\n",
       "  <thead>\n",
       "    <tr style=\"text-align: right;\">\n",
       "      <th></th>\n",
       "      <th>Freebase movie ID</th>\n",
       "      <th>Movie name</th>\n",
       "      <th>Movie release date</th>\n",
       "      <th>Movie box office revenue</th>\n",
       "      <th>Movie runtime</th>\n",
       "      <th>Movie languages</th>\n",
       "      <th>Movie countries</th>\n",
       "      <th>Movie genres</th>\n",
       "    </tr>\n",
       "    <tr>\n",
       "      <th>Wikipedia movie ID</th>\n",
       "      <th></th>\n",
       "      <th></th>\n",
       "      <th></th>\n",
       "      <th></th>\n",
       "      <th></th>\n",
       "      <th></th>\n",
       "      <th></th>\n",
       "      <th></th>\n",
       "    </tr>\n",
       "  </thead>\n",
       "  <tbody>\n",
       "    <tr>\n",
       "      <th>21926710</th>\n",
       "      <td>/m/05p45cv</td>\n",
       "      <td>White on Rice</td>\n",
       "      <td>2009-01-01</td>\n",
       "      <td>0.0</td>\n",
       "      <td>82.0</td>\n",
       "      <td>{}</td>\n",
       "      <td>{\"/m/09c7w0\": \"United States of America\"}</td>\n",
       "      <td>{\"/m/06cvj\": \"Romantic comedy\", \"/m/02l7c8\": \"...</td>\n",
       "    </tr>\n",
       "    <tr>\n",
       "      <th>20604092</th>\n",
       "      <td>/m/0523t_1</td>\n",
       "      <td>Anbu Thozhi</td>\n",
       "      <td>2007-08-17</td>\n",
       "      <td>0.0</td>\n",
       "      <td>0.0</td>\n",
       "      <td>{\"/m/07c9s\": \"Tamil Language\"}</td>\n",
       "      <td>{\"/m/03rk0\": \"India\"}</td>\n",
       "      <td>{\"/m/02l7c8\": \"Romance Film\"}</td>\n",
       "    </tr>\n",
       "    <tr>\n",
       "      <th>29772142</th>\n",
       "      <td>/m/0fq260_</td>\n",
       "      <td>Karayilekku Oru Kadal Dooram</td>\n",
       "      <td>2010-12-31</td>\n",
       "      <td>0.0</td>\n",
       "      <td>110.0</td>\n",
       "      <td>{\"/m/0999q\": \"Malayalam Language\"}</td>\n",
       "      <td>{\"/m/03rk0\": \"India\"}</td>\n",
       "      <td>{\"/m/07s9rl0\": \"Drama\"}</td>\n",
       "    </tr>\n",
       "    <tr>\n",
       "      <th>26623942</th>\n",
       "      <td>/m/0bh9fbk</td>\n",
       "      <td>Kausthubham</td>\n",
       "      <td>2010-03-19</td>\n",
       "      <td>0.0</td>\n",
       "      <td>0.0</td>\n",
       "      <td>{\"/m/0999q\": \"Malayalam Language\"}</td>\n",
       "      <td>{\"/m/03rk0\": \"India\"}</td>\n",
       "      <td>{\"/m/07s9rl0\": \"Drama\"}</td>\n",
       "    </tr>\n",
       "    <tr>\n",
       "      <th>32445576</th>\n",
       "      <td>/m/0gyv1h1</td>\n",
       "      <td>Vinayaka Geleyara Balaga</td>\n",
       "      <td>2011-07-15</td>\n",
       "      <td>0.0</td>\n",
       "      <td>0.0</td>\n",
       "      <td>{}</td>\n",
       "      <td>{}</td>\n",
       "      <td>{}</td>\n",
       "    </tr>\n",
       "  </tbody>\n",
       "</table>\n",
       "</div>"
      ],
      "text/plain": [
       "                   Freebase movie ID                    Movie name  \\\n",
       "Wikipedia movie ID                                                   \n",
       "21926710                  /m/05p45cv                 White on Rice   \n",
       "20604092                  /m/0523t_1                   Anbu Thozhi   \n",
       "29772142                  /m/0fq260_  Karayilekku Oru Kadal Dooram   \n",
       "26623942                  /m/0bh9fbk                   Kausthubham   \n",
       "32445576                  /m/0gyv1h1      Vinayaka Geleyara Balaga   \n",
       "\n",
       "                   Movie release date  Movie box office revenue  \\\n",
       "Wikipedia movie ID                                                \n",
       "21926710                   2009-01-01                       0.0   \n",
       "20604092                   2007-08-17                       0.0   \n",
       "29772142                   2010-12-31                       0.0   \n",
       "26623942                   2010-03-19                       0.0   \n",
       "32445576                   2011-07-15                       0.0   \n",
       "\n",
       "                    Movie runtime                     Movie languages  \\\n",
       "Wikipedia movie ID                                                      \n",
       "21926710                     82.0                                  {}   \n",
       "20604092                      0.0      {\"/m/07c9s\": \"Tamil Language\"}   \n",
       "29772142                    110.0  {\"/m/0999q\": \"Malayalam Language\"}   \n",
       "26623942                      0.0  {\"/m/0999q\": \"Malayalam Language\"}   \n",
       "32445576                      0.0                                  {}   \n",
       "\n",
       "                                              Movie countries  \\\n",
       "Wikipedia movie ID                                              \n",
       "21926710            {\"/m/09c7w0\": \"United States of America\"}   \n",
       "20604092                                {\"/m/03rk0\": \"India\"}   \n",
       "29772142                                {\"/m/03rk0\": \"India\"}   \n",
       "26623942                                {\"/m/03rk0\": \"India\"}   \n",
       "32445576                                                   {}   \n",
       "\n",
       "                                                         Movie genres  \n",
       "Wikipedia movie ID                                                     \n",
       "21926710            {\"/m/06cvj\": \"Romantic comedy\", \"/m/02l7c8\": \"...  \n",
       "20604092                                {\"/m/02l7c8\": \"Romance Film\"}  \n",
       "29772142                                      {\"/m/07s9rl0\": \"Drama\"}  \n",
       "26623942                                      {\"/m/07s9rl0\": \"Drama\"}  \n",
       "32445576                                                           {}  "
      ]
     },
     "execution_count": 49,
     "metadata": {},
     "output_type": "execute_result"
    }
   ],
   "source": [
    "\n",
    "#new dataframe with movies after 2007 after converting the release date to datetime some dates are only year so we need to add the month and day\n",
    "\n",
    "movie_metadata_clean['Movie release date'] = pd.to_datetime(movie_metadata_clean['Movie release date'],errors='coerce')\n",
    "movie_metadata_clean = movie_metadata_clean[movie_metadata_clean['Movie release date'] > datetime(2007,1,1)]\n",
    "movie_metadata_clean.head()"
   ]
  },
  {
   "cell_type": "code",
   "execution_count": 50,
   "metadata": {},
   "outputs": [
    {
     "data": {
      "image/png": "[encoded data removed]",
      "text/plain": [
       "<Figure size 432x288 with 1 Axes>"
      ]
     },
     "metadata": {},
     "output_type": "display_data"
    }
   ],
   "source": [
    "#only keep characters with 'wikipedia movie ID' in movie_metadata_clean after 2007\n",
    "character_metadata_clean = character_metadata_clean[character_metadata_clean.index.isin(movie_metadata_clean.index)]\n",
    "#number of female actors compared to male actors for movies after 2007 plotted in a pie chart\n",
    "fem_act = character_metadata_clean[character_metadata_clean['Actor gender'] == 'F']\n",
    "masc_act = character_metadata_clean[character_metadata_clean['Actor gender'] == 'M']\n",
    "plt.pie(np.array([fem_act['Actor name'].nunique(),masc_act['Actor name'].nunique()]),labels=['women','men'],colors = ['#c2c2f0','#ffb3e6'],autopct='%1.1f%%',shadow=True)\n",
    "plt.title('Percentage of women and men in the character metadata after 2007')\n",
    "plt.show()"
   ]
  },
  {
   "cell_type": "code",
   "execution_count": 51,
   "metadata": {},
   "outputs": [
    {
     "data": {
      "image/png": "[encoded data removed]",
      "text/plain": [
       "<Figure size 432x288 with 1 Axes>"
      ]
     },
     "metadata": {},
     "output_type": "display_data"
    }
   ],
   "source": [
    "#new dataframe with movies after 2016 \n",
    "movie_metadata_clean = movie_metadata_clean[movie_metadata_clean['Movie release date'] > datetime(2016,1,1)]\n",
    "#only keep characters with 'wikipedia movie ID' in movie_metadata_clean after 2016\n",
    "character_metadata_clean = character_metadata_clean[character_metadata_clean.index.isin(movie_metadata_clean.index)]\n",
    "#number of female actors compared to male actors for movies after 2016 plotted in a pie chart\n",
    "fem_act = character_metadata_clean[character_metadata_clean['Actor gender'] == 'F']\n",
    "masc_act = character_metadata_clean[character_metadata_clean['Actor gender'] == 'M']\n",
    "plt.pie(np.array([fem_act['Actor name'].nunique(),masc_act['Actor name'].nunique()]),labels=['women','men'],colors = ['#c2c2f0','#ffb3e6'],autopct='%1.1f%%',shadow=True)\n",
    "plt.title('Percentage of women and men in the character metadata after 2016')\n",
    "plt.show()"
   ]
  },
  {
   "cell_type": "code",
   "execution_count": 52,
   "metadata": {},
   "outputs": [],
   "source": [
    "\"\"\"\n",
    "Don't use character_metadata_clean as it has bee defined lastly as with the movies released after 2016 only (there are only 2)\n",
    "\"\"\"\n",
    "\n",
    "#analysing plot summaries to find main character is the one whose name is mentioned the most\n",
    "#we will use the first 1000 characters of the plot summary to find the main character\n",
    "\n",
    "#function to find the main character in a plot summary\n",
    "def find_main_character(plot_summary):\n",
    "    #create a list of all the characters in the plot summary\n",
    "    characters = character_metadata_clean[character_metadata_clean.index == plot_summary.name]['Character name'].to_list()\n",
    "    #create a list of the number of times each character is mentioned in the plot summary\n",
    "    character_count = [plot_summary['Plot Summary'][:2000].count(character) for character in characters]\n",
    "    #return the character with the highest number of mentions\n",
    "    return characters[np.argmax(character_count)]   \n",
    "\n",
    "#apply the function to the plot summaries\n",
    "#plot_summaries['Main character'] = plot_summaries.apply(find_main_character(plot_summaries),axis=1)\n",
    "#plot_summaries.head()"
   ]
  },
  {
   "cell_type": "markdown",
   "metadata": {},
   "source": [
    "Our analysis could be done here: there is discrimination in the film industry as women are under-representated. They only stand for 1/3 of characters in the studied movies in our datasets. But it is not as simple as that... how does this gender gap evolves in time, and particularly, how is it linked to the type of roles women are attributed to?"
   ]
  },
  {
   "cell_type": "markdown",
   "metadata": {},
   "source": [
    "# Step 3: Discrimination through salaries, box office revenues, etc."
   ]
  },
  {
   "cell_type": "code",
   "execution_count": 261,
   "metadata": {},
   "outputs": [],
   "source": [
    "#Find movies without box office revenue and filter them out\n",
    "no_rev = movie_metadata.loc[movie_metadata['Movie box office revenue'].isnull()].index\n",
    "movie_metadata_filt = movie_metadata.drop(no_rev)"
   ]
  },
  {
   "cell_type": "code",
   "execution_count": 262,
   "metadata": {},
   "outputs": [
    {
     "data": {
      "text/plain": [
       "81741"
      ]
     },
     "execution_count": 262,
     "metadata": {},
     "output_type": "execute_result"
    }
   ],
   "source": [
    "movie_metadata.shape[0]"
   ]
  },
  {
   "cell_type": "code",
   "execution_count": 263,
   "metadata": {},
   "outputs": [
    {
     "data": {
      "text/plain": [
       "8401"
      ]
     },
     "execution_count": 263,
     "metadata": {},
     "output_type": "execute_result"
    }
   ],
   "source": [
    "movie_metadata_filt.shape[0]"
   ]
  },
  {
   "cell_type": "markdown",
   "metadata": {},
   "source": [
    "We only have 8401 movies where we have their box office revenue."
   ]
  },
  {
   "cell_type": "code",
   "execution_count": 264,
   "metadata": {},
   "outputs": [
    {
     "data": {
      "image/png": "[encoded data removed]",
      "text/plain": [
       "<Figure size 500x500 with 1 Axes>"
      ]
     },
     "metadata": {},
     "output_type": "display_data"
    }
   ],
   "source": [
    "#Histogram of box office revenue of movies\n",
    "\n",
    "plt.figure(figsize=(5,5), dpi = 100)\n",
    "plt.xlabel('Movie box office revenue', fontsize = 15)\n",
    "plt.ylabel('Movie index', fontsize=15)\n",
    "plt.title('Box office revenue of all movies', fontsize=15)\n",
    "\n",
    "plt.hist(movie_metadata_filt['Movie box office revenue'])\n",
    "\n",
    "plt.show()\n",
    "\n",
    "#plot en log pour mieux voir?"
   ]
  },
  {
   "cell_type": "code",
   "execution_count": 265,
   "metadata": {},
   "outputs": [
    {
     "name": "stdout",
     "output_type": "stream",
     "text": [
      "Movies with biggest box office revenues:\n"
     ]
    },
    {
     "data": {
      "text/html": [
       "<div>\n",
       "<style scoped>\n",
       "    .dataframe tbody tr th:only-of-type {\n",
       "        vertical-align: middle;\n",
       "    }\n",
       "\n",
       "    .dataframe tbody tr th {\n",
       "        vertical-align: top;\n",
       "    }\n",
       "\n",
       "    .dataframe thead th {\n",
       "        text-align: right;\n",
       "    }\n",
       "</style>\n",
       "<table border=\"1\" class=\"dataframe\">\n",
       "  <thead>\n",
       "    <tr style=\"text-align: right;\">\n",
       "      <th></th>\n",
       "      <th>Freebase movie ID</th>\n",
       "      <th>Movie name</th>\n",
       "      <th>Movie release date</th>\n",
       "      <th>Movie box office revenue</th>\n",
       "      <th>Movie runtime</th>\n",
       "      <th>Movie languages</th>\n",
       "      <th>Movie countries</th>\n",
       "      <th>Movie genres</th>\n",
       "    </tr>\n",
       "    <tr>\n",
       "      <th>Wikipedia movie ID</th>\n",
       "      <th></th>\n",
       "      <th></th>\n",
       "      <th></th>\n",
       "      <th></th>\n",
       "      <th></th>\n",
       "      <th></th>\n",
       "      <th></th>\n",
       "      <th></th>\n",
       "    </tr>\n",
       "  </thead>\n",
       "  <tbody>\n",
       "    <tr>\n",
       "      <th>4273140</th>\n",
       "      <td>/m/0bth54</td>\n",
       "      <td>Avatar</td>\n",
       "      <td>2009-12-10</td>\n",
       "      <td>2.782275e+09</td>\n",
       "      <td>178.0</td>\n",
       "      <td>{\"/m/02h40lc\": \"English Language\", \"/m/06nm1\":...</td>\n",
       "      <td>{\"/m/09c7w0\": \"United States of America\", \"/m/...</td>\n",
       "      <td>{\"/m/01jfsb\": \"Thriller\", \"/m/06n90\": \"Science...</td>\n",
       "    </tr>\n",
       "    <tr>\n",
       "      <th>52371</th>\n",
       "      <td>/m/0dr_4</td>\n",
       "      <td>Titanic</td>\n",
       "      <td>1997-11-01</td>\n",
       "      <td>2.185372e+09</td>\n",
       "      <td>194.0</td>\n",
       "      <td>{\"/m/02bjrlw\": \"Italian Language\", \"/m/02h40lc...</td>\n",
       "      <td>{\"/m/09c7w0\": \"United States of America\"}</td>\n",
       "      <td>{\"/m/0fx2s\": \"Tragedy\", \"/m/04xvh5\": \"Costume ...</td>\n",
       "    </tr>\n",
       "    <tr>\n",
       "      <th>22114132</th>\n",
       "      <td>/m/062zm5h</td>\n",
       "      <td>The Avengers</td>\n",
       "      <td>2012-04-11</td>\n",
       "      <td>1.511758e+09</td>\n",
       "      <td>137.0</td>\n",
       "      <td>{\"/m/06b_j\": \"Russian Language\", \"/m/02h40lc\":...</td>\n",
       "      <td>{\"/m/09c7w0\": \"United States of America\"}</td>\n",
       "      <td>{\"/m/06n90\": \"Science Fiction\", \"/m/02kdv5l\": ...</td>\n",
       "    </tr>\n",
       "    <tr>\n",
       "      <th>31941988</th>\n",
       "      <td>/m/0gvsynb</td>\n",
       "      <td>Harry Potter and the Deathly Hallows – Part 2</td>\n",
       "      <td>2011-07-07</td>\n",
       "      <td>1.328111e+09</td>\n",
       "      <td>130.0</td>\n",
       "      <td>{\"/m/02h40lc\": \"English Language\"}</td>\n",
       "      <td>{\"/m/09c7w0\": \"United States of America\", \"/m/...</td>\n",
       "      <td>{\"/m/07s9rl0\": \"Drama\", \"/m/02n4kr\": \"Mystery\"...</td>\n",
       "    </tr>\n",
       "    <tr>\n",
       "      <th>25001260</th>\n",
       "      <td>/m/0872p_c</td>\n",
       "      <td>Transformers: Dark of the Moon</td>\n",
       "      <td>2011-06-23</td>\n",
       "      <td>1.123747e+09</td>\n",
       "      <td>157.0</td>\n",
       "      <td>{\"/m/02h40lc\": \"English Language\"}</td>\n",
       "      <td>{\"/m/09c7w0\": \"United States of America\"}</td>\n",
       "      <td>{\"/m/0hj3mt0\": \"Alien Film\", \"/m/06n90\": \"Scie...</td>\n",
       "    </tr>\n",
       "  </tbody>\n",
       "</table>\n",
       "</div>"
      ],
      "text/plain": [
       "                   Freebase movie ID  \\\n",
       "Wikipedia movie ID                     \n",
       "4273140                    /m/0bth54   \n",
       "52371                       /m/0dr_4   \n",
       "22114132                  /m/062zm5h   \n",
       "31941988                  /m/0gvsynb   \n",
       "25001260                  /m/0872p_c   \n",
       "\n",
       "                                                       Movie name  \\\n",
       "Wikipedia movie ID                                                  \n",
       "4273140                                                    Avatar   \n",
       "52371                                                     Titanic   \n",
       "22114132                                             The Avengers   \n",
       "31941988            Harry Potter and the Deathly Hallows – Part 2   \n",
       "25001260                           Transformers: Dark of the Moon   \n",
       "\n",
       "                   Movie release date  Movie box office revenue  \\\n",
       "Wikipedia movie ID                                                \n",
       "4273140                    2009-12-10              2.782275e+09   \n",
       "52371                      1997-11-01              2.185372e+09   \n",
       "22114132                   2012-04-11              1.511758e+09   \n",
       "31941988                   2011-07-07              1.328111e+09   \n",
       "25001260                   2011-06-23              1.123747e+09   \n",
       "\n",
       "                    Movie runtime  \\\n",
       "Wikipedia movie ID                  \n",
       "4273140                     178.0   \n",
       "52371                       194.0   \n",
       "22114132                    137.0   \n",
       "31941988                    130.0   \n",
       "25001260                    157.0   \n",
       "\n",
       "                                                      Movie languages  \\\n",
       "Wikipedia movie ID                                                      \n",
       "4273140             {\"/m/02h40lc\": \"English Language\", \"/m/06nm1\":...   \n",
       "52371               {\"/m/02bjrlw\": \"Italian Language\", \"/m/02h40lc...   \n",
       "22114132            {\"/m/06b_j\": \"Russian Language\", \"/m/02h40lc\":...   \n",
       "31941988                           {\"/m/02h40lc\": \"English Language\"}   \n",
       "25001260                           {\"/m/02h40lc\": \"English Language\"}   \n",
       "\n",
       "                                                      Movie countries  \\\n",
       "Wikipedia movie ID                                                      \n",
       "4273140             {\"/m/09c7w0\": \"United States of America\", \"/m/...   \n",
       "52371                       {\"/m/09c7w0\": \"United States of America\"}   \n",
       "22114132                    {\"/m/09c7w0\": \"United States of America\"}   \n",
       "31941988            {\"/m/09c7w0\": \"United States of America\", \"/m/...   \n",
       "25001260                    {\"/m/09c7w0\": \"United States of America\"}   \n",
       "\n",
       "                                                         Movie genres  \n",
       "Wikipedia movie ID                                                     \n",
       "4273140             {\"/m/01jfsb\": \"Thriller\", \"/m/06n90\": \"Science...  \n",
       "52371               {\"/m/0fx2s\": \"Tragedy\", \"/m/04xvh5\": \"Costume ...  \n",
       "22114132            {\"/m/06n90\": \"Science Fiction\", \"/m/02kdv5l\": ...  \n",
       "31941988            {\"/m/07s9rl0\": \"Drama\", \"/m/02n4kr\": \"Mystery\"...  \n",
       "25001260            {\"/m/0hj3mt0\": \"Alien Film\", \"/m/06n90\": \"Scie...  "
      ]
     },
     "execution_count": 265,
     "metadata": {},
     "output_type": "execute_result"
    }
   ],
   "source": [
    "print(\"Movies with biggest box office revenues:\")\n",
    "movie_metadata.sort_values('Movie box office revenue', ascending = False).head()"
   ]
  },
  {
   "cell_type": "code",
   "execution_count": 266,
   "metadata": {},
   "outputs": [],
   "source": [
    "movie_metadata_filt[\"Movie release date\"] = pd.to_datetime(movie_metadata_filt[\"Movie release date\"],errors='coerce')"
   ]
  },
  {
   "cell_type": "code",
   "execution_count": 267,
   "metadata": {},
   "outputs": [
    {
     "data": {
      "text/html": [
       "<div>\n",
       "<style scoped>\n",
       "    .dataframe tbody tr th:only-of-type {\n",
       "        vertical-align: middle;\n",
       "    }\n",
       "\n",
       "    .dataframe tbody tr th {\n",
       "        vertical-align: top;\n",
       "    }\n",
       "\n",
       "    .dataframe thead th {\n",
       "        text-align: right;\n",
       "    }\n",
       "</style>\n",
       "<table border=\"1\" class=\"dataframe\">\n",
       "  <thead>\n",
       "    <tr style=\"text-align: right;\">\n",
       "      <th></th>\n",
       "      <th>Freebase movie ID</th>\n",
       "      <th>Movie name</th>\n",
       "      <th>Movie release date</th>\n",
       "      <th>Movie box office revenue</th>\n",
       "      <th>Movie runtime</th>\n",
       "      <th>Movie languages</th>\n",
       "      <th>Movie countries</th>\n",
       "      <th>Movie genres</th>\n",
       "    </tr>\n",
       "    <tr>\n",
       "      <th>Wikipedia movie ID</th>\n",
       "      <th></th>\n",
       "      <th></th>\n",
       "      <th></th>\n",
       "      <th></th>\n",
       "      <th></th>\n",
       "      <th></th>\n",
       "      <th></th>\n",
       "      <th></th>\n",
       "    </tr>\n",
       "  </thead>\n",
       "  <tbody>\n",
       "    <tr>\n",
       "      <th>975900</th>\n",
       "      <td>/m/03vyhn</td>\n",
       "      <td>Ghosts of Mars</td>\n",
       "      <td>2001-08-24</td>\n",
       "      <td>14010832.0</td>\n",
       "      <td>98.0</td>\n",
       "      <td>{\"/m/02h40lc\": \"English Language\"}</td>\n",
       "      <td>{\"/m/09c7w0\": \"United States of America\"}</td>\n",
       "      <td>{\"/m/01jfsb\": \"Thriller\", \"/m/06n90\": \"Science...</td>\n",
       "    </tr>\n",
       "    <tr>\n",
       "      <th>10408933</th>\n",
       "      <td>/m/02qc0j7</td>\n",
       "      <td>Alexander's Ragtime Band</td>\n",
       "      <td>1938-08-16</td>\n",
       "      <td>3600000.0</td>\n",
       "      <td>106.0</td>\n",
       "      <td>{\"/m/02h40lc\": \"English Language\"}</td>\n",
       "      <td>{\"/m/09c7w0\": \"United States of America\"}</td>\n",
       "      <td>{\"/m/04t36\": \"Musical\", \"/m/01z4y\": \"Comedy\", ...</td>\n",
       "    </tr>\n",
       "    <tr>\n",
       "      <th>171005</th>\n",
       "      <td>/m/016ywb</td>\n",
       "      <td>Henry V</td>\n",
       "      <td>1989-11-08</td>\n",
       "      <td>10161099.0</td>\n",
       "      <td>137.0</td>\n",
       "      <td>{\"/m/02h40lc\": \"English Language\"}</td>\n",
       "      <td>{\"/m/07ssc\": \"United Kingdom\"}</td>\n",
       "      <td>{\"/m/04xvh5\": \"Costume drama\", \"/m/082gq\": \"Wa...</td>\n",
       "    </tr>\n",
       "    <tr>\n",
       "      <th>77856</th>\n",
       "      <td>/m/0kcn7</td>\n",
       "      <td>Mary Poppins</td>\n",
       "      <td>1964-08-27</td>\n",
       "      <td>102272727.0</td>\n",
       "      <td>139.0</td>\n",
       "      <td>{\"/m/02h40lc\": \"English Language\"}</td>\n",
       "      <td>{\"/m/09c7w0\": \"United States of America\"}</td>\n",
       "      <td>{\"/m/0hj3myq\": \"Children's/Family\", \"/m/04t36\"...</td>\n",
       "    </tr>\n",
       "    <tr>\n",
       "      <th>612710</th>\n",
       "      <td>/m/02wjqm</td>\n",
       "      <td>New Rose Hotel</td>\n",
       "      <td>1999-10-01</td>\n",
       "      <td>21521.0</td>\n",
       "      <td>92.0</td>\n",
       "      <td>{\"/m/02h40lc\": \"English Language\"}</td>\n",
       "      <td>{\"/m/09c7w0\": \"United States of America\"}</td>\n",
       "      <td>{\"/m/01jfsb\": \"Thriller\", \"/m/06n90\": \"Science...</td>\n",
       "    </tr>\n",
       "    <tr>\n",
       "      <th>...</th>\n",
       "      <td>...</td>\n",
       "      <td>...</td>\n",
       "      <td>...</td>\n",
       "      <td>...</td>\n",
       "      <td>...</td>\n",
       "      <td>...</td>\n",
       "      <td>...</td>\n",
       "      <td>...</td>\n",
       "    </tr>\n",
       "    <tr>\n",
       "      <th>54540</th>\n",
       "      <td>/m/0f7hw</td>\n",
       "      <td>Coming to America</td>\n",
       "      <td>1988-06-29</td>\n",
       "      <td>288752301.0</td>\n",
       "      <td>117.0</td>\n",
       "      <td>{\"/m/02h40lc\": \"English Language\"}</td>\n",
       "      <td>{\"/m/09c7w0\": \"United States of America\"}</td>\n",
       "      <td>{\"/m/06cvj\": \"Romantic comedy\", \"/m/03p5xs\": \"...</td>\n",
       "    </tr>\n",
       "    <tr>\n",
       "      <th>7761830</th>\n",
       "      <td>/m/0kvgqb</td>\n",
       "      <td>Spaced Invaders</td>\n",
       "      <td>1990-01-01</td>\n",
       "      <td>15369573.0</td>\n",
       "      <td>100.0</td>\n",
       "      <td>{\"/m/02h40lc\": \"English Language\"}</td>\n",
       "      <td>{\"/m/09c7w0\": \"United States of America\"}</td>\n",
       "      <td>{\"/m/0hj3mt0\": \"Alien Film\", \"/m/06n90\": \"Scie...</td>\n",
       "    </tr>\n",
       "    <tr>\n",
       "      <th>1918494</th>\n",
       "      <td>/m/0660qx</td>\n",
       "      <td>State and Main</td>\n",
       "      <td>2000-08-26</td>\n",
       "      <td>6944471.0</td>\n",
       "      <td>106.0</td>\n",
       "      <td>{\"/m/02bjrlw\": \"Italian Language\", \"/m/02h40lc...</td>\n",
       "      <td>{\"/m/0f8l9c\": \"France\", \"/m/09c7w0\": \"United S...</td>\n",
       "      <td>{\"/m/0gf28\": \"Parody\", \"/m/09n5t_\": \"Americana...</td>\n",
       "    </tr>\n",
       "    <tr>\n",
       "      <th>664006</th>\n",
       "      <td>/m/030xw6</td>\n",
       "      <td>Guilty as Sin</td>\n",
       "      <td>1993-06-04</td>\n",
       "      <td>22886222.0</td>\n",
       "      <td>107.0</td>\n",
       "      <td>{}</td>\n",
       "      <td>{\"/m/09c7w0\": \"United States of America\"}</td>\n",
       "      <td>{\"/m/01jfsb\": \"Thriller\", \"/m/0glj9q\": \"Erotic...</td>\n",
       "    </tr>\n",
       "    <tr>\n",
       "      <th>26482675</th>\n",
       "      <td>/m/0bbwngb</td>\n",
       "      <td>Eşrefpaşalılar</td>\n",
       "      <td>2010-03-05</td>\n",
       "      <td>1847671.0</td>\n",
       "      <td>NaN</td>\n",
       "      <td>{}</td>\n",
       "      <td>{}</td>\n",
       "      <td>{\"/m/05p553\": \"Comedy film\", \"/m/07s9rl0\": \"Dr...</td>\n",
       "    </tr>\n",
       "  </tbody>\n",
       "</table>\n",
       "<p>8401 rows × 8 columns</p>\n",
       "</div>"
      ],
      "text/plain": [
       "                   Freebase movie ID                Movie name  \\\n",
       "Wikipedia movie ID                                               \n",
       "975900                     /m/03vyhn            Ghosts of Mars   \n",
       "10408933                  /m/02qc0j7  Alexander's Ragtime Band   \n",
       "171005                     /m/016ywb                   Henry V   \n",
       "77856                       /m/0kcn7              Mary Poppins   \n",
       "612710                     /m/02wjqm            New Rose Hotel   \n",
       "...                              ...                       ...   \n",
       "54540                       /m/0f7hw         Coming to America   \n",
       "7761830                    /m/0kvgqb           Spaced Invaders   \n",
       "1918494                    /m/0660qx            State and Main   \n",
       "664006                     /m/030xw6             Guilty as Sin   \n",
       "26482675                  /m/0bbwngb            Eşrefpaşalılar   \n",
       "\n",
       "                   Movie release date  Movie box office revenue  \\\n",
       "Wikipedia movie ID                                                \n",
       "975900                     2001-08-24                14010832.0   \n",
       "10408933                   1938-08-16                 3600000.0   \n",
       "171005                     1989-11-08                10161099.0   \n",
       "77856                      1964-08-27               102272727.0   \n",
       "612710                     1999-10-01                   21521.0   \n",
       "...                               ...                       ...   \n",
       "54540                      1988-06-29               288752301.0   \n",
       "7761830                    1990-01-01                15369573.0   \n",
       "1918494                    2000-08-26                 6944471.0   \n",
       "664006                     1993-06-04                22886222.0   \n",
       "26482675                   2010-03-05                 1847671.0   \n",
       "\n",
       "                    Movie runtime  \\\n",
       "Wikipedia movie ID                  \n",
       "975900                       98.0   \n",
       "10408933                    106.0   \n",
       "171005                      137.0   \n",
       "77856                       139.0   \n",
       "612710                       92.0   \n",
       "...                           ...   \n",
       "54540                       117.0   \n",
       "7761830                     100.0   \n",
       "1918494                     106.0   \n",
       "664006                      107.0   \n",
       "26482675                      NaN   \n",
       "\n",
       "                                                      Movie languages  \\\n",
       "Wikipedia movie ID                                                      \n",
       "975900                             {\"/m/02h40lc\": \"English Language\"}   \n",
       "10408933                           {\"/m/02h40lc\": \"English Language\"}   \n",
       "171005                             {\"/m/02h40lc\": \"English Language\"}   \n",
       "77856                              {\"/m/02h40lc\": \"English Language\"}   \n",
       "612710                             {\"/m/02h40lc\": \"English Language\"}   \n",
       "...                                                               ...   \n",
       "54540                              {\"/m/02h40lc\": \"English Language\"}   \n",
       "7761830                            {\"/m/02h40lc\": \"English Language\"}   \n",
       "1918494             {\"/m/02bjrlw\": \"Italian Language\", \"/m/02h40lc...   \n",
       "664006                                                             {}   \n",
       "26482675                                                           {}   \n",
       "\n",
       "                                                      Movie countries  \\\n",
       "Wikipedia movie ID                                                      \n",
       "975900                      {\"/m/09c7w0\": \"United States of America\"}   \n",
       "10408933                    {\"/m/09c7w0\": \"United States of America\"}   \n",
       "171005                                 {\"/m/07ssc\": \"United Kingdom\"}   \n",
       "77856                       {\"/m/09c7w0\": \"United States of America\"}   \n",
       "612710                      {\"/m/09c7w0\": \"United States of America\"}   \n",
       "...                                                               ...   \n",
       "54540                       {\"/m/09c7w0\": \"United States of America\"}   \n",
       "7761830                     {\"/m/09c7w0\": \"United States of America\"}   \n",
       "1918494             {\"/m/0f8l9c\": \"France\", \"/m/09c7w0\": \"United S...   \n",
       "664006                      {\"/m/09c7w0\": \"United States of America\"}   \n",
       "26482675                                                           {}   \n",
       "\n",
       "                                                         Movie genres  \n",
       "Wikipedia movie ID                                                     \n",
       "975900              {\"/m/01jfsb\": \"Thriller\", \"/m/06n90\": \"Science...  \n",
       "10408933            {\"/m/04t36\": \"Musical\", \"/m/01z4y\": \"Comedy\", ...  \n",
       "171005              {\"/m/04xvh5\": \"Costume drama\", \"/m/082gq\": \"Wa...  \n",
       "77856               {\"/m/0hj3myq\": \"Children's/Family\", \"/m/04t36\"...  \n",
       "612710              {\"/m/01jfsb\": \"Thriller\", \"/m/06n90\": \"Science...  \n",
       "...                                                               ...  \n",
       "54540               {\"/m/06cvj\": \"Romantic comedy\", \"/m/03p5xs\": \"...  \n",
       "7761830             {\"/m/0hj3mt0\": \"Alien Film\", \"/m/06n90\": \"Scie...  \n",
       "1918494             {\"/m/0gf28\": \"Parody\", \"/m/09n5t_\": \"Americana...  \n",
       "664006              {\"/m/01jfsb\": \"Thriller\", \"/m/0glj9q\": \"Erotic...  \n",
       "26482675            {\"/m/05p553\": \"Comedy film\", \"/m/07s9rl0\": \"Dr...  \n",
       "\n",
       "[8401 rows x 8 columns]"
      ]
     },
     "execution_count": 267,
     "metadata": {},
     "output_type": "execute_result"
    }
   ],
   "source": [
    "movie_metadata_filt"
   ]
  },
  {
   "cell_type": "code",
   "execution_count": 270,
   "metadata": {},
   "outputs": [
    {
     "data": {
      "image/png": "[encoded data removed]",
      "text/plain": [
       "<Figure size 500x500 with 1 Axes>"
      ]
     },
     "metadata": {},
     "output_type": "display_data"
    }
   ],
   "source": [
    "#No real use just to see\n",
    "\n",
    "plt.figure(figsize=(5,5), dpi = 100)\n",
    "plt.xlabel('Movie release date', fontsize = 15)\n",
    "plt.ylabel('Box office revenue', fontsize=15)\n",
    "plt.title('Box office revenue of all movies', fontsize=15)\n",
    "\n",
    "plt.plot(movie_metadata_filt[\"Movie release date\"],movie_metadata_filt['Movie box office revenue'])\n",
    "\n",
    "plt.show()"
   ]
  },
  {
   "cell_type": "code",
   "execution_count": 278,
   "metadata": {},
   "outputs": [
    {
     "data": {
      "text/html": [
       "<div>\n",
       "<style scoped>\n",
       "    .dataframe tbody tr th:only-of-type {\n",
       "        vertical-align: middle;\n",
       "    }\n",
       "\n",
       "    .dataframe tbody tr th {\n",
       "        vertical-align: top;\n",
       "    }\n",
       "\n",
       "    .dataframe thead th {\n",
       "        text-align: right;\n",
       "    }\n",
       "</style>\n",
       "<table border=\"1\" class=\"dataframe\">\n",
       "  <thead>\n",
       "    <tr style=\"text-align: right;\">\n",
       "      <th></th>\n",
       "      <th>Freebase movie ID</th>\n",
       "      <th>Movie release date</th>\n",
       "      <th>Character name</th>\n",
       "      <th>Actor date of birth</th>\n",
       "      <th>Actor gender</th>\n",
       "      <th>Actor height</th>\n",
       "      <th>Actor ethnicity</th>\n",
       "      <th>Actor name</th>\n",
       "      <th>Actor age at movie release</th>\n",
       "      <th>Freebase character/actor map ID</th>\n",
       "      <th>Freebase character ID</th>\n",
       "      <th>Freebase actor ID</th>\n",
       "    </tr>\n",
       "    <tr>\n",
       "      <th>Wikipedia movie ID</th>\n",
       "      <th></th>\n",
       "      <th></th>\n",
       "      <th></th>\n",
       "      <th></th>\n",
       "      <th></th>\n",
       "      <th></th>\n",
       "      <th></th>\n",
       "      <th></th>\n",
       "      <th></th>\n",
       "      <th></th>\n",
       "      <th></th>\n",
       "      <th></th>\n",
       "    </tr>\n",
       "  </thead>\n",
       "  <tbody>\n",
       "    <tr>\n",
       "      <th>975900</th>\n",
       "      <td>/m/03vyhn</td>\n",
       "      <td>2001-08-24</td>\n",
       "      <td>Akooshay</td>\n",
       "      <td>1958-08-26</td>\n",
       "      <td>F</td>\n",
       "      <td>1.620</td>\n",
       "      <td>NaN</td>\n",
       "      <td>Wanda De Jesus</td>\n",
       "      <td>42.0</td>\n",
       "      <td>/m/0bgchxw</td>\n",
       "      <td>/m/0bgcj3x</td>\n",
       "      <td>/m/03wcfv7</td>\n",
       "    </tr>\n",
       "    <tr>\n",
       "      <th>975900</th>\n",
       "      <td>/m/03vyhn</td>\n",
       "      <td>2001-08-24</td>\n",
       "      <td>Lieutenant Melanie Ballard</td>\n",
       "      <td>1974-08-15</td>\n",
       "      <td>F</td>\n",
       "      <td>1.780</td>\n",
       "      <td>/m/044038p</td>\n",
       "      <td>Natasha Henstridge</td>\n",
       "      <td>27.0</td>\n",
       "      <td>/m/0jys3m</td>\n",
       "      <td>/m/0bgchn4</td>\n",
       "      <td>/m/0346l4</td>\n",
       "    </tr>\n",
       "    <tr>\n",
       "      <th>975900</th>\n",
       "      <td>/m/03vyhn</td>\n",
       "      <td>2001-08-24</td>\n",
       "      <td>Desolation Williams</td>\n",
       "      <td>1969-06-15</td>\n",
       "      <td>M</td>\n",
       "      <td>1.727</td>\n",
       "      <td>/m/0x67</td>\n",
       "      <td>Ice Cube</td>\n",
       "      <td>32.0</td>\n",
       "      <td>/m/0jys3g</td>\n",
       "      <td>/m/0bgchn_</td>\n",
       "      <td>/m/01vw26l</td>\n",
       "    </tr>\n",
       "    <tr>\n",
       "      <th>975900</th>\n",
       "      <td>/m/03vyhn</td>\n",
       "      <td>2001-08-24</td>\n",
       "      <td>Sgt Jericho Butler</td>\n",
       "      <td>1967-09-12</td>\n",
       "      <td>M</td>\n",
       "      <td>1.750</td>\n",
       "      <td>NaN</td>\n",
       "      <td>Jason Statham</td>\n",
       "      <td>33.0</td>\n",
       "      <td>/m/02vchl6</td>\n",
       "      <td>/m/0bgchnq</td>\n",
       "      <td>/m/034hyc</td>\n",
       "    </tr>\n",
       "    <tr>\n",
       "      <th>975900</th>\n",
       "      <td>/m/03vyhn</td>\n",
       "      <td>2001-08-24</td>\n",
       "      <td>Bashira Kincaid</td>\n",
       "      <td>1977-09-25</td>\n",
       "      <td>F</td>\n",
       "      <td>1.650</td>\n",
       "      <td>NaN</td>\n",
       "      <td>Clea DuVall</td>\n",
       "      <td>23.0</td>\n",
       "      <td>/m/02vbb3r</td>\n",
       "      <td>/m/0bgchp9</td>\n",
       "      <td>/m/01y9xg</td>\n",
       "    </tr>\n",
       "  </tbody>\n",
       "</table>\n",
       "</div>"
      ],
      "text/plain": [
       "                   Freebase movie ID Movie release date  \\\n",
       "Wikipedia movie ID                                        \n",
       "975900                     /m/03vyhn         2001-08-24   \n",
       "975900                     /m/03vyhn         2001-08-24   \n",
       "975900                     /m/03vyhn         2001-08-24   \n",
       "975900                     /m/03vyhn         2001-08-24   \n",
       "975900                     /m/03vyhn         2001-08-24   \n",
       "\n",
       "                                Character name Actor date of birth  \\\n",
       "Wikipedia movie ID                                                   \n",
       "975900                                Akooshay          1958-08-26   \n",
       "975900              Lieutenant Melanie Ballard          1974-08-15   \n",
       "975900                     Desolation Williams          1969-06-15   \n",
       "975900                      Sgt Jericho Butler          1967-09-12   \n",
       "975900                         Bashira Kincaid          1977-09-25   \n",
       "\n",
       "                   Actor gender  Actor height Actor ethnicity  \\\n",
       "Wikipedia movie ID                                              \n",
       "975900                        F         1.620             NaN   \n",
       "975900                        F         1.780      /m/044038p   \n",
       "975900                        M         1.727         /m/0x67   \n",
       "975900                        M         1.750             NaN   \n",
       "975900                        F         1.650             NaN   \n",
       "\n",
       "                            Actor name  Actor age at movie release  \\\n",
       "Wikipedia movie ID                                                   \n",
       "975900                  Wanda De Jesus                        42.0   \n",
       "975900              Natasha Henstridge                        27.0   \n",
       "975900                        Ice Cube                        32.0   \n",
       "975900                   Jason Statham                        33.0   \n",
       "975900                     Clea DuVall                        23.0   \n",
       "\n",
       "                   Freebase character/actor map ID Freebase character ID  \\\n",
       "Wikipedia movie ID                                                         \n",
       "975900                                  /m/0bgchxw            /m/0bgcj3x   \n",
       "975900                                   /m/0jys3m            /m/0bgchn4   \n",
       "975900                                   /m/0jys3g            /m/0bgchn_   \n",
       "975900                                  /m/02vchl6            /m/0bgchnq   \n",
       "975900                                  /m/02vbb3r            /m/0bgchp9   \n",
       "\n",
       "                   Freebase actor ID  \n",
       "Wikipedia movie ID                    \n",
       "975900                    /m/03wcfv7  \n",
       "975900                     /m/0346l4  \n",
       "975900                    /m/01vw26l  \n",
       "975900                     /m/034hyc  \n",
       "975900                     /m/01y9xg  "
      ]
     },
     "execution_count": 278,
     "metadata": {},
     "output_type": "execute_result"
    }
   ],
   "source": [
    "character_metadata.head()"
   ]
  },
  {
   "cell_type": "code",
   "execution_count": 281,
   "metadata": {},
   "outputs": [],
   "source": [
    "character_dropna = character_metadata.dropna()"
   ]
  },
  {
   "cell_type": "code",
   "execution_count": 285,
   "metadata": {},
   "outputs": [
    {
     "data": {
      "text/plain": [
       "\"\\ncharacter_dropna['Actor gender'] = pd.get_dummies(character_dropna['Actor gender'])\\ncharacter_dropna.head()\\n\""
      ]
     },
     "execution_count": 285,
     "metadata": {},
     "output_type": "execute_result"
    }
   ],
   "source": [
    "'''\n",
    "character_dropna['Actor gender'] = pd.get_dummies(character_dropna['Actor gender'])\n",
    "character_dropna.head()\n",
    "'''"
   ]
  },
  {
   "cell_type": "code",
   "execution_count": null,
   "metadata": {},
   "outputs": [],
   "source": []
  },
  {
   "cell_type": "markdown",
   "metadata": {},
   "source": [
    "# Step 4: Discrimination through salaries, box office revenues, etc.\n"
   ]
  }
 ],
 "metadata": {
  "kernelspec": {
   "display_name": "Python 3",
   "language": "python",
   "name": "python3"
  },
  "language_info": {
   "codemirror_mode": {
    "name": "ipython",
    "version": 3
   },
   "file_extension": ".py",
   "mimetype": "text/x-python",
   "name": "python",
   "nbconvert_exporter": "python",
   "pygments_lexer": "ipython3",
   "version": "3.8.8"
  },
  "vscode": {
   "interpreter": {
    "hash": "31f2aee4e71d21fbe5cf8b01ff0e069b9275f58929596ceb00d14d90e3e16cd6"
   }
  }
 },
 "nbformat": 4,
 "nbformat_minor": 4
}
