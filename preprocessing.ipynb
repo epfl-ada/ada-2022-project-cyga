{
 "cells": [
  {
   "cell_type": "code",
   "execution_count": 128,
   "metadata": {},
   "outputs": [
    {
     "data": {
      "text/plain": [
       "'\\nFile name: preprocessing.ipynb\\nAuthors: Yasmin El Euch, Aliénor Bénédicte G Hamoir, Clara Rossignol, Guillaume David E. Ryelandt\\nDate created: 04/11/2022\\nDate last modified: 06/11/2022\\nPython version: 3.8.8\\n'"
      ]
     },
     "execution_count": 128,
     "metadata": {},
     "output_type": "execute_result"
    }
   ],
   "source": [
    "'''\n",
    "File name: preprocessing.ipynb\n",
    "Authors: Yasmin El Euch, Aliénor Bénédicte G Hamoir, Clara Rossignol, Guillaume David E. Ryelandt\n",
    "Date created: 04/11/2022\n",
    "Date last modified: 15/11/2022\n",
    "Python version: 3.8.8\n",
    "'''"
   ]
  },
  {
   "cell_type": "markdown",
   "metadata": {},
   "source": [
    "# MeToo\n",
    "Analyze the evolution of sexism and women discrimination in the film industry through the roles/job they are given. Did the MeToo movement change things?"
   ]
  },
  {
   "cell_type": "markdown",
   "metadata": {},
   "source": [
    "## Table of contents\n",
    "\n",
    "0. [General Information](#GI)\\\n",
    "        A. [Folder structure](#Folder)\\\n",
    "        B. [Imports](#Imports)\\\n",
    "        C. [Paths](#Paths)\n",
    "</br> \n",
    "1. [Step 1: Data scraping, pre-processing and dataset construction](#Step-1)\\\n",
    "        A. [Box Office](#Box Office)\\\n",
    "        B. [detecting main characters] (#Main Characters)\\\n",
    "</br> \n"
   ]
  },
  {
   "cell_type": "markdown",
   "metadata": {},
   "source": [
    "---\n",
    "## General Information <a id=\"GI\"> </a> "
   ]
  },
  {
   "cell_type": "markdown",
   "metadata": {},
   "source": [
    "### Folder structure <a id=\"Folder\"> </a>"
   ]
  },
  {
   "cell_type": "markdown",
   "metadata": {},
   "source": [
    "***Files and directories to make this notebook run successfully:***\n",
    "\n",
    "- **data/**\n",
    "    - *character.metadata.tsv*\n",
    "    - *movie.metadata.tsv*\n",
    "    - *name.clusters.txt*\n",
    "    - *plot_summaries.txt*\n",
    "    - *tvtropes.clusters.txt*\n",
    "- *preprocessing.ipynb*\n",
    "\n",
    "Directories are in **bold** and files are in *italic*."
   ]
  },
  {
   "cell_type": "markdown",
   "metadata": {},
   "source": [
    "\n",
    "### Imports <a id=\"Imports\"> </a>"
   ]
  },
  {
   "cell_type": "markdown",
   "metadata": {},
   "source": [
    "***Libraries used for milestone 2:***\n",
    "- python=3.8.12\n",
    "- pandas\n",
    "- datetime\n",
    "- numpy\n",
    "- matplotlib"
   ]
  },
  {
   "cell_type": "code",
   "execution_count": 429,
   "metadata": {},
   "outputs": [],
   "source": [
    "#Imports used in this notebook\n",
    "from datetime import datetime\n",
    "\n",
    "import pandas as pd\n",
    "import numpy as np\n",
    "import matplotlib.pyplot as plt\n",
    "import seaborn as sns\n",
    "import json as js \n",
    "import ast"
   ]
  },
  {
   "cell_type": "markdown",
   "metadata": {},
   "source": [
    "\n",
    "### Paths <a id=\"Paths\"> </a>"
   ]
  },
  {
   "cell_type": "markdown",
   "metadata": {},
   "source": [
    "Required to adapt those path to local file organization"
   ]
  },
  {
   "cell_type": "code",
   "execution_count": 430,
   "metadata": {},
   "outputs": [],
   "source": [
    "### PATHs for dataset:\n",
    "PATH_DATA = 'data/'\n",
    "PATH_MOVIE_METADATA = PATH_DATA+'movie.metadata.tsv'\n",
    "PATH_PLOT_SUMMARY = PATH_DATA+'plot_summaries.txt'\n",
    "PATH_CHARACTER_METADATA = PATH_DATA+'character.metadata.tsv'\n",
    "PATH_NAME_CLUSTERS=PATH_DATA+'name.clusters.txt'\n",
    "PATH_TV_TROPES_CLUSTERS=PATH_DATA+'tvtropes.clusters.txt'"
   ]
  },
  {
   "cell_type": "markdown",
   "metadata": {},
   "source": [
    "---\n",
    "## **Step 1: Data scraping, pre-processing and dataset construction** <a id=\"Step-1\"> </a>"
   ]
  },
  {
   "cell_type": "markdown",
   "metadata": {},
   "source": [
    "First we will properly name ecach column of  in order to manipulate in an easier way"
   ]
  },
  {
   "cell_type": "code",
   "execution_count": 431,
   "metadata": {},
   "outputs": [],
   "source": [
    "def dict_to_cols(row): \n",
    "    '''\n",
    "    allows to transform the dictionnary into  a dataframe with multiple columns \n",
    "    '''\n",
    "    d = js.loads(row[1])\n",
    "    return row[0], *list(d.values())\n",
    "\n",
    "def dict_to_lst(str):\n",
    "    '''\n",
    "    allows to transform a dictionnary into a list of features\n",
    "    '''\n",
    "    \n",
    "    dict = ast.literal_eval(str)\n",
    "    lst  = list(dict.values())\n",
    "    return lst"
   ]
  },
  {
   "cell_type": "code",
   "execution_count": 432,
   "metadata": {},
   "outputs": [
    {
     "name": "stdout",
     "output_type": "stream",
     "text": [
      "Reading in movie data\n"
     ]
    },
    {
     "data": {
      "text/plain": [
       "\"\\ns'il y moyen de taper les 3 dernières lignes en une ce serait nickel!!\\n\""
      ]
     },
     "execution_count": 432,
     "metadata": {},
     "output_type": "execute_result"
    }
   ],
   "source": [
    "print(\"Reading in movie data\")\n",
    "\n",
    "#Read in movie metadata, plot summaries, and character metadata.\n",
    "movie_headers = ['Wikipedia movie ID', 'Freebase movie ID', 'Movie name','Movie release date','Movie box office revenue',\n",
    "                 'Movie runtime','Movie languages','Movie countries','Movie genres']\n",
    "plot_headers = ['Wikipedia movie ID','Plot Summary']\n",
    "character_headers = ['Wikipedia movie ID', 'Freebase movie ID','Movie release date','Character name','Actor date of birth',\n",
    "                     'Actor gender','Actor height','Actor ethnicity','Actor name','Actor age at movie release',\n",
    "                     'Freebase character/actor map ID','Freebase character ID','Freebase actor ID']\n",
    "name_clusters_headers=['Character name', 'id']\n",
    "name_clusters_headers=['Character name', 'id']\n",
    "tv_tropes_cluster_headers=['Trope','Character name','movie','id','actor']\n",
    "\n",
    "\n",
    "movie_metadata = pd.read_csv(PATH_MOVIE_METADATA,sep='\\t',header=None,names=movie_headers,index_col=0)\n",
    "plot_summaries = pd.read_csv(PATH_PLOT_SUMMARY,sep='\\t',index_col=0,names=plot_headers)\n",
    "character_metadata = pd.read_csv(PATH_CHARACTER_METADATA,sep='\\t',header=None,names=character_headers,index_col='Wikipedia movie ID')\n",
    "name_clusters=pd.read_csv(PATH_NAME_CLUSTERS,sep='\\t',header=None,names=name_clusters_headers,index_col='id')\n",
    "tv_tropes_clusters = pd.read_csv(PATH_TV_TROPES_CLUSTERS,sep='\\t',header=None).apply(dict_to_cols, axis=1, result_type='expand')\n",
    "tv_tropes_clusters.columns = tv_tropes_cluster_headers\n",
    "tv_tropes_clusters.set_index('id')\n",
    "movie_metadata['Movie languages']=movie_metadata['Movie languages'].apply(lambda x: dict_to_lst(x))\n",
    "movie_metadata['Movie countries']=movie_metadata['Movie countries'].apply(lambda x: dict_to_lst(x))\n",
    "movie_metadata['Movie genres']=movie_metadata['Movie genres'].apply(lambda x: dict_to_lst(x))\n",
    "movie_metadata\n",
    "'''\n",
    "s'il y moyen de taper les 3 dernières lignes en une ce serait nickel!!\n",
    "'''"
   ]
  },
  {
   "cell_type": "code",
   "execution_count": 399,
   "metadata": {},
   "outputs": [
    {
     "data": {
      "text/html": [
       "<div>\n",
       "<style scoped>\n",
       "    .dataframe tbody tr th:only-of-type {\n",
       "        vertical-align: middle;\n",
       "    }\n",
       "\n",
       "    .dataframe tbody tr th {\n",
       "        vertical-align: top;\n",
       "    }\n",
       "\n",
       "    .dataframe thead th {\n",
       "        text-align: right;\n",
       "    }\n",
       "</style>\n",
       "<table border=\"1\" class=\"dataframe\">\n",
       "  <thead>\n",
       "    <tr style=\"text-align: right;\">\n",
       "      <th></th>\n",
       "      <th>Character name</th>\n",
       "    </tr>\n",
       "    <tr>\n",
       "      <th>id</th>\n",
       "      <th></th>\n",
       "    </tr>\n",
       "  </thead>\n",
       "  <tbody>\n",
       "    <tr>\n",
       "      <th>/m/0k3w9c</th>\n",
       "      <td>Stuart Little</td>\n",
       "    </tr>\n",
       "    <tr>\n",
       "      <th>/m/0k3wcx</th>\n",
       "      <td>Stuart Little</td>\n",
       "    </tr>\n",
       "    <tr>\n",
       "      <th>/m/0k3wbn</th>\n",
       "      <td>Stuart Little</td>\n",
       "    </tr>\n",
       "    <tr>\n",
       "      <th>/m/0jyg35</th>\n",
       "      <td>John Doe</td>\n",
       "    </tr>\n",
       "    <tr>\n",
       "      <th>/m/0k2_zn</th>\n",
       "      <td>John Doe</td>\n",
       "    </tr>\n",
       "  </tbody>\n",
       "</table>\n",
       "</div>"
      ],
      "text/plain": [
       "          Character name\n",
       "id                      \n",
       "/m/0k3w9c  Stuart Little\n",
       "/m/0k3wcx  Stuart Little\n",
       "/m/0k3wbn  Stuart Little\n",
       "/m/0jyg35       John Doe\n",
       "/m/0k2_zn       John Doe"
      ]
     },
     "execution_count": 399,
     "metadata": {},
     "output_type": "execute_result"
    }
   ],
   "source": [
    "name_clusters.head()"
   ]
  },
  {
   "cell_type": "markdown",
   "metadata": {},
   "source": [
    "First of all, we make an inspection of the dataframes, to see wether there exist some duplicates, NaN values etc... "
   ]
  },
  {
   "cell_type": "code",
   "execution_count": 441,
   "metadata": {},
   "outputs": [
    {
     "data": {
      "text/plain": [
       "True"
      ]
     },
     "execution_count": 441,
     "metadata": {},
     "output_type": "execute_result"
    }
   ],
   "source": [
    "movie_metadata.index.is_unique"
   ]
  },
  {
   "cell_type": "code",
   "execution_count": 442,
   "metadata": {},
   "outputs": [
    {
     "data": {
      "text/plain": [
       "Freebase movie ID           False\n",
       "Movie name                  False\n",
       "Movie release date           True\n",
       "Movie box office revenue     True\n",
       "Movie runtime                True\n",
       "Movie languages             False\n",
       "Movie countries             False\n",
       "Movie genres                False\n",
       "dtype: bool"
      ]
     },
     "execution_count": 442,
     "metadata": {},
     "output_type": "execute_result"
    }
   ],
   "source": [
    "movie_metadata.isna().any()"
   ]
  },
  {
   "cell_type": "code",
   "execution_count": 443,
   "metadata": {},
   "outputs": [
    {
     "name": "stdout",
     "output_type": "stream",
     "text": [
      "Sum of NaN in each feature : \n"
     ]
    },
    {
     "data": {
      "text/plain": [
       "Freebase movie ID               0\n",
       "Movie name                      0\n",
       "Movie release date           6902\n",
       "Movie box office revenue    73340\n",
       "Movie runtime               20450\n",
       "Movie languages                 0\n",
       "Movie countries                 0\n",
       "Movie genres                    0\n",
       "dtype: int64"
      ]
     },
     "execution_count": 443,
     "metadata": {},
     "output_type": "execute_result"
    },
    {
     "data": {
      "image/png": "[encoded data removed]",
      "text/plain": [
       "<Figure size 640x480 with 2 Axes>"
      ]
     },
     "metadata": {},
     "output_type": "display_data"
    }
   ],
   "source": [
    "ax=sns.heatmap(movie_metadata.isna(), yticklabels=False)\n",
    "ax.set(xlabel=\"Features\", ylabel=\"Wikipedia ID\")\n",
    "print('Sum of NaN in each feature : ')\n",
    "movie_metadata.isna().sum(axis = 0)"
   ]
  },
  {
   "cell_type": "code",
   "execution_count": 82,
   "metadata": {},
   "outputs": [
    {
     "name": "stdout",
     "output_type": "stream",
     "text": [
      "Percentage of missing entries in the movie.metadata dataset:\n",
      " Movie release date           8.443743\n",
      "Movie box office revenue    89.722416\n",
      "Movie runtime               25.018045\n",
      "dtype: float64\n"
     ]
    }
   ],
   "source": [
    "n_movie=len(movie_metadata)\n",
    "print('Percentage of missing entries in the movie.metadata dataset:\\n', 100*movie_metadata[['Movie release date', 'Movie box office revenue', 'Movie runtime']].isna().sum() / n_movie)"
   ]
  },
  {
   "cell_type": "markdown",
   "metadata": {},
   "source": [
    "We are missing a lot of the data on the movie box office revenue. Maybe we should try and find those missing informations in another dataset as this could be helpful in our analysis."
   ]
  },
  {
   "cell_type": "code",
   "execution_count": 403,
   "metadata": {},
   "outputs": [
    {
     "data": {
      "text/html": [
       "<div>\n",
       "<style scoped>\n",
       "    .dataframe tbody tr th:only-of-type {\n",
       "        vertical-align: middle;\n",
       "    }\n",
       "\n",
       "    .dataframe tbody tr th {\n",
       "        vertical-align: top;\n",
       "    }\n",
       "\n",
       "    .dataframe thead th {\n",
       "        text-align: right;\n",
       "    }\n",
       "</style>\n",
       "<table border=\"1\" class=\"dataframe\">\n",
       "  <thead>\n",
       "    <tr style=\"text-align: right;\">\n",
       "      <th></th>\n",
       "      <th>Plot Summary</th>\n",
       "    </tr>\n",
       "    <tr>\n",
       "      <th>Wikipedia movie ID</th>\n",
       "      <th></th>\n",
       "    </tr>\n",
       "  </thead>\n",
       "  <tbody>\n",
       "    <tr>\n",
       "      <th>23890098</th>\n",
       "      <td>Shlykov, a hard-working taxi driver and Lyosha...</td>\n",
       "    </tr>\n",
       "    <tr>\n",
       "      <th>31186339</th>\n",
       "      <td>The nation of Panem consists of a wealthy Capi...</td>\n",
       "    </tr>\n",
       "    <tr>\n",
       "      <th>20663735</th>\n",
       "      <td>Poovalli Induchoodan  is sentenced for six yea...</td>\n",
       "    </tr>\n",
       "    <tr>\n",
       "      <th>2231378</th>\n",
       "      <td>The Lemon Drop Kid , a New York City swindler,...</td>\n",
       "    </tr>\n",
       "    <tr>\n",
       "      <th>595909</th>\n",
       "      <td>Seventh-day Adventist Church pastor Michael Ch...</td>\n",
       "    </tr>\n",
       "  </tbody>\n",
       "</table>\n",
       "</div>"
      ],
      "text/plain": [
       "                                                         Plot Summary\n",
       "Wikipedia movie ID                                                   \n",
       "23890098            Shlykov, a hard-working taxi driver and Lyosha...\n",
       "31186339            The nation of Panem consists of a wealthy Capi...\n",
       "20663735            Poovalli Induchoodan  is sentenced for six yea...\n",
       "2231378             The Lemon Drop Kid , a New York City swindler,...\n",
       "595909              Seventh-day Adventist Church pastor Michael Ch..."
      ]
     },
     "execution_count": 403,
     "metadata": {},
     "output_type": "execute_result"
    }
   ],
   "source": [
    "plot_summaries.head()"
   ]
  },
  {
   "cell_type": "code",
   "execution_count": 404,
   "metadata": {},
   "outputs": [
    {
     "data": {
      "text/plain": [
       "True"
      ]
     },
     "execution_count": 404,
     "metadata": {},
     "output_type": "execute_result"
    }
   ],
   "source": [
    "plot_summaries.index.is_unique"
   ]
  },
  {
   "cell_type": "code",
   "execution_count": 405,
   "metadata": {},
   "outputs": [
    {
     "name": "stdout",
     "output_type": "stream",
     "text": [
      "Sum of NaN in each feature : \n"
     ]
    },
    {
     "data": {
      "text/plain": [
       "Plot Summary    0\n",
       "dtype: int64"
      ]
     },
     "execution_count": 405,
     "metadata": {},
     "output_type": "execute_result"
    }
   ],
   "source": [
    "print('Sum of NaN in each feature : ')\n",
    "plot_summaries.isna().sum(axis = 0)"
   ]
  },
  {
   "cell_type": "markdown",
   "metadata": {},
   "source": [
    "The summary dataset seems to be relatively clean "
   ]
  },
  {
   "cell_type": "code",
   "execution_count": 406,
   "metadata": {},
   "outputs": [
    {
     "data": {
      "text/html": [
       "<div>\n",
       "<style scoped>\n",
       "    .dataframe tbody tr th:only-of-type {\n",
       "        vertical-align: middle;\n",
       "    }\n",
       "\n",
       "    .dataframe tbody tr th {\n",
       "        vertical-align: top;\n",
       "    }\n",
       "\n",
       "    .dataframe thead th {\n",
       "        text-align: right;\n",
       "    }\n",
       "</style>\n",
       "<table border=\"1\" class=\"dataframe\">\n",
       "  <thead>\n",
       "    <tr style=\"text-align: right;\">\n",
       "      <th></th>\n",
       "      <th>Freebase movie ID</th>\n",
       "      <th>Movie release date</th>\n",
       "      <th>Character name</th>\n",
       "      <th>Actor date of birth</th>\n",
       "      <th>Actor gender</th>\n",
       "      <th>Actor height</th>\n",
       "      <th>Actor ethnicity</th>\n",
       "      <th>Actor name</th>\n",
       "      <th>Actor age at movie release</th>\n",
       "      <th>Freebase character/actor map ID</th>\n",
       "      <th>Freebase character ID</th>\n",
       "      <th>Freebase actor ID</th>\n",
       "    </tr>\n",
       "    <tr>\n",
       "      <th>Wikipedia movie ID</th>\n",
       "      <th></th>\n",
       "      <th></th>\n",
       "      <th></th>\n",
       "      <th></th>\n",
       "      <th></th>\n",
       "      <th></th>\n",
       "      <th></th>\n",
       "      <th></th>\n",
       "      <th></th>\n",
       "      <th></th>\n",
       "      <th></th>\n",
       "      <th></th>\n",
       "    </tr>\n",
       "  </thead>\n",
       "  <tbody>\n",
       "    <tr>\n",
       "      <th>975900</th>\n",
       "      <td>/m/03vyhn</td>\n",
       "      <td>2001-08-24</td>\n",
       "      <td>Akooshay</td>\n",
       "      <td>1958-08-26</td>\n",
       "      <td>F</td>\n",
       "      <td>1.620</td>\n",
       "      <td>NaN</td>\n",
       "      <td>Wanda De Jesus</td>\n",
       "      <td>42.0</td>\n",
       "      <td>/m/0bgchxw</td>\n",
       "      <td>/m/0bgcj3x</td>\n",
       "      <td>/m/03wcfv7</td>\n",
       "    </tr>\n",
       "    <tr>\n",
       "      <th>975900</th>\n",
       "      <td>/m/03vyhn</td>\n",
       "      <td>2001-08-24</td>\n",
       "      <td>Lieutenant Melanie Ballard</td>\n",
       "      <td>1974-08-15</td>\n",
       "      <td>F</td>\n",
       "      <td>1.780</td>\n",
       "      <td>/m/044038p</td>\n",
       "      <td>Natasha Henstridge</td>\n",
       "      <td>27.0</td>\n",
       "      <td>/m/0jys3m</td>\n",
       "      <td>/m/0bgchn4</td>\n",
       "      <td>/m/0346l4</td>\n",
       "    </tr>\n",
       "    <tr>\n",
       "      <th>975900</th>\n",
       "      <td>/m/03vyhn</td>\n",
       "      <td>2001-08-24</td>\n",
       "      <td>Desolation Williams</td>\n",
       "      <td>1969-06-15</td>\n",
       "      <td>M</td>\n",
       "      <td>1.727</td>\n",
       "      <td>/m/0x67</td>\n",
       "      <td>Ice Cube</td>\n",
       "      <td>32.0</td>\n",
       "      <td>/m/0jys3g</td>\n",
       "      <td>/m/0bgchn_</td>\n",
       "      <td>/m/01vw26l</td>\n",
       "    </tr>\n",
       "    <tr>\n",
       "      <th>975900</th>\n",
       "      <td>/m/03vyhn</td>\n",
       "      <td>2001-08-24</td>\n",
       "      <td>Sgt Jericho Butler</td>\n",
       "      <td>1967-09-12</td>\n",
       "      <td>M</td>\n",
       "      <td>1.750</td>\n",
       "      <td>NaN</td>\n",
       "      <td>Jason Statham</td>\n",
       "      <td>33.0</td>\n",
       "      <td>/m/02vchl6</td>\n",
       "      <td>/m/0bgchnq</td>\n",
       "      <td>/m/034hyc</td>\n",
       "    </tr>\n",
       "    <tr>\n",
       "      <th>975900</th>\n",
       "      <td>/m/03vyhn</td>\n",
       "      <td>2001-08-24</td>\n",
       "      <td>Bashira Kincaid</td>\n",
       "      <td>1977-09-25</td>\n",
       "      <td>F</td>\n",
       "      <td>1.650</td>\n",
       "      <td>NaN</td>\n",
       "      <td>Clea DuVall</td>\n",
       "      <td>23.0</td>\n",
       "      <td>/m/02vbb3r</td>\n",
       "      <td>/m/0bgchp9</td>\n",
       "      <td>/m/01y9xg</td>\n",
       "    </tr>\n",
       "  </tbody>\n",
       "</table>\n",
       "</div>"
      ],
      "text/plain": [
       "                   Freebase movie ID Movie release date  \\\n",
       "Wikipedia movie ID                                        \n",
       "975900                     /m/03vyhn         2001-08-24   \n",
       "975900                     /m/03vyhn         2001-08-24   \n",
       "975900                     /m/03vyhn         2001-08-24   \n",
       "975900                     /m/03vyhn         2001-08-24   \n",
       "975900                     /m/03vyhn         2001-08-24   \n",
       "\n",
       "                                Character name Actor date of birth  \\\n",
       "Wikipedia movie ID                                                   \n",
       "975900                                Akooshay          1958-08-26   \n",
       "975900              Lieutenant Melanie Ballard          1974-08-15   \n",
       "975900                     Desolation Williams          1969-06-15   \n",
       "975900                      Sgt Jericho Butler          1967-09-12   \n",
       "975900                         Bashira Kincaid          1977-09-25   \n",
       "\n",
       "                   Actor gender  Actor height Actor ethnicity  \\\n",
       "Wikipedia movie ID                                              \n",
       "975900                        F         1.620             NaN   \n",
       "975900                        F         1.780      /m/044038p   \n",
       "975900                        M         1.727         /m/0x67   \n",
       "975900                        M         1.750             NaN   \n",
       "975900                        F         1.650             NaN   \n",
       "\n",
       "                            Actor name  Actor age at movie release  \\\n",
       "Wikipedia movie ID                                                   \n",
       "975900                  Wanda De Jesus                        42.0   \n",
       "975900              Natasha Henstridge                        27.0   \n",
       "975900                        Ice Cube                        32.0   \n",
       "975900                   Jason Statham                        33.0   \n",
       "975900                     Clea DuVall                        23.0   \n",
       "\n",
       "                   Freebase character/actor map ID Freebase character ID  \\\n",
       "Wikipedia movie ID                                                         \n",
       "975900                                  /m/0bgchxw            /m/0bgcj3x   \n",
       "975900                                   /m/0jys3m            /m/0bgchn4   \n",
       "975900                                   /m/0jys3g            /m/0bgchn_   \n",
       "975900                                  /m/02vchl6            /m/0bgchnq   \n",
       "975900                                  /m/02vbb3r            /m/0bgchp9   \n",
       "\n",
       "                   Freebase actor ID  \n",
       "Wikipedia movie ID                    \n",
       "975900                    /m/03wcfv7  \n",
       "975900                     /m/0346l4  \n",
       "975900                    /m/01vw26l  \n",
       "975900                     /m/034hyc  \n",
       "975900                     /m/01y9xg  "
      ]
     },
     "execution_count": 406,
     "metadata": {},
     "output_type": "execute_result"
    }
   ],
   "source": [
    "character_metadata.head()"
   ]
  },
  {
   "cell_type": "code",
   "execution_count": 407,
   "metadata": {},
   "outputs": [
    {
     "data": {
      "text/plain": [
       "Freebase movie ID                  False\n",
       "Movie release date                  True\n",
       "Character name                      True\n",
       "Actor date of birth                 True\n",
       "Actor gender                        True\n",
       "Actor height                        True\n",
       "Actor ethnicity                     True\n",
       "Actor name                          True\n",
       "Actor age at movie release          True\n",
       "Freebase character/actor map ID    False\n",
       "Freebase character ID               True\n",
       "Freebase actor ID                   True\n",
       "dtype: bool"
      ]
     },
     "execution_count": 407,
     "metadata": {},
     "output_type": "execute_result"
    }
   ],
   "source": [
    "character_metadata.isna().any()"
   ]
  },
  {
   "cell_type": "code",
   "execution_count": 444,
   "metadata": {},
   "outputs": [
    {
     "name": "stdout",
     "output_type": "stream",
     "text": [
      "Sum of NaN in each feature : \n"
     ]
    },
    {
     "data": {
      "text/plain": [
       "Freebase movie ID                       0\n",
       "Movie release date                   9995\n",
       "Character name                     257875\n",
       "Actor date of birth                106145\n",
       "Actor gender                        45609\n",
       "Actor height                       295845\n",
       "Actor ethnicity                    344611\n",
       "Actor name                           1228\n",
       "Actor age at movie release         158113\n",
       "Freebase character/actor map ID         0\n",
       "Freebase character ID              257865\n",
       "Freebase actor ID                     815\n",
       "dtype: int64"
      ]
     },
     "execution_count": 444,
     "metadata": {},
     "output_type": "execute_result"
    },
    {
     "data": {
      "image/png": "[encoded data removed]",
      "text/plain": [
       "<Figure size 640x480 with 2 Axes>"
      ]
     },
     "metadata": {},
     "output_type": "display_data"
    }
   ],
   "source": [
    "ax=sns.heatmap(character_metadata.isna(), yticklabels=False)\n",
    "ax.set(xlabel=\"Features\", ylabel=\"Wikipedia ID\")\n",
    "print('Sum of NaN in each feature : ')\n",
    "character_metadata.isna().sum(axis = 0)"
   ]
  },
  {
   "cell_type": "code",
   "execution_count": 409,
   "metadata": {},
   "outputs": [
    {
     "name": "stdout",
     "output_type": "stream",
     "text": [
      "Percentage of missing entries in the character.metadata dataset:\n",
      " Freebase movie ID              0.000000\n",
      "Movie release date             2.217814\n",
      "Character name                57.220488\n",
      "Actor date of birth           23.552763\n",
      "Actor gender                  10.120288\n",
      "Actor height                  65.645740\n",
      "Actor ethnicity               76.466542\n",
      "Actor name                     0.272484\n",
      "Actor age at movie release    35.084064\n",
      "Freebase character ID         57.218269\n",
      "Freebase actor ID              0.180842\n",
      "dtype: float64\n"
     ]
    }
   ],
   "source": [
    "n_char=len(character_metadata)\n",
    "print('Percentage of missing entries in the character.metadata dataset:\\n', 100*character_metadata[['Freebase movie ID', 'Movie release date', 'Character name',\n",
    "                                                                                   'Actor date of birth', 'Actor gender', 'Actor height', 'Actor ethnicity',\n",
    "                                                                                   'Actor name', 'Actor age at movie release', 'Freebase character ID',\n",
    "                                                                                   'Freebase actor ID']].isna().sum() / n_char)"
   ]
  },
  {
   "cell_type": "markdown",
   "metadata": {},
   "source": [
    "We are missing a lot of data on actor's and actresses' ethnicities and their heights. This should not affect our analysis a we did not plan on using these features initially."
   ]
  },
  {
   "cell_type": "code",
   "execution_count": 411,
   "metadata": {},
   "outputs": [
    {
     "name": "stdout",
     "output_type": "stream",
     "text": [
      "Number of rows in the movie.metadata dataset : 81741\n",
      "Number of rows in the character.metadata dataset : 450669\n"
     ]
    }
   ],
   "source": [
    "print('Number of rows in the movie.metadata dataset : %d' %n_movie)\n",
    "print('Number of rows in the character.metadata dataset : %d' %n_char)"
   ]
  },
  {
   "cell_type": "code",
   "execution_count": 412,
   "metadata": {},
   "outputs": [
    {
     "name": "stdout",
     "output_type": "stream",
     "text": [
      "What is needed to be processed:\n",
      "Rows with actor age at movie release under or equal to 0: 433\n",
      "Rows with actor height under or equal to 0: 0\n",
      "Rows with movie runtime under or equal to 0: 1\n"
     ]
    }
   ],
   "source": [
    "print(\"What is needed to be processed:\")\n",
    "print(\"Rows with actor age at movie release under or equal to 0: %d\" %len(character_metadata[character_metadata['Actor age at movie release']<=0]))\n",
    "print(\"Rows with actor height under or equal to 0: %d\" %len(character_metadata[character_metadata['Actor height']<=0]))\n",
    "print(\"Rows with movie runtime under or equal to 0: %d\" %len(movie_metadata[movie_metadata['Movie runtime']<=0]))"
   ]
  },
  {
   "cell_type": "code",
   "execution_count": 413,
   "metadata": {},
   "outputs": [
    {
     "name": "stdout",
     "output_type": "stream",
     "text": [
      "Freebase movie ID has 0 duplicated rows\n",
      "Movie name has 6263 duplicated rows\n",
      "Movie release date has 61351 duplicated rows\n",
      "Movie box office revenue has 74378 duplicated rows\n",
      "Movie runtime has 81143 duplicated rows\n",
      "Movie languages has 79924 duplicated rows\n",
      "Movie countries has 79617 duplicated rows\n",
      "Movie genres has 57924 duplicated rows\n"
     ]
    }
   ],
   "source": [
    "#Looking for duplicates in our datasets\n",
    "for f in movie_metadata.columns:\n",
    "    dupl = movie_metadata[f].duplicated().sum()\n",
    "    print(\"{} has {} duplicated rows\".format(f, dupl))"
   ]
  },
  {
   "cell_type": "code",
   "execution_count": 414,
   "metadata": {},
   "outputs": [
    {
     "data": {
      "text/html": [
       "<div>\n",
       "<style scoped>\n",
       "    .dataframe tbody tr th:only-of-type {\n",
       "        vertical-align: middle;\n",
       "    }\n",
       "\n",
       "    .dataframe tbody tr th {\n",
       "        vertical-align: top;\n",
       "    }\n",
       "\n",
       "    .dataframe thead th {\n",
       "        text-align: right;\n",
       "    }\n",
       "</style>\n",
       "<table border=\"1\" class=\"dataframe\">\n",
       "  <thead>\n",
       "    <tr style=\"text-align: right;\">\n",
       "      <th></th>\n",
       "      <th>Freebase movie ID</th>\n",
       "      <th>Movie name</th>\n",
       "      <th>Movie release date</th>\n",
       "      <th>Movie box office revenue</th>\n",
       "      <th>Movie runtime</th>\n",
       "      <th>Movie languages</th>\n",
       "      <th>Movie countries</th>\n",
       "      <th>Movie genres</th>\n",
       "    </tr>\n",
       "    <tr>\n",
       "      <th>Wikipedia movie ID</th>\n",
       "      <th></th>\n",
       "      <th></th>\n",
       "      <th></th>\n",
       "      <th></th>\n",
       "      <th></th>\n",
       "      <th></th>\n",
       "      <th></th>\n",
       "      <th></th>\n",
       "    </tr>\n",
       "  </thead>\n",
       "  <tbody>\n",
       "    <tr>\n",
       "      <th>29666067</th>\n",
       "      <td>/m/0fphzrf</td>\n",
       "      <td>Hunting Season</td>\n",
       "      <td>1010-12-02</td>\n",
       "      <td>12160978.0</td>\n",
       "      <td>140.0</td>\n",
       "      <td>[Turkish Language, English Language]</td>\n",
       "      <td>[Turkey]</td>\n",
       "      <td>[Crime Fiction, Mystery, Drama, Thriller]</td>\n",
       "    </tr>\n",
       "  </tbody>\n",
       "</table>\n",
       "</div>"
      ],
      "text/plain": [
       "                   Freebase movie ID      Movie name Movie release date  \\\n",
       "Wikipedia movie ID                                                        \n",
       "29666067                  /m/0fphzrf  Hunting Season         1010-12-02   \n",
       "\n",
       "                    Movie box office revenue  Movie runtime  \\\n",
       "Wikipedia movie ID                                            \n",
       "29666067                          12160978.0          140.0   \n",
       "\n",
       "                                         Movie languages Movie countries  \\\n",
       "Wikipedia movie ID                                                         \n",
       "29666067            [Turkish Language, English Language]        [Turkey]   \n",
       "\n",
       "                                                 Movie genres  \n",
       "Wikipedia movie ID                                             \n",
       "29666067            [Crime Fiction, Mystery, Drama, Thriller]  "
      ]
     },
     "execution_count": 414,
     "metadata": {},
     "output_type": "execute_result"
    }
   ],
   "source": [
    "movie_metadata[movie_metadata[\"Movie name\"]==\"Hunting Season\"]"
   ]
  },
  {
   "cell_type": "code",
   "execution_count": 415,
   "metadata": {},
   "outputs": [
    {
     "data": {
      "text/plain": [
       "Freebase movie ID            object\n",
       "Movie name                   object\n",
       "Movie release date           object\n",
       "Movie box office revenue    float64\n",
       "Movie runtime               float64\n",
       "Movie languages              object\n",
       "Movie countries              object\n",
       "Movie genres                 object\n",
       "dtype: object"
      ]
     },
     "execution_count": 415,
     "metadata": {},
     "output_type": "execute_result"
    }
   ],
   "source": [
    "movie_metadata.dtypes"
   ]
  },
  {
   "cell_type": "markdown",
   "metadata": {},
   "source": [
    "Some dates only include de the year"
   ]
  },
  {
   "cell_type": "code",
   "execution_count": 453,
   "metadata": {},
   "outputs": [
    {
     "data": {
      "text/html": [
       "<div>\n",
       "<style scoped>\n",
       "    .dataframe tbody tr th:only-of-type {\n",
       "        vertical-align: middle;\n",
       "    }\n",
       "\n",
       "    .dataframe tbody tr th {\n",
       "        vertical-align: top;\n",
       "    }\n",
       "\n",
       "    .dataframe thead th {\n",
       "        text-align: right;\n",
       "    }\n",
       "</style>\n",
       "<table border=\"1\" class=\"dataframe\">\n",
       "  <thead>\n",
       "    <tr style=\"text-align: right;\">\n",
       "      <th></th>\n",
       "      <th>Freebase movie ID</th>\n",
       "      <th>Movie name</th>\n",
       "      <th>Movie release date</th>\n",
       "      <th>Movie box office revenue</th>\n",
       "      <th>Movie runtime</th>\n",
       "      <th>Movie languages</th>\n",
       "      <th>Movie countries</th>\n",
       "      <th>Movie genres</th>\n",
       "    </tr>\n",
       "    <tr>\n",
       "      <th>Wikipedia movie ID</th>\n",
       "      <th></th>\n",
       "      <th></th>\n",
       "      <th></th>\n",
       "      <th></th>\n",
       "      <th></th>\n",
       "      <th></th>\n",
       "      <th></th>\n",
       "      <th></th>\n",
       "    </tr>\n",
       "  </thead>\n",
       "  <tbody>\n",
       "    <tr>\n",
       "      <th>975900</th>\n",
       "      <td>/m/03vyhn</td>\n",
       "      <td>Ghosts of Mars</td>\n",
       "      <td>2001-08-24</td>\n",
       "      <td>14010832.0</td>\n",
       "      <td>98.0</td>\n",
       "      <td>[English Language]</td>\n",
       "      <td>[United States of America]</td>\n",
       "      <td>[Thriller, Science Fiction, Horror, Adventure,...</td>\n",
       "    </tr>\n",
       "    <tr>\n",
       "      <th>3196793</th>\n",
       "      <td>/m/08yl5d</td>\n",
       "      <td>Getting Away with Murder: The JonBenét Ramsey ...</td>\n",
       "      <td>2000-02-16</td>\n",
       "      <td>NaN</td>\n",
       "      <td>95.0</td>\n",
       "      <td>[English Language]</td>\n",
       "      <td>[United States of America]</td>\n",
       "      <td>[Mystery, Biographical film, Drama, Crime Drama]</td>\n",
       "    </tr>\n",
       "    <tr>\n",
       "      <th>28463795</th>\n",
       "      <td>/m/0crgdbh</td>\n",
       "      <td>Brun bitter</td>\n",
       "      <td>1988-01-01</td>\n",
       "      <td>NaN</td>\n",
       "      <td>83.0</td>\n",
       "      <td>[Norwegian Language]</td>\n",
       "      <td>[Norway]</td>\n",
       "      <td>[Crime Fiction, Drama]</td>\n",
       "    </tr>\n",
       "    <tr>\n",
       "      <th>9363483</th>\n",
       "      <td>/m/0285_cd</td>\n",
       "      <td>White Of The Eye</td>\n",
       "      <td>1987-01-01</td>\n",
       "      <td>NaN</td>\n",
       "      <td>110.0</td>\n",
       "      <td>[English Language]</td>\n",
       "      <td>[United Kingdom]</td>\n",
       "      <td>[Thriller, Erotic thriller, Psychological thri...</td>\n",
       "    </tr>\n",
       "    <tr>\n",
       "      <th>261236</th>\n",
       "      <td>/m/01mrr1</td>\n",
       "      <td>A Woman in Flames</td>\n",
       "      <td>1983-01-01</td>\n",
       "      <td>NaN</td>\n",
       "      <td>106.0</td>\n",
       "      <td>[German Language]</td>\n",
       "      <td>[Germany]</td>\n",
       "      <td>[Drama]</td>\n",
       "    </tr>\n",
       "    <tr>\n",
       "      <th>...</th>\n",
       "      <td>...</td>\n",
       "      <td>...</td>\n",
       "      <td>...</td>\n",
       "      <td>...</td>\n",
       "      <td>...</td>\n",
       "      <td>...</td>\n",
       "      <td>...</td>\n",
       "      <td>...</td>\n",
       "    </tr>\n",
       "    <tr>\n",
       "      <th>35228177</th>\n",
       "      <td>/m/0j7hxnt</td>\n",
       "      <td>Mermaids: The Body Found</td>\n",
       "      <td>2011-03-19</td>\n",
       "      <td>NaN</td>\n",
       "      <td>120.0</td>\n",
       "      <td>[English Language]</td>\n",
       "      <td>[United States of America]</td>\n",
       "      <td>[Drama]</td>\n",
       "    </tr>\n",
       "    <tr>\n",
       "      <th>34980460</th>\n",
       "      <td>/m/0g4pl34</td>\n",
       "      <td>Knuckle</td>\n",
       "      <td>2011-01-21</td>\n",
       "      <td>NaN</td>\n",
       "      <td>96.0</td>\n",
       "      <td>[English Language]</td>\n",
       "      <td>[Ireland, United Kingdom]</td>\n",
       "      <td>[Biographical film, Drama, Documentary]</td>\n",
       "    </tr>\n",
       "    <tr>\n",
       "      <th>9971909</th>\n",
       "      <td>/m/02pygw1</td>\n",
       "      <td>Another Nice Mess</td>\n",
       "      <td>1972-09-22</td>\n",
       "      <td>NaN</td>\n",
       "      <td>66.0</td>\n",
       "      <td>[English Language]</td>\n",
       "      <td>[United States of America]</td>\n",
       "      <td>[Satire, Comedy]</td>\n",
       "    </tr>\n",
       "    <tr>\n",
       "      <th>913762</th>\n",
       "      <td>/m/03pcrp</td>\n",
       "      <td>The Super Dimension Fortress Macross II: Lover...</td>\n",
       "      <td>1992-05-21</td>\n",
       "      <td>NaN</td>\n",
       "      <td>150.0</td>\n",
       "      <td>[Japanese Language]</td>\n",
       "      <td>[Japan]</td>\n",
       "      <td>[Science Fiction, Japanese Movies, Adventure, ...</td>\n",
       "    </tr>\n",
       "    <tr>\n",
       "      <th>12476867</th>\n",
       "      <td>/m/02w7zz8</td>\n",
       "      <td>Spliced</td>\n",
       "      <td>2002-01-01</td>\n",
       "      <td>NaN</td>\n",
       "      <td>86.0</td>\n",
       "      <td>[English Language]</td>\n",
       "      <td>[Canada]</td>\n",
       "      <td>[Thriller, Horror, Slasher, Teen]</td>\n",
       "    </tr>\n",
       "  </tbody>\n",
       "</table>\n",
       "<p>81741 rows × 8 columns</p>\n",
       "</div>"
      ],
      "text/plain": [
       "                   Freebase movie ID  \\\n",
       "Wikipedia movie ID                     \n",
       "975900                     /m/03vyhn   \n",
       "3196793                    /m/08yl5d   \n",
       "28463795                  /m/0crgdbh   \n",
       "9363483                   /m/0285_cd   \n",
       "261236                     /m/01mrr1   \n",
       "...                              ...   \n",
       "35228177                  /m/0j7hxnt   \n",
       "34980460                  /m/0g4pl34   \n",
       "9971909                   /m/02pygw1   \n",
       "913762                     /m/03pcrp   \n",
       "12476867                  /m/02w7zz8   \n",
       "\n",
       "                                                           Movie name  \\\n",
       "Wikipedia movie ID                                                      \n",
       "975900                                                 Ghosts of Mars   \n",
       "3196793             Getting Away with Murder: The JonBenét Ramsey ...   \n",
       "28463795                                                  Brun bitter   \n",
       "9363483                                              White Of The Eye   \n",
       "261236                                              A Woman in Flames   \n",
       "...                                                               ...   \n",
       "35228177                                     Mermaids: The Body Found   \n",
       "34980460                                                      Knuckle   \n",
       "9971909                                             Another Nice Mess   \n",
       "913762              The Super Dimension Fortress Macross II: Lover...   \n",
       "12476867                                                      Spliced   \n",
       "\n",
       "                   Movie release date  Movie box office revenue  \\\n",
       "Wikipedia movie ID                                                \n",
       "975900                     2001-08-24                14010832.0   \n",
       "3196793                    2000-02-16                       NaN   \n",
       "28463795                   1988-01-01                       NaN   \n",
       "9363483                    1987-01-01                       NaN   \n",
       "261236                     1983-01-01                       NaN   \n",
       "...                               ...                       ...   \n",
       "35228177                   2011-03-19                       NaN   \n",
       "34980460                   2011-01-21                       NaN   \n",
       "9971909                    1972-09-22                       NaN   \n",
       "913762                     1992-05-21                       NaN   \n",
       "12476867                   2002-01-01                       NaN   \n",
       "\n",
       "                    Movie runtime       Movie languages  \\\n",
       "Wikipedia movie ID                                        \n",
       "975900                       98.0    [English Language]   \n",
       "3196793                      95.0    [English Language]   \n",
       "28463795                     83.0  [Norwegian Language]   \n",
       "9363483                     110.0    [English Language]   \n",
       "261236                      106.0     [German Language]   \n",
       "...                           ...                   ...   \n",
       "35228177                    120.0    [English Language]   \n",
       "34980460                     96.0    [English Language]   \n",
       "9971909                      66.0    [English Language]   \n",
       "913762                      150.0   [Japanese Language]   \n",
       "12476867                     86.0    [English Language]   \n",
       "\n",
       "                               Movie countries  \\\n",
       "Wikipedia movie ID                               \n",
       "975900              [United States of America]   \n",
       "3196793             [United States of America]   \n",
       "28463795                              [Norway]   \n",
       "9363483                       [United Kingdom]   \n",
       "261236                               [Germany]   \n",
       "...                                        ...   \n",
       "35228177            [United States of America]   \n",
       "34980460             [Ireland, United Kingdom]   \n",
       "9971909             [United States of America]   \n",
       "913762                                 [Japan]   \n",
       "12476867                              [Canada]   \n",
       "\n",
       "                                                         Movie genres  \n",
       "Wikipedia movie ID                                                     \n",
       "975900              [Thriller, Science Fiction, Horror, Adventure,...  \n",
       "3196793              [Mystery, Biographical film, Drama, Crime Drama]  \n",
       "28463795                                       [Crime Fiction, Drama]  \n",
       "9363483             [Thriller, Erotic thriller, Psychological thri...  \n",
       "261236                                                        [Drama]  \n",
       "...                                                               ...  \n",
       "35228177                                                      [Drama]  \n",
       "34980460                      [Biographical film, Drama, Documentary]  \n",
       "9971909                                              [Satire, Comedy]  \n",
       "913762              [Science Fiction, Japanese Movies, Adventure, ...  \n",
       "12476867                            [Thriller, Horror, Slasher, Teen]  \n",
       "\n",
       "[81741 rows x 8 columns]"
      ]
     },
     "execution_count": 453,
     "metadata": {},
     "output_type": "execute_result"
    }
   ],
   "source": [
    "#01-01-Year for movies only including a year for the dates\n",
    "movie_metadata[\"Movie release date\"] = pd.to_datetime(movie_metadata[\"Movie release date\"],errors='coerce') \n",
    "movie_metadata"
   ]
  },
  {
   "cell_type": "markdown",
   "metadata": {},
   "source": [
    "We can see that the release date of this movie is wrong. 1010-12-02 should be 2010-12-03."
   ]
  },
  {
   "cell_type": "code",
   "execution_count": 417,
   "metadata": {},
   "outputs": [],
   "source": [
    "movie_metadata.loc[movie_metadata['Movie release date'] == '1010-12-02','Movie release date'] = '2010-12-02'"
   ]
  },
  {
   "cell_type": "code",
   "execution_count": 418,
   "metadata": {},
   "outputs": [
    {
     "data": {
      "text/html": [
       "<div>\n",
       "<style scoped>\n",
       "    .dataframe tbody tr th:only-of-type {\n",
       "        vertical-align: middle;\n",
       "    }\n",
       "\n",
       "    .dataframe tbody tr th {\n",
       "        vertical-align: top;\n",
       "    }\n",
       "\n",
       "    .dataframe thead th {\n",
       "        text-align: right;\n",
       "    }\n",
       "</style>\n",
       "<table border=\"1\" class=\"dataframe\">\n",
       "  <thead>\n",
       "    <tr style=\"text-align: right;\">\n",
       "      <th></th>\n",
       "      <th>Freebase movie ID</th>\n",
       "      <th>Movie name</th>\n",
       "      <th>Movie release date</th>\n",
       "      <th>Movie box office revenue</th>\n",
       "      <th>Movie runtime</th>\n",
       "      <th>Movie languages</th>\n",
       "      <th>Movie countries</th>\n",
       "      <th>Movie genres</th>\n",
       "    </tr>\n",
       "    <tr>\n",
       "      <th>Wikipedia movie ID</th>\n",
       "      <th></th>\n",
       "      <th></th>\n",
       "      <th></th>\n",
       "      <th></th>\n",
       "      <th></th>\n",
       "      <th></th>\n",
       "      <th></th>\n",
       "      <th></th>\n",
       "    </tr>\n",
       "  </thead>\n",
       "  <tbody>\n",
       "    <tr>\n",
       "      <th>29666067</th>\n",
       "      <td>/m/0fphzrf</td>\n",
       "      <td>Hunting Season</td>\n",
       "      <td>2010-12-02</td>\n",
       "      <td>12160978.0</td>\n",
       "      <td>140.0</td>\n",
       "      <td>[Turkish Language, English Language]</td>\n",
       "      <td>[Turkey]</td>\n",
       "      <td>[Crime Fiction, Mystery, Drama, Thriller]</td>\n",
       "    </tr>\n",
       "  </tbody>\n",
       "</table>\n",
       "</div>"
      ],
      "text/plain": [
       "                   Freebase movie ID      Movie name Movie release date  \\\n",
       "Wikipedia movie ID                                                        \n",
       "29666067                  /m/0fphzrf  Hunting Season         2010-12-02   \n",
       "\n",
       "                    Movie box office revenue  Movie runtime  \\\n",
       "Wikipedia movie ID                                            \n",
       "29666067                          12160978.0          140.0   \n",
       "\n",
       "                                         Movie languages Movie countries  \\\n",
       "Wikipedia movie ID                                                         \n",
       "29666067            [Turkish Language, English Language]        [Turkey]   \n",
       "\n",
       "                                                 Movie genres  \n",
       "Wikipedia movie ID                                             \n",
       "29666067            [Crime Fiction, Mystery, Drama, Thriller]  "
      ]
     },
     "execution_count": 418,
     "metadata": {},
     "output_type": "execute_result"
    }
   ],
   "source": [
    "movie_metadata[movie_metadata[\"Movie name\"]==\"Hunting Season\"]"
   ]
  },
  {
   "cell_type": "code",
   "execution_count": 457,
   "metadata": {},
   "outputs": [
    {
     "ename": "StopIteration",
     "evalue": "",
     "output_type": "error",
     "traceback": [
      "\u001b[0;31m---------------------------------------------------------------------------\u001b[0m",
      "\u001b[0;31mStopIteration\u001b[0m                             Traceback (most recent call last)",
      "Cell \u001b[0;32mIn [457], line 1\u001b[0m\n\u001b[0;32m----> 1\u001b[0m sns\u001b[39m.\u001b[39mhistplot(data\u001b[39m=\u001b[39mmovie_metadata)\n\u001b[1;32m      2\u001b[0m plt\u001b[39m.\u001b[39mtitle(\u001b[39m'\u001b[39m\u001b[39mMovie release year\u001b[39m\u001b[39m'\u001b[39m)\n",
      "File \u001b[0;32m~/Library/Python/3.8/lib/python/site-packages/seaborn/distributions.py:1418\u001b[0m, in \u001b[0;36mhistplot\u001b[0;34m(data, x, y, hue, weights, stat, bins, binwidth, binrange, discrete, cumulative, common_bins, common_norm, multiple, element, fill, shrink, kde, kde_kws, line_kws, thresh, pthresh, pmax, cbar, cbar_ax, cbar_kws, palette, hue_order, hue_norm, color, log_scale, legend, ax, **kwargs)\u001b[0m\n\u001b[1;32m   1416\u001b[0m     \u001b[39melse\u001b[39;00m:\n\u001b[1;32m   1417\u001b[0m         method \u001b[39m=\u001b[39m ax\u001b[39m.\u001b[39mplot\n\u001b[0;32m-> 1418\u001b[0m     color \u001b[39m=\u001b[39m _default_color(method, hue, color, kwargs)\n\u001b[1;32m   1420\u001b[0m \u001b[39mif\u001b[39;00m \u001b[39mnot\u001b[39;00m p\u001b[39m.\u001b[39mhas_xy_data:\n\u001b[1;32m   1421\u001b[0m     \u001b[39mreturn\u001b[39;00m ax\n",
      "File \u001b[0;32m~/Library/Python/3.8/lib/python/site-packages/seaborn/utils.py:139\u001b[0m, in \u001b[0;36m_default_color\u001b[0;34m(method, hue, color, kws)\u001b[0m\n\u001b[1;32m    134\u001b[0m     scout\u001b[39m.\u001b[39mremove()\n\u001b[1;32m    136\u001b[0m \u001b[39melif\u001b[39;00m method\u001b[39m.\u001b[39m\u001b[39m__name__\u001b[39m \u001b[39m==\u001b[39m \u001b[39m\"\u001b[39m\u001b[39mbar\u001b[39m\u001b[39m\"\u001b[39m:\n\u001b[1;32m    137\u001b[0m \n\u001b[1;32m    138\u001b[0m     \u001b[39m# bar() needs masked, not empty data, to generate a patch\u001b[39;00m\n\u001b[0;32m--> 139\u001b[0m     scout, \u001b[39m=\u001b[39m method([np\u001b[39m.\u001b[39;49mnan], [np\u001b[39m.\u001b[39;49mnan], \u001b[39m*\u001b[39;49m\u001b[39m*\u001b[39;49mkws)\n\u001b[1;32m    140\u001b[0m     color \u001b[39m=\u001b[39m to_rgb(scout\u001b[39m.\u001b[39mget_facecolor())\n\u001b[1;32m    141\u001b[0m     scout\u001b[39m.\u001b[39mremove()\n",
      "File \u001b[0;32m~/Library/Python/3.8/lib/python/site-packages/matplotlib/__init__.py:1423\u001b[0m, in \u001b[0;36m_preprocess_data.<locals>.inner\u001b[0;34m(ax, data, *args, **kwargs)\u001b[0m\n\u001b[1;32m   1420\u001b[0m \u001b[39m@functools\u001b[39m\u001b[39m.\u001b[39mwraps(func)\n\u001b[1;32m   1421\u001b[0m \u001b[39mdef\u001b[39;00m \u001b[39minner\u001b[39m(ax, \u001b[39m*\u001b[39margs, data\u001b[39m=\u001b[39m\u001b[39mNone\u001b[39;00m, \u001b[39m*\u001b[39m\u001b[39m*\u001b[39mkwargs):\n\u001b[1;32m   1422\u001b[0m     \u001b[39mif\u001b[39;00m data \u001b[39mis\u001b[39;00m \u001b[39mNone\u001b[39;00m:\n\u001b[0;32m-> 1423\u001b[0m         \u001b[39mreturn\u001b[39;00m func(ax, \u001b[39m*\u001b[39;49m\u001b[39mmap\u001b[39;49m(sanitize_sequence, args), \u001b[39m*\u001b[39;49m\u001b[39m*\u001b[39;49mkwargs)\n\u001b[1;32m   1425\u001b[0m     bound \u001b[39m=\u001b[39m new_sig\u001b[39m.\u001b[39mbind(ax, \u001b[39m*\u001b[39margs, \u001b[39m*\u001b[39m\u001b[39m*\u001b[39mkwargs)\n\u001b[1;32m   1426\u001b[0m     auto_label \u001b[39m=\u001b[39m (bound\u001b[39m.\u001b[39marguments\u001b[39m.\u001b[39mget(label_namer)\n\u001b[1;32m   1427\u001b[0m                   \u001b[39mor\u001b[39;00m bound\u001b[39m.\u001b[39mkwargs\u001b[39m.\u001b[39mget(label_namer))\n",
      "File \u001b[0;32m~/Library/Python/3.8/lib/python/site-packages/matplotlib/axes/_axes.py:2373\u001b[0m, in \u001b[0;36mAxes.bar\u001b[0;34m(self, x, height, width, bottom, align, **kwargs)\u001b[0m\n\u001b[1;32m   2371\u001b[0m x0 \u001b[39m=\u001b[39m x\n\u001b[1;32m   2372\u001b[0m x \u001b[39m=\u001b[39m np\u001b[39m.\u001b[39masarray(\u001b[39mself\u001b[39m\u001b[39m.\u001b[39mconvert_xunits(x))\n\u001b[0;32m-> 2373\u001b[0m width \u001b[39m=\u001b[39m \u001b[39mself\u001b[39;49m\u001b[39m.\u001b[39;49m_convert_dx(width, x0, x, \u001b[39mself\u001b[39;49m\u001b[39m.\u001b[39;49mconvert_xunits)\n\u001b[1;32m   2374\u001b[0m \u001b[39mif\u001b[39;00m xerr \u001b[39mis\u001b[39;00m \u001b[39mnot\u001b[39;00m \u001b[39mNone\u001b[39;00m:\n\u001b[1;32m   2375\u001b[0m     xerr \u001b[39m=\u001b[39m \u001b[39mself\u001b[39m\u001b[39m.\u001b[39m_convert_dx(xerr, x0, x, \u001b[39mself\u001b[39m\u001b[39m.\u001b[39mconvert_xunits)\n",
      "File \u001b[0;32m~/Library/Python/3.8/lib/python/site-packages/matplotlib/axes/_axes.py:2182\u001b[0m, in \u001b[0;36mAxes._convert_dx\u001b[0;34m(dx, x0, xconv, convert)\u001b[0m\n\u001b[1;32m   2170\u001b[0m \u001b[39mtry\u001b[39;00m:\n\u001b[1;32m   2171\u001b[0m     \u001b[39m# attempt to add the width to x0; this works for\u001b[39;00m\n\u001b[1;32m   2172\u001b[0m     \u001b[39m# datetime+timedelta, for instance\u001b[39;00m\n\u001b[0;32m   (...)\u001b[0m\n\u001b[1;32m   2179\u001b[0m     \u001b[39m# removes the units from unit packages like `pint` that\u001b[39;00m\n\u001b[1;32m   2180\u001b[0m     \u001b[39m# wrap numpy arrays.\u001b[39;00m\n\u001b[1;32m   2181\u001b[0m     \u001b[39mtry\u001b[39;00m:\n\u001b[0;32m-> 2182\u001b[0m         x0 \u001b[39m=\u001b[39m cbook\u001b[39m.\u001b[39;49m_safe_first_finite(x0)\n\u001b[1;32m   2183\u001b[0m     \u001b[39mexcept\u001b[39;00m (\u001b[39mTypeError\u001b[39;00m, \u001b[39mIndexError\u001b[39;00m, \u001b[39mKeyError\u001b[39;00m):\n\u001b[1;32m   2184\u001b[0m         \u001b[39mpass\u001b[39;00m\n",
      "File \u001b[0;32m~/Library/Python/3.8/lib/python/site-packages/matplotlib/cbook/__init__.py:1749\u001b[0m, in \u001b[0;36m_safe_first_finite\u001b[0;34m(obj, skip_nonfinite)\u001b[0m\n\u001b[1;32m   1746\u001b[0m     \u001b[39mraise\u001b[39;00m \u001b[39mRuntimeError\u001b[39;00m(\u001b[39m\"\u001b[39m\u001b[39mmatplotlib does not \u001b[39m\u001b[39m\"\u001b[39m\n\u001b[1;32m   1747\u001b[0m                        \u001b[39m\"\u001b[39m\u001b[39msupport generators as input\u001b[39m\u001b[39m\"\u001b[39m)\n\u001b[1;32m   1748\u001b[0m \u001b[39melse\u001b[39;00m:\n\u001b[0;32m-> 1749\u001b[0m     \u001b[39mreturn\u001b[39;00m \u001b[39mnext\u001b[39;49m(val \u001b[39mfor\u001b[39;49;00m val \u001b[39min\u001b[39;49;00m obj \u001b[39mif\u001b[39;49;00m safe_isfinite(val))\n",
      "\u001b[0;31mStopIteration\u001b[0m: "
     ]
    },
    {
     "data": {
      "image/png": "[encoded data removed]",
      "text/plain": [
       "<Figure size 640x480 with 1 Axes>"
      ]
     },
     "metadata": {},
     "output_type": "display_data"
    }
   ],
   "source": [
    "sns.histplot(data=movie_metadata)\n",
    "plt.title('Movie release year')"
   ]
  },
  {
   "cell_type": "code",
   "execution_count": 152,
   "metadata": {},
   "outputs": [
    {
     "data": {
      "text/plain": [
       "\"\\nmovie_metadata['Movie release date'] = pd.to_datetime(movie_metadata['Movie release date'],format='%Y-%m-%d').dt.year\\ncharacter_metadata['Movie release date'] = pd.to_datetime(character_metadata['Movie release date'],format='%Y-%m-%d').dt.year\\ncharacter_metadata['Actor date of birth'] = pd.to_datetime(character_metadata['Actor date of birth'],format='%Y-%m-%d').dt.year\\n\""
      ]
     },
     "execution_count": 152,
     "metadata": {},
     "output_type": "execute_result"
    }
   ],
   "source": [
    "'''\n",
    "movie_metadata['Movie release date'] = pd.to_datetime(movie_metadata['Movie release date'],format='%Y-%m-%d').dt.year\n",
    "character_metadata['Movie release date'] = pd.to_datetime(character_metadata['Movie release date'],format='%Y-%m-%d').dt.year\n",
    "character_metadata['Actor date of birth'] = pd.to_datetime(character_metadata['Actor date of birth'],format='%Y-%m-%d').dt.year\n",
    "'''"
   ]
  },
  {
   "cell_type": "markdown",
   "metadata": {},
   "source": [
    "## First analyses gender related "
   ]
  },
  {
   "cell_type": "code",
   "execution_count": 419,
   "metadata": {},
   "outputs": [
    {
     "data": {
      "image/png": "[encoded data removed]",
      "text/plain": [
       "<Figure size 640x480 with 1 Axes>"
      ]
     },
     "metadata": {},
     "output_type": "display_data"
    }
   ],
   "source": [
    "fem_act = character_metadata[character_metadata['Actor gender'] == 'F']\n",
    "masc_act = character_metadata[character_metadata['Actor gender'] == 'M']\n",
    "plt.pie(np.array([fem_act['Actor name'].nunique(),masc_act['Actor name'].nunique()]),labels=['women','men'],colors = ['#c2c2f0','#ffb3e6'],autopct='%1.1f%%',shadow=True)\n",
    "plt.title('Percentage of women and men in the character metadata')\n",
    "plt.show()"
   ]
  },
  {
   "cell_type": "code",
   "execution_count": 420,
   "metadata": {},
   "outputs": [],
   "source": [
    "#replace NaN values with 0\n",
    "character_metadata_clean = character_metadata.fillna(0)\n",
    "movie_metadata_clean = movie_metadata.fillna(0)"
   ]
  },
  {
   "cell_type": "code",
   "execution_count": 421,
   "metadata": {},
   "outputs": [
    {
     "data": {
      "text/html": [
       "<div>\n",
       "<style scoped>\n",
       "    .dataframe tbody tr th:only-of-type {\n",
       "        vertical-align: middle;\n",
       "    }\n",
       "\n",
       "    .dataframe tbody tr th {\n",
       "        vertical-align: top;\n",
       "    }\n",
       "\n",
       "    .dataframe thead th {\n",
       "        text-align: right;\n",
       "    }\n",
       "</style>\n",
       "<table border=\"1\" class=\"dataframe\">\n",
       "  <thead>\n",
       "    <tr style=\"text-align: right;\">\n",
       "      <th></th>\n",
       "      <th>Freebase movie ID</th>\n",
       "      <th>Movie name</th>\n",
       "      <th>Movie release date</th>\n",
       "      <th>Movie box office revenue</th>\n",
       "      <th>Movie runtime</th>\n",
       "      <th>Movie languages</th>\n",
       "      <th>Movie countries</th>\n",
       "      <th>Movie genres</th>\n",
       "    </tr>\n",
       "    <tr>\n",
       "      <th>Wikipedia movie ID</th>\n",
       "      <th></th>\n",
       "      <th></th>\n",
       "      <th></th>\n",
       "      <th></th>\n",
       "      <th></th>\n",
       "      <th></th>\n",
       "      <th></th>\n",
       "      <th></th>\n",
       "    </tr>\n",
       "  </thead>\n",
       "  <tbody>\n",
       "    <tr>\n",
       "      <th>21926710</th>\n",
       "      <td>/m/05p45cv</td>\n",
       "      <td>White on Rice</td>\n",
       "      <td>2009-01-01</td>\n",
       "      <td>0.0</td>\n",
       "      <td>82.0</td>\n",
       "      <td>[]</td>\n",
       "      <td>[United States of America]</td>\n",
       "      <td>[Romantic comedy, Romance Film, Comedy, Indie]</td>\n",
       "    </tr>\n",
       "    <tr>\n",
       "      <th>20604092</th>\n",
       "      <td>/m/0523t_1</td>\n",
       "      <td>Anbu Thozhi</td>\n",
       "      <td>2007-08-17</td>\n",
       "      <td>0.0</td>\n",
       "      <td>0.0</td>\n",
       "      <td>[Tamil Language]</td>\n",
       "      <td>[India]</td>\n",
       "      <td>[Romance Film]</td>\n",
       "    </tr>\n",
       "    <tr>\n",
       "      <th>29772142</th>\n",
       "      <td>/m/0fq260_</td>\n",
       "      <td>Karayilekku Oru Kadal Dooram</td>\n",
       "      <td>2010-12-31</td>\n",
       "      <td>0.0</td>\n",
       "      <td>110.0</td>\n",
       "      <td>[Malayalam Language]</td>\n",
       "      <td>[India]</td>\n",
       "      <td>[Drama]</td>\n",
       "    </tr>\n",
       "    <tr>\n",
       "      <th>26623942</th>\n",
       "      <td>/m/0bh9fbk</td>\n",
       "      <td>Kausthubham</td>\n",
       "      <td>2010-03-19</td>\n",
       "      <td>0.0</td>\n",
       "      <td>0.0</td>\n",
       "      <td>[Malayalam Language]</td>\n",
       "      <td>[India]</td>\n",
       "      <td>[Drama]</td>\n",
       "    </tr>\n",
       "    <tr>\n",
       "      <th>32445576</th>\n",
       "      <td>/m/0gyv1h1</td>\n",
       "      <td>Vinayaka Geleyara Balaga</td>\n",
       "      <td>2011-07-15</td>\n",
       "      <td>0.0</td>\n",
       "      <td>0.0</td>\n",
       "      <td>[]</td>\n",
       "      <td>[]</td>\n",
       "      <td>[]</td>\n",
       "    </tr>\n",
       "  </tbody>\n",
       "</table>\n",
       "</div>"
      ],
      "text/plain": [
       "                   Freebase movie ID                    Movie name  \\\n",
       "Wikipedia movie ID                                                   \n",
       "21926710                  /m/05p45cv                 White on Rice   \n",
       "20604092                  /m/0523t_1                   Anbu Thozhi   \n",
       "29772142                  /m/0fq260_  Karayilekku Oru Kadal Dooram   \n",
       "26623942                  /m/0bh9fbk                   Kausthubham   \n",
       "32445576                  /m/0gyv1h1      Vinayaka Geleyara Balaga   \n",
       "\n",
       "                   Movie release date  Movie box office revenue  \\\n",
       "Wikipedia movie ID                                                \n",
       "21926710                   2009-01-01                       0.0   \n",
       "20604092                   2007-08-17                       0.0   \n",
       "29772142                   2010-12-31                       0.0   \n",
       "26623942                   2010-03-19                       0.0   \n",
       "32445576                   2011-07-15                       0.0   \n",
       "\n",
       "                    Movie runtime       Movie languages  \\\n",
       "Wikipedia movie ID                                        \n",
       "21926710                     82.0                    []   \n",
       "20604092                      0.0      [Tamil Language]   \n",
       "29772142                    110.0  [Malayalam Language]   \n",
       "26623942                      0.0  [Malayalam Language]   \n",
       "32445576                      0.0                    []   \n",
       "\n",
       "                               Movie countries  \\\n",
       "Wikipedia movie ID                               \n",
       "21926710            [United States of America]   \n",
       "20604092                               [India]   \n",
       "29772142                               [India]   \n",
       "26623942                               [India]   \n",
       "32445576                                    []   \n",
       "\n",
       "                                                      Movie genres  \n",
       "Wikipedia movie ID                                                  \n",
       "21926710            [Romantic comedy, Romance Film, Comedy, Indie]  \n",
       "20604092                                            [Romance Film]  \n",
       "29772142                                                   [Drama]  \n",
       "26623942                                                   [Drama]  \n",
       "32445576                                                        []  "
      ]
     },
     "execution_count": 421,
     "metadata": {},
     "output_type": "execute_result"
    }
   ],
   "source": [
    "\n",
    "#new dataframe with movies after 2007 after converting the release date to datetime some dates are only year so we need to add the month and day\n",
    "\n",
    "movie_metadata_clean['Movie release date'] = pd.to_datetime(movie_metadata_clean['Movie release date'],errors='coerce')\n",
    "movie_metadata_clean = movie_metadata_clean[movie_metadata_clean['Movie release date'] > datetime(2007,1,1)]\n",
    "movie_metadata_clean.head()"
   ]
  },
  {
   "cell_type": "code",
   "execution_count": 422,
   "metadata": {},
   "outputs": [
    {
     "data": {
      "image/png": "[encoded data removed]",
      "text/plain": [
       "<Figure size 640x480 with 1 Axes>"
      ]
     },
     "metadata": {},
     "output_type": "display_data"
    }
   ],
   "source": [
    "#only keep characters with 'wikipedia movie ID' in movie_metadata_clean after 2007\n",
    "character_metadata_clean = character_metadata_clean[character_metadata_clean.index.isin(movie_metadata_clean.index)]\n",
    "#number of female actors compared to male actors for movies after 2007 plotted in a pie chart\n",
    "fem_act = character_metadata_clean[character_metadata_clean['Actor gender'] == 'F']\n",
    "masc_act = character_metadata_clean[character_metadata_clean['Actor gender'] == 'M']\n",
    "plt.pie(np.array([fem_act['Actor name'].nunique(),masc_act['Actor name'].nunique()]),labels=['women','men'],colors = ['#c2c2f0','#ffb3e6'],autopct='%1.1f%%',shadow=True)\n",
    "plt.title('Percentage of women and men in the character metadata after 2007')\n",
    "plt.show()"
   ]
  },
  {
   "cell_type": "code",
   "execution_count": 423,
   "metadata": {},
   "outputs": [
    {
     "data": {
      "image/png": "[encoded data removed]",
      "text/plain": [
       "<Figure size 640x480 with 1 Axes>"
      ]
     },
     "metadata": {},
     "output_type": "display_data"
    }
   ],
   "source": [
    "#new dataframe with movies after 2016 \n",
    "movie_metadata_clean = movie_metadata_clean[movie_metadata_clean['Movie release date'] > datetime(2016,1,1)]\n",
    "#only keep characters with 'wikipedia movie ID' in movie_metadata_clean after 2016\n",
    "character_metadata_clean = character_metadata_clean[character_metadata_clean.index.isin(movie_metadata_clean.index)]\n",
    "#number of female actors compared to male actors for movies after 2016 plotted in a pie chart\n",
    "fem_act = character_metadata_clean[character_metadata_clean['Actor gender'] == 'F']\n",
    "masc_act = character_metadata_clean[character_metadata_clean['Actor gender'] == 'M']\n",
    "plt.pie(np.array([fem_act['Actor name'].nunique(),masc_act['Actor name'].nunique()]),labels=['women','men'],colors = ['#c2c2f0','#ffb3e6'],autopct='%1.1f%%',shadow=True)\n",
    "plt.title('Percentage of women and men in the character metadata after 2016')\n",
    "plt.show()"
   ]
  },
  {
   "cell_type": "code",
   "execution_count": 424,
   "metadata": {},
   "outputs": [],
   "source": [
    "#analysing plot summaries to find main character is the one whose name is mentioned the most\n",
    "#we will use the first 1000 characters of the plot summary to find the main character\n",
    "\n",
    "#function to find the main character in a plot summary\n",
    "def find_main_character(plot_summary):\n",
    "    #create a list of all the characters in the plot summary\n",
    "    characters = character_metadata_clean[character_metadata_clean.index == plot_summary.name]['Character name'].to_list()\n",
    "    #create a list of the number of times each character is mentioned in the plot summary\n",
    "    character_count = [plot_summary['Plot Summary'][:2000].count(character) for character in characters]\n",
    "    #return the character with the highest number of mentions\n",
    "    return characters[np.argmax(character_count)]   \n",
    "\n",
    "#apply the function to the plot summaries\n",
    "#plot_summaries['Main character'] = plot_summaries.apply(find_main_character(plot_summaries),axis=1)\n",
    "#plot_summaries.head()"
   ]
  },
  {
   "cell_type": "markdown",
   "metadata": {},
   "source": [
    "## Salaries, box office revenues, etc."
   ]
  },
  {
   "cell_type": "code",
   "execution_count": 425,
   "metadata": {},
   "outputs": [],
   "source": [
    "#Find movies without box office revenue and filter them out\n",
    "no_rev = movie_metadata.loc[movie_metadata['Movie box office revenue'].isnull()].index\n",
    "movie_metadata_filt = movie_metadata.drop(no_rev)"
   ]
  },
  {
   "cell_type": "code",
   "execution_count": 426,
   "metadata": {},
   "outputs": [
    {
     "data": {
      "text/plain": [
       "81741"
      ]
     },
     "execution_count": 426,
     "metadata": {},
     "output_type": "execute_result"
    }
   ],
   "source": [
    "movie_metadata.shape[0]"
   ]
  },
  {
   "cell_type": "code",
   "execution_count": 427,
   "metadata": {},
   "outputs": [
    {
     "data": {
      "text/plain": [
       "8401"
      ]
     },
     "execution_count": 427,
     "metadata": {},
     "output_type": "execute_result"
    }
   ],
   "source": [
    "movie_metadata_filt.shape[0]"
   ]
  },
  {
   "cell_type": "markdown",
   "metadata": {},
   "source": [
    "We only have 8401 movies where we have their box office revenue."
   ]
  },
  {
   "cell_type": "code",
   "execution_count": 107,
   "metadata": {},
   "outputs": [
    {
     "data": {
      "image/png": "[encoded data removed]",
      "text/plain": [
       "<Figure size 500x500 with 1 Axes>"
      ]
     },
     "metadata": {},
     "output_type": "display_data"
    }
   ],
   "source": [
    "#Histogram of box office revenue of movies\n",
    "\n",
    "plt.figure(figsize=(5,5), dpi = 100)\n",
    "plt.xlabel('Movie box office revenue', fontsize = 15)\n",
    "plt.ylabel('Movie index', fontsize=15)\n",
    "plt.title('Box office revenue of all movies', fontsize=15)\n",
    "\n",
    "plt.hist(movie_metadata_filt['Movie box office revenue'])\n",
    "\n",
    "plt.show()"
   ]
  },
  {
   "cell_type": "code",
   "execution_count": 108,
   "metadata": {},
   "outputs": [
    {
     "name": "stdout",
     "output_type": "stream",
     "text": [
      "Movies with biggest box office revenues:\n"
     ]
    },
    {
     "data": {
      "text/html": [
       "<div>\n",
       "<style scoped>\n",
       "    .dataframe tbody tr th:only-of-type {\n",
       "        vertical-align: middle;\n",
       "    }\n",
       "\n",
       "    .dataframe tbody tr th {\n",
       "        vertical-align: top;\n",
       "    }\n",
       "\n",
       "    .dataframe thead th {\n",
       "        text-align: right;\n",
       "    }\n",
       "</style>\n",
       "<table border=\"1\" class=\"dataframe\">\n",
       "  <thead>\n",
       "    <tr style=\"text-align: right;\">\n",
       "      <th></th>\n",
       "      <th>Freebase movie ID</th>\n",
       "      <th>Movie name</th>\n",
       "      <th>Movie release date</th>\n",
       "      <th>Movie box office revenue</th>\n",
       "      <th>Movie runtime</th>\n",
       "      <th>Movie languages</th>\n",
       "      <th>Movie countries</th>\n",
       "      <th>Movie genres</th>\n",
       "    </tr>\n",
       "    <tr>\n",
       "      <th>Wikipedia movie ID</th>\n",
       "      <th></th>\n",
       "      <th></th>\n",
       "      <th></th>\n",
       "      <th></th>\n",
       "      <th></th>\n",
       "      <th></th>\n",
       "      <th></th>\n",
       "      <th></th>\n",
       "    </tr>\n",
       "  </thead>\n",
       "  <tbody>\n",
       "    <tr>\n",
       "      <th>4273140</th>\n",
       "      <td>/m/0bth54</td>\n",
       "      <td>Avatar</td>\n",
       "      <td>2009-12-10</td>\n",
       "      <td>2.782275e+09</td>\n",
       "      <td>178.0</td>\n",
       "      <td>{\"/m/02h40lc\": \"English Language\", \"/m/06nm1\":...</td>\n",
       "      <td>{\"/m/09c7w0\": \"United States of America\", \"/m/...</td>\n",
       "      <td>{\"/m/01jfsb\": \"Thriller\", \"/m/06n90\": \"Science...</td>\n",
       "    </tr>\n",
       "    <tr>\n",
       "      <th>52371</th>\n",
       "      <td>/m/0dr_4</td>\n",
       "      <td>Titanic</td>\n",
       "      <td>1997-11-01</td>\n",
       "      <td>2.185372e+09</td>\n",
       "      <td>194.0</td>\n",
       "      <td>{\"/m/02bjrlw\": \"Italian Language\", \"/m/02h40lc...</td>\n",
       "      <td>{\"/m/09c7w0\": \"United States of America\"}</td>\n",
       "      <td>{\"/m/0fx2s\": \"Tragedy\", \"/m/04xvh5\": \"Costume ...</td>\n",
       "    </tr>\n",
       "    <tr>\n",
       "      <th>22114132</th>\n",
       "      <td>/m/062zm5h</td>\n",
       "      <td>The Avengers</td>\n",
       "      <td>2012-04-11</td>\n",
       "      <td>1.511758e+09</td>\n",
       "      <td>137.0</td>\n",
       "      <td>{\"/m/06b_j\": \"Russian Language\", \"/m/02h40lc\":...</td>\n",
       "      <td>{\"/m/09c7w0\": \"United States of America\"}</td>\n",
       "      <td>{\"/m/06n90\": \"Science Fiction\", \"/m/02kdv5l\": ...</td>\n",
       "    </tr>\n",
       "    <tr>\n",
       "      <th>31941988</th>\n",
       "      <td>/m/0gvsynb</td>\n",
       "      <td>Harry Potter and the Deathly Hallows – Part 2</td>\n",
       "      <td>2011-07-07</td>\n",
       "      <td>1.328111e+09</td>\n",
       "      <td>130.0</td>\n",
       "      <td>{\"/m/02h40lc\": \"English Language\"}</td>\n",
       "      <td>{\"/m/09c7w0\": \"United States of America\", \"/m/...</td>\n",
       "      <td>{\"/m/07s9rl0\": \"Drama\", \"/m/02n4kr\": \"Mystery\"...</td>\n",
       "    </tr>\n",
       "    <tr>\n",
       "      <th>25001260</th>\n",
       "      <td>/m/0872p_c</td>\n",
       "      <td>Transformers: Dark of the Moon</td>\n",
       "      <td>2011-06-23</td>\n",
       "      <td>1.123747e+09</td>\n",
       "      <td>157.0</td>\n",
       "      <td>{\"/m/02h40lc\": \"English Language\"}</td>\n",
       "      <td>{\"/m/09c7w0\": \"United States of America\"}</td>\n",
       "      <td>{\"/m/0hj3mt0\": \"Alien Film\", \"/m/06n90\": \"Scie...</td>\n",
       "    </tr>\n",
       "  </tbody>\n",
       "</table>\n",
       "</div>"
      ],
      "text/plain": [
       "                   Freebase movie ID  \\\n",
       "Wikipedia movie ID                     \n",
       "4273140                    /m/0bth54   \n",
       "52371                       /m/0dr_4   \n",
       "22114132                  /m/062zm5h   \n",
       "31941988                  /m/0gvsynb   \n",
       "25001260                  /m/0872p_c   \n",
       "\n",
       "                                                       Movie name  \\\n",
       "Wikipedia movie ID                                                  \n",
       "4273140                                                    Avatar   \n",
       "52371                                                     Titanic   \n",
       "22114132                                             The Avengers   \n",
       "31941988            Harry Potter and the Deathly Hallows – Part 2   \n",
       "25001260                           Transformers: Dark of the Moon   \n",
       "\n",
       "                   Movie release date  Movie box office revenue  \\\n",
       "Wikipedia movie ID                                                \n",
       "4273140                    2009-12-10              2.782275e+09   \n",
       "52371                      1997-11-01              2.185372e+09   \n",
       "22114132                   2012-04-11              1.511758e+09   \n",
       "31941988                   2011-07-07              1.328111e+09   \n",
       "25001260                   2011-06-23              1.123747e+09   \n",
       "\n",
       "                    Movie runtime  \\\n",
       "Wikipedia movie ID                  \n",
       "4273140                     178.0   \n",
       "52371                       194.0   \n",
       "22114132                    137.0   \n",
       "31941988                    130.0   \n",
       "25001260                    157.0   \n",
       "\n",
       "                                                      Movie languages  \\\n",
       "Wikipedia movie ID                                                      \n",
       "4273140             {\"/m/02h40lc\": \"English Language\", \"/m/06nm1\":...   \n",
       "52371               {\"/m/02bjrlw\": \"Italian Language\", \"/m/02h40lc...   \n",
       "22114132            {\"/m/06b_j\": \"Russian Language\", \"/m/02h40lc\":...   \n",
       "31941988                           {\"/m/02h40lc\": \"English Language\"}   \n",
       "25001260                           {\"/m/02h40lc\": \"English Language\"}   \n",
       "\n",
       "                                                      Movie countries  \\\n",
       "Wikipedia movie ID                                                      \n",
       "4273140             {\"/m/09c7w0\": \"United States of America\", \"/m/...   \n",
       "52371                       {\"/m/09c7w0\": \"United States of America\"}   \n",
       "22114132                    {\"/m/09c7w0\": \"United States of America\"}   \n",
       "31941988            {\"/m/09c7w0\": \"United States of America\", \"/m/...   \n",
       "25001260                    {\"/m/09c7w0\": \"United States of America\"}   \n",
       "\n",
       "                                                         Movie genres  \n",
       "Wikipedia movie ID                                                     \n",
       "4273140             {\"/m/01jfsb\": \"Thriller\", \"/m/06n90\": \"Science...  \n",
       "52371               {\"/m/0fx2s\": \"Tragedy\", \"/m/04xvh5\": \"Costume ...  \n",
       "22114132            {\"/m/06n90\": \"Science Fiction\", \"/m/02kdv5l\": ...  \n",
       "31941988            {\"/m/07s9rl0\": \"Drama\", \"/m/02n4kr\": \"Mystery\"...  \n",
       "25001260            {\"/m/0hj3mt0\": \"Alien Film\", \"/m/06n90\": \"Scie...  "
      ]
     },
     "execution_count": 108,
     "metadata": {},
     "output_type": "execute_result"
    }
   ],
   "source": [
    "print(\"Movies with biggest box office revenues:\")\n",
    "movie_metadata.sort_values('Movie box office revenue', ascending = False).head()"
   ]
  },
  {
   "cell_type": "code",
   "execution_count": 445,
   "metadata": {},
   "outputs": [
    {
     "data": {
      "text/plain": [
       "'\\nplt.figure(figsize=(5,5), dpi = 100)\\nplt.xlabel(\\'Movie release date\\', fontsize = 15)\\nplt.ylabel(\\'Box office revenue\\', fontsize=15)\\nplt.title(\\'Box office revenue of all movies\\', fontsize=15)\\n\\nplt.plot(movie_metadata_filt[\"Movie release date\"],movie_metadata_filt[\\'Movie box office revenue\\'])\\n\\nplt.show()\\n'"
      ]
     },
     "execution_count": 445,
     "metadata": {},
     "output_type": "execute_result"
    }
   ],
   "source": [
    "#No real use just to see\n",
    "'''\n",
    "plt.figure(figsize=(5,5), dpi = 100)\n",
    "plt.xlabel('Movie release date', fontsize = 15)\n",
    "plt.ylabel('Box office revenue', fontsize=15)\n",
    "plt.title('Box office revenue of all movies', fontsize=15)\n",
    "\n",
    "plt.plot(movie_metadata_filt[\"Movie release date\"],movie_metadata_filt['Movie box office revenue'])\n",
    "\n",
    "plt.show()\n",
    "'''"
   ]
  },
  {
   "cell_type": "code",
   "execution_count": 451,
   "metadata": {},
   "outputs": [
    {
     "data": {
      "text/html": [
       "<div>\n",
       "<style scoped>\n",
       "    .dataframe tbody tr th:only-of-type {\n",
       "        vertical-align: middle;\n",
       "    }\n",
       "\n",
       "    .dataframe tbody tr th {\n",
       "        vertical-align: top;\n",
       "    }\n",
       "\n",
       "    .dataframe thead th {\n",
       "        text-align: right;\n",
       "    }\n",
       "</style>\n",
       "<table border=\"1\" class=\"dataframe\">\n",
       "  <thead>\n",
       "    <tr style=\"text-align: right;\">\n",
       "      <th></th>\n",
       "      <th>Freebase movie ID</th>\n",
       "      <th>Movie release date</th>\n",
       "      <th>Character name</th>\n",
       "      <th>Actor date of birth</th>\n",
       "      <th>Actor gender</th>\n",
       "      <th>Actor height</th>\n",
       "      <th>Actor ethnicity</th>\n",
       "      <th>Actor name</th>\n",
       "      <th>Actor age at movie release</th>\n",
       "      <th>Freebase character/actor map ID</th>\n",
       "      <th>Freebase character ID</th>\n",
       "      <th>Freebase actor ID</th>\n",
       "    </tr>\n",
       "    <tr>\n",
       "      <th>Wikipedia movie ID</th>\n",
       "      <th></th>\n",
       "      <th></th>\n",
       "      <th></th>\n",
       "      <th></th>\n",
       "      <th></th>\n",
       "      <th></th>\n",
       "      <th></th>\n",
       "      <th></th>\n",
       "      <th></th>\n",
       "      <th></th>\n",
       "      <th></th>\n",
       "      <th></th>\n",
       "    </tr>\n",
       "  </thead>\n",
       "  <tbody>\n",
       "    <tr>\n",
       "      <th>975900</th>\n",
       "      <td>/m/03vyhn</td>\n",
       "      <td>2001-08-24</td>\n",
       "      <td>Lieutenant Melanie Ballard</td>\n",
       "      <td>1974-08-15</td>\n",
       "      <td>F</td>\n",
       "      <td>1.780</td>\n",
       "      <td>/m/044038p</td>\n",
       "      <td>Natasha Henstridge</td>\n",
       "      <td>27.0</td>\n",
       "      <td>/m/0jys3m</td>\n",
       "      <td>/m/0bgchn4</td>\n",
       "      <td>/m/0346l4</td>\n",
       "    </tr>\n",
       "    <tr>\n",
       "      <th>975900</th>\n",
       "      <td>/m/03vyhn</td>\n",
       "      <td>2001-08-24</td>\n",
       "      <td>Desolation Williams</td>\n",
       "      <td>1969-06-15</td>\n",
       "      <td>M</td>\n",
       "      <td>1.727</td>\n",
       "      <td>/m/0x67</td>\n",
       "      <td>Ice Cube</td>\n",
       "      <td>32.0</td>\n",
       "      <td>/m/0jys3g</td>\n",
       "      <td>/m/0bgchn_</td>\n",
       "      <td>/m/01vw26l</td>\n",
       "    </tr>\n",
       "    <tr>\n",
       "      <th>975900</th>\n",
       "      <td>/m/03vyhn</td>\n",
       "      <td>2001-08-24</td>\n",
       "      <td>Commander Helena Braddock</td>\n",
       "      <td>1949-05-26</td>\n",
       "      <td>F</td>\n",
       "      <td>1.727</td>\n",
       "      <td>/m/0x67</td>\n",
       "      <td>Pam Grier</td>\n",
       "      <td>52.0</td>\n",
       "      <td>/m/02vdcfp</td>\n",
       "      <td>/m/0bgchnd</td>\n",
       "      <td>/m/0418ft</td>\n",
       "    </tr>\n",
       "    <tr>\n",
       "      <th>2314463</th>\n",
       "      <td>/m/0734w5</td>\n",
       "      <td>2006</td>\n",
       "      <td>Taper Guy</td>\n",
       "      <td>1971-05-26</td>\n",
       "      <td>M</td>\n",
       "      <td>1.870</td>\n",
       "      <td>/m/033tf_</td>\n",
       "      <td>Matt Stone</td>\n",
       "      <td>34.0</td>\n",
       "      <td>/m/0cgn0lx</td>\n",
       "      <td>/m/0h0z488</td>\n",
       "      <td>/m/01_x6d</td>\n",
       "    </tr>\n",
       "    <tr>\n",
       "      <th>612710</th>\n",
       "      <td>/m/02wjqm</td>\n",
       "      <td>1999-10-01</td>\n",
       "      <td>Sandii</td>\n",
       "      <td>1975-09-20</td>\n",
       "      <td>F</td>\n",
       "      <td>1.680</td>\n",
       "      <td>/m/0222qb</td>\n",
       "      <td>Asia Argento</td>\n",
       "      <td>24.0</td>\n",
       "      <td>/m/02vcxk_</td>\n",
       "      <td>/m/0h2l6rx</td>\n",
       "      <td>/m/028pzq</td>\n",
       "    </tr>\n",
       "    <tr>\n",
       "      <th>...</th>\n",
       "      <td>...</td>\n",
       "      <td>...</td>\n",
       "      <td>...</td>\n",
       "      <td>...</td>\n",
       "      <td>...</td>\n",
       "      <td>...</td>\n",
       "      <td>...</td>\n",
       "      <td>...</td>\n",
       "      <td>...</td>\n",
       "      <td>...</td>\n",
       "      <td>...</td>\n",
       "      <td>...</td>\n",
       "    </tr>\n",
       "    <tr>\n",
       "      <th>22330502</th>\n",
       "      <td>/m/05sync6</td>\n",
       "      <td>1931-01-31</td>\n",
       "      <td>Yvonne Valbret</td>\n",
       "      <td>1905-09-18</td>\n",
       "      <td>F</td>\n",
       "      <td>1.702</td>\n",
       "      <td>/m/06mvq</td>\n",
       "      <td>Greta Garbo</td>\n",
       "      <td>25.0</td>\n",
       "      <td>/m/05tg4vb</td>\n",
       "      <td>/m/0h2ppfw</td>\n",
       "      <td>/m/0h14h</td>\n",
       "    </tr>\n",
       "    <tr>\n",
       "      <th>24997872</th>\n",
       "      <td>/m/09g6klx</td>\n",
       "      <td>2010-05-07</td>\n",
       "      <td>Raja</td>\n",
       "      <td>1951-09-07</td>\n",
       "      <td>M</td>\n",
       "      <td>1.780</td>\n",
       "      <td>/m/04mvp8</td>\n",
       "      <td>Mammootty</td>\n",
       "      <td>58.0</td>\n",
       "      <td>/m/0gvytkx</td>\n",
       "      <td>/m/0h27wx_</td>\n",
       "      <td>/m/02hkv5</td>\n",
       "    </tr>\n",
       "    <tr>\n",
       "      <th>24997872</th>\n",
       "      <td>/m/09g6klx</td>\n",
       "      <td>2010-05-07</td>\n",
       "      <td>Surya</td>\n",
       "      <td>1982-10-16</td>\n",
       "      <td>M</td>\n",
       "      <td>1.810</td>\n",
       "      <td>/m/0dryh9k</td>\n",
       "      <td>Prithviraj Sukumaran</td>\n",
       "      <td>27.0</td>\n",
       "      <td>/m/0gw0rm2</td>\n",
       "      <td>/m/0gz549m</td>\n",
       "      <td>/m/0cqcgj</td>\n",
       "    </tr>\n",
       "    <tr>\n",
       "      <th>24997872</th>\n",
       "      <td>/m/09g6klx</td>\n",
       "      <td>2010-05-07</td>\n",
       "      <td>Aswathy</td>\n",
       "      <td>1982-09-11</td>\n",
       "      <td>F</td>\n",
       "      <td>1.680</td>\n",
       "      <td>/m/0dryh9k</td>\n",
       "      <td>Shriya Saran</td>\n",
       "      <td>27.0</td>\n",
       "      <td>/m/0gw423l</td>\n",
       "      <td>/m/0gyf84q</td>\n",
       "      <td>/m/09r_wb</td>\n",
       "    </tr>\n",
       "    <tr>\n",
       "      <th>30553937</th>\n",
       "      <td>/m/0g9ts5h</td>\n",
       "      <td>1998-03-07</td>\n",
       "      <td>Tracy</td>\n",
       "      <td>1967-03-16</td>\n",
       "      <td>F</td>\n",
       "      <td>1.746</td>\n",
       "      <td>/m/033tf_</td>\n",
       "      <td>Lauren Graham</td>\n",
       "      <td>30.0</td>\n",
       "      <td>/m/0gw3h6q</td>\n",
       "      <td>/m/0h1gk0m</td>\n",
       "      <td>/m/03c6v3</td>\n",
       "    </tr>\n",
       "  </tbody>\n",
       "</table>\n",
       "<p>45264 rows × 12 columns</p>\n",
       "</div>"
      ],
      "text/plain": [
       "                   Freebase movie ID Movie release date  \\\n",
       "Wikipedia movie ID                                        \n",
       "975900                     /m/03vyhn         2001-08-24   \n",
       "975900                     /m/03vyhn         2001-08-24   \n",
       "975900                     /m/03vyhn         2001-08-24   \n",
       "2314463                    /m/0734w5               2006   \n",
       "612710                     /m/02wjqm         1999-10-01   \n",
       "...                              ...                ...   \n",
       "22330502                  /m/05sync6         1931-01-31   \n",
       "24997872                  /m/09g6klx         2010-05-07   \n",
       "24997872                  /m/09g6klx         2010-05-07   \n",
       "24997872                  /m/09g6klx         2010-05-07   \n",
       "30553937                  /m/0g9ts5h         1998-03-07   \n",
       "\n",
       "                                Character name Actor date of birth  \\\n",
       "Wikipedia movie ID                                                   \n",
       "975900              Lieutenant Melanie Ballard          1974-08-15   \n",
       "975900                     Desolation Williams          1969-06-15   \n",
       "975900               Commander Helena Braddock          1949-05-26   \n",
       "2314463                              Taper Guy          1971-05-26   \n",
       "612710                                  Sandii          1975-09-20   \n",
       "...                                        ...                 ...   \n",
       "22330502                        Yvonne Valbret          1905-09-18   \n",
       "24997872                                  Raja          1951-09-07   \n",
       "24997872                                 Surya          1982-10-16   \n",
       "24997872                               Aswathy          1982-09-11   \n",
       "30553937                                 Tracy          1967-03-16   \n",
       "\n",
       "                   Actor gender  Actor height Actor ethnicity  \\\n",
       "Wikipedia movie ID                                              \n",
       "975900                        F         1.780      /m/044038p   \n",
       "975900                        M         1.727         /m/0x67   \n",
       "975900                        F         1.727         /m/0x67   \n",
       "2314463                       M         1.870       /m/033tf_   \n",
       "612710                        F         1.680       /m/0222qb   \n",
       "...                         ...           ...             ...   \n",
       "22330502                      F         1.702        /m/06mvq   \n",
       "24997872                      M         1.780       /m/04mvp8   \n",
       "24997872                      M         1.810      /m/0dryh9k   \n",
       "24997872                      F         1.680      /m/0dryh9k   \n",
       "30553937                      F         1.746       /m/033tf_   \n",
       "\n",
       "                              Actor name  Actor age at movie release  \\\n",
       "Wikipedia movie ID                                                     \n",
       "975900                Natasha Henstridge                        27.0   \n",
       "975900                          Ice Cube                        32.0   \n",
       "975900                         Pam Grier                        52.0   \n",
       "2314463                       Matt Stone                        34.0   \n",
       "612710                      Asia Argento                        24.0   \n",
       "...                                  ...                         ...   \n",
       "22330502                     Greta Garbo                        25.0   \n",
       "24997872                       Mammootty                        58.0   \n",
       "24997872            Prithviraj Sukumaran                        27.0   \n",
       "24997872                    Shriya Saran                        27.0   \n",
       "30553937                   Lauren Graham                        30.0   \n",
       "\n",
       "                   Freebase character/actor map ID Freebase character ID  \\\n",
       "Wikipedia movie ID                                                         \n",
       "975900                                   /m/0jys3m            /m/0bgchn4   \n",
       "975900                                   /m/0jys3g            /m/0bgchn_   \n",
       "975900                                  /m/02vdcfp            /m/0bgchnd   \n",
       "2314463                                 /m/0cgn0lx            /m/0h0z488   \n",
       "612710                                  /m/02vcxk_            /m/0h2l6rx   \n",
       "...                                            ...                   ...   \n",
       "22330502                                /m/05tg4vb            /m/0h2ppfw   \n",
       "24997872                                /m/0gvytkx            /m/0h27wx_   \n",
       "24997872                                /m/0gw0rm2            /m/0gz549m   \n",
       "24997872                                /m/0gw423l            /m/0gyf84q   \n",
       "30553937                                /m/0gw3h6q            /m/0h1gk0m   \n",
       "\n",
       "                   Freebase actor ID  \n",
       "Wikipedia movie ID                    \n",
       "975900                     /m/0346l4  \n",
       "975900                    /m/01vw26l  \n",
       "975900                     /m/0418ft  \n",
       "2314463                    /m/01_x6d  \n",
       "612710                     /m/028pzq  \n",
       "...                              ...  \n",
       "22330502                    /m/0h14h  \n",
       "24997872                   /m/02hkv5  \n",
       "24997872                   /m/0cqcgj  \n",
       "24997872                   /m/09r_wb  \n",
       "30553937                   /m/03c6v3  \n",
       "\n",
       "[45264 rows x 12 columns]"
      ]
     },
     "execution_count": 451,
     "metadata": {},
     "output_type": "execute_result"
    }
   ],
   "source": [
    "character_dropna = character_metadata.dropna()\n",
    "character_dropna"
   ]
  },
  {
   "cell_type": "code",
   "execution_count": 169,
   "metadata": {},
   "outputs": [
    {
     "data": {
      "text/plain": [
       "\"\\ncharacter_dropna['Actor gender'] = pd.get_dummies(character_dropna['Actor gender'])\\ncharacter_dropna.head()\\n\""
      ]
     },
     "execution_count": 169,
     "metadata": {},
     "output_type": "execute_result"
    }
   ],
   "source": [
    "'''\n",
    "character_dropna['Actor gender'] = pd.get_dummies(character_dropna['Actor gender'])\n",
    "character_dropna.head()\n",
    "'''"
   ]
  },
  {
   "cell_type": "markdown",
   "metadata": {},
   "source": [
    "## Detecting Main characters etc."
   ]
  },
  {
   "cell_type": "code",
   "execution_count": 345,
   "metadata": {},
   "outputs": [
    {
     "name": "stdout",
     "output_type": "stream",
     "text": [
      "there are normally 450669 characters\n"
     ]
    }
   ],
   "source": [
    "plot_summaries.head()\n",
    "character_metadata.head()\n",
    "character_metadata=character_metadata.drop_duplicates()\n",
    "print('there are normally', len(character_metadata),'characters')"
   ]
  },
  {
   "cell_type": "code",
   "execution_count": 115,
   "metadata": {},
   "outputs": [
    {
     "name": "stdout",
     "output_type": "stream",
     "text": [
      "Percentage of missing entries in the name of the characters dataset:\n",
      " Character name    57.220488\n",
      "dtype: float64\n"
     ]
    }
   ],
   "source": [
    "character_dropna_name = character_metadata.dropna(subset=['Character name'])\n",
    "print('Percentage of missing entries in the name of the characters dataset:\\n', 100*character_metadata[['Character name']].isna().sum() / n_char)"
   ]
  },
  {
   "cell_type": "code",
   "execution_count": 116,
   "metadata": {},
   "outputs": [
    {
     "name": "stdout",
     "output_type": "stream",
     "text": [
      "we will consider 192794 characters and 23068 movies\n"
     ]
    },
    {
     "data": {
      "text/html": [
       "<div>\n",
       "<style scoped>\n",
       "    .dataframe tbody tr th:only-of-type {\n",
       "        vertical-align: middle;\n",
       "    }\n",
       "\n",
       "    .dataframe tbody tr th {\n",
       "        vertical-align: top;\n",
       "    }\n",
       "\n",
       "    .dataframe thead th {\n",
       "        text-align: right;\n",
       "    }\n",
       "</style>\n",
       "<table border=\"1\" class=\"dataframe\">\n",
       "  <thead>\n",
       "    <tr style=\"text-align: right;\">\n",
       "      <th></th>\n",
       "      <th>Freebase movie ID</th>\n",
       "      <th>Movie release date</th>\n",
       "      <th>Character name</th>\n",
       "      <th>Actor date of birth</th>\n",
       "      <th>Actor gender</th>\n",
       "      <th>Actor height</th>\n",
       "      <th>Actor ethnicity</th>\n",
       "      <th>Actor name</th>\n",
       "      <th>Actor age at movie release</th>\n",
       "      <th>Freebase character/actor map ID</th>\n",
       "      <th>Freebase character ID</th>\n",
       "      <th>Freebase actor ID</th>\n",
       "      <th>Plot Summary</th>\n",
       "    </tr>\n",
       "    <tr>\n",
       "      <th>Wikipedia movie ID</th>\n",
       "      <th></th>\n",
       "      <th></th>\n",
       "      <th></th>\n",
       "      <th></th>\n",
       "      <th></th>\n",
       "      <th></th>\n",
       "      <th></th>\n",
       "      <th></th>\n",
       "      <th></th>\n",
       "      <th></th>\n",
       "      <th></th>\n",
       "      <th></th>\n",
       "      <th></th>\n",
       "    </tr>\n",
       "  </thead>\n",
       "  <tbody>\n",
       "    <tr>\n",
       "      <th>3217</th>\n",
       "      <td>/m/014hr</td>\n",
       "      <td>1992-10-09</td>\n",
       "      <td>S-Mart Clerk</td>\n",
       "      <td>1965-12-14</td>\n",
       "      <td>M</td>\n",
       "      <td>1.87</td>\n",
       "      <td>NaN</td>\n",
       "      <td>Ted Raimi</td>\n",
       "      <td>26.0</td>\n",
       "      <td>/m/0hgcnkm</td>\n",
       "      <td>/m/0hgcnkq</td>\n",
       "      <td>/m/07qn0</td>\n",
       "      <td>After being pulled through a time portal, Ash ...</td>\n",
       "    </tr>\n",
       "    <tr>\n",
       "      <th>3217</th>\n",
       "      <td>/m/014hr</td>\n",
       "      <td>1992-10-09</td>\n",
       "      <td>Fake shemp</td>\n",
       "      <td>1956-01-01</td>\n",
       "      <td>M</td>\n",
       "      <td>NaN</td>\n",
       "      <td>NaN</td>\n",
       "      <td>Ivan Raimi</td>\n",
       "      <td>36.0</td>\n",
       "      <td>/m/04hzm56</td>\n",
       "      <td>/m/089hc6</td>\n",
       "      <td>/m/0gmjf8</td>\n",
       "      <td>After being pulled through a time portal, Ash ...</td>\n",
       "    </tr>\n",
       "    <tr>\n",
       "      <th>3217</th>\n",
       "      <td>/m/014hr</td>\n",
       "      <td>1992-10-09</td>\n",
       "      <td>Ash Williams</td>\n",
       "      <td>1958-06-22</td>\n",
       "      <td>M</td>\n",
       "      <td>1.85</td>\n",
       "      <td>NaN</td>\n",
       "      <td>Bruce Campbell</td>\n",
       "      <td>34.0</td>\n",
       "      <td>/m/0jtqtd</td>\n",
       "      <td>/m/06_krl</td>\n",
       "      <td>/m/01h8f</td>\n",
       "      <td>After being pulled through a time portal, Ash ...</td>\n",
       "    </tr>\n",
       "    <tr>\n",
       "      <th>3217</th>\n",
       "      <td>/m/014hr</td>\n",
       "      <td>1992-10-09</td>\n",
       "      <td>Evil Ash</td>\n",
       "      <td>1958-06-22</td>\n",
       "      <td>M</td>\n",
       "      <td>1.85</td>\n",
       "      <td>NaN</td>\n",
       "      <td>Bruce Campbell</td>\n",
       "      <td>34.0</td>\n",
       "      <td>/m/0jtgxg0</td>\n",
       "      <td>/m/0jtgxg3</td>\n",
       "      <td>/m/01h8f</td>\n",
       "      <td>After being pulled through a time portal, Ash ...</td>\n",
       "    </tr>\n",
       "    <tr>\n",
       "      <th>3217</th>\n",
       "      <td>/m/014hr</td>\n",
       "      <td>1992-10-09</td>\n",
       "      <td>Cowardly Warrior</td>\n",
       "      <td>1965-12-14</td>\n",
       "      <td>M</td>\n",
       "      <td>1.87</td>\n",
       "      <td>NaN</td>\n",
       "      <td>Ted Raimi</td>\n",
       "      <td>26.0</td>\n",
       "      <td>/m/04hzm5x</td>\n",
       "      <td>/m/0hgcnjh</td>\n",
       "      <td>/m/07qn0</td>\n",
       "      <td>After being pulled through a time portal, Ash ...</td>\n",
       "    </tr>\n",
       "  </tbody>\n",
       "</table>\n",
       "</div>"
      ],
      "text/plain": [
       "                   Freebase movie ID Movie release date    Character name  \\\n",
       "Wikipedia movie ID                                                          \n",
       "3217                        /m/014hr         1992-10-09      S-Mart Clerk   \n",
       "3217                        /m/014hr         1992-10-09        Fake shemp   \n",
       "3217                        /m/014hr         1992-10-09      Ash Williams   \n",
       "3217                        /m/014hr         1992-10-09          Evil Ash   \n",
       "3217                        /m/014hr         1992-10-09  Cowardly Warrior   \n",
       "\n",
       "                   Actor date of birth Actor gender  Actor height  \\\n",
       "Wikipedia movie ID                                                  \n",
       "3217                        1965-12-14            M          1.87   \n",
       "3217                        1956-01-01            M           NaN   \n",
       "3217                        1958-06-22            M          1.85   \n",
       "3217                        1958-06-22            M          1.85   \n",
       "3217                        1965-12-14            M          1.87   \n",
       "\n",
       "                   Actor ethnicity      Actor name  \\\n",
       "Wikipedia movie ID                                   \n",
       "3217                           NaN       Ted Raimi   \n",
       "3217                           NaN      Ivan Raimi   \n",
       "3217                           NaN  Bruce Campbell   \n",
       "3217                           NaN  Bruce Campbell   \n",
       "3217                           NaN       Ted Raimi   \n",
       "\n",
       "                    Actor age at movie release  \\\n",
       "Wikipedia movie ID                               \n",
       "3217                                      26.0   \n",
       "3217                                      36.0   \n",
       "3217                                      34.0   \n",
       "3217                                      34.0   \n",
       "3217                                      26.0   \n",
       "\n",
       "                   Freebase character/actor map ID Freebase character ID  \\\n",
       "Wikipedia movie ID                                                         \n",
       "3217                                    /m/0hgcnkm            /m/0hgcnkq   \n",
       "3217                                    /m/04hzm56             /m/089hc6   \n",
       "3217                                     /m/0jtqtd             /m/06_krl   \n",
       "3217                                    /m/0jtgxg0            /m/0jtgxg3   \n",
       "3217                                    /m/04hzm5x            /m/0hgcnjh   \n",
       "\n",
       "                   Freebase actor ID  \\\n",
       "Wikipedia movie ID                     \n",
       "3217                        /m/07qn0   \n",
       "3217                       /m/0gmjf8   \n",
       "3217                        /m/01h8f   \n",
       "3217                        /m/01h8f   \n",
       "3217                        /m/07qn0   \n",
       "\n",
       "                                                         Plot Summary  \n",
       "Wikipedia movie ID                                                     \n",
       "3217                After being pulled through a time portal, Ash ...  \n",
       "3217                After being pulled through a time portal, Ash ...  \n",
       "3217                After being pulled through a time portal, Ash ...  \n",
       "3217                After being pulled through a time portal, Ash ...  \n",
       "3217                After being pulled through a time portal, Ash ...  "
      ]
     },
     "execution_count": 116,
     "metadata": {},
     "output_type": "execute_result"
    }
   ],
   "source": [
    "characters_plot=pd.merge(character_dropna_name,plot_summaries, left_index=True, right_index=True, how=\"inner\")\n",
    "characters_plot['Movie release date'] = pd.to_datetime(characters_plot['Movie release date'],errors='coerce')\n",
    "characters_plot['Actor date of birth'] = pd.to_datetime(characters_plot['Actor date of birth'],errors='coerce') #might need to automate the process here\n",
    "print('we will consider', len(character_dropna_name), 'characters and', len(characters_plot.index.drop_duplicates()),'movies')\n",
    "characters_plot.head()"
   ]
  },
  {
   "cell_type": "code",
   "execution_count": 354,
   "metadata": {},
   "outputs": [
    {
     "ename": "SyntaxError",
     "evalue": "EOL while scanning string literal (2302735547.py, line 1)",
     "output_type": "error",
     "traceback": [
      "\u001b[0;36m  Cell \u001b[0;32mIn [354], line 1\u001b[0;36m\u001b[0m\n\u001b[0;31m    characters_plot['Plot Summary']=characters_plot['Plot Summary'].replace(\"\\\",\"\")\u001b[0m\n\u001b[0m                                                                                   ^\u001b[0m\n\u001b[0;31mSyntaxError\u001b[0m\u001b[0;31m:\u001b[0m EOL while scanning string literal\n"
     ]
    }
   ],
   "source": [
    "characters_plot['Plot Summary']=characters_plot['Plot Summary'].replace(\"\\\",\"\")\n",
    "characters_plot\n"
   ]
  },
  {
   "cell_type": "code",
   "execution_count": 388,
   "metadata": {},
   "outputs": [
    {
     "data": {
      "text/plain": [
       "'After being pulled through a time portal, Ash Williams lands in 1300 AD, where he is almost immediately captured by Lord Arthur\\'s men, who suspect him to be an agent for Duke Henry, with whom Arthur is at war. He is enslaved along with the captured Henry, his gun and chainsaw confiscated, and is taken to a castle. Ash is thrown in a pit where he fights off a Deadite and regains his weapons from Arthur\\'s Wise Man. After demanding Henry and his men be set free  and killing a deadite in full view of everyone, Ash is celebrated as a hero. He also grows attracted to Sheila, the sister of one of Arthur\\'s fallen knights. According to the Wise Man, the only way Ash can return to his time is to retrieve the Necronomicon Ex-Mortis. After bidding goodbye to Sheila, Ash starts his search for the Necronomicon. As he enters a haunted forest, an unseen force pursues Ash through the woods. Fleeing, he ducks into a windmill where he crashes into a mirror. The small reflections of Ash climb out from the shattered mirror and torment him. One of the reflections dives down Ash\\'s throat and uses his body to become a life-sized clone of Ash and attack him, after which Ash kills and buries the clone. When he arrives at the Necronomicon\\'s location, he finds three books instead of one. Ash eventually finds the real one and attempts to say the magic phrase that will allow him to remove the book safely — \"Klaatu verata nicto\". However, forgetting the last word, he tries to trick the book by mumbling/coughing the missing word. He then grabs the book from the cradle, and rushes back to the castle, while the dead rise from graves all around. During Ash\\'s panicked ride back, his evil copy rises from his grave and unites the Deadites into the Army of Darkness. Despite causing the predicament faced by the Medieval soldiers, Ash initially demands to be returned to his own time. However, Sheila is captured by a Flying Deadite, and later transformed into a Deadite. Ash becomes determined to lead the humans against the army of the dead. Reluctantly, the people agree to join Ash. Using scientific knowledge from textbooks in the trunk of his 1973 Oldsmobile Delta 88, and enlisting the help of Duke Henry, Ash successfully leads the medieval soldiers to victory over the Deadites and Evil Ash, saving Sheila and bringing peace between Arthur and Henry in the process. After this, he is brought back to his own time using a potion made from the Necronomicon. Later, Ash is at the S-Mart store telling a male co-worker  all about his adventure back in time, and how he could have been king. A female customer becomes possessed by a demon and starts wreaking havoc on the store, and Ash slays the creature.'"
      ]
     },
     "execution_count": 388,
     "metadata": {},
     "output_type": "execute_result"
    }
   ],
   "source": [
    "characters_plot['Plot Summary'].iloc[0]\n"
   ]
  },
  {
   "cell_type": "code",
   "execution_count": 118,
   "metadata": {},
   "outputs": [],
   "source": [
    "def countOccurrences(str, word):\n",
    " \n",
    "    wordslist = list(str.split())\n",
    "    return wordslist.count(word)\n"
   ]
  },
  {
   "cell_type": "markdown",
   "metadata": {},
   "source": [
    "## STEP 4 : Discrimination through types of roles attribution and its evolution in time"
   ]
  },
  {
   "cell_type": "markdown",
   "metadata": {},
   "source": [
    "## Step 4.1: Summaries treatment"
   ]
  },
  {
   "cell_type": "code",
   "execution_count": 119,
   "metadata": {},
   "outputs": [],
   "source": [
    "# feminine pronouns occurence in summaries"
   ]
  },
  {
   "cell_type": "code",
   "execution_count": 120,
   "metadata": {},
   "outputs": [],
   "source": [
    "def indicator_variable(dic,x,s):\n",
    "    '''\n",
    "    Returns indicator variable which equals to 1 if the corresponding headline uses \n",
    "    the corresponding type of pronoun and 0 otherwise.\n",
    "    :param dic: dictionary\n",
    "    :param x: string\n",
    "    :param s: string\n",
    "    :return: indicator variable\n",
    "    '''\n",
    "    return int(bool(set(dic[s]) & set(x.lower().split(\" \"))))"
   ]
  },
  {
   "cell_type": "code",
   "execution_count": 121,
   "metadata": {},
   "outputs": [],
   "source": [
    "feature_wordsets = dict([\n",
    "    # https://en.wikipedia.org/wiki/English_personal_pronouns\n",
    "    ('fem_pronoun', ['she','her','hers','herself', \n",
    "                               \"she'll\", \"she's\", 'shes']),\n",
    "    ('masc_pronoun', ['he','him','his','himself',\n",
    "                               \"he'd\", \"he's\", 'hes'])\n",
    "])\n",
    "\n",
    "plot_summaries[\"fem_pronoun\"] = plot_summaries[\"Plot Summary\"].apply(lambda x : indicator_variable(feature_wordsets,x,'fem_pronoun'))\n",
    "plot_summaries[\"masc_pronoun\"] = plot_summaries[\"Plot Summary\"].apply(lambda x : indicator_variable(feature_wordsets,x,'masc_pronoun'))\n"
   ]
  },
  {
   "cell_type": "code",
   "execution_count": 122,
   "metadata": {},
   "outputs": [
    {
     "data": {
      "text/html": [
       "<div>\n",
       "<style scoped>\n",
       "    .dataframe tbody tr th:only-of-type {\n",
       "        vertical-align: middle;\n",
       "    }\n",
       "\n",
       "    .dataframe tbody tr th {\n",
       "        vertical-align: top;\n",
       "    }\n",
       "\n",
       "    .dataframe thead th {\n",
       "        text-align: right;\n",
       "    }\n",
       "</style>\n",
       "<table border=\"1\" class=\"dataframe\">\n",
       "  <thead>\n",
       "    <tr style=\"text-align: right;\">\n",
       "      <th></th>\n",
       "      <th>Plot Summary</th>\n",
       "      <th>fem_pronoun</th>\n",
       "      <th>masc_pronoun</th>\n",
       "    </tr>\n",
       "    <tr>\n",
       "      <th>Wikipedia movie ID</th>\n",
       "      <th></th>\n",
       "      <th></th>\n",
       "      <th></th>\n",
       "    </tr>\n",
       "  </thead>\n",
       "  <tbody>\n",
       "    <tr>\n",
       "      <th>23890098</th>\n",
       "      <td>Shlykov, a hard-working taxi driver and Lyosha...</td>\n",
       "      <td>0</td>\n",
       "      <td>0</td>\n",
       "    </tr>\n",
       "    <tr>\n",
       "      <th>31186339</th>\n",
       "      <td>The nation of Panem consists of a wealthy Capi...</td>\n",
       "      <td>1</td>\n",
       "      <td>1</td>\n",
       "    </tr>\n",
       "    <tr>\n",
       "      <th>20663735</th>\n",
       "      <td>Poovalli Induchoodan  is sentenced for six yea...</td>\n",
       "      <td>1</td>\n",
       "      <td>1</td>\n",
       "    </tr>\n",
       "    <tr>\n",
       "      <th>2231378</th>\n",
       "      <td>The Lemon Drop Kid , a New York City swindler,...</td>\n",
       "      <td>1</td>\n",
       "      <td>1</td>\n",
       "    </tr>\n",
       "    <tr>\n",
       "      <th>595909</th>\n",
       "      <td>Seventh-day Adventist Church pastor Michael Ch...</td>\n",
       "      <td>1</td>\n",
       "      <td>1</td>\n",
       "    </tr>\n",
       "    <tr>\n",
       "      <th>...</th>\n",
       "      <td>...</td>\n",
       "      <td>...</td>\n",
       "      <td>...</td>\n",
       "    </tr>\n",
       "    <tr>\n",
       "      <th>34808485</th>\n",
       "      <td>The story is about Reema , a young Muslim scho...</td>\n",
       "      <td>1</td>\n",
       "      <td>0</td>\n",
       "    </tr>\n",
       "    <tr>\n",
       "      <th>1096473</th>\n",
       "      <td>In 1928 Hollywood, director Leo Andreyev  look...</td>\n",
       "      <td>1</td>\n",
       "      <td>1</td>\n",
       "    </tr>\n",
       "    <tr>\n",
       "      <th>35102018</th>\n",
       "      <td>American Luthier focuses on Randy Parsons’ tra...</td>\n",
       "      <td>0</td>\n",
       "      <td>1</td>\n",
       "    </tr>\n",
       "    <tr>\n",
       "      <th>8628195</th>\n",
       "      <td>Abdur Rehman Khan , a middle-aged dry fruit se...</td>\n",
       "      <td>1</td>\n",
       "      <td>1</td>\n",
       "    </tr>\n",
       "    <tr>\n",
       "      <th>6040782</th>\n",
       "      <td>1940 - Operation Dynamo has just taken place. ...</td>\n",
       "      <td>0</td>\n",
       "      <td>1</td>\n",
       "    </tr>\n",
       "  </tbody>\n",
       "</table>\n",
       "<p>42303 rows × 3 columns</p>\n",
       "</div>"
      ],
      "text/plain": [
       "                                                         Plot Summary  \\\n",
       "Wikipedia movie ID                                                      \n",
       "23890098            Shlykov, a hard-working taxi driver and Lyosha...   \n",
       "31186339            The nation of Panem consists of a wealthy Capi...   \n",
       "20663735            Poovalli Induchoodan  is sentenced for six yea...   \n",
       "2231378             The Lemon Drop Kid , a New York City swindler,...   \n",
       "595909              Seventh-day Adventist Church pastor Michael Ch...   \n",
       "...                                                               ...   \n",
       "34808485            The story is about Reema , a young Muslim scho...   \n",
       "1096473             In 1928 Hollywood, director Leo Andreyev  look...   \n",
       "35102018            American Luthier focuses on Randy Parsons’ tra...   \n",
       "8628195             Abdur Rehman Khan , a middle-aged dry fruit se...   \n",
       "6040782             1940 - Operation Dynamo has just taken place. ...   \n",
       "\n",
       "                    fem_pronoun  masc_pronoun  \n",
       "Wikipedia movie ID                             \n",
       "23890098                      0             0  \n",
       "31186339                      1             1  \n",
       "20663735                      1             1  \n",
       "2231378                       1             1  \n",
       "595909                        1             1  \n",
       "...                         ...           ...  \n",
       "34808485                      1             0  \n",
       "1096473                       1             1  \n",
       "35102018                      0             1  \n",
       "8628195                       1             1  \n",
       "6040782                       0             1  \n",
       "\n",
       "[42303 rows x 3 columns]"
      ]
     },
     "execution_count": 122,
     "metadata": {},
     "output_type": "execute_result"
    }
   ],
   "source": [
    "plot_summaries"
   ]
  },
  {
   "cell_type": "code",
   "execution_count": 123,
   "metadata": {},
   "outputs": [],
   "source": [
    "length_summaries = len(plot_summaries)"
   ]
  },
  {
   "cell_type": "code",
   "execution_count": 125,
   "metadata": {},
   "outputs": [
    {
     "name": "stdout",
     "output_type": "stream",
     "text": [
      "The number of summaries with feminine pronouns occurence: 25181\n",
      "The percentage of summaries with feminine pronouns occurence: 59.5253291728719 %\n"
     ]
    }
   ],
   "source": [
    "print('The number of summaries with feminine pronouns occurence:', sum(plot_summaries[\"fem_pronoun\"]))\n",
    "print('The percentage of summaries with feminine pronouns occurence:', 100*(sum(plot_summaries[\"fem_pronoun\"]))/ length_summaries, \"%\")"
   ]
  },
  {
   "cell_type": "code",
   "execution_count": 126,
   "metadata": {},
   "outputs": [
    {
     "name": "stdout",
     "output_type": "stream",
     "text": [
      "The number of summaries with masculine pronouns occurence: 35197\n",
      "The percentage of summaries with masculine pronouns occurence: 83.2021369642815 %\n"
     ]
    }
   ],
   "source": [
    "print('The number of summaries with masculine pronouns occurence:', sum(plot_summaries[\"masc_pronoun\"]))\n",
    "print('The percentage of summaries with masculine pronouns occurence:', 100*(sum(plot_summaries[\"masc_pronoun\"]))/ length_summaries, \"%\")"
   ]
  },
  {
   "cell_type": "markdown",
   "metadata": {},
   "source": [
    "We observe that there is more than 23% difference between the occurence of feminine and masculine pronouns in the given summaries.\n",
    "\n",
    "We can check if the pronouns occurence changes through time."
   ]
  },
  {
   "cell_type": "code",
   "execution_count": 127,
   "metadata": {},
   "outputs": [
    {
     "data": {
      "text/html": [
       "<div>\n",
       "<style scoped>\n",
       "    .dataframe tbody tr th:only-of-type {\n",
       "        vertical-align: middle;\n",
       "    }\n",
       "\n",
       "    .dataframe tbody tr th {\n",
       "        vertical-align: top;\n",
       "    }\n",
       "\n",
       "    .dataframe thead th {\n",
       "        text-align: right;\n",
       "    }\n",
       "</style>\n",
       "<table border=\"1\" class=\"dataframe\">\n",
       "  <thead>\n",
       "    <tr style=\"text-align: right;\">\n",
       "      <th></th>\n",
       "      <th>Freebase movie ID</th>\n",
       "      <th>Movie name</th>\n",
       "      <th>Movie release date</th>\n",
       "      <th>Movie box office revenue</th>\n",
       "      <th>Movie runtime</th>\n",
       "      <th>Movie languages</th>\n",
       "      <th>Movie countries</th>\n",
       "      <th>Movie genres</th>\n",
       "      <th>Plot Summary</th>\n",
       "      <th>fem_pronoun</th>\n",
       "      <th>masc_pronoun</th>\n",
       "    </tr>\n",
       "    <tr>\n",
       "      <th>Wikipedia movie ID</th>\n",
       "      <th></th>\n",
       "      <th></th>\n",
       "      <th></th>\n",
       "      <th></th>\n",
       "      <th></th>\n",
       "      <th></th>\n",
       "      <th></th>\n",
       "      <th></th>\n",
       "      <th></th>\n",
       "      <th></th>\n",
       "      <th></th>\n",
       "    </tr>\n",
       "  </thead>\n",
       "  <tbody>\n",
       "    <tr>\n",
       "      <th>3333</th>\n",
       "      <td>/m/0151l</td>\n",
       "      <td>The Birth of a Nation</td>\n",
       "      <td>1915-01-01</td>\n",
       "      <td>50000000.0</td>\n",
       "      <td>190.0</td>\n",
       "      <td>{\"/m/06ppq\": \"Silent film\", \"/m/02h40lc\": \"Eng...</td>\n",
       "      <td>{\"/m/09c7w0\": \"United States of America\"}</td>\n",
       "      <td>{\"/m/06ppq\": \"Silent film\", \"/m/0219x_\": \"Indi...</td>\n",
       "      <td>The film follows two juxtaposed families: the...</td>\n",
       "      <td>1.0</td>\n",
       "      <td>1.0</td>\n",
       "    </tr>\n",
       "    <tr>\n",
       "      <th>4499436</th>\n",
       "      <td>/m/0c5ppr</td>\n",
       "      <td>Way Down East</td>\n",
       "      <td>1920-01-01</td>\n",
       "      <td>4500000.0</td>\n",
       "      <td>147.0</td>\n",
       "      <td>{\"/m/06ppq\": \"Silent film\", \"/m/02h40lc\": \"Eng...</td>\n",
       "      <td>{\"/m/09c7w0\": \"United States of America\"}</td>\n",
       "      <td>{\"/m/06ppq\": \"Silent film\", \"/m/0219x_\": \"Indi...</td>\n",
       "      <td>The rich, typified by the handsome man-about-t...</td>\n",
       "      <td>1.0</td>\n",
       "      <td>1.0</td>\n",
       "    </tr>\n",
       "    <tr>\n",
       "      <th>21135479</th>\n",
       "      <td>/m/05b_29y</td>\n",
       "      <td>Little Lord Fauntleroy</td>\n",
       "      <td>1921-01-01</td>\n",
       "      <td>900000.0</td>\n",
       "      <td>112.0</td>\n",
       "      <td>{\"/m/06ppq\": \"Silent film\", \"/m/02h40lc\": \"Eng...</td>\n",
       "      <td>{\"/m/09c7w0\": \"United States of America\"}</td>\n",
       "      <td>{\"/m/06ppq\": \"Silent film\", \"/m/07s9rl0\": \"Dra...</td>\n",
       "      <td>Cedric Errol is a poor American boy who finds ...</td>\n",
       "      <td>0.0</td>\n",
       "      <td>1.0</td>\n",
       "    </tr>\n",
       "    <tr>\n",
       "      <th>1346905</th>\n",
       "      <td>/m/04vl27</td>\n",
       "      <td>The Kid</td>\n",
       "      <td>1921-01-01</td>\n",
       "      <td>2500000.0</td>\n",
       "      <td>60.0</td>\n",
       "      <td>{\"/m/06ppq\": \"Silent film\", \"/m/02h40lc\": \"Eng...</td>\n",
       "      <td>{\"/m/09c7w0\": \"United States of America\"}</td>\n",
       "      <td>{\"/m/06ppq\": \"Silent film\", \"/m/07s9rl0\": \"Dra...</td>\n",
       "      <td>An unwed woman  leaves a charity hospital carr...</td>\n",
       "      <td>1.0</td>\n",
       "      <td>1.0</td>\n",
       "    </tr>\n",
       "    <tr>\n",
       "      <th>2137591</th>\n",
       "      <td>/m/06pkq3</td>\n",
       "      <td>The Four Horsemen of the Apocalypse</td>\n",
       "      <td>1921-03-06</td>\n",
       "      <td>4500000.0</td>\n",
       "      <td>134.0</td>\n",
       "      <td>{\"/m/06ppq\": \"Silent film\", \"/m/02h40lc\": \"Eng...</td>\n",
       "      <td>{\"/m/09c7w0\": \"United States of America\"}</td>\n",
       "      <td>{\"/m/06ppq\": \"Silent film\", \"/m/0219x_\": \"Indi...</td>\n",
       "      <td>The 1921 film is a fictional story inspired b...</td>\n",
       "      <td>1.0</td>\n",
       "      <td>1.0</td>\n",
       "    </tr>\n",
       "    <tr>\n",
       "      <th>...</th>\n",
       "      <td>...</td>\n",
       "      <td>...</td>\n",
       "      <td>...</td>\n",
       "      <td>...</td>\n",
       "      <td>...</td>\n",
       "      <td>...</td>\n",
       "      <td>...</td>\n",
       "      <td>...</td>\n",
       "      <td>...</td>\n",
       "      <td>...</td>\n",
       "      <td>...</td>\n",
       "    </tr>\n",
       "    <tr>\n",
       "      <th>33316658</th>\n",
       "      <td>/m/0gydg4g</td>\n",
       "      <td>House at the End of the Street</td>\n",
       "      <td>2012-09-21</td>\n",
       "      <td>31096918.0</td>\n",
       "      <td>101.0</td>\n",
       "      <td>{\"/m/02h40lc\": \"English Language\"}</td>\n",
       "      <td>{}</td>\n",
       "      <td>{\"/m/03npn\": \"Horror\"}</td>\n",
       "      <td>Newly divorced Sarah  and her daughter Elissa ...</td>\n",
       "      <td>1.0</td>\n",
       "      <td>1.0</td>\n",
       "    </tr>\n",
       "    <tr>\n",
       "      <th>27383563</th>\n",
       "      <td>/m/0by1wkq</td>\n",
       "      <td>Looper</td>\n",
       "      <td>2012-09-28</td>\n",
       "      <td>136513833.0</td>\n",
       "      <td>118.0</td>\n",
       "      <td>{\"/m/02h40lc\": \"English Language\"}</td>\n",
       "      <td>{\"/m/09c7w0\": \"United States of America\"}</td>\n",
       "      <td>{\"/m/06n90\": \"Science Fiction\", \"/m/02kdv5l\": ...</td>\n",
       "      <td>By 2044, the United States has suffered econom...</td>\n",
       "      <td>1.0</td>\n",
       "      <td>1.0</td>\n",
       "    </tr>\n",
       "    <tr>\n",
       "      <th>34657171</th>\n",
       "      <td>/m/0j27nh9</td>\n",
       "      <td>Atlas Shrugged: Part 2</td>\n",
       "      <td>2012-10-12</td>\n",
       "      <td>2005099.0</td>\n",
       "      <td>112.0</td>\n",
       "      <td>{\"/m/02h40lc\": \"English Language\"}</td>\n",
       "      <td>{\"/m/09c7w0\": \"United States of America\"}</td>\n",
       "      <td>{\"/m/02n4kr\": \"Mystery\", \"/m/06n90\": \"Science ...</td>\n",
       "      <td>The film begins with a flashforward in which D...</td>\n",
       "      <td>1.0</td>\n",
       "      <td>1.0</td>\n",
       "    </tr>\n",
       "    <tr>\n",
       "      <th>35316287</th>\n",
       "      <td>/m/0gh9fjz</td>\n",
       "      <td>Here Comes the Boom</td>\n",
       "      <td>2012-10-12</td>\n",
       "      <td>30610000.0</td>\n",
       "      <td>105.0</td>\n",
       "      <td>{\"/m/02h40lc\": \"English Language\"}</td>\n",
       "      <td>{\"/m/09c7w0\": \"United States of America\"}</td>\n",
       "      <td>{\"/m/02kdv5l\": \"Action\", \"/m/01z4y\": \"Comedy\"}</td>\n",
       "      <td>Former collegiate wrestler Scott Voss  is a 42...</td>\n",
       "      <td>0.0</td>\n",
       "      <td>1.0</td>\n",
       "    </tr>\n",
       "    <tr>\n",
       "      <th>34312285</th>\n",
       "      <td>/m/0hyp0b8</td>\n",
       "      <td>Paranormal Activity 4</td>\n",
       "      <td>2012-10-18</td>\n",
       "      <td>91941891.0</td>\n",
       "      <td>88.0</td>\n",
       "      <td>{\"/m/02h40lc\": \"English Language\"}</td>\n",
       "      <td>{\"/m/09c7w0\": \"United States of America\"}</td>\n",
       "      <td>{\"/m/03npn\": \"Horror\"}</td>\n",
       "      <td>The beginning shows the Ending of Paranormal A...</td>\n",
       "      <td>1.0</td>\n",
       "      <td>1.0</td>\n",
       "    </tr>\n",
       "  </tbody>\n",
       "</table>\n",
       "<p>7462 rows × 11 columns</p>\n",
       "</div>"
      ],
      "text/plain": [
       "                   Freebase movie ID                           Movie name  \\\n",
       "Wikipedia movie ID                                                          \n",
       "3333                        /m/0151l                The Birth of a Nation   \n",
       "4499436                    /m/0c5ppr                        Way Down East   \n",
       "21135479                  /m/05b_29y               Little Lord Fauntleroy   \n",
       "1346905                    /m/04vl27                              The Kid   \n",
       "2137591                    /m/06pkq3  The Four Horsemen of the Apocalypse   \n",
       "...                              ...                                  ...   \n",
       "33316658                  /m/0gydg4g       House at the End of the Street   \n",
       "27383563                  /m/0by1wkq                               Looper   \n",
       "34657171                  /m/0j27nh9               Atlas Shrugged: Part 2   \n",
       "35316287                  /m/0gh9fjz                  Here Comes the Boom   \n",
       "34312285                  /m/0hyp0b8                Paranormal Activity 4   \n",
       "\n",
       "                   Movie release date  Movie box office revenue  \\\n",
       "Wikipedia movie ID                                                \n",
       "3333                       1915-01-01                50000000.0   \n",
       "4499436                    1920-01-01                 4500000.0   \n",
       "21135479                   1921-01-01                  900000.0   \n",
       "1346905                    1921-01-01                 2500000.0   \n",
       "2137591                    1921-03-06                 4500000.0   \n",
       "...                               ...                       ...   \n",
       "33316658                   2012-09-21                31096918.0   \n",
       "27383563                   2012-09-28               136513833.0   \n",
       "34657171                   2012-10-12                 2005099.0   \n",
       "35316287                   2012-10-12                30610000.0   \n",
       "34312285                   2012-10-18                91941891.0   \n",
       "\n",
       "                    Movie runtime  \\\n",
       "Wikipedia movie ID                  \n",
       "3333                        190.0   \n",
       "4499436                     147.0   \n",
       "21135479                    112.0   \n",
       "1346905                      60.0   \n",
       "2137591                     134.0   \n",
       "...                           ...   \n",
       "33316658                    101.0   \n",
       "27383563                    118.0   \n",
       "34657171                    112.0   \n",
       "35316287                    105.0   \n",
       "34312285                     88.0   \n",
       "\n",
       "                                                      Movie languages  \\\n",
       "Wikipedia movie ID                                                      \n",
       "3333                {\"/m/06ppq\": \"Silent film\", \"/m/02h40lc\": \"Eng...   \n",
       "4499436             {\"/m/06ppq\": \"Silent film\", \"/m/02h40lc\": \"Eng...   \n",
       "21135479            {\"/m/06ppq\": \"Silent film\", \"/m/02h40lc\": \"Eng...   \n",
       "1346905             {\"/m/06ppq\": \"Silent film\", \"/m/02h40lc\": \"Eng...   \n",
       "2137591             {\"/m/06ppq\": \"Silent film\", \"/m/02h40lc\": \"Eng...   \n",
       "...                                                               ...   \n",
       "33316658                           {\"/m/02h40lc\": \"English Language\"}   \n",
       "27383563                           {\"/m/02h40lc\": \"English Language\"}   \n",
       "34657171                           {\"/m/02h40lc\": \"English Language\"}   \n",
       "35316287                           {\"/m/02h40lc\": \"English Language\"}   \n",
       "34312285                           {\"/m/02h40lc\": \"English Language\"}   \n",
       "\n",
       "                                              Movie countries  \\\n",
       "Wikipedia movie ID                                              \n",
       "3333                {\"/m/09c7w0\": \"United States of America\"}   \n",
       "4499436             {\"/m/09c7w0\": \"United States of America\"}   \n",
       "21135479            {\"/m/09c7w0\": \"United States of America\"}   \n",
       "1346905             {\"/m/09c7w0\": \"United States of America\"}   \n",
       "2137591             {\"/m/09c7w0\": \"United States of America\"}   \n",
       "...                                                       ...   \n",
       "33316658                                                   {}   \n",
       "27383563            {\"/m/09c7w0\": \"United States of America\"}   \n",
       "34657171            {\"/m/09c7w0\": \"United States of America\"}   \n",
       "35316287            {\"/m/09c7w0\": \"United States of America\"}   \n",
       "34312285            {\"/m/09c7w0\": \"United States of America\"}   \n",
       "\n",
       "                                                         Movie genres  \\\n",
       "Wikipedia movie ID                                                      \n",
       "3333                {\"/m/06ppq\": \"Silent film\", \"/m/0219x_\": \"Indi...   \n",
       "4499436             {\"/m/06ppq\": \"Silent film\", \"/m/0219x_\": \"Indi...   \n",
       "21135479            {\"/m/06ppq\": \"Silent film\", \"/m/07s9rl0\": \"Dra...   \n",
       "1346905             {\"/m/06ppq\": \"Silent film\", \"/m/07s9rl0\": \"Dra...   \n",
       "2137591             {\"/m/06ppq\": \"Silent film\", \"/m/0219x_\": \"Indi...   \n",
       "...                                                               ...   \n",
       "33316658                                       {\"/m/03npn\": \"Horror\"}   \n",
       "27383563            {\"/m/06n90\": \"Science Fiction\", \"/m/02kdv5l\": ...   \n",
       "34657171            {\"/m/02n4kr\": \"Mystery\", \"/m/06n90\": \"Science ...   \n",
       "35316287               {\"/m/02kdv5l\": \"Action\", \"/m/01z4y\": \"Comedy\"}   \n",
       "34312285                                       {\"/m/03npn\": \"Horror\"}   \n",
       "\n",
       "                                                         Plot Summary  \\\n",
       "Wikipedia movie ID                                                      \n",
       "3333                 The film follows two juxtaposed families: the...   \n",
       "4499436             The rich, typified by the handsome man-about-t...   \n",
       "21135479            Cedric Errol is a poor American boy who finds ...   \n",
       "1346905             An unwed woman  leaves a charity hospital carr...   \n",
       "2137591              The 1921 film is a fictional story inspired b...   \n",
       "...                                                               ...   \n",
       "33316658            Newly divorced Sarah  and her daughter Elissa ...   \n",
       "27383563            By 2044, the United States has suffered econom...   \n",
       "34657171            The film begins with a flashforward in which D...   \n",
       "35316287            Former collegiate wrestler Scott Voss  is a 42...   \n",
       "34312285            The beginning shows the Ending of Paranormal A...   \n",
       "\n",
       "                    fem_pronoun  masc_pronoun  \n",
       "Wikipedia movie ID                             \n",
       "3333                        1.0           1.0  \n",
       "4499436                     1.0           1.0  \n",
       "21135479                    0.0           1.0  \n",
       "1346905                     1.0           1.0  \n",
       "2137591                     1.0           1.0  \n",
       "...                         ...           ...  \n",
       "33316658                    1.0           1.0  \n",
       "27383563                    1.0           1.0  \n",
       "34657171                    1.0           1.0  \n",
       "35316287                    0.0           1.0  \n",
       "34312285                    1.0           1.0  \n",
       "\n",
       "[7462 rows x 11 columns]"
      ]
     },
     "execution_count": 127,
     "metadata": {},
     "output_type": "execute_result"
    }
   ],
   "source": [
    "# add a release date column to the plot_summaries dataset\n",
    "\n",
    "summaries_with_date = movie_metadata_filt.join(plot_summaries) #there were more summaries than given movies\n",
    "summaries_with_date = summaries_with_date.dropna()\n",
    "summaries_with_date[\"Movie release date\"] = pd.to_datetime(summaries_with_date[\"Movie release date\"],errors='coerce')\n",
    "summaries_with_date = summaries_with_date.sort_values(by=\"Movie release date\")\n",
    "summaries_with_date "
   ]
  },
  {
   "cell_type": "code",
   "execution_count": 340,
   "metadata": {},
   "outputs": [
    {
     "data": {
      "text/html": [
       "<div>\n",
       "<style scoped>\n",
       "    .dataframe tbody tr th:only-of-type {\n",
       "        vertical-align: middle;\n",
       "    }\n",
       "\n",
       "    .dataframe tbody tr th {\n",
       "        vertical-align: top;\n",
       "    }\n",
       "\n",
       "    .dataframe thead th {\n",
       "        text-align: right;\n",
       "    }\n",
       "</style>\n",
       "<table border=\"1\" class=\"dataframe\">\n",
       "  <thead>\n",
       "    <tr style=\"text-align: right;\">\n",
       "      <th></th>\n",
       "      <th>Freebase movie ID</th>\n",
       "      <th>Movie name</th>\n",
       "      <th>Movie release date</th>\n",
       "      <th>Movie box office revenue</th>\n",
       "      <th>Movie runtime</th>\n",
       "      <th>Movie languages</th>\n",
       "      <th>Movie countries</th>\n",
       "      <th>Movie genres</th>\n",
       "      <th>Plot Summary</th>\n",
       "      <th>fem_pronoun</th>\n",
       "      <th>masc_pronoun</th>\n",
       "    </tr>\n",
       "    <tr>\n",
       "      <th>Wikipedia movie ID</th>\n",
       "      <th></th>\n",
       "      <th></th>\n",
       "      <th></th>\n",
       "      <th></th>\n",
       "      <th></th>\n",
       "      <th></th>\n",
       "      <th></th>\n",
       "      <th></th>\n",
       "      <th></th>\n",
       "      <th></th>\n",
       "      <th></th>\n",
       "    </tr>\n",
       "  </thead>\n",
       "  <tbody>\n",
       "  </tbody>\n",
       "</table>\n",
       "</div>"
      ],
      "text/plain": [
       "Empty DataFrame\n",
       "Columns: [Freebase movie ID, Movie name, Movie release date, Movie box office revenue, Movie runtime, Movie languages, Movie countries, Movie genres, Plot Summary, fem_pronoun, masc_pronoun]\n",
       "Index: []"
      ]
     },
     "execution_count": 340,
     "metadata": {},
     "output_type": "execute_result"
    }
   ],
   "source": [
    "#split dataset into three parts: before 2007, between 2007 and 2016, and after 2016\n",
    "\n",
    "summaries_before2007 = summaries_with_date[summaries_with_date[\"Movie release date\"] < \"2007-01-01\"]\n",
    "summaries_2007 = summaries_with_date[(summaries_with_date[\"Movie release date\"] >= \"2007-01-01\") & (summaries_with_date[\"Movie release date\"] < \"2016-01-01\") ]\n",
    "summaries_2016 = summaries_with_date[summaries_with_date[\"Movie release date\"] >= \"2016-01-01\"]\n",
    "summaries_2016"
   ]
  },
  {
   "cell_type": "code",
   "execution_count": 131,
   "metadata": {},
   "outputs": [
    {
     "name": "stdout",
     "output_type": "stream",
     "text": [
      "The number of summaries before 2007 with feminine pronouns occurence: 4392.0\n",
      "The percentage of summaries before 2007 with feminine pronouns occurence: 76.2367644506162 %\n"
     ]
    }
   ],
   "source": [
    "print('The number of summaries before 2007 with feminine pronouns occurence:', sum(summaries_before2007[\"fem_pronoun\"]))\n",
    "print('The percentage of summaries before 2007 with feminine pronouns occurence:', 100*(sum(summaries_before2007[\"fem_pronoun\"]))/ len(summaries_before2007), \"%\")"
   ]
  },
  {
   "cell_type": "code",
   "execution_count": 132,
   "metadata": {},
   "outputs": [
    {
     "name": "stdout",
     "output_type": "stream",
     "text": [
      "The number of summaries before 2007 with masculine pronouns occurence: 5405.0\n",
      "The percentage of summaries before 2007 with masculine pronouns occurence: 93.82051727130707 %\n"
     ]
    }
   ],
   "source": [
    "print('The number of summaries before 2007 with masculine pronouns occurence:', sum(summaries_before2007[\"masc_pronoun\"]))\n",
    "print('The percentage of summaries before 2007 with masculine pronouns occurence:', 100*(sum(summaries_before2007[\"masc_pronoun\"]))/ len(summaries_before2007), \"%\")"
   ]
  },
  {
   "cell_type": "code",
   "execution_count": 240,
   "metadata": {},
   "outputs": [
    {
     "name": "stdout",
     "output_type": "stream",
     "text": [
      "The number of summaries after 2007 with feminine pronouns occurence: 1329.0\n",
      "The percentage of summaries after 2007 with feminine pronouns occurence: 78.1305114638448 %\n"
     ]
    }
   ],
   "source": [
    "print('The number of summaries after 2007 with feminine pronouns occurence:', sum(summaries_2007[\"fem_pronoun\"]))\n",
    "print('The percentage of summaries after 2007 with feminine pronouns occurence:', 100*(sum(summaries_2007[\"fem_pronoun\"]))/ len(summaries_2007), \"%\")"
   ]
  },
  {
   "cell_type": "code",
   "execution_count": 241,
   "metadata": {},
   "outputs": [
    {
     "name": "stdout",
     "output_type": "stream",
     "text": [
      "The number of summaries after 2007 with masculine pronouns occurence: 1535.0\n",
      "The percentage of summaries after 2007 with masculine pronouns occurence: 90.24103468547914 %\n"
     ]
    }
   ],
   "source": [
    "print('The number of summaries after 2007 with masculine pronouns occurence:', sum(summaries_2007[\"masc_pronoun\"]))\n",
    "print('The percentage of summaries after 2007 with masculine pronouns occurence:', 100*(sum(summaries_2007[\"masc_pronoun\"]))/ len(summaries_2007), \"%\")"
   ]
  },
  {
   "cell_type": "markdown",
   "metadata": {},
   "source": [
    "the dataset does not contain any row after 2016\n",
    "\n",
    "On the period before and after 2007, we see a slight increase in feminine pronouns occurence and a slight decrease in masculine pronouns occurences, always with masculine pronouns mainly used in movies summaries. The subgroups tendencies are aligned with the entire group (it is not a Simpson paradox).\n",
    "\n",
    "These results can not be largely interpreted as the subgroup \"before 2007\" is fifth times larger than the \"after 2007\" subgroup. Results can be biased due to the different number of samples.\n",
    "\n",
    "Find a way to count the number of feminine and masculine pronouns in each summary, compute the mean and the mean difference for both groups. Compare mean number of fem/masc pronouns in function of movies genres. Compare this to length of summary too. (maybe action movies have shorter summaries, and they are also more representative of men population)\n",
    "\n",
    "The next step would be to correlate the masculine and feminine pronouns occurence with certain genres, and see if it matches certain gender stereotypes.\n",
    "\n",
    "In [211]:\n"
   ]
  }
 ],
 "metadata": {
  "kernelspec": {
   "display_name": "Python 3 (ipykernel)",
   "language": "python",
   "name": "python3"
  },
  "language_info": {
   "codemirror_mode": {
    "name": "ipython",
    "version": 3
   },
   "file_extension": ".py",
   "mimetype": "text/x-python",
   "name": "python",
   "nbconvert_exporter": "python",
   "pygments_lexer": "ipython3",
   "version": "3.8.9"
  },
  "vscode": {
   "interpreter": {
    "hash": "31f2aee4e71d21fbe5cf8b01ff0e069b9275f58929596ceb00d14d90e3e16cd6"
   }
  }
 },
 "nbformat": 4,
 "nbformat_minor": 4
}
