{
 "cells": [
  {
   "cell_type": "code",
   "execution_count": 250,
   "metadata": {},
   "outputs": [
    {
     "data": {
      "text/plain": [
       "'\\nFile name: preprocessing.ipynb\\nAuthors: Yasmin El Euch, Aliénor Bénédicte G Hamoir, Clara Rossignol, Guillaume David E. Ryelandt\\nDate created: 04/11/2022\\nDate last modified: 18/11/2022\\nPython version: 3.8.8\\n'"
      ]
     },
     "execution_count": 250,
     "metadata": {},
     "output_type": "execute_result"
    }
   ],
   "source": [
    "'''\n",
    "File name: preprocessing.ipynb\n",
    "Authors: Yasmin El Euch, Aliénor Bénédicte G Hamoir, Clara Rossignol, Guillaume David E. Ryelandt\n",
    "Date created: 04/11/2022\n",
    "Date last modified: 18/11/2022\n",
    "Python version: 3.8.8\n",
    "'''"
   ]
  },
  {
   "cell_type": "markdown",
   "metadata": {},
   "source": [
    "# Oscar_preprocess\n",
    "\n",
    "\n",
    "The goal here is to "
   ]
  },
  {
   "cell_type": "markdown",
   "metadata": {},
   "source": [
    "## Table of contents\n",
    "\n",
    "0. [General Information](#GI)\\\n",
    "        A. [Folder structure](#Folder)\\\n",
    "        B. [Data](#Data)\\\n",
    "        C. [Imports](#Imports)\\\n",
    "        D. [Paths](#Paths)\n",
    "\n",
    "1. [Data scraping, pre-processing and dataset construction](#Step-1)\\\n",
    "        A. [Pre-processing](#Pre-pro)\\\n",
    "        B. [First insights on gender gap](#First_insights)\n",
    "\n",
    "2. [Box office revenues, salaries](#Box_Office)\n",
    "3. [Detecting main characters](#Main_characters)\n",
    "4. [Discrimination through types of roles attribution and its evolution in time](#Types)\n"
   ]
  },
  {
   "cell_type": "markdown",
   "metadata": {},
   "source": [
    "---\n",
    "## General Information <a id=\"GI\"> </a> "
   ]
  },
  {
   "cell_type": "markdown",
   "metadata": {},
   "source": [
    "### Folder structure <a id=\"Folder\"> </a>"
   ]
  },
  {
   "cell_type": "markdown",
   "metadata": {},
   "source": [
    "\n",
    "### Imports <a id=\"Imports\"> </a>"
   ]
  },
  {
   "cell_type": "markdown",
   "metadata": {},
   "source": [
    "***Libraries used for milestone 2:***\n",
    "- python=3.8.12\n",
    "- pandas\n",
    "- ast\n",
    "- datetime\n",
    "- seaborn\n",
    "- numpy\n",
    "- matplotlib\n",
    "- json"
   ]
  },
  {
   "cell_type": "code",
   "execution_count": 1,
   "metadata": {},
   "outputs": [],
   "source": [
    "#Imports used in this notebook\n",
    "import pandas as pd\n",
    "import numpy as np\n",
    "import matplotlib.pyplot as plt\n",
    "import seaborn as sns\n",
    "from scipy.stats import t"
   ]
  },
  {
   "cell_type": "markdown",
   "metadata": {},
   "source": [
    "### Paths <a id=\"Paths\"> </a>"
   ]
  },
  {
   "cell_type": "markdown",
   "metadata": {},
   "source": [
    "Required to adapt those path to local file organization"
   ]
  },
  {
   "cell_type": "code",
   "execution_count": 2,
   "metadata": {},
   "outputs": [],
   "source": [
    "### PATHs for dataset:\n",
    "PATH_DATA = 'data/'\n",
    "\n",
    "#additionnal datasets:\n",
    "PATH_MOVIE_OSCAR_NOMINEES = PATH_DATA+'oscar_nominees.csv'"
   ]
  },
  {
   "cell_type": "markdown",
   "metadata": {},
   "source": [
    "---\n",
    "##  Data scraping, pre-processing and dataset construction<a id=\"Step-1\"> </a>"
   ]
  },
  {
   "cell_type": "markdown",
   "metadata": {},
   "source": [
    "### Pre-processing <a id=\"#Pre-pro\"> </a>\n",
    ">basic sanity checks etc..."
   ]
  },
  {
   "cell_type": "code",
   "execution_count": 3,
   "metadata": {},
   "outputs": [
    {
     "name": "stdout",
     "output_type": "stream",
     "text": [
      "Reading in movie data\n"
     ]
    },
    {
     "data": {
      "text/html": [
       "<div>\n",
       "<style scoped>\n",
       "    .dataframe tbody tr th:only-of-type {\n",
       "        vertical-align: middle;\n",
       "    }\n",
       "\n",
       "    .dataframe tbody tr th {\n",
       "        vertical-align: top;\n",
       "    }\n",
       "\n",
       "    .dataframe thead th {\n",
       "        text-align: right;\n",
       "    }\n",
       "</style>\n",
       "<table border=\"1\" class=\"dataframe\">\n",
       "  <thead>\n",
       "    <tr style=\"text-align: right;\">\n",
       "      <th></th>\n",
       "      <th>name</th>\n",
       "      <th>gender</th>\n",
       "      <th>category</th>\n",
       "      <th>year</th>\n",
       "      <th>dups_nominees</th>\n",
       "    </tr>\n",
       "  </thead>\n",
       "  <tbody>\n",
       "    <tr>\n",
       "      <th>3294</th>\n",
       "      <td>William Cameron Menzies</td>\n",
       "      <td>male</td>\n",
       "      <td>Production Design</td>\n",
       "      <td>1929</td>\n",
       "      <td>False</td>\n",
       "    </tr>\n",
       "    <tr>\n",
       "      <th>2031</th>\n",
       "      <td>Karl Struss</td>\n",
       "      <td>male</td>\n",
       "      <td>Cinematography</td>\n",
       "      <td>1929</td>\n",
       "      <td>False</td>\n",
       "    </tr>\n",
       "    <tr>\n",
       "      <th>3192</th>\n",
       "      <td>Harry Oliver</td>\n",
       "      <td>male</td>\n",
       "      <td>Production Design</td>\n",
       "      <td>1929</td>\n",
       "      <td>False</td>\n",
       "    </tr>\n",
       "    <tr>\n",
       "      <th>2478</th>\n",
       "      <td>Rochus Gliese</td>\n",
       "      <td>male</td>\n",
       "      <td>Production Design</td>\n",
       "      <td>1929</td>\n",
       "      <td>False</td>\n",
       "    </tr>\n",
       "    <tr>\n",
       "      <th>1586</th>\n",
       "      <td>George Barnes</td>\n",
       "      <td>male</td>\n",
       "      <td>Cinematography</td>\n",
       "      <td>1929</td>\n",
       "      <td>False</td>\n",
       "    </tr>\n",
       "  </tbody>\n",
       "</table>\n",
       "</div>"
      ],
      "text/plain": [
       "                         name gender           category  year  dups_nominees\n",
       "3294  William Cameron Menzies   male  Production Design  1929          False\n",
       "2031              Karl Struss   male     Cinematography  1929          False\n",
       "3192             Harry Oliver   male  Production Design  1929          False\n",
       "2478            Rochus Gliese   male  Production Design  1929          False\n",
       "1586            George Barnes   male     Cinematography  1929          False"
      ]
     },
     "execution_count": 3,
     "metadata": {},
     "output_type": "execute_result"
    }
   ],
   "source": [
    "print(\"Reading in movie data\")\n",
    "\n",
    "#Read in movie metadata, plot summaries, and character metadata.\n",
    "\n",
    "oscar_nominees=pd.read_csv(PATH_MOVIE_OSCAR_NOMINEES,header=0)\n",
    "oscar_nominees=oscar_nominees.sort_values(by='year',ascending=True)\n",
    "oscar_nominees['dups_nominees'] = oscar_nominees.duplicated()\n",
    "oscar_nominees.head()"
   ]
  },
  {
   "cell_type": "code",
   "execution_count": 4,
   "metadata": {},
   "outputs": [
    {
     "name": "stdout",
     "output_type": "stream",
     "text": [
      "there are nominees in the dataset 9599\n"
     ]
    }
   ],
   "source": [
    "print('there are nominees in the dataset',len(oscar_nominees))"
   ]
  },
  {
   "cell_type": "code",
   "execution_count": 5,
   "metadata": {},
   "outputs": [
    {
     "data": {
      "text/plain": [
       "False"
      ]
     },
     "execution_count": 5,
     "metadata": {},
     "output_type": "execute_result"
    }
   ],
   "source": [
    "oscar_nominees.name.is_unique"
   ]
  },
  {
   "cell_type": "code",
   "execution_count": 6,
   "metadata": {},
   "outputs": [
    {
     "data": {
      "text/plain": [
       "name             False\n",
       "gender            True\n",
       "category         False\n",
       "year             False\n",
       "dups_nominees    False\n",
       "dtype: bool"
      ]
     },
     "execution_count": 6,
     "metadata": {},
     "output_type": "execute_result"
    }
   ],
   "source": [
    "oscar_nominees.isna().any()"
   ]
  },
  {
   "cell_type": "code",
   "execution_count": 7,
   "metadata": {},
   "outputs": [
    {
     "name": "stdout",
     "output_type": "stream",
     "text": [
      "Number of NaN in each features for the genders: 30\n"
     ]
    }
   ],
   "source": [
    "#check if any NaN features\n",
    "\n",
    "print('Number of NaN in each features for the genders:',oscar_nominees['gender'].isna().sum())"
   ]
  },
  {
   "cell_type": "markdown",
   "metadata": {},
   "source": [
    "### first exploration of the dataset <a id=\"#explo\"> </a>\n",
    ">"
   ]
  },
  {
   "cell_type": "code",
   "execution_count": 8,
   "metadata": {},
   "outputs": [
    {
     "data": {
      "text/plain": [
       "male          8543\n",
       "female        1025\n",
       "non-binary       1\n",
       "Name: gender, dtype: int64"
      ]
     },
     "execution_count": 8,
     "metadata": {},
     "output_type": "execute_result"
    }
   ],
   "source": [
    "oscar_nominees.gender.value_counts()"
   ]
  },
  {
   "cell_type": "code",
   "execution_count": 9,
   "metadata": {},
   "outputs": [
    {
     "data": {
      "text/plain": [
       "True"
      ]
     },
     "execution_count": 9,
     "metadata": {},
     "output_type": "execute_result"
    }
   ],
   "source": [
    "#separate by gender \n",
    "oscar_nominees_males=oscar_nominees[oscar_nominees['gender']=='male']\n",
    "oscar_nominees_females=oscar_nominees[oscar_nominees['gender']=='female']\n",
    "oscar_nominees_non_binary=oscar_nominees[oscar_nominees['gender']=='non-binary']\n",
    "\n",
    "#sanity checks \n",
    "len(oscar_nominees_males)+len(oscar_nominees_females)+oscar_nominees['gender'].isna().sum()+len(oscar_nominees_non_binary)==len(oscar_nominees)"
   ]
  },
  {
   "cell_type": "markdown",
   "metadata": {},
   "source": [
    "### first exploration of the dataset <a id=\"#explo\"> </a>"
   ]
  },
  {
   "cell_type": "code",
   "execution_count": 10,
   "metadata": {},
   "outputs": [
    {
     "data": {
      "text/html": [
       "<div>\n",
       "<style scoped>\n",
       "    .dataframe tbody tr th:only-of-type {\n",
       "        vertical-align: middle;\n",
       "    }\n",
       "\n",
       "    .dataframe tbody tr th {\n",
       "        vertical-align: top;\n",
       "    }\n",
       "\n",
       "    .dataframe thead th {\n",
       "        text-align: right;\n",
       "    }\n",
       "</style>\n",
       "<table border=\"1\" class=\"dataframe\">\n",
       "  <thead>\n",
       "    <tr style=\"text-align: right;\">\n",
       "      <th></th>\n",
       "      <th>Total</th>\n",
       "      <th>females</th>\n",
       "      <th>males</th>\n",
       "    </tr>\n",
       "  </thead>\n",
       "  <tbody>\n",
       "    <tr>\n",
       "      <th>Sound Mixing</th>\n",
       "      <td>1049</td>\n",
       "      <td>15.0</td>\n",
       "      <td>1034</td>\n",
       "    </tr>\n",
       "    <tr>\n",
       "      <th>Production Design</th>\n",
       "      <td>731</td>\n",
       "      <td>140.0</td>\n",
       "      <td>591</td>\n",
       "    </tr>\n",
       "    <tr>\n",
       "      <th>Writing, Adapted Screenplay</th>\n",
       "      <td>661</td>\n",
       "      <td>69.0</td>\n",
       "      <td>592</td>\n",
       "    </tr>\n",
       "    <tr>\n",
       "      <th>Writing, Original Screenplay</th>\n",
       "      <td>623</td>\n",
       "      <td>59.0</td>\n",
       "      <td>564</td>\n",
       "    </tr>\n",
       "    <tr>\n",
       "      <th>Film Editing</th>\n",
       "      <td>542</td>\n",
       "      <td>77.0</td>\n",
       "      <td>465</td>\n",
       "    </tr>\n",
       "    <tr>\n",
       "      <th>Visual Effects</th>\n",
       "      <td>503</td>\n",
       "      <td>3.0</td>\n",
       "      <td>496</td>\n",
       "    </tr>\n",
       "    <tr>\n",
       "      <th>Director</th>\n",
       "      <td>442</td>\n",
       "      <td>5.0</td>\n",
       "      <td>437</td>\n",
       "    </tr>\n",
       "    <tr>\n",
       "      <th>Animated Short Film</th>\n",
       "      <td>425</td>\n",
       "      <td>41.0</td>\n",
       "      <td>382</td>\n",
       "    </tr>\n",
       "    <tr>\n",
       "      <th>Documentary (Short Subject)</th>\n",
       "      <td>411</td>\n",
       "      <td>113.0</td>\n",
       "      <td>286</td>\n",
       "    </tr>\n",
       "    <tr>\n",
       "      <th>Art Direction, Black and White</th>\n",
       "      <td>380</td>\n",
       "      <td>7.0</td>\n",
       "      <td>373</td>\n",
       "    </tr>\n",
       "    <tr>\n",
       "      <th>Live Action Short Film</th>\n",
       "      <td>379</td>\n",
       "      <td>73.0</td>\n",
       "      <td>295</td>\n",
       "    </tr>\n",
       "    <tr>\n",
       "      <th>Art Direction, Color</th>\n",
       "      <td>371</td>\n",
       "      <td>11.0</td>\n",
       "      <td>360</td>\n",
       "    </tr>\n",
       "    <tr>\n",
       "      <th>Cinematography</th>\n",
       "      <td>320</td>\n",
       "      <td>NaN</td>\n",
       "      <td>320</td>\n",
       "    </tr>\n",
       "    <tr>\n",
       "      <th>Costume Design</th>\n",
       "      <td>289</td>\n",
       "      <td>177.0</td>\n",
       "      <td>112</td>\n",
       "    </tr>\n",
       "    <tr>\n",
       "      <th>Original Score</th>\n",
       "      <td>283</td>\n",
       "      <td>3.0</td>\n",
       "      <td>280</td>\n",
       "    </tr>\n",
       "    <tr>\n",
       "      <th>Makeup and Hairstyling</th>\n",
       "      <td>214</td>\n",
       "      <td>71.0</td>\n",
       "      <td>143</td>\n",
       "    </tr>\n",
       "    <tr>\n",
       "      <th>Special Effects</th>\n",
       "      <td>196</td>\n",
       "      <td>NaN</td>\n",
       "      <td>196</td>\n",
       "    </tr>\n",
       "    <tr>\n",
       "      <th>Original Musical Score</th>\n",
       "      <td>195</td>\n",
       "      <td>NaN</td>\n",
       "      <td>195</td>\n",
       "    </tr>\n",
       "    <tr>\n",
       "      <th>Sound Editing</th>\n",
       "      <td>192</td>\n",
       "      <td>12.0</td>\n",
       "      <td>180</td>\n",
       "    </tr>\n",
       "    <tr>\n",
       "      <th>Story</th>\n",
       "      <td>179</td>\n",
       "      <td>17.0</td>\n",
       "      <td>162</td>\n",
       "    </tr>\n",
       "    <tr>\n",
       "      <th>Cinematography, Color</th>\n",
       "      <td>174</td>\n",
       "      <td>NaN</td>\n",
       "      <td>174</td>\n",
       "    </tr>\n",
       "    <tr>\n",
       "      <th>Cinematography, Black-and-White</th>\n",
       "      <td>166</td>\n",
       "      <td>NaN</td>\n",
       "      <td>166</td>\n",
       "    </tr>\n",
       "    <tr>\n",
       "      <th>Original Dramatic or Comedy Score</th>\n",
       "      <td>165</td>\n",
       "      <td>1.0</td>\n",
       "      <td>164</td>\n",
       "    </tr>\n",
       "    <tr>\n",
       "      <th>Costume Design, Color</th>\n",
       "      <td>116</td>\n",
       "      <td>59.0</td>\n",
       "      <td>57</td>\n",
       "    </tr>\n",
       "    <tr>\n",
       "      <th>Score, Adaptation or Treatment</th>\n",
       "      <td>113</td>\n",
       "      <td>NaN</td>\n",
       "      <td>113</td>\n",
       "    </tr>\n",
       "    <tr>\n",
       "      <th>Animated Feature</th>\n",
       "      <td>104</td>\n",
       "      <td>9.0</td>\n",
       "      <td>95</td>\n",
       "    </tr>\n",
       "    <tr>\n",
       "      <th>Costume Design, Black-and-White</th>\n",
       "      <td>90</td>\n",
       "      <td>44.0</td>\n",
       "      <td>46</td>\n",
       "    </tr>\n",
       "    <tr>\n",
       "      <th>Documentary Feature</th>\n",
       "      <td>80</td>\n",
       "      <td>17.0</td>\n",
       "      <td>62</td>\n",
       "    </tr>\n",
       "    <tr>\n",
       "      <th>Original Dramatic Score</th>\n",
       "      <td>71</td>\n",
       "      <td>NaN</td>\n",
       "      <td>71</td>\n",
       "    </tr>\n",
       "    <tr>\n",
       "      <th>Live Action Short Film, One-Reel</th>\n",
       "      <td>68</td>\n",
       "      <td>1.0</td>\n",
       "      <td>67</td>\n",
       "    </tr>\n",
       "    <tr>\n",
       "      <th>Live Action Short Film, Two-Reel</th>\n",
       "      <td>57</td>\n",
       "      <td>NaN</td>\n",
       "      <td>57</td>\n",
       "    </tr>\n",
       "    <tr>\n",
       "      <th>Foreign Language Film</th>\n",
       "      <td>8</td>\n",
       "      <td>1.0</td>\n",
       "      <td>7</td>\n",
       "    </tr>\n",
       "    <tr>\n",
       "      <th>Original Song</th>\n",
       "      <td>2</td>\n",
       "      <td>NaN</td>\n",
       "      <td>1</td>\n",
       "    </tr>\n",
       "  </tbody>\n",
       "</table>\n",
       "</div>"
      ],
      "text/plain": [
       "                                   Total  females  males\n",
       "Sound Mixing                        1049     15.0   1034\n",
       "Production Design                    731    140.0    591\n",
       "Writing, Adapted Screenplay          661     69.0    592\n",
       "Writing, Original Screenplay         623     59.0    564\n",
       "Film Editing                         542     77.0    465\n",
       "Visual Effects                       503      3.0    496\n",
       "Director                             442      5.0    437\n",
       "Animated Short Film                  425     41.0    382\n",
       "Documentary (Short Subject)          411    113.0    286\n",
       "Art Direction, Black and White       380      7.0    373\n",
       "Live Action Short Film               379     73.0    295\n",
       "Art Direction, Color                 371     11.0    360\n",
       "Cinematography                       320      NaN    320\n",
       "Costume Design                       289    177.0    112\n",
       "Original Score                       283      3.0    280\n",
       "Makeup and Hairstyling               214     71.0    143\n",
       "Special Effects                      196      NaN    196\n",
       "Original Musical Score               195      NaN    195\n",
       "Sound Editing                        192     12.0    180\n",
       "Story                                179     17.0    162\n",
       "Cinematography, Color                174      NaN    174\n",
       "Cinematography, Black-and-White      166      NaN    166\n",
       "Original Dramatic or Comedy Score    165      1.0    164\n",
       "Costume Design, Color                116     59.0     57\n",
       "Score, Adaptation or Treatment       113      NaN    113\n",
       "Animated Feature                     104      9.0     95\n",
       "Costume Design, Black-and-White       90     44.0     46\n",
       "Documentary Feature                   80     17.0     62\n",
       "Original Dramatic Score               71      NaN     71\n",
       "Live Action Short Film, One-Reel      68      1.0     67\n",
       "Live Action Short Film, Two-Reel      57      NaN     57\n",
       "Foreign Language Film                  8      1.0      7\n",
       "Original Song                          2      NaN      1"
      ]
     },
     "execution_count": 10,
     "metadata": {},
     "output_type": "execute_result"
    }
   ],
   "source": [
    "oscar_nominees_count=oscar_nominees.category.value_counts().to_frame().rename(columns={\"category\": \"Total\"})\n",
    "oscar_nominees_count_female=oscar_nominees_females.category.value_counts().to_frame().rename(columns={\"category\": \"females\"})\n",
    "oscar_nominees_count_male=oscar_nominees_males.category.value_counts().to_frame().rename(columns={\"category\": \"males\"})\n",
    "oscar_nominees_count=pd.concat([oscar_nominees_count,oscar_nominees_count_female,oscar_nominees_count_male,],axis=1)\n",
    "oscar_nominees_count\n"
   ]
  },
  {
   "cell_type": "code",
   "execution_count": 11,
   "metadata": {},
   "outputs": [],
   "source": [
    "#The 2 last rows are deleted\n",
    "oscar_nominees_count.drop(oscar_nominees_count.tail(2).index, inplace = True)\n"
   ]
  },
  {
   "cell_type": "code",
   "execution_count": 12,
   "metadata": {},
   "outputs": [
    {
     "data": {
      "text/plain": [
       "Text(0.5, 1.0, 'Number of nominees in each category by genres')"
      ]
     },
     "execution_count": 12,
     "metadata": {},
     "output_type": "execute_result"
    },
    {
     "data": {
      "image/png": "[encoded data removed]",
      "text/plain": [
       "<Figure size 1400x800 with 1 Axes>"
      ]
     },
     "metadata": {},
     "output_type": "display_data"
    }
   ],
   "source": [
    "X_axis = np.arange(len(oscar_nominees_count))\n",
    "\n",
    "plt.figure(figsize=(14,8))\n",
    "plt.bar(X_axis - 0.2, oscar_nominees_count.females, 0.4, label = 'females',edgecolor = 'black')\n",
    "plt.bar(X_axis + 0.2,oscar_nominees_count.males, 0.4, label = 'males',edgecolor = 'black')\n",
    "\n",
    " \n",
    "plt.xticks(X_axis, oscar_nominees_count.index,rotation=90)\n",
    "plt.xlabel(\"Category\")\n",
    "#plt.yscale('log')\n",
    "plt.ylabel(\"Number of nominees\")\n",
    "plt.title(\"Number of nominees in each category by genres\")\n"
   ]
  },
  {
   "cell_type": "code",
   "execution_count": 13,
   "metadata": {},
   "outputs": [
    {
     "data": {
      "text/plain": [
       "\"## compute confidence intervals \\nconfidence=0.95\\noscar_nominees_count=oscar_nominees_count.fillna(0) #replace NaN values with 0\\noscar_nominees_count['m']= oscar_nominees_count[['females', 'males']].mean(axis=1)\\noscar_nominees_count['s']= oscar_nominees_count[['females', 'males']].std(axis=1)\\nt_crit = np.abs(t.ppf((1-confidence)/2,1))\\noscar_nominees_count['error_down']=(oscar_nominees_count.m-oscar_nominees_count.s*t_crit)/np.sqrt(2)\\noscar_nominees_count['error_up']=(oscar_nominees_count.m+oscar_nominees_count.s*t_crit)/np.sqrt(2)\\noscar_nominees_count\""
      ]
     },
     "execution_count": 13,
     "metadata": {},
     "output_type": "execute_result"
    }
   ],
   "source": [
    "'''## compute confidence intervals \n",
    "confidence=0.95\n",
    "oscar_nominees_count=oscar_nominees_count.fillna(0) #replace NaN values with 0\n",
    "oscar_nominees_count['m']= oscar_nominees_count[['females', 'males']].mean(axis=1)\n",
    "oscar_nominees_count['s']= oscar_nominees_count[['females', 'males']].std(axis=1)\n",
    "t_crit = np.abs(t.ppf((1-confidence)/2,1))\n",
    "oscar_nominees_count['error_down']=(oscar_nominees_count.m-oscar_nominees_count.s*t_crit)/np.sqrt(2)\n",
    "oscar_nominees_count['error_up']=(oscar_nominees_count.m+oscar_nominees_count.s*t_crit)/np.sqrt(2)\n",
    "oscar_nominees_count'''\n"
   ]
  },
  {
   "cell_type": "code",
   "execution_count": 1,
   "metadata": {},
   "outputs": [
    {
     "ename": "SyntaxError",
     "evalue": "invalid syntax (3017607649.py, line 1)",
     "output_type": "error",
     "traceback": [
      "\u001b[0;36m  File \u001b[0;32m\"/var/folders/4n/zzxjf3fs0fqbmxgbcht_g0cw0000gn/T/ipykernel_959/3017607649.py\"\u001b[0;36m, line \u001b[0;32m1\u001b[0m\n\u001b[0;31m    =======\u001b[0m\n\u001b[0m     ^\u001b[0m\n\u001b[0;31mSyntaxError\u001b[0m\u001b[0;31m:\u001b[0m invalid syntax\n"
     ]
    }
   ],
   "source": [
    "=======\n",
    "    \"#print tv tropes arrongant_kungfu_guy\\n\",\n",
    "    \"tv_tropes_clusters[tv_tropes_clusters['Trope'] == 'arrogant_kungfu_guy']\"\n",
    ">>>>>>> Stashed changes"
   ]
  },
  {
   "cell_type": "code",
   "execution_count": null,
   "metadata": {},
   "outputs": [],
   "source": []
  }
 ],
 "metadata": {
  "kernelspec": {
   "display_name": "Python 3.7.0 64-bit",
   "language": "python",
   "name": "python3"
  },
  "language_info": {
   "codemirror_mode": {
    "name": "ipython",
    "version": 3
   },
   "file_extension": ".py",
   "mimetype": "text/x-python",
   "name": "python",
   "nbconvert_exporter": "python",
   "pygments_lexer": "ipython3",
   "version": "3.7.0"
  },
  "vscode": {
   "interpreter": {
    "hash": "aee8b7b246df8f9039afb4144a1f6fd8d2ca17a180786b69acc140d282b71a49"
   }
  }
 },
 "nbformat": 4,
 "nbformat_minor": 4
}
